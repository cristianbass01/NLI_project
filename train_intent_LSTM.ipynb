{
 "cells": [
  {
   "cell_type": "markdown",
   "metadata": {},
   "source": [
    "# Training script"
   ]
  },
  {
   "cell_type": "markdown",
   "metadata": {},
   "source": [
    "### Imports"
   ]
  },
  {
   "cell_type": "code",
   "execution_count": 1,
   "metadata": {},
   "outputs": [],
   "source": [
    "import pandas as pd\n",
    "from xgboost import XGBClassifier\n",
    "from sklearn.multioutput import MultiOutputClassifier\n",
    "from transformers import AutoTokenizer\n",
    "from transformers import BertModel\n",
    "from datasets import load_dataset\n",
    "from torch import nn\n",
    "import spacy\n",
    "import nltk\n",
    "from tqdm import tqdm\n",
    "from sklearn.preprocessing import MultiLabelBinarizer\n",
    "from sklearn.feature_extraction.text import TfidfVectorizer\n",
    "import numpy as np\n",
    "from sklearn.feature_selection import f_classif, SelectKBest\n",
    "import string\n",
    "import fasttext\n",
    "from sklearn.svm import SVC\n",
    "import torch\n",
    "import torch.nn as nn\n",
    "import matplotlib.pyplot as plt\n",
    "from sklearn.metrics import accuracy_score, classification_report\n",
    "from torch.nn.utils.rnn import pack_padded_sequence, pad_packed_sequence, pad_sequence\n",
    "\n",
    "BERT_TOKENIZER = True\n",
    "\n",
    "if not BERT_TOKENIZER:\n",
    "    embedder = fasttext.load_model('fasttext/cc.en.300.bin')\n",
    "    nlp = spacy.load(\"en_core_web_lg\")\n",
    "else:\n",
    "    model = BertModel.from_pretrained(\"bert-base-uncased\")\n",
    "    embedding_matrix = model.embeddings.word_embeddings.weight\n",
    "    transformer_tokenizer = AutoTokenizer.from_pretrained('bert-base-uncased')"
   ]
  },
  {
   "cell_type": "markdown",
   "metadata": {},
   "source": [
    "### Models"
   ]
  },
  {
   "cell_type": "code",
   "execution_count": null,
   "metadata": {},
   "outputs": [],
   "source": [
    "class MyLSTM(nn.Module):\n",
    "    def __init__(self, input_size, num_cells, hidden_size, bi, out_features):\n",
    "        super().__init__()\n",
    "        self.input_size = input_size\n",
    "        self.hidden_size = hidden_size\n",
    "        \n",
    "        self.lstm = nn.LSTM(input_size = input_size, num_layers = num_cells, hidden_size = hidden_size, bidirectional=bi, batch_first = True)\n",
    "        self.batch_norm = nn.BatchNorm1d(num_features = hidden_size * 2 if bi else hidden_size)\n",
    "        self.dropout = nn.Dropout(p = 0.2)\n",
    "        self.relu1 = nn.ReLU()\n",
    "        self.linear1 = nn.Linear(in_features = hidden_size * 2 if bi else hidden_size, out_features = out_features)\n",
    "        #self.relu2 = nn.ReLU()\n",
    "        #self.linear2 = nn.Linear(in_features = 100, out_features = out_features)\n",
    "        \n",
    "        # with torch.no_grad():\n",
    "            # self.linear1.bias.fill_(-torch.log(torch.tensor(out_features - 1)))\n",
    "            # self.linear2.bias.fill_(-torch.log(torch.tensor(out_features - 1)))\n",
    "    \n",
    "    def forward(self, embedding_sequence):\n",
    "        # Pad first sequence to max length\n",
    "        # embedding_sequence[0] = torch.concat([embedding_sequence[0], torch.zeros((self.max_sequence_length - embedding_sequence[0].shape[0] ,self.input_size)).cuda()])\n",
    "        # Get lenghts vector for every embeddings sequence to later use for packing\n",
    "        lengths = torch.Tensor([embedding.shape[0] for embedding in embedding_sequence]).long()\n",
    "        # Pad sequence\n",
    "        padded_sequence = pad_sequence(embedding_sequence)\n",
    "        # Pack sequence\n",
    "        packed_sequence = pack_padded_sequence(padded_sequence, lengths = lengths, enforce_sorted = False)\n",
    "        # print(padded_sequence.shape)\n",
    "        \n",
    "        packed_out, _ = self.lstm(packed_sequence)\n",
    "        padded_out, _ = pad_packed_sequence(packed_out)\n",
    "    \n",
    "        # print(padded_out.shape)\n",
    "    \n",
    "        out_forward = padded_out[lengths - 1, range(padded_out.shape[1]), :self.hidden_size]\n",
    "        out_reverse = padded_out[0, :, self.hidden_size:]\n",
    "        \n",
    "        # print(out_forward.shape)\n",
    "        # print(out_reverse.shape)\n",
    "        \n",
    "        out = torch.cat([out_forward, out_reverse], dim = 1)\n",
    "        \n",
    "        # print(out.shape)\n",
    "        \n",
    "        x = self.batch_norm(out)\n",
    "        x = self.dropout(x)\n",
    "        x = self.relu1(x)\n",
    "        x = self.dropout(x)\n",
    "        x = self.linear1(x)\n",
    "        #x = self.relu2(x)\n",
    "        #x = self.linear2(x)\n",
    "        return x"
   ]
  },
  {
   "cell_type": "code",
   "execution_count": null,
   "metadata": {},
   "outputs": [],
   "source": [
    "nr_features = 768 if BERT_TOKENIZER else 300\n",
    "batch_size = 32\n",
    "learning_rate = 0.0001\n",
    "epochs = 50\n",
    "patience = 2\n",
    "class_weight_beta = 0.9999\n",
    "\n",
    "TRANSFORMER_MODEL_NAME = 'roberta-base' # ignore this for now"
   ]
  },
  {
   "cell_type": "markdown",
   "metadata": {},
   "source": [
    "### Loading the dataset"
   ]
  },
  {
   "cell_type": "code",
   "execution_count": null,
   "metadata": {},
   "outputs": [],
   "source": [
    "def process_intent_list(intent_list):\n",
    "    intents = set()\n",
    "    if len(intent_list) == 0:\n",
    "        intents.add('other')\n",
    "    for intent in intent_list:\n",
    "        if intent.startswith('Restaurant'):\n",
    "            intents.add(intent)\n",
    "        elif intent.startswith('Hotel'):\n",
    "            intents.add(intent)\n",
    "        elif intent.startswith('general'):\n",
    "            intents.add(intent)\n",
    "        else:\n",
    "            intents.add('other')\n",
    "    # print(f'Original {intent_list}')\n",
    "    # print(f'Modified {list(intents)}')\n",
    "    return list(intents)\n",
    "\n",
    "def preprocess_split(dataset, split):\n",
    "    df = dataset[split].to_pandas()\n",
    "    new_df = pd.DataFrame(columns = df.columns)\n",
    "    for i in range(len(df)):\n",
    "        # Taken from notebook, to know which lines to skip\n",
    "        row = df.loc[i]\n",
    "        if not any(set(row.turns['frames'][turn_id]['service']).intersection(['hotel', 'restaurant']) for turn_id,utt in enumerate(row.turns['utterance'])):\n",
    "            continue\n",
    "        new_df.loc[len(new_df)] = row\n",
    "        # new_df.loc[len(new_df) - 1]['services'] = process_service_list(new_df.loc[len(new_df) - 1]['services'])\n",
    "        # for i, frame_service in [frame['service'] for frame in df.loc[i].turns['frames']]:\n",
    "            # df.loc[i].turns['frames']\n",
    "    return new_df\n",
    "\n",
    "def extract_feature_df(dataset):\n",
    "    act_types = []\n",
    "    utterance_list = []\n",
    "    embedding_list = []\n",
    "    \n",
    "    for i in tqdm(range(len(dataset))):\n",
    "        turns = dataset.loc[i].turns\n",
    "        # print(dataset.loc[i].turns['utterance'])\n",
    "        # print([frame['service'] for frame in dataset.loc[i].turns['frames']])\n",
    "        for utterance, speaker, dialogue_act in zip(turns['utterance'], turns['speaker'], turns['dialogue_acts']):\n",
    "            if speaker == 0: # if it's the user's turn\n",
    "                if not BERT_TOKENIZER:\n",
    "                    utterance = utterance.translate(str.maketrans(string.punctuation, ' ' * len(string.punctuation)))\n",
    "                act_type = dialogue_act['dialog_act']['act_type']\n",
    "                new_utterance = []\n",
    "                word_embedding_list = []\n",
    "                \n",
    "                #### Spacy tokenization + fasttext\n",
    "                if not BERT_TOKENIZER:\n",
    "                    doc = nlp(utterance)\n",
    "                    for token in doc:\n",
    "                        new_utterance.append(token.lemma_)\n",
    "                        word_embedding_list.append(embedder.get_word_vector(token.lemma_))\n",
    "                        embedder\n",
    "                    embedding = np.stack(word_embedding_list)\n",
    "                #### Bert embedder\n",
    "                else:\n",
    "                    tokenized = transformer_tokenizer(utterance)\n",
    "                    with torch.no_grad():\n",
    "                        embedding = embedding_matrix[tokenized.input_ids].detach().numpy()\n",
    "                ####\n",
    "                \n",
    "                # np.mean(word_embedding_list, axis = 0)\n",
    "                \n",
    "                new_utterance = ' '.join(new_utterance)\n",
    "                \n",
    "                embedding_list.append(embedding)\n",
    "                act_types.append(process_intent_list(act_type))\n",
    "                utterance_list.append(new_utterance)\n",
    "                    \n",
    "    return utterance_list, embedding_list, act_types"
   ]
  },
  {
   "cell_type": "code",
   "execution_count": null,
   "metadata": {},
   "outputs": [
    {
     "name": "stderr",
     "output_type": "stream",
     "text": [
      "No config specified, defaulting to: multi_woz_v22/v2.2_active_only\n",
      "Found cached dataset multi_woz_v22 (/home/adrian/.cache/huggingface/datasets/multi_woz_v22/v2.2_active_only/2.2.0/6719c8b21478299411a0c6fdb7137c3ebab2e6425129af831687fb7851c69eb5)\n"
     ]
    },
    {
     "data": {
      "application/vnd.jupyter.widget-view+json": {
       "model_id": "680117e7cd1c4f26ada0dfb49b253e79",
       "version_major": 2,
       "version_minor": 0
      },
      "text/plain": [
       "  0%|          | 0/3 [00:00<?, ?it/s]"
      ]
     },
     "metadata": {},
     "output_type": "display_data"
    },
    {
     "name": "stderr",
     "output_type": "stream",
     "text": [
      "100%|██████████| 6321/6321 [02:55<00:00, 35.95it/s]\n",
      "100%|██████████| 745/745 [00:23<00:00, 31.81it/s]\n",
      "100%|██████████| 745/745 [00:22<00:00, 32.94it/s]\n"
     ]
    }
   ],
   "source": [
    "dataset = load_dataset('multi_woz_v22')\n",
    "\n",
    "try:\n",
    "    train\n",
    "    print(\"Dataset already loaded, moving on\")\n",
    "except:\n",
    "    train = preprocess_split(dataset, 'train')\n",
    "    test = preprocess_split(dataset, 'test')\n",
    "    val = preprocess_split(dataset, 'validation')\n",
    "    train_utterance_list, train_embedding_list, train_act_type = extract_feature_df(train)\n",
    "    test_utterance_list, test_embedding_list, test_act_type = extract_feature_df(test)\n",
    "    val_utterance_list, val_embedding_list, val_act_type = extract_feature_df(test)"
   ]
  },
  {
   "cell_type": "code",
   "execution_count": null,
   "metadata": {},
   "outputs": [],
   "source": [
    "mlb = MultiLabelBinarizer().fit(train_act_type)\n",
    "model = MyLSTM(input_size = nr_features, num_cells = 4, hidden_size = 300, bi = True, out_features = len(mlb.classes_)).cuda()\n",
    "model.train()\n",
    "\n",
    "train_labels = mlb.transform(train_act_type)\n",
    "val_labels = mlb.transform(val_act_type)"
   ]
  },
  {
   "cell_type": "code",
   "execution_count": null,
   "metadata": {},
   "outputs": [
    {
     "name": "stdout",
     "output_type": "stream",
     "text": [
      "Class counts:\n",
      "[('Hotel-Inform', 11521), ('Hotel-Request', 2107), ('Restaurant-Inform', 11063), ('Restaurant-Request', 2719), ('general-bye', 2052), ('general-greet', 78), ('general-thank', 5247), ('other', 13894)]\n",
      "Class weights:\n",
      "[('Hotel-Inform', 0.07781679375321442), ('Hotel-Request', 0.28017169940200043), ('Restaurant-Inform', 0.07953861567289042), ('Restaurant-Request', 0.22358140714587124), ('general-bye', 0.28691842694505404), ('general-greet', 6.8506983696367305), ('general-thank', 0.1303759509443874), ('other', 0.07089873649985191)]\n"
     ]
    }
   ],
   "source": [
    "samples_per_class = [0] * len(mlb.classes_)\n",
    "for act_types in train_act_type:\n",
    "    for act_type in act_types:\n",
    "        samples_per_class[np.argmax(mlb.transform([[act_type]]))] += 1\n",
    "\n",
    "print(\"Class counts:\")\n",
    "print([*zip(mlb.classes_, samples_per_class)])\n",
    "\n",
    "samples_per_class = np.array(samples_per_class)\n",
    "\n",
    "effective_num = 1.0 - np.power(class_weight_beta, samples_per_class)\n",
    "class_weights = (1.0 - class_weight_beta) / effective_num\n",
    "class_weights = class_weights / np.sum(class_weights) * len(mlb.classes_)\n",
    "print(\"Class weights:\")\n",
    "print([*zip(mlb.classes_, class_weights)])\n",
    "class_weights = torch.Tensor(class_weights).cuda()"
   ]
  },
  {
   "cell_type": "code",
   "execution_count": null,
   "metadata": {},
   "outputs": [],
   "source": [
    "def batchify_tokens_tags(embedding_list, labels_list, batch_size):\n",
    "    embeddings_batch = []\n",
    "    labels_batch = []\n",
    "    \n",
    "    if labels_list is None:\n",
    "        labels_list = range(len(embedding_list))\n",
    "    \n",
    "    for embeddings, label in zip(embedding_list, labels_list):\n",
    "        embeddings_batch.append(torch.Tensor(embeddings).cuda())\n",
    "        labels_batch.append(label)\n",
    "        \n",
    "        if len(embeddings_batch) == batch_size:\n",
    "            yield embeddings_batch, torch.Tensor(labels_batch).cuda()\n",
    "            embeddings_batch.clear()\n",
    "            labels_batch.clear()\n",
    "    \n",
    "    yield embeddings_batch, torch.Tensor(labels_batch).cuda()\n",
    "    return None\n",
    "\n",
    "def compute_loss(model, embedding_list, labels_list, batch_size, criterion):\n",
    "    model.eval()\n",
    "    losses = []\n",
    "    with torch.no_grad():\n",
    "        for embeddings_batch, labels_batch in batchify_tokens_tags(embedding_list, labels_list, batch_size):\n",
    "            out = model.forward(embeddings_batch)\n",
    "            \n",
    "            loss = criterion(out, labels_batch)\n",
    "            losses.append(loss.item())\n",
    "    model.train()\n",
    "    return np.mean(losses)"
   ]
  },
  {
   "cell_type": "code",
   "execution_count": null,
   "metadata": {},
   "outputs": [
    {
     "name": "stderr",
     "output_type": "stream",
     "text": [
      "/tmp/ipykernel_7438/2586959704.py:13: UserWarning: Creating a tensor from a list of numpy.ndarrays is extremely slow. Please consider converting the list to a single numpy.ndarray with numpy.array() before converting to a tensor. (Triggered internally at ../torch/csrc/utils/tensor_new.cpp:230.)\n",
      "  yield embeddings_batch, torch.Tensor(labels_batch).cuda()\n"
     ]
    },
    {
     "name": "stdout",
     "output_type": "stream",
     "text": [
      "Epoch 1: Train loss = 0.09272245624539698, Val loss = 0.03682244825305531\n",
      "Epoch 2: Train loss = 0.03295384650638941, Val loss = 0.02632486456439146\n",
      "Epoch 3: Train loss = 0.02519657322486561, Val loss = 0.021405596352949\n",
      "Epoch 4: Train loss = 0.02166349779718228, Val loss = 0.019664503922119984\n",
      "Epoch 5: Train loss = 0.01978758132012363, Val loss = 0.01953527335468577\n",
      "Epoch 6: Train loss = 0.018533735174435975, Val loss = 0.019357494958444854\n",
      "Epoch 7: Train loss = 0.017745214490370836, Val loss = 0.01800608294321358\n",
      "Epoch 8: Train loss = 0.017017841143676667, Val loss = 0.0170271099874369\n",
      "Epoch 9: Train loss = 0.016363109737717905, Val loss = 0.017018673203124033\n",
      "Epoch 10: Train loss = 0.015827872395624703, Val loss = 0.016353308732585354\n",
      "Epoch 11: Train loss = 0.015377366489030982, Val loss = 0.017076844750846948\n",
      "Epoch 12: Train loss = 0.015201997834286397, Val loss = 0.016352586998753454\n",
      "Epoch 13: Train loss = 0.014838089800944459, Val loss = 0.015820029158227517\n",
      "Epoch 14: Train loss = 0.014489859292822156, Val loss = 0.015494654644589398\n",
      "Epoch 15: Train loss = 0.014210369714338061, Val loss = 0.015302357959782303\n",
      "Epoch 16: Train loss = 0.013920142273704765, Val loss = 0.01553964974276351\n",
      "Epoch 17: Train loss = 0.013616470558414048, Val loss = 0.015310824527122204\n",
      "Epoch 18: Train loss = 0.013361519203240354, Val loss = 0.015249725203518628\n",
      "Epoch 19: Train loss = 0.013292901268503342, Val loss = 0.015067493860759047\n",
      "Epoch 20: Train loss = 0.013018742571819012, Val loss = 0.014972652496451008\n",
      "Epoch 21: Train loss = 0.012949795962321733, Val loss = 0.014914054995999564\n",
      "Epoch 22: Train loss = 0.012711864973512068, Val loss = 0.016895791228850324\n",
      "Epoch 23: Train loss = 0.0125527036140215, Val loss = 0.015039424329625638\n",
      "Epoch 24: Train loss = 0.012404183394733462, Val loss = 0.014747141046161398\n",
      "Epoch 25: Train loss = 0.012184438166564966, Val loss = 0.01498732895806473\n",
      "Epoch 26: Train loss = 0.012238025707719515, Val loss = 0.015233745520615447\n",
      "Epoch 27: Train loss = 0.012073188337436279, Val loss = 0.01507140295477121\n",
      "Epoch 28: Train loss = 0.011896976152065537, Val loss = 0.014763007070406118\n",
      "Epoch 29: Train loss = 0.011819298410178137, Val loss = 0.014328481623059067\n",
      "Epoch 30: Train loss = 0.011648827714178264, Val loss = 0.014416181144062738\n",
      "Epoch 31: Train loss = 0.011561431593746832, Val loss = 0.015221870478592525\n",
      "Epoch 32: Train loss = 0.011470404232614128, Val loss = 0.015088053950165187\n",
      "Epoch 33: Train loss = 0.011831075517921162, Val loss = 0.015246052274387844\n",
      "Epoch 34: Train loss = 0.01124525523836225, Val loss = 0.014908513125001313\n",
      "Epoch 35: Train loss = 0.011198849863094386, Val loss = 0.014663717623295788\n",
      "Epoch 36: Train loss = 0.011134942931086658, Val loss = 0.014988977788788015\n",
      "Epoch 37: Train loss = 0.011143386750787694, Val loss = 0.014862224392757561\n",
      "Epoch 38: Train loss = 0.010927140387555575, Val loss = 0.014906146747538644\n",
      "Epoch 39: Train loss = 0.0109019651810649, Val loss = 0.014968363901353261\n",
      "Epoch 40: Train loss = 0.01083715475592294, Val loss = 0.014884732219838223\n",
      "Epoch 41: Train loss = 0.010770394623067553, Val loss = 0.015024258731993029\n",
      "Epoch 42: Train loss = 0.011075770230567104, Val loss = 0.014638154534623027\n",
      "Epoch 43: Train loss = 0.010554032604139838, Val loss = 0.014642407662281509\n",
      "Epoch 44: Train loss = 0.010482320616147922, Val loss = 0.015019865348955708\n",
      "Epoch 45: Train loss = 0.010437085127390338, Val loss = 0.015459493263135792\n"
     ]
    },
    {
     "data": {
      "image/png": "[encoded data removed]",
      "text/plain": [
       "<Figure size 432x288 with 1 Axes>"
      ]
     },
     "metadata": {
      "needs_background": "light"
     },
     "output_type": "display_data"
    }
   ],
   "source": [
    "optim = torch.optim.Adam(model.parameters(), lr = learning_rate)\n",
    "criterion = nn.BCEWithLogitsLoss(weight = class_weights)\n",
    "train_losses = []\n",
    "val_losses = []\n",
    "waited = 0\n",
    "\n",
    "for epoch in range(epochs):\n",
    "    epoch_train_loss = []\n",
    "    \n",
    "    for embeddings_batch, labels_batch in batchify_tokens_tags(train_embedding_list, train_labels, batch_size):\n",
    "        optim.zero_grad()\n",
    "        out = model.forward(embeddings_batch)\n",
    "        \n",
    "        # logits_final, labels_final = outputs_keep_useful_part(out.logits, labels_batch, useful_pos_batch)\n",
    "        loss = criterion(out, labels_batch)\n",
    "        loss.backward()\n",
    "        optim.step()\n",
    "        epoch_train_loss.append(loss.item())\n",
    "    \n",
    "    epoch_train_loss = np.mean(epoch_train_loss)\n",
    "    train_losses.append(epoch_train_loss)\n",
    "    epoch_val_loss = compute_loss(model, val_embedding_list, val_labels, batch_size, criterion)\n",
    "    \n",
    "    print(f\"Epoch {epoch + 1}: Train loss = {epoch_train_loss}, Val loss = {epoch_val_loss}\")\n",
    "    \n",
    "    if len(val_losses) != 0 and val_losses[-1] <= epoch_val_loss:\n",
    "        waited += 1\n",
    "        if waited > patience:\n",
    "                val_losses.append(epoch_val_loss)\n",
    "                break\n",
    "    else:\n",
    "        waited = 0\n",
    "    \n",
    "    val_losses.append(epoch_val_loss)\n",
    "\n",
    "plt.plot(train_losses)\n",
    "plt.plot(val_losses)\n",
    "plt.show()\n"
   ]
  },
  {
   "cell_type": "code",
   "execution_count": null,
   "metadata": {},
   "outputs": [],
   "source": [
    "def predict(model, embeddings_list, batch_size):\n",
    "    model.eval()\n",
    "    predictions = []\n",
    "    with torch.no_grad():\n",
    "        for embeddings_batch, _ in batchify_tokens_tags(embeddings_list, None, batch_size):\n",
    "            out = model.forward(embeddings_batch)\n",
    "            predictions.append((out > 0.5).cpu().detach().numpy())\n",
    "    return np.concatenate(predictions)"
   ]
  },
  {
   "cell_type": "code",
   "execution_count": null,
   "metadata": {},
   "outputs": [
    {
     "name": "stdout",
     "output_type": "stream",
     "text": [
      "                    precision    recall  f1-score   support\n",
      "\n",
      "      Hotel-Inform      0.936     0.822     0.875      1328\n",
      "     Hotel-Request      0.867     0.267     0.408       292\n",
      " Restaurant-Inform      0.940     0.815     0.873      1322\n",
      "Restaurant-Request      0.687     0.322     0.438       286\n",
      "       general-bye      0.991     0.964     0.977       225\n",
      "     general-greet      1.000     0.667     0.800         6\n",
      "     general-thank      0.974     0.965     0.970       693\n",
      "             other      0.961     0.808     0.878      2039\n",
      "\n",
      "         micro avg      0.945     0.788     0.859      6191\n",
      "         macro avg      0.919     0.704     0.777      6191\n",
      "      weighted avg      0.937     0.788     0.848      6191\n",
      "       samples avg      0.821     0.808     0.810      6191\n",
      "\n",
      "acc = 0.7769523151347616\n"
     ]
    },
    {
     "name": "stderr",
     "output_type": "stream",
     "text": [
      "/home/adrian/.local/lib/python3.10/site-packages/sklearn/metrics/_classification.py:1344: UndefinedMetricWarning: Precision and F-score are ill-defined and being set to 0.0 in samples with no predicted labels. Use `zero_division` parameter to control this behavior.\n",
      "  _warn_prf(average, modifier, msg_start, len(result))\n"
     ]
    }
   ],
   "source": [
    "test_act_type_pred = predict(model, test_embedding_list, batch_size)\n",
    "\n",
    "# print(mlb.transform(test_act_type).shape)\n",
    "# print(test_act_type_pred.shape)\n",
    "\n",
    "acc = accuracy_score(mlb.transform(test_act_type), test_act_type_pred)\n",
    "report = classification_report(mlb.transform(test_act_type), test_act_type_pred, target_names = mlb.classes_, digits = 3)\n",
    "print(report)\n",
    "print(f'acc = {acc}')"
   ]
  }
 ],
 "metadata": {
  "kernelspec": {
   "display_name": "Python 3",
   "language": "python",
   "name": "python3"
  },
  "language_info": {
   "codemirror_mode": {
    "name": "ipython",
    "version": 3
   },
   "file_extension": ".py",
   "mimetype": "text/x-python",
   "name": "python",
   "nbconvert_exporter": "python",
   "pygments_lexer": "ipython3",
   "version": "3.10.12"
  }
 },
 "nbformat": 4,
 "nbformat_minor": 2
}

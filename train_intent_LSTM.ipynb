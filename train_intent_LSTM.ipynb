{
 "cells": [
  {
   "cell_type": "markdown",
   "metadata": {},
   "source": [
    "# Training script"
   ]
  },
  {
   "cell_type": "markdown",
   "metadata": {},
   "source": [
    "### Imports"
   ]
  },
  {
   "cell_type": "code",
   "execution_count": 1,
   "metadata": {},
   "outputs": [
    {
     "name": "stderr",
     "output_type": "stream",
     "text": [
      "Some weights of the model checkpoint at bert-base-uncased were not used when initializing BertModel: ['cls.predictions.transform.dense.bias', 'cls.predictions.transform.LayerNorm.bias', 'cls.predictions.transform.LayerNorm.weight', 'cls.predictions.transform.dense.weight', 'cls.predictions.decoder.weight', 'cls.predictions.bias', 'cls.seq_relationship.weight', 'cls.seq_relationship.bias']\n",
      "- This IS expected if you are initializing BertModel from the checkpoint of a model trained on another task or with another architecture (e.g. initializing a BertForSequenceClassification model from a BertForPreTraining model).\n",
      "- This IS NOT expected if you are initializing BertModel from the checkpoint of a model that you expect to be exactly identical (initializing a BertForSequenceClassification model from a BertForSequenceClassification model).\n"
     ]
    }
   ],
   "source": [
    "import pandas as pd\n",
    "from xgboost import XGBClassifier\n",
    "from sklearn.multioutput import MultiOutputClassifier\n",
    "from transformers import AutoTokenizer\n",
    "from transformers import BertModel\n",
    "from datasets import load_dataset\n",
    "from torch import nn\n",
    "import spacy\n",
    "import nltk\n",
    "from tqdm import tqdm\n",
    "from sklearn.preprocessing import MultiLabelBinarizer\n",
    "from sklearn.feature_extraction.text import TfidfVectorizer\n",
    "import numpy as np\n",
    "from sklearn.feature_selection import f_classif, SelectKBest\n",
    "import string\n",
    "import fasttext\n",
    "from sklearn.svm import SVC\n",
    "import torch\n",
    "import torch.nn as nn\n",
    "import matplotlib.pyplot as plt\n",
    "from sklearn.metrics import accuracy_score, classification_report\n",
    "from torch.nn.utils.rnn import pack_padded_sequence, pad_packed_sequence, pad_sequence\n",
    "\n",
    "BERT_TOKENIZER = True\n",
    "\n",
    "if not BERT_TOKENIZER:\n",
    "    embedder = fasttext.load_model('fasttext/cc.en.300.bin')\n",
    "    nlp = spacy.load(\"en_core_web_lg\")\n",
    "else:\n",
    "    model = BertModel.from_pretrained(\"bert-base-uncased\")\n",
    "    embedding_matrix = model.embeddings.word_embeddings.weight\n",
    "    transformer_tokenizer = AutoTokenizer.from_pretrained('bert-base-uncased')"
   ]
  },
  {
   "cell_type": "markdown",
   "metadata": {},
   "source": [
    "### Models"
   ]
  },
  {
   "cell_type": "code",
   "execution_count": 2,
   "metadata": {},
   "outputs": [],
   "source": [
    "class MyLSTM(nn.Module):\n",
    "    def __init__(self, input_size, num_cells, hidden_size, bi, out_features):\n",
    "        super().__init__()\n",
    "        self.input_size = input_size\n",
    "        self.hidden_size = hidden_size\n",
    "        \n",
    "        self.lstm = nn.LSTM(input_size = input_size, num_layers = num_cells, hidden_size = hidden_size, bidirectional=bi, batch_first = True)\n",
    "        self.batch_norm = nn.BatchNorm1d(num_features = hidden_size * 2 if bi else hidden_size)\n",
    "        self.dropout = nn.Dropout(p = 0.2)\n",
    "        self.relu1 = nn.ReLU()\n",
    "        self.linear1 = nn.Linear(in_features = hidden_size * 2 if bi else hidden_size, out_features = out_features)\n",
    "        #self.relu2 = nn.ReLU()\n",
    "        #self.linear2 = nn.Linear(in_features = 100, out_features = out_features)\n",
    "        \n",
    "        # with torch.no_grad():\n",
    "            # self.linear1.bias.fill_(-torch.log(torch.tensor(out_features - 1)))\n",
    "            # self.linear2.bias.fill_(-torch.log(torch.tensor(out_features - 1)))\n",
    "    \n",
    "    def forward(self, embedding_sequence):\n",
    "        # Pad first sequence to max length\n",
    "        # embedding_sequence[0] = torch.concat([embedding_sequence[0], torch.zeros((self.max_sequence_length - embedding_sequence[0].shape[0] ,self.input_size)).cuda()])\n",
    "        # Get lenghts vector for every embeddings sequence to later use for packing\n",
    "        lengths = torch.Tensor([embedding.shape[0] for embedding in embedding_sequence]).long()\n",
    "        # Pad sequence\n",
    "        padded_sequence = pad_sequence(embedding_sequence)\n",
    "        # Pack sequence\n",
    "        packed_sequence = pack_padded_sequence(padded_sequence, lengths = lengths, enforce_sorted = False)\n",
    "        # print(padded_sequence.shape)\n",
    "        \n",
    "        packed_out, _ = self.lstm(packed_sequence)\n",
    "        padded_out, _ = pad_packed_sequence(packed_out)\n",
    "    \n",
    "        # print(padded_out.shape)\n",
    "    \n",
    "        out_forward = padded_out[lengths - 1, range(padded_out.shape[1]), :self.hidden_size]\n",
    "        out_reverse = padded_out[0, :, self.hidden_size:]\n",
    "        \n",
    "        # print(out_forward.shape)\n",
    "        # print(out_reverse.shape)\n",
    "        \n",
    "        out = torch.cat([out_forward, out_reverse], dim = 1)\n",
    "        \n",
    "        # print(out.shape)\n",
    "        \n",
    "        x = self.batch_norm(out)\n",
    "        x = self.dropout(x)\n",
    "        x = self.relu1(x)\n",
    "        x = self.dropout(x)\n",
    "        x = self.linear1(x)\n",
    "        #x = self.relu2(x)\n",
    "        #x = self.linear2(x)\n",
    "        return x"
   ]
  },
  {
   "cell_type": "code",
   "execution_count": 3,
   "metadata": {},
   "outputs": [],
   "source": [
    "nr_features = 768 if BERT_TOKENIZER else 300\n",
    "batch_size = 32\n",
    "learning_rate = 0.0001\n",
    "epochs = 50\n",
    "patience = 2\n",
    "class_weight_beta = 0.9999\n",
    "use_history = True\n",
    "\n",
    "TRANSFORMER_MODEL_NAME = 'roberta-base' # ignore this for now"
   ]
  },
  {
   "cell_type": "markdown",
   "metadata": {},
   "source": [
    "### Loading the dataset"
   ]
  },
  {
   "cell_type": "code",
   "execution_count": 4,
   "metadata": {},
   "outputs": [],
   "source": [
    "def process_intent_list(intent_list):\n",
    "    intents = set()\n",
    "    if len(intent_list) == 0:\n",
    "        intents.add('other')\n",
    "    for intent in intent_list:\n",
    "        if intent.startswith('Restaurant'):\n",
    "            intents.add(intent)\n",
    "        elif intent.startswith('Hotel'):\n",
    "            intents.add(intent)\n",
    "        elif intent.startswith('general'):\n",
    "            intents.add(intent)\n",
    "        else:\n",
    "            intents.add('other')\n",
    "    # print(f'Original {intent_list}')\n",
    "    # print(f'Modified {list(intents)}')\n",
    "    return list(intents)\n",
    "\n",
    "def preprocess_split(dataset, split):\n",
    "    df = dataset[split].to_pandas()\n",
    "    new_df = pd.DataFrame(columns = df.columns)\n",
    "    for i in range(len(df)):\n",
    "        # Taken from notebook, to know which lines to skip\n",
    "        row = df.loc[i]\n",
    "        if not any(set(row.turns['frames'][turn_id]['service']).intersection(['hotel', 'restaurant']) for turn_id,utt in enumerate(row.turns['utterance'])):\n",
    "            continue\n",
    "        new_df.loc[len(new_df)] = row\n",
    "        # new_df.loc[len(new_df) - 1]['services'] = process_service_list(new_df.loc[len(new_df) - 1]['services'])\n",
    "        # for i, frame_service in [frame['service'] for frame in df.loc[i].turns['frames']]:\n",
    "            # df.loc[i].turns['frames']\n",
    "    return new_df\n",
    "\n",
    "def extract_feature_df(dataset):\n",
    "    act_types = []\n",
    "    utterance_list = []\n",
    "    embedding_list = []\n",
    "    \n",
    "    for i in tqdm(range(len(dataset))):\n",
    "        turns = dataset.loc[i].turns\n",
    "        # print(dataset.loc[i].turns['utterance'])\n",
    "        # print([frame['service'] for frame in dataset.loc[i].turns['frames']])\n",
    "        for j, (utterance, speaker, dialogue_act) in enumerate(zip(turns['utterance'], turns['speaker'], turns['dialogue_acts'])):\n",
    "            if speaker != 0: # if it's the user's turn\n",
    "                continue\n",
    "            if j == 0:\n",
    "                prev_user_utterance = ''\n",
    "                prev_user_acts = []\n",
    "                prev_bot_utterance = ''\n",
    "                prev_bot_acts = []\n",
    "            else:\n",
    "                prev_user_utterance = turns['utterance'][j - 2]\n",
    "                prev_user_acts = turns['dialogue_acts'][j - 2]['dialog_act']['act_type']\n",
    "                prev_bot_utterance = turns['utterance'][j - 1]\n",
    "                prev_bot_acts = turns['dialogue_acts'][j - 1]['dialog_act']['act_type']\n",
    "            \n",
    "            if use_history:\n",
    "                utterance = ' | '.join([prev_user_utterance, ', '.join(prev_user_acts), prev_bot_utterance, ', '.join(prev_bot_acts), utterance])\n",
    "            \n",
    "            if not BERT_TOKENIZER:\n",
    "                utterance = utterance.translate(str.maketrans(string.punctuation, ' ' * len(string.punctuation)))\n",
    "            act_type = dialogue_act['dialog_act']['act_type']\n",
    "            new_utterance = []\n",
    "            word_embedding_list = []\n",
    "            \n",
    "            #### Spacy tokenization + fasttext\n",
    "            if not BERT_TOKENIZER:\n",
    "                doc = nlp(utterance)\n",
    "                for token in doc:\n",
    "                    new_utterance.append(token.lemma_)\n",
    "                    word_embedding_list.append(embedder.get_word_vector(token.lemma_))\n",
    "                    embedder\n",
    "                embedding = np.stack(word_embedding_list)\n",
    "            #### Bert embedder\n",
    "            else:\n",
    "                tokenized = transformer_tokenizer(utterance)\n",
    "                with torch.no_grad():\n",
    "                    embedding = embedding_matrix[tokenized.input_ids].detach().numpy()\n",
    "            ####\n",
    "            \n",
    "            # np.mean(word_embedding_list, axis = 0)\n",
    "            \n",
    "            new_utterance = ' '.join(new_utterance)\n",
    "            \n",
    "            embedding_list.append(embedding)\n",
    "            act_types.append(process_intent_list(act_type))\n",
    "            utterance_list.append(new_utterance)\n",
    "                    \n",
    "    return utterance_list, embedding_list, act_types"
   ]
  },
  {
   "cell_type": "code",
   "execution_count": 5,
   "metadata": {},
   "outputs": [
    {
     "name": "stderr",
     "output_type": "stream",
     "text": [
      "No config specified, defaulting to: multi_woz_v22/v2.2_active_only\n",
      "Found cached dataset multi_woz_v22 (/home/adrian/.cache/huggingface/datasets/multi_woz_v22/v2.2_active_only/2.2.0/6719c8b21478299411a0c6fdb7137c3ebab2e6425129af831687fb7851c69eb5)\n"
     ]
    },
    {
     "data": {
      "application/vnd.jupyter.widget-view+json": {
       "model_id": "caf5bab9120b4262b70b1c4d067fb31c",
       "version_major": 2,
       "version_minor": 0
      },
      "text/plain": [
       "  0%|          | 0/3 [00:00<?, ?it/s]"
      ]
     },
     "metadata": {},
     "output_type": "display_data"
    },
    {
     "name": "stderr",
     "output_type": "stream",
     "text": [
      "100%|██████████| 6321/6321 [00:19<00:00, 332.03it/s]\n",
      "100%|██████████| 745/745 [00:02<00:00, 306.90it/s]\n",
      "100%|██████████| 745/745 [00:02<00:00, 297.49it/s]\n"
     ]
    }
   ],
   "source": [
    "dataset = load_dataset('multi_woz_v22')\n",
    "\n",
    "try:\n",
    "    train\n",
    "    print(\"Dataset already loaded, moving on\")\n",
    "except:\n",
    "    train = preprocess_split(dataset, 'train')\n",
    "    test = preprocess_split(dataset, 'test')\n",
    "    val = preprocess_split(dataset, 'validation')\n",
    "    train_utterance_list, train_embedding_list, train_act_type = extract_feature_df(train)\n",
    "    test_utterance_list, test_embedding_list, test_act_type = extract_feature_df(test)\n",
    "    val_utterance_list, val_embedding_list, val_act_type = extract_feature_df(test)"
   ]
  },
  {
   "cell_type": "code",
   "execution_count": 6,
   "metadata": {},
   "outputs": [],
   "source": [
    "mlb = MultiLabelBinarizer().fit(train_act_type)\n",
    "model = MyLSTM(input_size = nr_features, num_cells = 4, hidden_size = 300, bi = True, out_features = len(mlb.classes_)).cuda()\n",
    "model.train()\n",
    "\n",
    "train_labels = mlb.transform(train_act_type)\n",
    "val_labels = mlb.transform(val_act_type)"
   ]
  },
  {
   "cell_type": "code",
   "execution_count": 7,
   "metadata": {},
   "outputs": [
    {
     "name": "stdout",
     "output_type": "stream",
     "text": [
      "Class counts:\n",
      "[('Hotel-Inform', 11521), ('Hotel-Request', 2107), ('Restaurant-Inform', 11063), ('Restaurant-Request', 2719), ('general-bye', 2052), ('general-greet', 78), ('general-thank', 5247), ('other', 13894)]\n",
      "Class weights:\n",
      "[('Hotel-Inform', 0.07781679375321442), ('Hotel-Request', 0.28017169940200043), ('Restaurant-Inform', 0.07953861567289042), ('Restaurant-Request', 0.22358140714587124), ('general-bye', 0.28691842694505404), ('general-greet', 6.8506983696367305), ('general-thank', 0.1303759509443874), ('other', 0.07089873649985191)]\n"
     ]
    }
   ],
   "source": [
    "samples_per_class = [0] * len(mlb.classes_)\n",
    "for act_types in train_act_type:\n",
    "    for act_type in act_types:\n",
    "        samples_per_class[np.argmax(mlb.transform([[act_type]]))] += 1\n",
    "\n",
    "print(\"Class counts:\")\n",
    "print([*zip(mlb.classes_, samples_per_class)])\n",
    "\n",
    "samples_per_class = np.array(samples_per_class)\n",
    "\n",
    "effective_num = 1.0 - np.power(class_weight_beta, samples_per_class)\n",
    "class_weights = (1.0 - class_weight_beta) / effective_num\n",
    "class_weights = class_weights / np.sum(class_weights) * len(mlb.classes_)\n",
    "print(\"Class weights:\")\n",
    "print([*zip(mlb.classes_, class_weights)])\n",
    "class_weights = torch.Tensor(class_weights).cuda()"
   ]
  },
  {
   "cell_type": "code",
   "execution_count": 8,
   "metadata": {},
   "outputs": [],
   "source": [
    "def batchify_tokens_tags(embedding_list, labels_list, batch_size):\n",
    "    embeddings_batch = []\n",
    "    labels_batch = []\n",
    "    \n",
    "    if labels_list is None:\n",
    "        labels_list = range(len(embedding_list))\n",
    "    \n",
    "    for embeddings, label in zip(embedding_list, labels_list):\n",
    "        embeddings_batch.append(torch.Tensor(embeddings).cuda())\n",
    "        labels_batch.append(label)\n",
    "        \n",
    "        if len(embeddings_batch) == batch_size:\n",
    "            yield embeddings_batch, torch.Tensor(labels_batch).cuda()\n",
    "            embeddings_batch.clear()\n",
    "            labels_batch.clear()\n",
    "    \n",
    "    yield embeddings_batch, torch.Tensor(labels_batch).cuda()\n",
    "    return None\n",
    "\n",
    "def compute_loss(model, embedding_list, labels_list, batch_size, criterion):\n",
    "    model.eval()\n",
    "    losses = []\n",
    "    with torch.no_grad():\n",
    "        for embeddings_batch, labels_batch in batchify_tokens_tags(embedding_list, labels_list, batch_size):\n",
    "            out = model.forward(embeddings_batch)\n",
    "            \n",
    "            loss = criterion(out, labels_batch)\n",
    "            losses.append(loss.item())\n",
    "    model.train()\n",
    "    return np.mean(losses)"
   ]
  },
  {
   "cell_type": "code",
   "execution_count": 9,
   "metadata": {},
   "outputs": [],
   "source": [
    "optim = torch.optim.Adam(model.parameters(), lr = learning_rate)\n",
    "criterion = nn.BCEWithLogitsLoss(weight = class_weights)\n",
    "train_losses = []\n",
    "val_losses = []\n",
    "waited = 0\n",
    "\n",
    "min_val_loss = np.inf\n",
    "\n",
    "# for epoch in range(epochs):\n",
    "#     epoch_train_loss = []\n",
    "    \n",
    "#     for embeddings_batch, labels_batch in batchify_tokens_tags(train_embedding_list, train_labels, batch_size):\n",
    "#         optim.zero_grad()\n",
    "#         out = model.forward(embeddings_batch)\n",
    "        \n",
    "#         # logits_final, labels_final = outputs_keep_useful_part(out.logits, labels_batch, useful_pos_batch)\n",
    "#         loss = criterion(out, labels_batch)\n",
    "#         loss.backward()\n",
    "#         optim.step()\n",
    "#         epoch_train_loss.append(loss.item())\n",
    "    \n",
    "#     epoch_train_loss = np.mean(epoch_train_loss)\n",
    "#     train_losses.append(epoch_train_loss)\n",
    "#     epoch_val_loss = compute_loss(model, val_embedding_list, val_labels, batch_size, criterion)\n",
    "    \n",
    "#     print(f\"Epoch {epoch + 1}: Train loss = {epoch_train_loss}, Val loss = {epoch_val_loss}\")\n",
    "    \n",
    "#     if epoch_val_loss < min_val_loss:\n",
    "#         min_val_loss = epoch_val_loss\n",
    "#         torch.save(model.state_dict(), 'saved_models/INT_LSTM.pt')\n",
    "    \n",
    "#     if len(val_losses) != 0 and val_losses[-1] <= epoch_val_loss:\n",
    "#         waited += 1\n",
    "#         if waited > patience:\n",
    "#                 val_losses.append(epoch_val_loss)\n",
    "#                 break\n",
    "#     else:\n",
    "#         waited = 0\n",
    "    \n",
    "#     val_losses.append(epoch_val_loss)\n",
    "\n",
    "# plt.plot(train_losses)\n",
    "# plt.plot(val_losses)\n",
    "# plt.show()\n"
   ]
  },
  {
   "cell_type": "code",
   "execution_count": 10,
   "metadata": {},
   "outputs": [],
   "source": [
    "def predict(model, embeddings_list, batch_size):\n",
    "    model.eval()\n",
    "    predictions = []\n",
    "    with torch.no_grad():\n",
    "        for embeddings_batch, _ in batchify_tokens_tags(embeddings_list, None, batch_size):\n",
    "            out = model.forward(embeddings_batch)\n",
    "            predictions.append((out > 0.5).cpu().detach().numpy())\n",
    "    return np.concatenate(predictions)"
   ]
  },
  {
   "cell_type": "code",
   "execution_count": 11,
   "metadata": {},
   "outputs": [
    {
     "name": "stdout",
     "output_type": "stream",
     "text": [
      "                    precision    recall  f1-score   support\n",
      "\n",
      "      Hotel-Inform      0.933     0.934     0.934      1328\n",
      "     Hotel-Request      0.843     0.716     0.774       292\n",
      " Restaurant-Inform      0.947     0.896     0.921      1322\n",
      "Restaurant-Request      0.867     0.776     0.819       286\n",
      "       general-bye      0.987     0.996     0.991       225\n",
      "     general-greet      0.800     0.667     0.727         6\n",
      "     general-thank      0.947     0.983     0.965       693\n",
      "             other      0.990     0.876     0.929      2039\n",
      "\n",
      "         micro avg      0.951     0.897     0.923      6191\n",
      "         macro avg      0.914     0.855     0.883      6191\n",
      "      weighted avg      0.951     0.897     0.922      6191\n",
      "       samples avg      0.937     0.919     0.923      6191\n",
      "\n",
      "acc = 0.8819972356599862\n"
     ]
    },
    {
     "name": "stderr",
     "output_type": "stream",
     "text": [
      "/home/adrian/.local/lib/python3.10/site-packages/sklearn/metrics/_classification.py:1344: UndefinedMetricWarning: Precision and F-score are ill-defined and being set to 0.0 in samples with no predicted labels. Use `zero_division` parameter to control this behavior.\n",
      "  _warn_prf(average, modifier, msg_start, len(result))\n"
     ]
    }
   ],
   "source": [
    "model.load_state_dict(torch.load('saved_models/INT_LSTM.pt'))\n",
    "\n",
    "test_act_type_pred = predict(model, test_embedding_list, batch_size)\n",
    "\n",
    "# print(mlb.transform(test_act_type).shape)\n",
    "# print(test_act_type_pred.shape)\n",
    "\n",
    "acc = accuracy_score(mlb.transform(test_act_type), test_act_type_pred)\n",
    "report = classification_report(mlb.transform(test_act_type), test_act_type_pred, target_names = mlb.classes_, digits = 3)\n",
    "print(report)\n",
    "print(f'acc = {acc}')"
   ]
  }
 ],
 "metadata": {
  "kernelspec": {
   "display_name": "Python 3",
   "language": "python",
   "name": "python3"
  },
  "language_info": {
   "codemirror_mode": {
    "name": "ipython",
    "version": 3
   },
   "file_extension": ".py",
   "mimetype": "text/x-python",
   "name": "python",
   "nbconvert_exporter": "python",
   "pygments_lexer": "ipython3",
   "version": "3.10.12"
  }
 },
 "nbformat": 4,
 "nbformat_minor": 2
}

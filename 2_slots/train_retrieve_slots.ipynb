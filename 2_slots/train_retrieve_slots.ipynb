{
 "cells": [
  {
   "cell_type": "markdown",
   "metadata": {},
   "source": [
    "# Training script"
   ]
  },
  {
   "cell_type": "markdown",
   "metadata": {},
   "source": [
    "### Imports"
   ]
  },
  {
   "cell_type": "code",
   "execution_count": 1,
   "metadata": {},
   "outputs": [
    {
     "name": "stderr",
     "output_type": "stream",
     "text": [
      "Some weights of the model checkpoint at bert-base-uncased were not used when initializing BertModel: ['cls.predictions.transform.LayerNorm.bias', 'cls.predictions.decoder.weight', 'cls.seq_relationship.bias', 'cls.predictions.transform.LayerNorm.weight', 'cls.seq_relationship.weight', 'cls.predictions.bias', 'cls.predictions.transform.dense.bias', 'cls.predictions.transform.dense.weight']\n",
      "- This IS expected if you are initializing BertModel from the checkpoint of a model trained on another task or with another architecture (e.g. initializing a BertForSequenceClassification model from a BertForPreTraining model).\n",
      "- This IS NOT expected if you are initializing BertModel from the checkpoint of a model that you expect to be exactly identical (initializing a BertForSequenceClassification model from a BertForSequenceClassification model).\n"
     ]
    }
   ],
   "source": [
    "import pandas as pd\n",
    "from xgboost import XGBClassifier\n",
    "from sklearn.multioutput import MultiOutputClassifier\n",
    "from transformers import AutoTokenizer\n",
    "from transformers import BertModel\n",
    "from datasets import load_dataset\n",
    "from torch import nn\n",
    "import spacy\n",
    "import nltk\n",
    "from tqdm import tqdm\n",
    "from sklearn.preprocessing import MultiLabelBinarizer\n",
    "from sklearn.feature_extraction.text import TfidfVectorizer\n",
    "import numpy as np\n",
    "from sklearn.feature_selection import f_classif, SelectKBest\n",
    "import string\n",
    "import fasttext\n",
    "from sklearn.svm import SVC\n",
    "import torch\n",
    "import torch.nn as nn\n",
    "import matplotlib.pyplot as plt\n",
    "from sklearn.metrics import accuracy_score, classification_report\n",
    "from torch.nn.utils.rnn import pack_padded_sequence, pad_packed_sequence, pad_sequence\n",
    "import pickle\n",
    "\n",
    "BERT_TOKENIZER = True\n",
    "\n",
    "if not BERT_TOKENIZER:\n",
    "    embedder = fasttext.load_model('fasttext/cc.en.300.bin')\n",
    "    nlp = spacy.load(\"en_core_web_lg\")\n",
    "else:\n",
    "    model = BertModel.from_pretrained(\"bert-base-uncased\")\n",
    "    embedding_matrix = model.embeddings.word_embeddings.weight\n",
    "    transformer_tokenizer = AutoTokenizer.from_pretrained('bert-base-uncased')"
   ]
  },
  {
   "cell_type": "markdown",
   "metadata": {},
   "source": [
    "### Models"
   ]
  },
  {
   "cell_type": "code",
   "execution_count": 2,
   "metadata": {},
   "outputs": [],
   "source": [
    "class MyLSTM(nn.Module):\n",
    "    def __init__(self, input_size, num_cells, hidden_size, bi, out_features):\n",
    "        super().__init__()\n",
    "        self.input_size = input_size\n",
    "        self.hidden_size = hidden_size\n",
    "        \n",
    "        self.lstm = nn.LSTM(input_size = input_size, num_layers = num_cells, hidden_size = hidden_size, bidirectional=bi, batch_first = True)\n",
    "        self.batch_norm = nn.BatchNorm1d(num_features = hidden_size * 2 if bi else hidden_size)\n",
    "        self.dropout = nn.Dropout(p = 0.2)\n",
    "        self.relu1 = nn.ReLU()\n",
    "        self.linear1 = nn.Linear(in_features = hidden_size * 2 if bi else hidden_size, out_features = out_features)\n",
    "        #self.relu2 = nn.ReLU()\n",
    "        #self.linear2 = nn.Linear(in_features = 100, out_features = out_features)\n",
    "        \n",
    "        # with torch.no_grad():\n",
    "            # self.linear1.bias.fill_(-torch.log(torch.tensor(out_features - 1)))\n",
    "            # self.linear2.bias.fill_(-torch.log(torch.tensor(out_features - 1)))\n",
    "    \n",
    "    def forward(self, embedding_sequence):\n",
    "        # Pad first sequence to max length\n",
    "        # embedding_sequence[0] = torch.concat([embedding_sequence[0], torch.zeros((self.max_sequence_length - embedding_sequence[0].shape[0] ,self.input_size)).cuda()])\n",
    "        # Get lenghts vector for every embeddings sequence to later use for packing\n",
    "        lengths = torch.Tensor([embedding.shape[0] for embedding in embedding_sequence]).long()\n",
    "        # Pad sequence\n",
    "        padded_sequence = pad_sequence(embedding_sequence)\n",
    "        # Pack sequence\n",
    "        packed_sequence = pack_padded_sequence(padded_sequence, lengths = lengths, enforce_sorted = False)\n",
    "        # print(padded_sequence.shape)\n",
    "        \n",
    "        packed_out, _ = self.lstm(packed_sequence)\n",
    "        padded_out, _ = pad_packed_sequence(packed_out)\n",
    "    \n",
    "        # print(padded_out.shape)\n",
    "    \n",
    "        out_forward = padded_out[lengths - 1, range(padded_out.shape[1]), :self.hidden_size]\n",
    "        out_reverse = padded_out[0, :, self.hidden_size:]\n",
    "        \n",
    "        # print(out_forward.shape)\n",
    "        # print(out_reverse.shape)\n",
    "        \n",
    "        out = torch.cat([out_forward, out_reverse], dim = 1)\n",
    "        \n",
    "        # print(out.shape)\n",
    "        \n",
    "        x = self.batch_norm(out)\n",
    "        x = self.dropout(x)\n",
    "        x = self.relu1(x)\n",
    "        x = self.dropout(x)\n",
    "        x = self.linear1(x)\n",
    "        #x = self.relu2(x)\n",
    "        #x = self.linear2(x)\n",
    "        return x"
   ]
  },
  {
   "cell_type": "code",
   "execution_count": 3,
   "metadata": {},
   "outputs": [],
   "source": [
    "nr_features = 768 if BERT_TOKENIZER else 300\n",
    "batch_size = 32\n",
    "learning_rate = 0.0001\n",
    "epochs = 50\n",
    "patience = 2\n",
    "class_weight_beta = 0.9999\n",
    "use_history = True\n",
    "\n",
    "TRANSFORMER_MODEL_NAME = 'roberta-base' # ignore this for now"
   ]
  },
  {
   "cell_type": "markdown",
   "metadata": {},
   "source": [
    "### Loading the dataset"
   ]
  },
  {
   "cell_type": "code",
   "execution_count": 4,
   "metadata": {},
   "outputs": [],
   "source": [
    "def process_intent_list(intent_list):\n",
    "    intents = set()\n",
    "    if len(intent_list) == 0:\n",
    "        intents.add('other')\n",
    "    for intent in intent_list:\n",
    "        if intent.startswith('Restaurant'):\n",
    "            intents.add(intent)\n",
    "        elif intent.startswith('Hotel'):\n",
    "            intents.add(intent)\n",
    "        elif intent.startswith('general'):\n",
    "            intents.add(intent)\n",
    "        else:\n",
    "            intents.add('other')\n",
    "    # print(f'Original {intent_list}')\n",
    "    # print(f'Modified {list(intents)}')\n",
    "    return list(intents)\n",
    "\n",
    "def process_service_list(service_list):\n",
    "    services = set()\n",
    "    if len(service_list) == 0:\n",
    "        services.add('other')\n",
    "    for service in service_list:\n",
    "        if service == 'restaurant':\n",
    "            services.add('restaurant')\n",
    "        elif service == 'hotel':\n",
    "            services.add('hotel')\n",
    "        else:\n",
    "            services.add('other')\n",
    "        if len(services) == 3:\n",
    "            break\n",
    "    return list(services)"
   ]
  },
  {
   "cell_type": "code",
   "execution_count": 5,
   "metadata": {},
   "outputs": [],
   "source": [
    "def preprocess_split(dataset, split):\n",
    "    df = dataset[split].to_pandas()\n",
    "    new_df = pd.DataFrame(columns = df.columns)\n",
    "    for i in range(len(df)):\n",
    "        # Taken from notebook, to know which lines to skip\n",
    "        row = df.loc[i]\n",
    "        if not any(set(row.turns['frames'][turn_id]['service']).intersection(['hotel', 'restaurant']) for turn_id,utt in enumerate(row.turns['utterance'])):\n",
    "            continue\n",
    "        \n",
    "        new_df.loc[len(new_df)] = row\n",
    "        # new_df.loc[len(new_df) - 1]['services'] = process_service_list(new_df.loc[len(new_df) - 1]['services'])\n",
    "        # for i, frame_service in [frame['service'] for frame in df.loc[i].turns['frames']]:\n",
    "            # df.loc[i].turns['frames']\n",
    "    return new_df\n",
    "\n",
    "def extract_token_retrieve_slots(dataset):\n",
    "    embeddings_list = []\n",
    "    bio_tags_list = []\n",
    "    useful_pos_list = []\n",
    "    retrieve_slots_list = []\n",
    "    \n",
    "    for i in tqdm(range(len(dataset))):\n",
    "        turns = dataset.loc[i].turns\n",
    "        for j, (utterance, speaker, dialogue_act, frames) in enumerate(zip(turns['utterance'], turns['speaker'], turns['dialogue_acts'], turns['frames'])):\n",
    "\n",
    "            if speaker != 0:\n",
    "                continue\n",
    "            # Skip using dialogue act intents\n",
    "            # print(dialogue_act['dialog_act']['act_type'])\n",
    "            # if 'other' in process_intent_list(dialogue_act['dialog_act']['act_type']):\n",
    "            #     continue\n",
    "            # Skip using frame services\n",
    "            if 'other' in process_service_list(frames['service']):\n",
    "                continue\n",
    "            \n",
    "            if j == 0:\n",
    "                prev_user_utterance = ''\n",
    "                prev_user_acts = []\n",
    "                prev_bot_utterance = ''\n",
    "                prev_bot_acts = []\n",
    "            else:\n",
    "                prev_user_utterance = turns['utterance'][j - 2]\n",
    "                prev_user_acts = process_intent_list(turns['dialogue_acts'][j - 2]['dialog_act']['act_type'])\n",
    "                prev_bot_utterance = turns['utterance'][j - 1]\n",
    "                prev_bot_acts = process_intent_list(turns['dialogue_acts'][j - 1]['dialog_act']['act_type'])\n",
    "            \n",
    "            composed_prefix = ''\n",
    "            if use_history:\n",
    "                composed_prefix = ' | '.join([prev_user_utterance, ', '.join(prev_user_acts), prev_bot_utterance, ', '.join(prev_bot_acts)]) + ' | '\n",
    "                utterance = composed_prefix + utterance\n",
    "        \n",
    "            act_types = dialogue_act['dialog_act']['act_type']\n",
    "            act_slots = dialogue_act['dialog_act']['act_slots']\n",
    "            \n",
    "            retrieve_slots = []\n",
    "            for act_type, slots in zip(act_types, act_slots):\n",
    "                slot_names = slots['slot_name']\n",
    "                slot_values = slots['slot_value']\n",
    "                for slot_name, slot_value in zip(slot_names, slot_values):\n",
    "                    if slot_value == '?':\n",
    "                        slot = act_type.split('-')[0].lower() + '-' + slot_name\n",
    "                        retrieve_slots.append(slot)\n",
    "            \n",
    "            tokenized = transformer_tokenizer(utterance)\n",
    "            with torch.no_grad():\n",
    "                embedding = embedding_matrix[tokenized.input_ids].detach().numpy()\n",
    "\n",
    "            embeddings_list.append(embedding)\n",
    "            retrieve_slots_list.append(retrieve_slots)\n",
    "            \n",
    "    return embeddings_list, retrieve_slots_list"
   ]
  },
  {
   "cell_type": "code",
   "execution_count": 6,
   "metadata": {},
   "outputs": [
    {
     "name": "stderr",
     "output_type": "stream",
     "text": [
      "No config specified, defaulting to: multi_woz_v22/v2.2_active_only\n",
      "Found cached dataset multi_woz_v22 (/home/adrian/.cache/huggingface/datasets/multi_woz_v22/v2.2_active_only/2.2.0/6719c8b21478299411a0c6fdb7137c3ebab2e6425129af831687fb7851c69eb5)\n"
     ]
    },
    {
     "data": {
      "application/vnd.jupyter.widget-view+json": {
       "model_id": "ee4875844d14435e821955d3a84d3ee8",
       "version_major": 2,
       "version_minor": 0
      },
      "text/plain": [
       "  0%|          | 0/3 [00:00<?, ?it/s]"
      ]
     },
     "metadata": {},
     "output_type": "display_data"
    },
    {
     "name": "stderr",
     "output_type": "stream",
     "text": [
      "100%|██████████| 6321/6321 [00:08<00:00, 708.40it/s]\n",
      "100%|██████████| 745/745 [00:01<00:00, 713.02it/s]\n",
      "100%|██████████| 745/745 [00:01<00:00, 703.68it/s]\n"
     ]
    }
   ],
   "source": [
    "dataset = load_dataset('multi_woz_v22')\n",
    "\n",
    "try:\n",
    "    train\n",
    "    print(\"Dataset already loaded, moving on\")\n",
    "except:\n",
    "    train = preprocess_split(dataset, 'train')\n",
    "    test = preprocess_split(dataset, 'test')\n",
    "    val = preprocess_split(dataset, 'validation')\n",
    "    train_embeddings_list, train_retrieve_slots_list = extract_token_retrieve_slots(train)\n",
    "    test_embeddings_list, test_retrieve_slots_list = extract_token_retrieve_slots(test)\n",
    "    val_embeddings_list, val_retrieve_slots_list = extract_token_retrieve_slots(test)"
   ]
  },
  {
   "cell_type": "code",
   "execution_count": 7,
   "metadata": {},
   "outputs": [],
   "source": [
    "mlb = MultiLabelBinarizer().fit(train_retrieve_slots_list)\n",
    "pickle.dump(mlb, open('saved_models/retrieve_mlb.pkl', 'wb'))\n",
    "model = MyLSTM(input_size = nr_features, num_cells = 4, hidden_size = 300, bi = True, out_features = len(mlb.classes_)).cuda()\n",
    "model.train()\n",
    "\n",
    "train_labels = mlb.transform(train_retrieve_slots_list)\n",
    "val_labels = mlb.transform(val_retrieve_slots_list)"
   ]
  },
  {
   "cell_type": "code",
   "execution_count": 8,
   "metadata": {},
   "outputs": [
    {
     "name": "stdout",
     "output_type": "stream",
     "text": [
      "Class counts:\n",
      "[('hotel-address', 407), ('hotel-area', 137), ('hotel-internet', 183), ('hotel-name', 253), ('hotel-parking', 155), ('hotel-phone', 356), ('hotel-postcode', 354), ('hotel-pricerange', 188), ('hotel-ref', 368), ('hotel-stars', 41), ('hotel-type', 85), ('restaurant-address', 1054), ('restaurant-area', 109), ('restaurant-food', 140), ('restaurant-name', 228), ('restaurant-phone', 992), ('restaurant-postcode', 601), ('restaurant-pricerange', 149), ('restaurant-ref', 329)]\n",
      "Class weights:\n",
      "[('hotel-address', 0.43120427524830474), ('hotel-area', 1.2639218232048666), ('hotel-internet', 0.9483877884298415), ('hotel-name', 0.6883845353304906), ('hotel-parking', 1.1181472883684558), ('hotel-phone', 0.49173033978727965), ('hotel-postcode', 0.49445931903059426), ('hotel-pricerange', 0.9233948267472656), ('hotel-ref', 0.47597944892642885), ('hotel-stars', 4.203153953944998), ('hotel-type', 2.0318643993402867), ('restaurant-address', 0.17191585629476347), ('restaurant-area', 1.5863809486119451), ('restaurant-food', 1.237022904636511), ('restaurant-name', 0.7629148358566981), ('restaurant-phone', 0.18210482219117052), ('restaurant-postcode', 0.2948359752733951), ('restaurant-pricerange', 1.162825320391702), ('restaurant-ref', 0.5313713383850054)]\n"
     ]
    }
   ],
   "source": [
    "samples_per_class = [0] * len(mlb.classes_)\n",
    "for retrieve_slots in train_retrieve_slots_list:\n",
    "    for retrieve_slot in retrieve_slots:\n",
    "        samples_per_class[np.argmax(mlb.transform([[retrieve_slot]]))] += 1\n",
    "\n",
    "print(\"Class counts:\")\n",
    "print([*zip(mlb.classes_, samples_per_class)])\n",
    "\n",
    "samples_per_class = np.array(samples_per_class)\n",
    "\n",
    "effective_num = 1.0 - np.power(class_weight_beta, samples_per_class)\n",
    "class_weights = (1.0 - class_weight_beta) / effective_num\n",
    "class_weights = class_weights / np.sum(class_weights) * len(mlb.classes_)\n",
    "print(\"Class weights:\")\n",
    "print([*zip(mlb.classes_, class_weights)])\n",
    "class_weights = torch.Tensor(class_weights).cuda()"
   ]
  },
  {
   "cell_type": "code",
   "execution_count": 9,
   "metadata": {},
   "outputs": [],
   "source": [
    "def batchify_tokens_tags(embedding_list, labels_list, batch_size):\n",
    "    embeddings_batch = []\n",
    "    labels_batch = []\n",
    "    \n",
    "    if labels_list is None:\n",
    "        labels_list = range(len(embedding_list))\n",
    "    \n",
    "    for embeddings, label in zip(embedding_list, labels_list):\n",
    "        embeddings_batch.append(torch.Tensor(embeddings).cuda())\n",
    "        labels_batch.append(label)\n",
    "        \n",
    "        if len(embeddings_batch) == batch_size:\n",
    "            yield embeddings_batch, torch.Tensor(labels_batch).cuda()\n",
    "            embeddings_batch.clear()\n",
    "            labels_batch.clear()\n",
    "    \n",
    "    yield embeddings_batch, torch.Tensor(labels_batch).cuda()\n",
    "    return None\n",
    "\n",
    "def compute_loss(model, embedding_list, labels_list, batch_size, criterion):\n",
    "    model.eval()\n",
    "    losses = []\n",
    "    with torch.no_grad():\n",
    "        for embeddings_batch, labels_batch in batchify_tokens_tags(embedding_list, labels_list, batch_size):\n",
    "            out = model.forward(embeddings_batch)\n",
    "            \n",
    "            loss = criterion(out, labels_batch)\n",
    "            losses.append(loss.item())\n",
    "    model.train()\n",
    "    return np.mean(losses)"
   ]
  },
  {
   "cell_type": "code",
   "execution_count": 10,
   "metadata": {},
   "outputs": [
    {
     "name": "stderr",
     "output_type": "stream",
     "text": [
      "/tmp/ipykernel_4726/2586959704.py:13: UserWarning: Creating a tensor from a list of numpy.ndarrays is extremely slow. Please consider converting the list to a single numpy.ndarray with numpy.array() before converting to a tensor. (Triggered internally at ../torch/csrc/utils/tensor_new.cpp:230.)\n",
      "  yield embeddings_batch, torch.Tensor(labels_batch).cuda()\n"
     ]
    },
    {
     "name": "stdout",
     "output_type": "stream",
     "text": [
      "Epoch 1: Train loss = 0.07978767938924569, Val loss = 0.0422937890526089\n",
      "Epoch 2: Train loss = 0.03564935816140623, Val loss = 0.03682920395214928\n"
     ]
    },
    {
     "ename": "KeyboardInterrupt",
     "evalue": "",
     "output_type": "error",
     "traceback": [
      "\u001b[0;31m---------------------------------------------------------------------------\u001b[0m",
      "\u001b[0;31mKeyboardInterrupt\u001b[0m                         Traceback (most recent call last)",
      "\u001b[0;32m/tmp/ipykernel_4726/2403969055.py\u001b[0m in \u001b[0;36m<module>\u001b[0;34m\u001b[0m\n\u001b[1;32m     10\u001b[0m     \u001b[0mepoch_train_loss\u001b[0m \u001b[0;34m=\u001b[0m \u001b[0;34m[\u001b[0m\u001b[0;34m]\u001b[0m\u001b[0;34m\u001b[0m\u001b[0;34m\u001b[0m\u001b[0m\n\u001b[1;32m     11\u001b[0m \u001b[0;34m\u001b[0m\u001b[0m\n\u001b[0;32m---> 12\u001b[0;31m     \u001b[0;32mfor\u001b[0m \u001b[0membeddings_batch\u001b[0m\u001b[0;34m,\u001b[0m \u001b[0mlabels_batch\u001b[0m \u001b[0;32min\u001b[0m \u001b[0mbatchify_tokens_tags\u001b[0m\u001b[0;34m(\u001b[0m\u001b[0mtrain_embeddings_list\u001b[0m\u001b[0;34m,\u001b[0m \u001b[0mtrain_labels\u001b[0m\u001b[0;34m,\u001b[0m \u001b[0mbatch_size\u001b[0m\u001b[0;34m)\u001b[0m\u001b[0;34m:\u001b[0m\u001b[0;34m\u001b[0m\u001b[0;34m\u001b[0m\u001b[0m\n\u001b[0m\u001b[1;32m     13\u001b[0m         \u001b[0moptim\u001b[0m\u001b[0;34m.\u001b[0m\u001b[0mzero_grad\u001b[0m\u001b[0;34m(\u001b[0m\u001b[0;34m)\u001b[0m\u001b[0;34m\u001b[0m\u001b[0;34m\u001b[0m\u001b[0m\n\u001b[1;32m     14\u001b[0m         \u001b[0mout\u001b[0m \u001b[0;34m=\u001b[0m \u001b[0mmodel\u001b[0m\u001b[0;34m.\u001b[0m\u001b[0mforward\u001b[0m\u001b[0;34m(\u001b[0m\u001b[0membeddings_batch\u001b[0m\u001b[0;34m)\u001b[0m\u001b[0;34m\u001b[0m\u001b[0;34m\u001b[0m\u001b[0m\n",
      "\u001b[0;32m/tmp/ipykernel_4726/2586959704.py\u001b[0m in \u001b[0;36mbatchify_tokens_tags\u001b[0;34m(embedding_list, labels_list, batch_size)\u001b[0m\n\u001b[1;32m      7\u001b[0m \u001b[0;34m\u001b[0m\u001b[0m\n\u001b[1;32m      8\u001b[0m     \u001b[0;32mfor\u001b[0m \u001b[0membeddings\u001b[0m\u001b[0;34m,\u001b[0m \u001b[0mlabel\u001b[0m \u001b[0;32min\u001b[0m \u001b[0mzip\u001b[0m\u001b[0;34m(\u001b[0m\u001b[0membedding_list\u001b[0m\u001b[0;34m,\u001b[0m \u001b[0mlabels_list\u001b[0m\u001b[0;34m)\u001b[0m\u001b[0;34m:\u001b[0m\u001b[0;34m\u001b[0m\u001b[0;34m\u001b[0m\u001b[0m\n\u001b[0;32m----> 9\u001b[0;31m         \u001b[0membeddings_batch\u001b[0m\u001b[0;34m.\u001b[0m\u001b[0mappend\u001b[0m\u001b[0;34m(\u001b[0m\u001b[0mtorch\u001b[0m\u001b[0;34m.\u001b[0m\u001b[0mTensor\u001b[0m\u001b[0;34m(\u001b[0m\u001b[0membeddings\u001b[0m\u001b[0;34m)\u001b[0m\u001b[0;34m.\u001b[0m\u001b[0mcuda\u001b[0m\u001b[0;34m(\u001b[0m\u001b[0;34m)\u001b[0m\u001b[0;34m)\u001b[0m\u001b[0;34m\u001b[0m\u001b[0;34m\u001b[0m\u001b[0m\n\u001b[0m\u001b[1;32m     10\u001b[0m         \u001b[0mlabels_batch\u001b[0m\u001b[0;34m.\u001b[0m\u001b[0mappend\u001b[0m\u001b[0;34m(\u001b[0m\u001b[0mlabel\u001b[0m\u001b[0;34m)\u001b[0m\u001b[0;34m\u001b[0m\u001b[0;34m\u001b[0m\u001b[0m\n\u001b[1;32m     11\u001b[0m \u001b[0;34m\u001b[0m\u001b[0m\n",
      "\u001b[0;31mKeyboardInterrupt\u001b[0m: "
     ]
    }
   ],
   "source": [
    "optim = torch.optim.Adam(model.parameters(), lr = learning_rate)\n",
    "criterion = nn.BCEWithLogitsLoss(weight = class_weights)\n",
    "train_losses = []\n",
    "val_losses = []\n",
    "waited = 0\n",
    "\n",
    "min_val_loss = np.inf\n",
    "\n",
    "for epoch in range(epochs):\n",
    "    epoch_train_loss = []\n",
    "    \n",
    "    for embeddings_batch, labels_batch in batchify_tokens_tags(train_embeddings_list, train_labels, batch_size):\n",
    "        optim.zero_grad()\n",
    "        out = model.forward(embeddings_batch)\n",
    "        \n",
    "        # logits_final, labels_final = outputs_keep_useful_part(out.logits, labels_batch, useful_pos_batch)\n",
    "        loss = criterion(out, labels_batch)\n",
    "        loss.backward()\n",
    "        optim.step()\n",
    "        epoch_train_loss.append(loss.item())\n",
    "    \n",
    "    epoch_train_loss = np.mean(epoch_train_loss)\n",
    "    train_losses.append(epoch_train_loss)\n",
    "    epoch_val_loss = compute_loss(model, val_embeddings_list, val_labels, batch_size, criterion)\n",
    "    \n",
    "    print(f\"Epoch {epoch + 1}: Train loss = {epoch_train_loss}, Val loss = {epoch_val_loss}\")\n",
    "    \n",
    "    if epoch_val_loss < min_val_loss:\n",
    "        min_val_loss = epoch_val_loss\n",
    "        torch.save(model.state_dict(), 'saved_models/RETR_LSTM_BERT_HISTORY.pt')\n",
    "    \n",
    "    if len(val_losses) != 0 and val_losses[-1] <= epoch_val_loss:\n",
    "        waited += 1\n",
    "        if waited > patience:\n",
    "                val_losses.append(epoch_val_loss)\n",
    "                break\n",
    "    else:\n",
    "        waited = 0\n",
    "    \n",
    "    val_losses.append(epoch_val_loss)\n",
    "\n",
    "plt.plot(train_losses)\n",
    "plt.plot(val_losses)\n",
    "plt.show()\n"
   ]
  },
  {
   "cell_type": "code",
   "execution_count": 12,
   "metadata": {},
   "outputs": [],
   "source": [
    "def predict(model, embeddings_list, batch_size):\n",
    "    model.eval()\n",
    "    predictions = []\n",
    "    with torch.no_grad():\n",
    "        for embeddings_batch, _ in batchify_tokens_tags(embeddings_list, None, batch_size):\n",
    "            out = model.forward(embeddings_batch)\n",
    "            predictions.append((out > 0).cpu().detach().numpy())\n",
    "    return np.concatenate(predictions)"
   ]
  },
  {
   "cell_type": "code",
   "execution_count": 13,
   "metadata": {},
   "outputs": [
    {
     "name": "stdout",
     "output_type": "stream",
     "text": [
      "                       precision    recall  f1-score   support\n",
      "\n",
      "        hotel-address      0.875     0.745     0.805        47\n",
      "           hotel-area      0.846     0.524     0.647        21\n",
      "       hotel-internet      0.824     0.467     0.596        30\n",
      "           hotel-name      0.667     0.074     0.133        27\n",
      "        hotel-parking      0.882     0.484     0.625        31\n",
      "          hotel-phone      0.939     0.984     0.961        63\n",
      "       hotel-postcode      0.930     0.952     0.941        42\n",
      "     hotel-pricerange      0.933     0.609     0.737        23\n",
      "            hotel-ref      0.789     0.811     0.800        37\n",
      "          hotel-stars      0.857     1.000     0.923         6\n",
      "           hotel-type      0.889     0.727     0.800        11\n",
      "   restaurant-address      0.875     0.843     0.859        83\n",
      "      restaurant-area      0.769     0.909     0.833        11\n",
      "      restaurant-food      1.000     0.588     0.741        17\n",
      "      restaurant-name      1.000     0.091     0.167        22\n",
      "     restaurant-phone      0.920     0.972     0.945        71\n",
      "  restaurant-postcode      0.944     0.944     0.944        72\n",
      "restaurant-pricerange      0.833     0.625     0.714        16\n",
      "       restaurant-ref      0.698     0.974     0.813        38\n",
      "\n",
      "            micro avg      0.877     0.768     0.819       668\n",
      "            macro avg      0.867     0.701     0.736       668\n",
      "         weighted avg      0.877     0.768     0.789       668\n",
      "          samples avg      0.137     0.134     0.134       668\n",
      "\n",
      "acc = 0.9239877769289534\n"
     ]
    },
    {
     "name": "stderr",
     "output_type": "stream",
     "text": [
      "/home/adrian/.local/lib/python3.10/site-packages/sklearn/metrics/_classification.py:1344: UndefinedMetricWarning: Precision and F-score are ill-defined and being set to 0.0 in samples with no predicted labels. Use `zero_division` parameter to control this behavior.\n",
      "  _warn_prf(average, modifier, msg_start, len(result))\n",
      "/home/adrian/.local/lib/python3.10/site-packages/sklearn/metrics/_classification.py:1344: UndefinedMetricWarning: Recall and F-score are ill-defined and being set to 0.0 in samples with no true labels. Use `zero_division` parameter to control this behavior.\n",
      "  _warn_prf(average, modifier, msg_start, len(result))\n"
     ]
    }
   ],
   "source": [
    "model.load_state_dict(torch.load('saved_models/RETR_LSTM_BERT_HISTORY.pt'))\n",
    "\n",
    "test_act_type_pred = predict(model, test_embeddings_list, batch_size)\n",
    "\n",
    "acc = accuracy_score(mlb.transform(test_retrieve_slots_list), test_act_type_pred)\n",
    "report = classification_report(mlb.transform(test_retrieve_slots_list), test_act_type_pred, target_names = mlb.classes_, digits = 3)\n",
    "print(report)\n",
    "print(f'acc = {acc}')"
   ]
  }
 ],
 "metadata": {
  "kernelspec": {
   "display_name": "Python 3",
   "language": "python",
   "name": "python3"
  },
  "language_info": {
   "codemirror_mode": {
    "name": "ipython",
    "version": 3
   },
   "file_extension": ".py",
   "mimetype": "text/x-python",
   "name": "python",
   "nbconvert_exporter": "python",
   "pygments_lexer": "ipython3",
   "version": "3.10.12"
  }
 },
 "nbformat": 4,
 "nbformat_minor": 2
}

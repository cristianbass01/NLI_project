{
 "cells": [
  {
   "cell_type": "code",
   "execution_count": 1,
   "metadata": {},
   "outputs": [],
   "source": [
    "# !pip install seqeval"
   ]
  },
  {
   "cell_type": "code",
   "execution_count": 2,
   "metadata": {},
   "outputs": [],
   "source": [
    "import pandas as pd\n",
    "from transformers import AutoTokenizer, AutoModelForTokenClassification\n",
    "from datasets import load_dataset\n",
    "from torch import nn\n",
    "from tqdm import tqdm\n",
    "import numpy as np\n",
    "import torch\n",
    "from seqeval.metrics import classification_report, accuracy_score\n",
    "import matplotlib.pyplot as plt"
   ]
  },
  {
   "cell_type": "code",
   "execution_count": 3,
   "metadata": {},
   "outputs": [],
   "source": [
    "TRANSFORMER_MODEL_NAME = 'roberta-base'\n",
    "save_model_name = TRANSFORMER_MODEL_NAME.split('/')[-1]\n",
    "epochs = 10\n",
    "batch_size = 4\n",
    "learning_rate = 2e-5\n",
    "class_weight_beta = 0.99999 # increase number of nines if you want stronger imbalance compensation\n",
    "patience = 2\n",
    "ignored_tags = ['I-bookstay', 'I-stars']\n",
    "use_history = False"
   ]
  },
  {
   "cell_type": "code",
   "execution_count": 4,
   "metadata": {},
   "outputs": [],
   "source": [
    "tokenizer = AutoTokenizer.from_pretrained(TRANSFORMER_MODEL_NAME)"
   ]
  },
  {
   "cell_type": "code",
   "execution_count": 5,
   "metadata": {},
   "outputs": [],
   "source": [
    "def process_intent_list(intent_list):\n",
    "    intents = set()\n",
    "    if len(intent_list) == 0:\n",
    "        intents.add('other')\n",
    "    for intent in intent_list:\n",
    "        if intent.startswith('Restaurant'):\n",
    "            intents.add(intent)\n",
    "        elif intent.startswith('Hotel'):\n",
    "            intents.add(intent)\n",
    "        elif intent.startswith('general'):\n",
    "            intents.add(intent)\n",
    "        else:\n",
    "            intents.add('other')\n",
    "    # print(f'Original {intent_list}')\n",
    "    # print(f'Modified {list(intents)}')\n",
    "    return list(intents)\n",
    "\n",
    "def process_service_list(service_list):\n",
    "    services = set()\n",
    "    if len(service_list) == 0:\n",
    "        services.add('other')\n",
    "    for service in service_list:\n",
    "        if service == 'restaurant':\n",
    "            services.add('restaurant')\n",
    "        elif service == 'hotel':\n",
    "            services.add('hotel')\n",
    "        else:\n",
    "            services.add('other')\n",
    "        if len(services) == 3:\n",
    "            break\n",
    "    return list(services)"
   ]
  },
  {
   "cell_type": "code",
   "execution_count": 6,
   "metadata": {},
   "outputs": [],
   "source": [
    "def preprocess_split(dataset, split):\n",
    "    df = dataset[split].to_pandas()\n",
    "    new_df = pd.DataFrame(columns = df.columns)\n",
    "    for i in range(len(df)):\n",
    "        # Taken from notebook, to know which lines to skip\n",
    "        row = df.loc[i]\n",
    "        if not any(set(row.turns['frames'][turn_id]['service']).intersection(['hotel', 'restaurant']) for turn_id,utt in enumerate(row.turns['utterance'])):\n",
    "            continue\n",
    "        \n",
    "        new_df.loc[len(new_df)] = row\n",
    "        # new_df.loc[len(new_df) - 1]['services'] = process_service_list(new_df.loc[len(new_df) - 1]['services'])\n",
    "        # for i, frame_service in [frame['service'] for frame in df.loc[i].turns['frames']]:\n",
    "            # df.loc[i].turns['frames']\n",
    "    return new_df\n",
    "\n",
    "def extract_token_bio_tags(dataset):\n",
    "    tokens_list = []\n",
    "    bio_tags_list = []\n",
    "    useful_pos_list = []\n",
    "    \n",
    "    for i in tqdm(range(len(dataset))):\n",
    "        turns = dataset.loc[i].turns\n",
    "        for j, (utterance, speaker, dialogue_act, frames) in enumerate(zip(turns['utterance'], turns['speaker'], turns['dialogue_acts'], turns['frames'])):\n",
    "\n",
    "            if speaker != 0:\n",
    "                continue\n",
    "            # Skip using dialogue act intents\n",
    "            # if 'other' in process_intent_list(dialogue_act['dialog_act']['act_type']):\n",
    "            #     continue\n",
    "            # Skip using frame services\n",
    "            if 'other' in process_service_list(frames['service']):\n",
    "                continue\n",
    "            \n",
    "            if j == 0:\n",
    "                prev_user_utterance = ''\n",
    "                prev_user_acts = []\n",
    "                prev_bot_utterance = ''\n",
    "                prev_bot_acts = []\n",
    "            else:\n",
    "                prev_user_utterance = turns['utterance'][j - 2]\n",
    "                prev_user_acts = turns['dialogue_acts'][j - 2]['dialog_act']['act_type']\n",
    "                prev_bot_utterance = turns['utterance'][j - 1]\n",
    "                prev_bot_acts = turns['dialogue_acts'][j - 1]['dialog_act']['act_type']\n",
    "            \n",
    "            composed_prefix = ''\n",
    "            if use_history:\n",
    "                composed_prefix = ' | '.join([prev_user_utterance, ', '.join(prev_user_acts), prev_bot_utterance, ', '.join(prev_bot_acts)]) + ' | '\n",
    "                utterance = composed_prefix + utterance\n",
    "            \n",
    "            span_info = dialogue_act['span_info']\n",
    "            act_slot_names = span_info['act_slot_name']\n",
    "            act_slot_values = span_info['act_slot_value']\n",
    "            span_starts = span_info['span_start']\n",
    "            span_ends = span_info['span_end']\n",
    "            slots = {slot_name : {'start': start + len(composed_prefix), 'end': end + len(composed_prefix)} for slot_name, start, end in zip(act_slot_names, span_starts, span_ends)}\n",
    "            \n",
    "            tokenized = tokenizer(utterance, padding = 'max_length')\n",
    "            token_tags = [None] * len(tokenized.input_ids)\n",
    "            \n",
    "            for c in range(len(composed_prefix), len(utterance)):\n",
    "                if tokenized.char_to_token(c) is not None:\n",
    "                    token_tags[tokenized.char_to_token(c)] = 'O'\n",
    "            \n",
    "            # for j in range(len(token_tags)):\n",
    "            #     if tokenized.token_to_word(j) is not None:\n",
    "            #         token_tags[j] = 'O'\n",
    "            \n",
    "            for slot_name in slots:\n",
    "                slot_start, slot_end = slots[slot_name]['start'], slots[slot_name]['end']\n",
    "                covered_tokens = list(dict.fromkeys(tokenized.char_to_token(k) for k in range(slot_start, slot_end) if utterance[k] != ' '))\n",
    "                for j, covered_token in enumerate(covered_tokens):\n",
    "                    bio_type = 'B-' if j == 0 else 'I-'\n",
    "                    if bio_type + slot_name not in ignored_tags:\n",
    "                        token_tags[covered_token] = bio_type + slot_name\n",
    "            \n",
    "            # print([*zip(tokenizer.convert_ids_to_tokens(tokenized.input_ids), token_tags)])\n",
    "\n",
    "            tokens_list.append(tokenized)\n",
    "            bio_tags_list.append(np.array(token_tags))\n",
    "            useful_pos_list.append((tokenized.char_to_token(len(composed_prefix)), tokenized.char_to_token(len(utterance) - 1) + 1))\n",
    "            \n",
    "    return tokens_list, bio_tags_list, useful_pos_list"
   ]
  },
  {
   "cell_type": "code",
   "execution_count": 7,
   "metadata": {},
   "outputs": [
    {
     "name": "stderr",
     "output_type": "stream",
     "text": [
      "No config specified, defaulting to: multi_woz_v22/v2.2_active_only\n",
      "Found cached dataset multi_woz_v22 (/home/adrian/.cache/huggingface/datasets/multi_woz_v22/v2.2_active_only/2.2.0/6719c8b21478299411a0c6fdb7137c3ebab2e6425129af831687fb7851c69eb5)\n"
     ]
    },
    {
     "data": {
      "application/vnd.jupyter.widget-view+json": {
       "model_id": "a15a3bcd788d45098d0d5bee8f7974fe",
       "version_major": 2,
       "version_minor": 0
      },
      "text/plain": [
       "  0%|          | 0/3 [00:00<?, ?it/s]"
      ]
     },
     "metadata": {},
     "output_type": "display_data"
    },
    {
     "name": "stderr",
     "output_type": "stream",
     "text": [
      "100%|██████████| 6321/6321 [00:06<00:00, 946.30it/s] \n"
     ]
    },
    {
     "name": "stdout",
     "output_type": "stream",
     "text": [
      "['B-area', 'B-bookday', 'B-bookpeople', 'B-bookstay', 'B-booktime', 'B-food', 'B-name', 'B-pricerange', 'B-stars', 'B-type', 'I-area', 'I-bookday', 'I-bookpeople', 'I-booktime', 'I-food', 'I-name', 'I-pricerange', 'I-type', 'O']\n"
     ]
    },
    {
     "name": "stderr",
     "output_type": "stream",
     "text": [
      "100%|██████████| 762/762 [00:00<00:00, 1073.59it/s]\n",
      "100%|██████████| 745/745 [00:00<00:00, 1075.28it/s]\n"
     ]
    }
   ],
   "source": [
    "dataset = load_dataset('multi_woz_v22')\n",
    "\n",
    "train = preprocess_split(dataset, 'train')\n",
    "val = preprocess_split(dataset, 'validation')\n",
    "test = preprocess_split(dataset, 'test')\n",
    "\n",
    "train_tokens, train_bio_tags, train_useful_pos = extract_token_bio_tags(train)\n",
    "possible_bio_tags = sorted(set(filter(lambda tag : tag is not None, np.concatenate(train_bio_tags))))\n",
    "print(possible_bio_tags)\n",
    "tag_to_encoding = {tag : encoding for encoding, tag in enumerate(possible_bio_tags)}\n",
    "# - 100 is default ignore index for the pytorch cross entropy function\n",
    "tag_to_encoding[None] = -100\n",
    "encoding_to_tag = {encoding : tag for encoding, tag in enumerate(possible_bio_tags)}\n",
    "train_encoded_tags = [[tag_to_encoding[tag] for tag in tags] for tags in train_bio_tags]\n",
    "\n",
    "val_tokens, val_bio_tags, val_useful_pos = extract_token_bio_tags(val)\n",
    "val_encoded_tags = [[tag_to_encoding[tag] for tag in tags] for tags in val_bio_tags]\n",
    "\n",
    "test_tokens, test_bio_tags, test_useful_pos = extract_token_bio_tags(test)\n",
    "test_encoded_tags = [np.array([tag_to_encoding[tag] for tag in tags]) for tags in test_bio_tags]"
   ]
  },
  {
   "cell_type": "code",
   "execution_count": 8,
   "metadata": {},
   "outputs": [],
   "source": [
    "def batchify_tokens_tags(tokens_list, encoded_tags_list, useful_pos_list, batch_size):\n",
    "    ids_batch = []\n",
    "    mask_batch = []\n",
    "    useful_pos_batch = []\n",
    "    labels_batch = []\n",
    "    \n",
    "    if encoded_tags_list is None:\n",
    "        encoded_tags_list = range(len(tokens_list))\n",
    "    \n",
    "    if useful_pos_list is None:\n",
    "        useful_pos_list = range(len(tokens_list))\n",
    "    \n",
    "    for tokens, encoded_tags, useful_pos in zip(tokens_list, encoded_tags_list, useful_pos_list):\n",
    "        ids_batch.append(tokens.input_ids)\n",
    "        mask_batch.append(tokens.attention_mask)\n",
    "        useful_pos_batch.append(useful_pos)\n",
    "        labels_batch.append(encoded_tags)\n",
    "        \n",
    "        if len(ids_batch) == batch_size:\n",
    "            yield torch.Tensor(ids_batch).long().cuda(), torch.Tensor(mask_batch).cuda(), useful_pos_batch, torch.Tensor(labels_batch).long().cuda()\n",
    "            ids_batch.clear()\n",
    "            mask_batch.clear()\n",
    "            useful_pos_batch.clear()\n",
    "            labels_batch.clear()\n",
    "    \n",
    "    yield torch.Tensor(ids_batch).long().cuda(), torch.Tensor(mask_batch).cuda(), useful_pos_batch, torch.Tensor(labels_batch).long().cuda()\n",
    "    return None\n",
    "\n",
    "def outputs_keep_useful_part(logits_batch, labels_batch, useful_pos_batch):\n",
    "    logits_useful = torch.zeros(logits_batch.shape).cuda()\n",
    "    labels_useful = torch.zeros(labels_batch.shape).cuda().long()\n",
    "    for i, useful_pos in enumerate(useful_pos_batch):\n",
    "        logits_useful[i, useful_pos[0] - 1 : useful_pos[1] + 1, :] = logits_batch[i, useful_pos[0] - 1 : useful_pos[1] + 1, :]\n",
    "        labels_useful[i, useful_pos[0] - 1 : useful_pos[1] + 1] = labels_batch[i, useful_pos[0] - 1 : useful_pos[1] + 1]\n",
    "    return logits_useful, labels_useful"
   ]
  },
  {
   "cell_type": "code",
   "execution_count": 9,
   "metadata": {},
   "outputs": [],
   "source": [
    "def predict(transformer, tokens, batch_size):\n",
    "    transformer.eval()\n",
    "    predictions = []\n",
    "    with torch.no_grad():\n",
    "        for ids_batch, mask_batch, _, _ in tqdm(batchify_tokens_tags(tokens, None, None, batch_size)):\n",
    "            \n",
    "            out = transformer.forward(input_ids = ids_batch, attention_mask = mask_batch)\n",
    "            res = torch.argmax(out.logits, dim = 2).cpu().detach().numpy()\n",
    "            predictions.append(res)\n",
    "    return np.concatenate(predictions)\n",
    "\n",
    "def useful_flattened_tokens(tokens_list, useful_pos_list):\n",
    "    return np.concatenate([tokens[useful_pos[0] : useful_pos[1]] for tokens, useful_pos in zip(tokens_list, useful_pos_list)])"
   ]
  },
  {
   "cell_type": "code",
   "execution_count": 10,
   "metadata": {},
   "outputs": [
    {
     "name": "stderr",
     "output_type": "stream",
     "text": [
      "655it [02:09,  5.06it/s]\n"
     ]
    },
    {
     "name": "stdout",
     "output_type": "stream",
     "text": [
      "Accuracy: 0.962\n",
      "              precision    recall  f1-score   support\n",
      "\n",
      "        area      0.798     0.955     0.870       447\n",
      "     bookday      0.889     1.000     0.941       367\n",
      "  bookpeople      0.842     0.989     0.910       376\n",
      "    bookstay      0.806     0.981     0.885       259\n",
      "    booktime      0.900     0.990     0.943       210\n",
      "        food      0.846     0.971     0.904       378\n",
      "        name      0.612     0.878     0.721       278\n",
      "  pricerange      0.792     0.973     0.873       486\n",
      "       stars      0.922     0.989     0.954       190\n",
      "        type      0.395     0.992     0.565       243\n",
      "\n",
      "   micro avg      0.751     0.971     0.847      3234\n",
      "   macro avg      0.780     0.972     0.857      3234\n",
      "weighted avg      0.786     0.971     0.862      3234\n",
      "\n"
     ]
    }
   ],
   "source": [
    "transformer = AutoModelForTokenClassification.from_pretrained('saved_models/SF_' + save_model_name, num_labels = len(possible_bio_tags)).cuda()\n",
    "\n",
    "with torch.no_grad():\n",
    "    predicted_encoded_tags = predict(transformer, test_tokens, batch_size)\n",
    "predicted_encoded_tags_flattened = [encoding_to_tag[encoding] for encoding in useful_flattened_tokens(predicted_encoded_tags, test_useful_pos)]\n",
    "test_encoded_tags_flattened = [encoding_to_tag[encoding] for encoding in useful_flattened_tokens(test_encoded_tags, test_useful_pos)]\n",
    "\n",
    "acc = accuracy_score(test_encoded_tags_flattened, predicted_encoded_tags_flattened)\n",
    "report = classification_report([test_encoded_tags_flattened], [predicted_encoded_tags_flattened], digits = 3, zero_division = 0)\n",
    "print(f\"Accuracy: {acc:.3f}\")\n",
    "print(report)"
   ]
  }
 ],
 "metadata": {
  "kernelspec": {
   "display_name": "Python 3",
   "language": "python",
   "name": "python3"
  },
  "language_info": {
   "codemirror_mode": {
    "name": "ipython",
    "version": 3
   },
   "file_extension": ".py",
   "mimetype": "text/x-python",
   "name": "python",
   "nbconvert_exporter": "python",
   "pygments_lexer": "ipython3",
   "version": "3.10.12"
  }
 },
 "nbformat": 4,
 "nbformat_minor": 2
}

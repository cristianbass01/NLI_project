{
 "cells": [
  {
   "cell_type": "code",
   "execution_count": 1,
   "id": "063f7c68",
   "metadata": {
    "execution": {
     "iopub.execute_input": "2023-12-18T13:05:52.281354Z",
     "iopub.status.busy": "2023-12-18T13:05:52.280918Z",
     "iopub.status.idle": "2023-12-18T13:05:52.285504Z",
     "shell.execute_reply": "2023-12-18T13:05:52.284786Z"
    },
    "executionInfo": {
     "elapsed": 17151,
     "status": "ok",
     "timestamp": 1702304106544,
     "user": {
      "displayName": "CRISTIAN BASSOTTO",
      "userId": "15677203551744756266"
     },
     "user_tz": -60
    },
    "id": "5AhFCv5N4qLF",
    "outputId": "d4056ad6-fe96-4a0b-c13c-2c125927de1d",
    "papermill": {
     "duration": 0.030535,
     "end_time": "2023-12-18T13:05:52.287539",
     "exception": false,
     "start_time": "2023-12-18T13:05:52.257004",
     "status": "completed"
    },
    "tags": []
   },
   "outputs": [],
   "source": [
    "#Mount Google drive\n",
    "#from google.colab import drive\n",
    "#drive.mount('/content/drive')"
   ]
  },
  {
   "cell_type": "code",
   "execution_count": 2,
   "id": "03536c6f",
   "metadata": {
    "execution": {
     "iopub.execute_input": "2023-12-18T13:05:52.332274Z",
     "iopub.status.busy": "2023-12-18T13:05:52.331950Z",
     "iopub.status.idle": "2023-12-18T13:05:52.335940Z",
     "shell.execute_reply": "2023-12-18T13:05:52.335028Z"
    },
    "executionInfo": {
     "elapsed": 8,
     "status": "ok",
     "timestamp": 1702304106544,
     "user": {
      "displayName": "CRISTIAN BASSOTTO",
      "userId": "15677203551744756266"
     },
     "user_tz": -60
    },
    "id": "07QFDivu4xL_",
    "outputId": "8bf058dd-6550-4df2-e227-0a4470f8acad",
    "papermill": {
     "duration": 0.028624,
     "end_time": "2023-12-18T13:05:52.337911",
     "exception": false,
     "start_time": "2023-12-18T13:05:52.309287",
     "status": "completed"
    },
    "tags": []
   },
   "outputs": [],
   "source": [
    "#change current working directory\n",
    "#%cd \"/content/drive/Shareddrives/NLI/2_slot_filling\""
   ]
  },
  {
   "cell_type": "code",
   "execution_count": 3,
   "id": "f5250cc3",
   "metadata": {
    "execution": {
     "iopub.execute_input": "2023-12-18T13:05:52.382540Z",
     "iopub.status.busy": "2023-12-18T13:05:52.382195Z",
     "iopub.status.idle": "2023-12-18T13:07:06.148218Z",
     "shell.execute_reply": "2023-12-18T13:07:06.147214Z"
    },
    "executionInfo": {
     "elapsed": 16723,
     "status": "ok",
     "timestamp": 1702304123263,
     "user": {
      "displayName": "CRISTIAN BASSOTTO",
      "userId": "15677203551744756266"
     },
     "user_tz": -60
    },
    "id": "srMMIeSg44Mr",
    "outputId": "ed66aedd-d0f8-4a64-ce6e-3320bcc5749d",
    "papermill": {
     "duration": 73.791634,
     "end_time": "2023-12-18T13:07:06.150708",
     "exception": false,
     "start_time": "2023-12-18T13:05:52.359074",
     "status": "completed"
    },
    "tags": []
   },
   "outputs": [
    {
     "name": "stdout",
     "output_type": "stream",
     "text": [
      "Requirement already satisfied: transformers in /opt/conda/lib/python3.10/site-packages (4.35.2)\r\n",
      "Requirement already satisfied: filelock in /opt/conda/lib/python3.10/site-packages (from transformers) (3.12.2)\r\n",
      "Requirement already satisfied: huggingface-hub<1.0,>=0.16.4 in /opt/conda/lib/python3.10/site-packages (from transformers) (0.19.4)\r\n",
      "Requirement already satisfied: numpy>=1.17 in /opt/conda/lib/python3.10/site-packages (from transformers) (1.24.3)\r\n",
      "Requirement already satisfied: packaging>=20.0 in /opt/conda/lib/python3.10/site-packages (from transformers) (21.3)\r\n",
      "Requirement already satisfied: pyyaml>=5.1 in /opt/conda/lib/python3.10/site-packages (from transformers) (6.0.1)\r\n",
      "Requirement already satisfied: regex!=2019.12.17 in /opt/conda/lib/python3.10/site-packages (from transformers) (2023.8.8)\r\n",
      "Requirement already satisfied: requests in /opt/conda/lib/python3.10/site-packages (from transformers) (2.31.0)\r\n",
      "Requirement already satisfied: tokenizers<0.19,>=0.14 in /opt/conda/lib/python3.10/site-packages (from transformers) (0.15.0)\r\n",
      "Requirement already satisfied: safetensors>=0.3.1 in /opt/conda/lib/python3.10/site-packages (from transformers) (0.4.1)\r\n",
      "Requirement already satisfied: tqdm>=4.27 in /opt/conda/lib/python3.10/site-packages (from transformers) (4.66.1)\r\n",
      "Requirement already satisfied: fsspec>=2023.5.0 in /opt/conda/lib/python3.10/site-packages (from huggingface-hub<1.0,>=0.16.4->transformers) (2023.12.1)\r\n",
      "Requirement already satisfied: typing-extensions>=3.7.4.3 in /opt/conda/lib/python3.10/site-packages (from huggingface-hub<1.0,>=0.16.4->transformers) (4.5.0)\r\n",
      "Requirement already satisfied: pyparsing!=3.0.5,>=2.0.2 in /opt/conda/lib/python3.10/site-packages (from packaging>=20.0->transformers) (3.0.9)\r\n",
      "Requirement already satisfied: charset-normalizer<4,>=2 in /opt/conda/lib/python3.10/site-packages (from requests->transformers) (3.2.0)\r\n",
      "Requirement already satisfied: idna<4,>=2.5 in /opt/conda/lib/python3.10/site-packages (from requests->transformers) (3.4)\r\n",
      "Requirement already satisfied: urllib3<3,>=1.21.1 in /opt/conda/lib/python3.10/site-packages (from requests->transformers) (1.26.15)\r\n",
      "Requirement already satisfied: certifi>=2017.4.17 in /opt/conda/lib/python3.10/site-packages (from requests->transformers) (2023.11.17)\r\n",
      "Requirement already satisfied: accelerate in /opt/conda/lib/python3.10/site-packages (0.25.0)\r\n",
      "Requirement already satisfied: numpy>=1.17 in /opt/conda/lib/python3.10/site-packages (from accelerate) (1.24.3)\r\n",
      "Requirement already satisfied: packaging>=20.0 in /opt/conda/lib/python3.10/site-packages (from accelerate) (21.3)\r\n",
      "Requirement already satisfied: psutil in /opt/conda/lib/python3.10/site-packages (from accelerate) (5.9.3)\r\n",
      "Requirement already satisfied: pyyaml in /opt/conda/lib/python3.10/site-packages (from accelerate) (6.0.1)\r\n",
      "Requirement already satisfied: torch>=1.10.0 in /opt/conda/lib/python3.10/site-packages (from accelerate) (2.0.0)\r\n",
      "Requirement already satisfied: huggingface-hub in /opt/conda/lib/python3.10/site-packages (from accelerate) (0.19.4)\r\n",
      "Requirement already satisfied: safetensors>=0.3.1 in /opt/conda/lib/python3.10/site-packages (from accelerate) (0.4.1)\r\n",
      "Requirement already satisfied: pyparsing!=3.0.5,>=2.0.2 in /opt/conda/lib/python3.10/site-packages (from packaging>=20.0->accelerate) (3.0.9)\r\n",
      "Requirement already satisfied: filelock in /opt/conda/lib/python3.10/site-packages (from torch>=1.10.0->accelerate) (3.12.2)\r\n",
      "Requirement already satisfied: typing-extensions in /opt/conda/lib/python3.10/site-packages (from torch>=1.10.0->accelerate) (4.5.0)\r\n",
      "Requirement already satisfied: sympy in /opt/conda/lib/python3.10/site-packages (from torch>=1.10.0->accelerate) (1.12)\r\n",
      "Requirement already satisfied: networkx in /opt/conda/lib/python3.10/site-packages (from torch>=1.10.0->accelerate) (3.1)\r\n",
      "Requirement already satisfied: jinja2 in /opt/conda/lib/python3.10/site-packages (from torch>=1.10.0->accelerate) (3.1.2)\r\n",
      "Requirement already satisfied: fsspec>=2023.5.0 in /opt/conda/lib/python3.10/site-packages (from huggingface-hub->accelerate) (2023.12.1)\r\n",
      "Requirement already satisfied: requests in /opt/conda/lib/python3.10/site-packages (from huggingface-hub->accelerate) (2.31.0)\r\n",
      "Requirement already satisfied: tqdm>=4.42.1 in /opt/conda/lib/python3.10/site-packages (from huggingface-hub->accelerate) (4.66.1)\r\n",
      "Requirement already satisfied: MarkupSafe>=2.0 in /opt/conda/lib/python3.10/site-packages (from jinja2->torch>=1.10.0->accelerate) (2.1.3)\r\n",
      "Requirement already satisfied: charset-normalizer<4,>=2 in /opt/conda/lib/python3.10/site-packages (from requests->huggingface-hub->accelerate) (3.2.0)\r\n",
      "Requirement already satisfied: idna<4,>=2.5 in /opt/conda/lib/python3.10/site-packages (from requests->huggingface-hub->accelerate) (3.4)\r\n",
      "Requirement already satisfied: urllib3<3,>=1.21.1 in /opt/conda/lib/python3.10/site-packages (from requests->huggingface-hub->accelerate) (1.26.15)\r\n",
      "Requirement already satisfied: certifi>=2017.4.17 in /opt/conda/lib/python3.10/site-packages (from requests->huggingface-hub->accelerate) (2023.11.17)\r\n",
      "Requirement already satisfied: mpmath>=0.19 in /opt/conda/lib/python3.10/site-packages (from sympy->torch>=1.10.0->accelerate) (1.3.0)\r\n",
      "Collecting seqeval\r\n",
      "  Downloading seqeval-1.2.2.tar.gz (43 kB)\r\n",
      "\u001b[2K     \u001b[90m━━━━━━━━━━━━━━━━━━━━━━━━━━━━━━━━━━━━━━━━\u001b[0m \u001b[32m43.6/43.6 kB\u001b[0m \u001b[31m3.6 MB/s\u001b[0m eta \u001b[36m0:00:00\u001b[0m\r\n",
      "\u001b[?25h  Preparing metadata (setup.py) ... \u001b[?25l-\b \b\\\b \b|\b \bdone\r\n",
      "\u001b[?25hRequirement already satisfied: numpy>=1.14.0 in /opt/conda/lib/python3.10/site-packages (from seqeval) (1.24.3)\r\n",
      "Requirement already satisfied: scikit-learn>=0.21.3 in /opt/conda/lib/python3.10/site-packages (from seqeval) (1.2.2)\r\n",
      "Requirement already satisfied: scipy>=1.3.2 in /opt/conda/lib/python3.10/site-packages (from scikit-learn>=0.21.3->seqeval) (1.11.4)\r\n",
      "Requirement already satisfied: joblib>=1.1.1 in /opt/conda/lib/python3.10/site-packages (from scikit-learn>=0.21.3->seqeval) (1.3.2)\r\n",
      "Requirement already satisfied: threadpoolctl>=2.0.0 in /opt/conda/lib/python3.10/site-packages (from scikit-learn>=0.21.3->seqeval) (3.2.0)\r\n",
      "Building wheels for collected packages: seqeval\r\n",
      "  Building wheel for seqeval (setup.py) ... \u001b[?25l-\b \b\\\b \b|\b \bdone\r\n",
      "\u001b[?25h  Created wheel for seqeval: filename=seqeval-1.2.2-py3-none-any.whl size=16162 sha256=19a6fc7e3ea16934c776f6d0cdc1e003fc5472231ea1c93c2a7da35340534614\r\n",
      "  Stored in directory: /root/.cache/pip/wheels/1a/67/4a/ad4082dd7dfc30f2abfe4d80a2ed5926a506eb8a972b4767fa\r\n",
      "Successfully built seqeval\r\n",
      "Installing collected packages: seqeval\r\n",
      "Successfully installed seqeval-1.2.2\r\n",
      "/opt/conda/lib/python3.10/site-packages/scipy/__init__.py:146: UserWarning: A NumPy version >=1.16.5 and <1.23.0 is required for this version of SciPy (detected version 1.24.3\r\n",
      "  warnings.warn(f\"A NumPy version >={np_minversion} and <{np_maxversion}\"\r\n",
      "Collecting en-core-web-lg==3.7.1\r\n",
      "  Downloading https://github.com/explosion/spacy-models/releases/download/en_core_web_lg-3.7.1/en_core_web_lg-3.7.1-py3-none-any.whl (587.7 MB)\r\n",
      "\u001b[2K     \u001b[90m━━━━━━━━━━━━━━━━━━━━━━━━━━━━━━━━━━━━━━━\u001b[0m \u001b[32m587.7/587.7 MB\u001b[0m \u001b[31m2.2 MB/s\u001b[0m eta \u001b[36m0:00:00\u001b[0m\r\n",
      "\u001b[?25hRequirement already satisfied: spacy<3.8.0,>=3.7.2 in /opt/conda/lib/python3.10/site-packages (from en-core-web-lg==3.7.1) (3.7.2)\r\n",
      "Requirement already satisfied: spacy-legacy<3.1.0,>=3.0.11 in /opt/conda/lib/python3.10/site-packages (from spacy<3.8.0,>=3.7.2->en-core-web-lg==3.7.1) (3.0.12)\r\n",
      "Requirement already satisfied: spacy-loggers<2.0.0,>=1.0.0 in /opt/conda/lib/python3.10/site-packages (from spacy<3.8.0,>=3.7.2->en-core-web-lg==3.7.1) (1.0.5)\r\n",
      "Requirement already satisfied: murmurhash<1.1.0,>=0.28.0 in /opt/conda/lib/python3.10/site-packages (from spacy<3.8.0,>=3.7.2->en-core-web-lg==3.7.1) (1.0.10)\r\n",
      "Requirement already satisfied: cymem<2.1.0,>=2.0.2 in /opt/conda/lib/python3.10/site-packages (from spacy<3.8.0,>=3.7.2->en-core-web-lg==3.7.1) (2.0.8)\r\n",
      "Requirement already satisfied: preshed<3.1.0,>=3.0.2 in /opt/conda/lib/python3.10/site-packages (from spacy<3.8.0,>=3.7.2->en-core-web-lg==3.7.1) (3.0.9)\r\n",
      "Requirement already satisfied: thinc<8.3.0,>=8.1.8 in /opt/conda/lib/python3.10/site-packages (from spacy<3.8.0,>=3.7.2->en-core-web-lg==3.7.1) (8.2.1)\r\n",
      "Requirement already satisfied: wasabi<1.2.0,>=0.9.1 in /opt/conda/lib/python3.10/site-packages (from spacy<3.8.0,>=3.7.2->en-core-web-lg==3.7.1) (1.1.2)\r\n",
      "Requirement already satisfied: srsly<3.0.0,>=2.4.3 in /opt/conda/lib/python3.10/site-packages (from spacy<3.8.0,>=3.7.2->en-core-web-lg==3.7.1) (2.4.8)\r\n",
      "Requirement already satisfied: catalogue<2.1.0,>=2.0.6 in /opt/conda/lib/python3.10/site-packages (from spacy<3.8.0,>=3.7.2->en-core-web-lg==3.7.1) (2.0.10)\r\n",
      "Requirement already satisfied: weasel<0.4.0,>=0.1.0 in /opt/conda/lib/python3.10/site-packages (from spacy<3.8.0,>=3.7.2->en-core-web-lg==3.7.1) (0.3.4)\r\n",
      "Requirement already satisfied: typer<0.10.0,>=0.3.0 in /opt/conda/lib/python3.10/site-packages (from spacy<3.8.0,>=3.7.2->en-core-web-lg==3.7.1) (0.9.0)\r\n",
      "Requirement already satisfied: smart-open<7.0.0,>=5.2.1 in /opt/conda/lib/python3.10/site-packages (from spacy<3.8.0,>=3.7.2->en-core-web-lg==3.7.1) (6.3.0)\r\n",
      "Requirement already satisfied: tqdm<5.0.0,>=4.38.0 in /opt/conda/lib/python3.10/site-packages (from spacy<3.8.0,>=3.7.2->en-core-web-lg==3.7.1) (4.66.1)\r\n",
      "Requirement already satisfied: requests<3.0.0,>=2.13.0 in /opt/conda/lib/python3.10/site-packages (from spacy<3.8.0,>=3.7.2->en-core-web-lg==3.7.1) (2.31.0)\r\n",
      "Requirement already satisfied: pydantic!=1.8,!=1.8.1,<3.0.0,>=1.7.4 in /opt/conda/lib/python3.10/site-packages (from spacy<3.8.0,>=3.7.2->en-core-web-lg==3.7.1) (1.10.12)\r\n",
      "Requirement already satisfied: jinja2 in /opt/conda/lib/python3.10/site-packages (from spacy<3.8.0,>=3.7.2->en-core-web-lg==3.7.1) (3.1.2)\r\n",
      "Requirement already satisfied: setuptools in /opt/conda/lib/python3.10/site-packages (from spacy<3.8.0,>=3.7.2->en-core-web-lg==3.7.1) (68.1.2)\r\n",
      "Requirement already satisfied: packaging>=20.0 in /opt/conda/lib/python3.10/site-packages (from spacy<3.8.0,>=3.7.2->en-core-web-lg==3.7.1) (21.3)\r\n",
      "Requirement already satisfied: langcodes<4.0.0,>=3.2.0 in /opt/conda/lib/python3.10/site-packages (from spacy<3.8.0,>=3.7.2->en-core-web-lg==3.7.1) (3.3.0)\r\n",
      "Requirement already satisfied: numpy>=1.19.0 in /opt/conda/lib/python3.10/site-packages (from spacy<3.8.0,>=3.7.2->en-core-web-lg==3.7.1) (1.24.3)\r\n",
      "Requirement already satisfied: pyparsing!=3.0.5,>=2.0.2 in /opt/conda/lib/python3.10/site-packages (from packaging>=20.0->spacy<3.8.0,>=3.7.2->en-core-web-lg==3.7.1) (3.0.9)\r\n",
      "Requirement already satisfied: typing-extensions>=4.2.0 in /opt/conda/lib/python3.10/site-packages (from pydantic!=1.8,!=1.8.1,<3.0.0,>=1.7.4->spacy<3.8.0,>=3.7.2->en-core-web-lg==3.7.1) (4.5.0)\r\n",
      "Requirement already satisfied: charset-normalizer<4,>=2 in /opt/conda/lib/python3.10/site-packages (from requests<3.0.0,>=2.13.0->spacy<3.8.0,>=3.7.2->en-core-web-lg==3.7.1) (3.2.0)\r\n",
      "Requirement already satisfied: idna<4,>=2.5 in /opt/conda/lib/python3.10/site-packages (from requests<3.0.0,>=2.13.0->spacy<3.8.0,>=3.7.2->en-core-web-lg==3.7.1) (3.4)\r\n",
      "Requirement already satisfied: urllib3<3,>=1.21.1 in /opt/conda/lib/python3.10/site-packages (from requests<3.0.0,>=2.13.0->spacy<3.8.0,>=3.7.2->en-core-web-lg==3.7.1) (1.26.15)\r\n",
      "Requirement already satisfied: certifi>=2017.4.17 in /opt/conda/lib/python3.10/site-packages (from requests<3.0.0,>=2.13.0->spacy<3.8.0,>=3.7.2->en-core-web-lg==3.7.1) (2023.11.17)\r\n",
      "Requirement already satisfied: blis<0.8.0,>=0.7.8 in /opt/conda/lib/python3.10/site-packages (from thinc<8.3.0,>=8.1.8->spacy<3.8.0,>=3.7.2->en-core-web-lg==3.7.1) (0.7.10)\r\n",
      "Requirement already satisfied: confection<1.0.0,>=0.0.1 in /opt/conda/lib/python3.10/site-packages (from thinc<8.3.0,>=8.1.8->spacy<3.8.0,>=3.7.2->en-core-web-lg==3.7.1) (0.1.4)\r\n",
      "Requirement already satisfied: click<9.0.0,>=7.1.1 in /opt/conda/lib/python3.10/site-packages (from typer<0.10.0,>=0.3.0->spacy<3.8.0,>=3.7.2->en-core-web-lg==3.7.1) (8.1.7)\r\n",
      "Requirement already satisfied: cloudpathlib<0.17.0,>=0.7.0 in /opt/conda/lib/python3.10/site-packages (from weasel<0.4.0,>=0.1.0->spacy<3.8.0,>=3.7.2->en-core-web-lg==3.7.1) (0.16.0)\r\n",
      "Requirement already satisfied: MarkupSafe>=2.0 in /opt/conda/lib/python3.10/site-packages (from jinja2->spacy<3.8.0,>=3.7.2->en-core-web-lg==3.7.1) (2.1.3)\r\n",
      "\u001b[38;5;2m✔ Download and installation successful\u001b[0m\r\n",
      "You can now load the package via spacy.load('en_core_web_lg')\r\n"
     ]
    }
   ],
   "source": [
    "!pip install transformers\n",
    "!pip install accelerate\n",
    "!pip install seqeval\n",
    "#!pip install datasets\n",
    "!python3 -m spacy download en_core_web_lg"
   ]
  },
  {
   "cell_type": "code",
   "execution_count": 4,
   "id": "8dea104a",
   "metadata": {
    "execution": {
     "iopub.execute_input": "2023-12-18T13:07:06.227152Z",
     "iopub.status.busy": "2023-12-18T13:07:06.226769Z",
     "iopub.status.idle": "2023-12-18T13:07:29.122263Z",
     "shell.execute_reply": "2023-12-18T13:07:29.121295Z"
    },
    "executionInfo": {
     "elapsed": 17390,
     "status": "ok",
     "timestamp": 1702304140649,
     "user": {
      "displayName": "CRISTIAN BASSOTTO",
      "userId": "15677203551744756266"
     },
     "user_tz": -60
    },
    "id": "VCMzJGrR4kv3",
    "papermill": {
     "duration": 22.93626,
     "end_time": "2023-12-18T13:07:29.124587",
     "exception": false,
     "start_time": "2023-12-18T13:07:06.188327",
     "status": "completed"
    },
    "tags": []
   },
   "outputs": [
    {
     "name": "stderr",
     "output_type": "stream",
     "text": [
      "/opt/conda/lib/python3.10/site-packages/scipy/__init__.py:146: UserWarning: A NumPy version >=1.16.5 and <1.23.0 is required for this version of SciPy (detected version 1.24.3\n",
      "  warnings.warn(f\"A NumPy version >={np_minversion} and <{np_maxversion}\"\n"
     ]
    }
   ],
   "source": [
    "import pandas as pd\n",
    "import numpy as np\n",
    "from tqdm import tqdm\n",
    "import torch\n",
    "from transformers import TrainingArguments, Trainer\n",
    "from transformers import BertForTokenClassification, BertTokenizerFast, BertConfig\n",
    "from transformers import RobertaForTokenClassification, RobertaTokenizerFast, RobertaConfig\n",
    "from transformers import XLNetForTokenClassification, XLNetTokenizerFast, XLNetConfig\n",
    "from transformers import XLMForTokenClassification, XLMRobertaTokenizerFast, XLMConfig\n",
    "from transformers import DistilBertForTokenClassification, DistilBertTokenizerFast, DistilBertConfig\n",
    "from transformers import AlbertForTokenClassification, AlbertTokenizerFast, AlbertConfig\n",
    "from transformers import AdamW\n",
    "from transformers import EarlyStoppingCallback, IntervalStrategy\n",
    "from torch.utils.data import DataLoader, TensorDataset, RandomSampler, Dataset\n",
    "from sklearn.preprocessing import MultiLabelBinarizer\n",
    "from sklearn.metrics import recall_score, precision_score, f1_score\n",
    "from torch import cuda\n",
    "from sklearn.metrics import confusion_matrix\n",
    "from seqeval.metrics import  classification_report, accuracy_score, f1_score, precision_score, recall_score\n",
    "from sklearn.preprocessing import normalize\n",
    "from itertools import product\n",
    "import json\n",
    "import shutil\n",
    "\n",
    "import matplotlib.pyplot as plt\n",
    "import seaborn as sns\n",
    "\n",
    "#import nltk\n",
    "\n",
    "#nltk.download('punkt')\n",
    "\n",
    "import spacy\n",
    "\n",
    "nlp = spacy.load(\"en_core_web_lg\")"
   ]
  },
  {
   "cell_type": "code",
   "execution_count": 5,
   "id": "827735b0",
   "metadata": {
    "execution": {
     "iopub.execute_input": "2023-12-18T13:07:29.249428Z",
     "iopub.status.busy": "2023-12-18T13:07:29.248436Z",
     "iopub.status.idle": "2023-12-18T13:07:29.256719Z",
     "shell.execute_reply": "2023-12-18T13:07:29.255819Z"
    },
    "executionInfo": {
     "elapsed": 25,
     "status": "ok",
     "timestamp": 1702304140649,
     "user": {
      "displayName": "CRISTIAN BASSOTTO",
      "userId": "15677203551744756266"
     },
     "user_tz": -60
    },
    "id": "XHD6GUfLmeEY",
    "papermill": {
     "duration": 0.097066,
     "end_time": "2023-12-18T13:07:29.258879",
     "exception": false,
     "start_time": "2023-12-18T13:07:29.161813",
     "status": "completed"
    },
    "tags": []
   },
   "outputs": [],
   "source": [
    "SAVE_MODEL_TO_PATH = \"./saved_models/\"\n",
    "#TRAIN_DATA_SAVE_PATH = \"utterances_tags/train.json\"\n",
    "#TEST_DATA_SAVE_PATH = \"utterances_tags/test.json\"\n",
    "#VALID_DATA_SAVE_PATH = \"utterances_tags/valid.json\"\n",
    "\n",
    "TRAIN_DATA_SAVE_PATH = \"/kaggle/input/slot-filling-words-tags/train.json\"\n",
    "TEST_DATA_SAVE_PATH = \"/kaggle/input/slot-filling-words-tags/test.json\"\n",
    "VALID_DATA_SAVE_PATH = \"/kaggle/input/slot-filling-words-tags/valid.json\"\n",
    "\n",
    "#ckpt_path = SAVE_MODEL_TO_PATH + 'checkpoint.pt'\n",
    "#best_model_path = SAVE_MODEL_TO_PATH + 'best_model.pt'\n",
    "\n",
    "best_model_path = '/kaggle/input/saved-models/2_model_slot_filling.pt'\n",
    "\n",
    "PRETRAINED_MODELS = {\n",
    "    'bert': 'bert-large-uncased',\n",
    "    'roberta': 'roberta-base',\n",
    "    'xlnet': 'xlnet-large-cased',\n",
    "    'xlm': 'xlm-mlm-en-2048',\n",
    "    'distilbert': 'distilbert-base-uncased',\n",
    "    'albert':'albert-base-v2'\n",
    "}\n",
    "\n",
    "MODEL_CLASSES = {\n",
    "    'bert' : (BertForTokenClassification, BertTokenizerFast, BertConfig),\n",
    "    'roberta' : (RobertaForTokenClassification, RobertaTokenizerFast, RobertaConfig),\n",
    "    'xlnet' : (XLNetForTokenClassification, XLNetTokenizerFast, XLNetConfig),\n",
    "    'xlm' : (XLMForTokenClassification, XLMRobertaTokenizerFast, XLMConfig),\n",
    "    'distilbert' : (DistilBertForTokenClassification, DistilBertTokenizerFast, DistilBertConfig),\n",
    "    'albert' : (AlbertForTokenClassification, AlbertTokenizerFast, AlbertConfig)\n",
    "}\n",
    "\n",
    "MODEL_TYPE = 'roberta'\n",
    "PRETRAINED_MODEL_NAME = PRETRAINED_MODELS[MODEL_TYPE]\n",
    "\n",
    "model_class, tokenizer_class, config_class = MODEL_CLASSES[MODEL_TYPE]\n",
    "\n",
    "LEARNING_RATE = 1e-5\n",
    "BATCH_SIZE = 64\n",
    "EPOCHS = 50\n",
    "WEIGHT_DECAY = 0.01"
   ]
  },
  {
   "cell_type": "markdown",
   "id": "196ac58b",
   "metadata": {
    "id": "3tzH3Ab7I1GJ",
    "papermill": {
     "duration": 0.038722,
     "end_time": "2023-12-18T13:07:29.334208",
     "exception": false,
     "start_time": "2023-12-18T13:07:29.295486",
     "status": "completed"
    },
    "tags": []
   },
   "source": [
    "## Loading preprocessed data"
   ]
  },
  {
   "cell_type": "code",
   "execution_count": 6,
   "id": "a44048f0",
   "metadata": {
    "execution": {
     "iopub.execute_input": "2023-12-18T13:07:29.420302Z",
     "iopub.status.busy": "2023-12-18T13:07:29.419506Z",
     "iopub.status.idle": "2023-12-18T13:07:29.425418Z",
     "shell.execute_reply": "2023-12-18T13:07:29.424425Z"
    },
    "executionInfo": {
     "elapsed": 413,
     "status": "ok",
     "timestamp": 1702304141039,
     "user": {
      "displayName": "CRISTIAN BASSOTTO",
      "userId": "15677203551744756266"
     },
     "user_tz": -60
    },
    "id": "Dm-Dm52gmeEa",
    "papermill": {
     "duration": 0.05054,
     "end_time": "2023-12-18T13:07:29.427463",
     "exception": false,
     "start_time": "2023-12-18T13:07:29.376923",
     "status": "completed"
    },
    "tags": []
   },
   "outputs": [],
   "source": [
    "def save_variable_to_json(variable, file_path):\n",
    "    with open(file_path, 'w') as file:\n",
    "        json.dump(variable, file)\n",
    "\n",
    "def load_variable_from_json(file_path):\n",
    "    with open(file_path, 'r') as file:\n",
    "        variable = json.load(file)\n",
    "    return variable"
   ]
  },
  {
   "cell_type": "code",
   "execution_count": 7,
   "id": "cd29e174",
   "metadata": {
    "execution": {
     "iopub.execute_input": "2023-12-18T13:07:29.505300Z",
     "iopub.status.busy": "2023-12-18T13:07:29.504917Z",
     "iopub.status.idle": "2023-12-18T13:07:29.796237Z",
     "shell.execute_reply": "2023-12-18T13:07:29.795123Z"
    },
    "executionInfo": {
     "elapsed": 1663,
     "status": "ok",
     "timestamp": 1702304142697,
     "user": {
      "displayName": "CRISTIAN BASSOTTO",
      "userId": "15677203551744756266"
     },
     "user_tz": -60
    },
    "id": "9La38LT64kwA",
    "outputId": "cff08976-d44d-41cf-d85e-423abdccdeca",
    "papermill": {
     "duration": 0.332399,
     "end_time": "2023-12-18T13:07:29.798561",
     "exception": false,
     "start_time": "2023-12-18T13:07:29.466162",
     "status": "completed"
    },
    "tags": []
   },
   "outputs": [
    {
     "name": "stdout",
     "output_type": "stream",
     "text": [
      "Data loaded from file.\n"
     ]
    }
   ],
   "source": [
    "try:\n",
    "    X_train, y_train = load_variable_from_json(TRAIN_DATA_SAVE_PATH)\n",
    "    X_test, y_test = load_variable_from_json(TEST_DATA_SAVE_PATH)\n",
    "    X_valid, y_valid = load_variable_from_json(VALID_DATA_SAVE_PATH)\n",
    "\n",
    "    print('Data loaded from file.')\n",
    "except:\n",
    "    print('No saved data found.')"
   ]
  },
  {
   "cell_type": "code",
   "execution_count": 8,
   "id": "b3c9a104",
   "metadata": {
    "execution": {
     "iopub.execute_input": "2023-12-18T13:07:29.878477Z",
     "iopub.status.busy": "2023-12-18T13:07:29.878043Z",
     "iopub.status.idle": "2023-12-18T13:07:29.941807Z",
     "shell.execute_reply": "2023-12-18T13:07:29.940892Z"
    },
    "executionInfo": {
     "elapsed": 3,
     "status": "ok",
     "timestamp": 1702306060867,
     "user": {
      "displayName": "CRISTIAN BASSOTTO",
      "userId": "15677203551744756266"
     },
     "user_tz": -60
    },
    "id": "ExoqLooUFnlJ",
    "outputId": "b1076b6d-7ba9-44cd-a6e8-500525d18404",
    "papermill": {
     "duration": 0.106559,
     "end_time": "2023-12-18T13:07:29.944001",
     "exception": false,
     "start_time": "2023-12-18T13:07:29.837442",
     "status": "completed"
    },
    "tags": []
   },
   "outputs": [
    {
     "name": "stdout",
     "output_type": "stream",
     "text": [
      "Longest utterance length: 60\n",
      "Number of labels: 30\n",
      "Labels: ['B-hotel-area', 'B-hotel-bookday', 'B-hotel-bookpeople', 'B-hotel-bookstay', 'B-hotel-name', 'B-hotel-pricerange', 'B-hotel-stars', 'B-hotel-type', 'B-restaurant-area', 'B-restaurant-bookday', 'B-restaurant-bookpeople', 'B-restaurant-booktime', 'B-restaurant-food', 'B-restaurant-name', 'B-restaurant-pricerange', 'I-hotel-area', 'I-hotel-bookday', 'I-hotel-bookpeople', 'I-hotel-bookstay', 'I-hotel-name', 'I-hotel-pricerange', 'I-hotel-type', 'I-restaurant-area', 'I-restaurant-bookday', 'I-restaurant-bookpeople', 'I-restaurant-booktime', 'I-restaurant-food', 'I-restaurant-name', 'I-restaurant-pricerange', 'O']\n",
      "tag2index: {'B-hotel-area': 0, 'B-hotel-bookday': 1, 'B-hotel-bookpeople': 2, 'B-hotel-bookstay': 3, 'B-hotel-name': 4, 'B-hotel-pricerange': 5, 'B-hotel-stars': 6, 'B-hotel-type': 7, 'B-restaurant-area': 8, 'B-restaurant-bookday': 9, 'B-restaurant-bookpeople': 10, 'B-restaurant-booktime': 11, 'B-restaurant-food': 12, 'B-restaurant-name': 13, 'B-restaurant-pricerange': 14, 'I-hotel-area': 15, 'I-hotel-bookday': 16, 'I-hotel-bookpeople': 17, 'I-hotel-bookstay': 18, 'I-hotel-name': 19, 'I-hotel-pricerange': 20, 'I-hotel-type': 21, 'I-restaurant-area': 22, 'I-restaurant-bookday': 23, 'I-restaurant-bookpeople': 24, 'I-restaurant-booktime': 25, 'I-restaurant-food': 26, 'I-restaurant-name': 27, 'I-restaurant-pricerange': 28, 'O': 29}\n",
      "index2tag: {0: 'B-hotel-area', 1: 'B-hotel-bookday', 2: 'B-hotel-bookpeople', 3: 'B-hotel-bookstay', 4: 'B-hotel-name', 5: 'B-hotel-pricerange', 6: 'B-hotel-stars', 7: 'B-hotel-type', 8: 'B-restaurant-area', 9: 'B-restaurant-bookday', 10: 'B-restaurant-bookpeople', 11: 'B-restaurant-booktime', 12: 'B-restaurant-food', 13: 'B-restaurant-name', 14: 'B-restaurant-pricerange', 15: 'I-hotel-area', 16: 'I-hotel-bookday', 17: 'I-hotel-bookpeople', 18: 'I-hotel-bookstay', 19: 'I-hotel-name', 20: 'I-hotel-pricerange', 21: 'I-hotel-type', 22: 'I-restaurant-area', 23: 'I-restaurant-bookday', 24: 'I-restaurant-bookpeople', 25: 'I-restaurant-booktime', 26: 'I-restaurant-food', 27: 'I-restaurant-name', 28: 'I-restaurant-pricerange', 29: 'O'}\n"
     ]
    }
   ],
   "source": [
    "longest_train_data = max(X_train + X_test + X_valid, key=lambda x: len(x))\n",
    "print('Longest utterance length:', len(longest_train_data))\n",
    "\n",
    "num_labels = len(set([act for act_list in y_train for act in act_list ]))\n",
    "print('Number of labels:', num_labels)\n",
    "\n",
    "all_labels = sorted(set([act for act_list in y_train for act in act_list ]))\n",
    "print('Labels:', all_labels)\n",
    "\n",
    "tag2index = {tag: i for i, tag in enumerate(all_labels)}\n",
    "index2tag = {i: tag for tag, i in tag2index.items()}\n",
    "\n",
    "print(\"tag2index:\", tag2index)\n",
    "print(\"index2tag:\", index2tag)\n"
   ]
  },
  {
   "cell_type": "markdown",
   "id": "ce7dba14",
   "metadata": {
    "papermill": {
     "duration": 0.038796,
     "end_time": "2023-12-18T13:07:30.021852",
     "exception": false,
     "start_time": "2023-12-18T13:07:29.983056",
     "status": "completed"
    },
    "tags": []
   },
   "source": [
    "## Tokenizing and creating dataloader"
   ]
  },
  {
   "cell_type": "code",
   "execution_count": 9,
   "id": "86545962",
   "metadata": {
    "execution": {
     "iopub.execute_input": "2023-12-18T13:07:30.098943Z",
     "iopub.status.busy": "2023-12-18T13:07:30.098076Z",
     "iopub.status.idle": "2023-12-18T13:07:35.385027Z",
     "shell.execute_reply": "2023-12-18T13:07:35.384220Z"
    },
    "executionInfo": {
     "elapsed": 677,
     "status": "ok",
     "timestamp": 1702304143711,
     "user": {
      "displayName": "CRISTIAN BASSOTTO",
      "userId": "15677203551744756266"
     },
     "user_tz": -60
    },
    "id": "DxhfkAze4kwC",
    "outputId": "83d03ef7-d777-4fcf-ab8e-2e4ad5a7cbc1",
    "papermill": {
     "duration": 5.328112,
     "end_time": "2023-12-18T13:07:35.387451",
     "exception": false,
     "start_time": "2023-12-18T13:07:30.059339",
     "status": "completed"
    },
    "tags": []
   },
   "outputs": [
    {
     "data": {
      "application/vnd.jupyter.widget-view+json": {
       "model_id": "a68ca722f82f40ce86b7adfab506d269",
       "version_major": 2,
       "version_minor": 0
      },
      "text/plain": [
       "vocab.json:   0%|          | 0.00/899k [00:00<?, ?B/s]"
      ]
     },
     "metadata": {},
     "output_type": "display_data"
    },
    {
     "data": {
      "application/vnd.jupyter.widget-view+json": {
       "model_id": "2293eec3cc9e4d0d9cb0fee41b7ac596",
       "version_major": 2,
       "version_minor": 0
      },
      "text/plain": [
       "merges.txt:   0%|          | 0.00/456k [00:00<?, ?B/s]"
      ]
     },
     "metadata": {},
     "output_type": "display_data"
    },
    {
     "data": {
      "application/vnd.jupyter.widget-view+json": {
       "model_id": "90ae26a42e934a53ae282db3d4a1a1e6",
       "version_major": 2,
       "version_minor": 0
      },
      "text/plain": [
       "tokenizer.json:   0%|          | 0.00/1.36M [00:00<?, ?B/s]"
      ]
     },
     "metadata": {},
     "output_type": "display_data"
    },
    {
     "data": {
      "application/vnd.jupyter.widget-view+json": {
       "model_id": "45eae2668c53410c80f04d6cec89fec7",
       "version_major": 2,
       "version_minor": 0
      },
      "text/plain": [
       "config.json:   0%|          | 0.00/481 [00:00<?, ?B/s]"
      ]
     },
     "metadata": {},
     "output_type": "display_data"
    }
   ],
   "source": [
    "# Load the pre-trained BERT model and tokenizer\n",
    "tokenizer = tokenizer_class.from_pretrained(PRETRAINED_MODEL_NAME, add_prefix_space=True)"
   ]
  },
  {
   "cell_type": "code",
   "execution_count": 10,
   "id": "efe1d266",
   "metadata": {
    "execution": {
     "iopub.execute_input": "2023-12-18T13:07:35.466414Z",
     "iopub.status.busy": "2023-12-18T13:07:35.465622Z",
     "iopub.status.idle": "2023-12-18T13:07:35.480575Z",
     "shell.execute_reply": "2023-12-18T13:07:35.479532Z"
    },
    "executionInfo": {
     "elapsed": 9,
     "status": "ok",
     "timestamp": 1702304143712,
     "user": {
      "displayName": "CRISTIAN BASSOTTO",
      "userId": "15677203551744756266"
     },
     "user_tz": -60
    },
    "id": "6COYaAPC4kv9",
    "outputId": "4bb4ffeb-78e6-465b-b139-0913eb7a6a12",
    "papermill": {
     "duration": 0.056957,
     "end_time": "2023-12-18T13:07:35.482802",
     "exception": false,
     "start_time": "2023-12-18T13:07:35.425845",
     "status": "completed"
    },
    "tags": []
   },
   "outputs": [
    {
     "name": "stdout",
     "output_type": "stream",
     "text": [
      "Longest tokenized utterance length: 78\n",
      "Longest tokenized utterance: ['ĠHotel', '-', 'In', 'form', 'Ġ|', 'ĠHotel', '-', 'In', 'form', 'Ġ,', 'ĠHotel', '-', 'Request', 'Ġ|', 'ĠHotel', '-', 'In', 'form', 'Ġ,', 'ĠHotel', '-', 'Request', 'Ġ,', 'ĠRestaurant', '-', 'In', 'form', 'Ġ|', 'ĠI', 'Ġwant', 'Ġch', 'inese', 'Ġfood', 'Ġin', 'Ġcheap', 'Ġprice', 'Ġrange', 'Ġin', 'Ġwest', 'Ġside', 'Ġof', 'Ġtown', 'Ġ.', 'Ġa', 'Ġ3', 'Ġstar', 'Ġhotel', 'Ġthat', 'Ġbe', 'Ġexpensive', 'Ġwest', 'Ġside', 'Ġof', 'Ġtown', 'Ġ.', 'Ġa', 'Ġ3', 'Ġstar', 'Ġhotel', 'Ġthat', 'Ġbe', 'Ġexpensive', 'Ġand', 'Ġinclude', 'Ġwifi', 'Ġ.', 'Ġalso', 'Ġthe', 'Ġhotel', 'Ġaddress', 'Ġ,', 'Ġarea', 'Ġ,', 'Ġand', 'Ġpost', 'code', 'Ġplease', 'Ġ.']\n",
      "Max chosen length: 128\n"
     ]
    }
   ],
   "source": [
    "longest_tokenized_train_data = []\n",
    "for word in longest_train_data:\n",
    "    tokenized_word = tokenizer.tokenize(word)\n",
    "    longest_tokenized_train_data.extend(tokenized_word)\n",
    "\n",
    "print('Longest tokenized utterance length:', len(longest_tokenized_train_data))\n",
    "print('Longest tokenized utterance:', longest_tokenized_train_data)\n",
    "\n",
    "max_length = min(2 ** (len(longest_tokenized_train_data)-1).bit_length(), 512)\n",
    "print('Max chosen length:', max_length)\n",
    "\n"
   ]
  },
  {
   "cell_type": "code",
   "execution_count": 11,
   "id": "c0279437",
   "metadata": {
    "execution": {
     "iopub.execute_input": "2023-12-18T13:07:35.563219Z",
     "iopub.status.busy": "2023-12-18T13:07:35.562874Z",
     "iopub.status.idle": "2023-12-18T13:07:35.572814Z",
     "shell.execute_reply": "2023-12-18T13:07:35.571819Z"
    },
    "executionInfo": {
     "elapsed": 7,
     "status": "ok",
     "timestamp": 1702304143712,
     "user": {
      "displayName": "CRISTIAN BASSOTTO",
      "userId": "15677203551744756266"
     },
     "user_tz": -60
    },
    "id": "MN90sZDk4kwC",
    "papermill": {
     "duration": 0.05308,
     "end_time": "2023-12-18T13:07:35.574811",
     "exception": false,
     "start_time": "2023-12-18T13:07:35.521731",
     "status": "completed"
    },
    "tags": []
   },
   "outputs": [],
   "source": [
    "class CustomDataset(Dataset):\n",
    "    def __init__(self, X, y, tokenizer, max_length):\n",
    "        self.X = X\n",
    "        self.labels = y\n",
    "        self.tokenizer = tokenizer\n",
    "        self.max_length = max_length\n",
    "\n",
    "    def __len__(self):\n",
    "        return len(self.X)\n",
    "\n",
    "    def __getitem__(self, index):\n",
    "\n",
    "        # step 1: get the sentence and word labels        \n",
    "        sentence = self.X[index]\n",
    "        word_labels = self.labels[index]\n",
    "\n",
    "        # step 2: use tokenizer to encode sentence (includes padding/truncation up to max length)\n",
    "        # BertTokenizerFast provides a handy \"return_offsets_mapping\" functionality for individual tokens\n",
    "        encoding = self.tokenizer(sentence,\n",
    "                             is_split_into_words=True,\n",
    "                             return_offsets_mapping=True,\n",
    "                             padding='max_length',\n",
    "                             truncation=True,\n",
    "                             max_length=self.max_length)\n",
    "\n",
    "        # step 3: create token labels only for first word pieces of each tokenized word\n",
    "        labels = [tag2index[label] for label in word_labels]\n",
    "\n",
    "        # code based on https://huggingface.co/transformers/custom_datasets.html#tok-ner\n",
    "        # create an empty array of -100 of length max_length\n",
    "        encoded_labels = np.ones(len(encoding[\"offset_mapping\"]), dtype=int) * -100\n",
    "\n",
    "        # set only labels whose first offset position is 0 and the second is not 0\n",
    "        i = 0\n",
    "        for idx, mapping in enumerate(encoding[\"offset_mapping\"]):\n",
    "          if mapping[0] == 0 and mapping[1] != 0:\n",
    "            # overwrite label\n",
    "            encoded_labels[idx] = labels[i]\n",
    "            i += 1\n",
    "\n",
    "        # step 4: turn everything into PyTorch tensors\n",
    "        item = {key: torch.as_tensor(val) for key, val in encoding.items()}\n",
    "        item['labels'] = torch.as_tensor(encoded_labels)\n",
    "\n",
    "        return item"
   ]
  },
  {
   "cell_type": "code",
   "execution_count": 12,
   "id": "2a5208cb",
   "metadata": {
    "execution": {
     "iopub.execute_input": "2023-12-18T13:07:35.653377Z",
     "iopub.status.busy": "2023-12-18T13:07:35.652547Z",
     "iopub.status.idle": "2023-12-18T13:07:35.658791Z",
     "shell.execute_reply": "2023-12-18T13:07:35.657879Z"
    },
    "executionInfo": {
     "elapsed": 7,
     "status": "ok",
     "timestamp": 1702304143712,
     "user": {
      "displayName": "CRISTIAN BASSOTTO",
      "userId": "15677203551744756266"
     },
     "user_tz": -60
    },
    "id": "Fk9U0QEK7MNF",
    "outputId": "1cb44c39-a1ff-4200-dadc-3052ad981980",
    "papermill": {
     "duration": 0.047589,
     "end_time": "2023-12-18T13:07:35.660875",
     "exception": false,
     "start_time": "2023-12-18T13:07:35.613286",
     "status": "completed"
    },
    "tags": []
   },
   "outputs": [
    {
     "name": "stdout",
     "output_type": "stream",
     "text": [
      "Train samples:  23542\n",
      "Test samples:  2619\n",
      "Valid samples:  2668\n"
     ]
    }
   ],
   "source": [
    "# Smaller dataset to try\n",
    "p = 1\n",
    "n_train_samples = int(len(X_train) * p)\n",
    "n_test_samples = int(len(X_test) * p)\n",
    "n_valid_samples = int(len(X_valid) * p)\n",
    "\n",
    "print(\"Train samples: \", n_train_samples)\n",
    "print(\"Test samples: \", n_test_samples)\n",
    "print(\"Valid samples: \", n_valid_samples)"
   ]
  },
  {
   "cell_type": "code",
   "execution_count": 13,
   "id": "3729ad7b",
   "metadata": {
    "execution": {
     "iopub.execute_input": "2023-12-18T13:07:35.738299Z",
     "iopub.status.busy": "2023-12-18T13:07:35.737932Z",
     "iopub.status.idle": "2023-12-18T13:07:35.744042Z",
     "shell.execute_reply": "2023-12-18T13:07:35.743165Z"
    },
    "executionInfo": {
     "elapsed": 4,
     "status": "ok",
     "timestamp": 1702304143712,
     "user": {
      "displayName": "CRISTIAN BASSOTTO",
      "userId": "15677203551744756266"
     },
     "user_tz": -60
    },
    "id": "LABzcmWE4kwC",
    "papermill": {
     "duration": 0.047247,
     "end_time": "2023-12-18T13:07:35.745909",
     "exception": false,
     "start_time": "2023-12-18T13:07:35.698662",
     "status": "completed"
    },
    "tags": []
   },
   "outputs": [],
   "source": [
    "train_dataset = CustomDataset(X_train[:n_train_samples], y_train[:n_train_samples], tokenizer, max_length)\n",
    "test_dataset = CustomDataset(X_test[:n_test_samples], y_test[:n_test_samples], tokenizer, max_length)\n",
    "valid_dataset = CustomDataset(X_valid[:n_valid_samples], y_valid[:n_valid_samples], tokenizer, max_length)"
   ]
  },
  {
   "cell_type": "code",
   "execution_count": 14,
   "id": "186f2c68",
   "metadata": {
    "execution": {
     "iopub.execute_input": "2023-12-18T13:07:35.824453Z",
     "iopub.status.busy": "2023-12-18T13:07:35.823340Z",
     "iopub.status.idle": "2023-12-18T13:07:35.828775Z",
     "shell.execute_reply": "2023-12-18T13:07:35.827995Z"
    },
    "executionInfo": {
     "elapsed": 429,
     "status": "ok",
     "timestamp": 1702304144137,
     "user": {
      "displayName": "CRISTIAN BASSOTTO",
      "userId": "15677203551744756266"
     },
     "user_tz": -60
    },
    "id": "bpoi3YTp7Wew",
    "papermill": {
     "duration": 0.046456,
     "end_time": "2023-12-18T13:07:35.830699",
     "exception": false,
     "start_time": "2023-12-18T13:07:35.784243",
     "status": "completed"
    },
    "tags": []
   },
   "outputs": [],
   "source": [
    "train_dataloader = DataLoader(train_dataset, batch_size=BATCH_SIZE, shuffle=True)\n",
    "valid_dataloader = DataLoader(valid_dataset, batch_size=BATCH_SIZE, shuffle=True)\n",
    "test_dataloader = DataLoader(test_dataset, batch_size=BATCH_SIZE, shuffle=False)"
   ]
  },
  {
   "cell_type": "code",
   "execution_count": 15,
   "id": "755b4211",
   "metadata": {
    "execution": {
     "iopub.execute_input": "2023-12-18T13:07:35.909521Z",
     "iopub.status.busy": "2023-12-18T13:07:35.909116Z",
     "iopub.status.idle": "2023-12-18T13:07:35.914033Z",
     "shell.execute_reply": "2023-12-18T13:07:35.913208Z"
    },
    "executionInfo": {
     "elapsed": 6,
     "status": "ok",
     "timestamp": 1702304144137,
     "user": {
      "displayName": "CRISTIAN BASSOTTO",
      "userId": "15677203551744756266"
     },
     "user_tz": -60
    },
    "id": "RgB5SL6JmeEi",
    "outputId": "1aff65f6-6c2a-4b83-b943-d50141600c25",
    "papermill": {
     "duration": 0.047063,
     "end_time": "2023-12-18T13:07:35.916244",
     "exception": false,
     "start_time": "2023-12-18T13:07:35.869181",
     "status": "completed"
    },
    "tags": []
   },
   "outputs": [
    {
     "name": "stdout",
     "output_type": "stream",
     "text": [
      "cuda\n"
     ]
    }
   ],
   "source": [
    "device = 'cuda' if cuda.is_available() else 'cpu'\n",
    "print(device)"
   ]
  },
  {
   "cell_type": "markdown",
   "id": "8a32f85e",
   "metadata": {
    "papermill": {
     "duration": 0.038061,
     "end_time": "2023-12-18T13:07:35.991506",
     "exception": false,
     "start_time": "2023-12-18T13:07:35.953445",
     "status": "completed"
    },
    "tags": []
   },
   "source": [
    "## Defining model and training"
   ]
  },
  {
   "cell_type": "code",
   "execution_count": 16,
   "id": "9da17250",
   "metadata": {
    "execution": {
     "iopub.execute_input": "2023-12-18T13:07:36.071032Z",
     "iopub.status.busy": "2023-12-18T13:07:36.070606Z",
     "iopub.status.idle": "2023-12-18T13:07:36.076353Z",
     "shell.execute_reply": "2023-12-18T13:07:36.075473Z"
    },
    "executionInfo": {
     "elapsed": 3,
     "status": "ok",
     "timestamp": 1702304144137,
     "user": {
      "displayName": "CRISTIAN BASSOTTO",
      "userId": "15677203551744756266"
     },
     "user_tz": -60
    },
    "id": "nqy56vk6meEj",
    "papermill": {
     "duration": 0.048434,
     "end_time": "2023-12-18T13:07:36.078491",
     "exception": false,
     "start_time": "2023-12-18T13:07:36.030057",
     "status": "completed"
    },
    "tags": []
   },
   "outputs": [],
   "source": [
    "def load_ckp(checkpoint_fpath, model):\n",
    "    checkpoint = torch.load(checkpoint_fpath, map_location=device)\n",
    "    model.load_state_dict(checkpoint['state_dict'])\n",
    "    index2tag = checkpoint['mlb']\n",
    "    return model, index2tag\n",
    "\n",
    "def save_ckp(state,  best_model_path):\n",
    "    torch.save(state, best_model_path)\n"
   ]
  },
  {
   "cell_type": "code",
   "execution_count": 17,
   "id": "73abf1ad",
   "metadata": {
    "execution": {
     "iopub.execute_input": "2023-12-18T13:07:36.158422Z",
     "iopub.status.busy": "2023-12-18T13:07:36.157711Z",
     "iopub.status.idle": "2023-12-18T13:07:55.526541Z",
     "shell.execute_reply": "2023-12-18T13:07:55.525378Z"
    },
    "executionInfo": {
     "elapsed": 24690,
     "status": "ok",
     "timestamp": 1702304168824,
     "user": {
      "displayName": "CRISTIAN BASSOTTO",
      "userId": "15677203551744756266"
     },
     "user_tz": -60
    },
    "id": "2CZvhR2LmeEj",
    "outputId": "872a3829-05e8-4992-95a5-f9c9a1d56b11",
    "papermill": {
     "duration": 19.411423,
     "end_time": "2023-12-18T13:07:55.529073",
     "exception": false,
     "start_time": "2023-12-18T13:07:36.117650",
     "status": "completed"
    },
    "tags": []
   },
   "outputs": [
    {
     "data": {
      "application/vnd.jupyter.widget-view+json": {
       "model_id": "54712121939549c78f5e987ab926c10f",
       "version_major": 2,
       "version_minor": 0
      },
      "text/plain": [
       "model.safetensors:   0%|          | 0.00/499M [00:00<?, ?B/s]"
      ]
     },
     "metadata": {},
     "output_type": "display_data"
    },
    {
     "name": "stderr",
     "output_type": "stream",
     "text": [
      "Some weights of RobertaForTokenClassification were not initialized from the model checkpoint at roberta-base and are newly initialized: ['classifier.weight', 'classifier.bias']\n",
      "You should probably TRAIN this model on a down-stream task to be able to use it for predictions and inference.\n"
     ]
    }
   ],
   "source": [
    "model = model_class.from_pretrained(PRETRAINED_MODEL_NAME,  num_labels=num_labels)\n",
    "model = model.to(device)"
   ]
  },
  {
   "cell_type": "code",
   "execution_count": 18,
   "id": "4b003413",
   "metadata": {
    "execution": {
     "iopub.execute_input": "2023-12-18T13:07:55.622644Z",
     "iopub.status.busy": "2023-12-18T13:07:55.620086Z",
     "iopub.status.idle": "2023-12-18T13:07:55.634961Z",
     "shell.execute_reply": "2023-12-18T13:07:55.633639Z"
    },
    "executionInfo": {
     "elapsed": 19,
     "status": "ok",
     "timestamp": 1702304168825,
     "user": {
      "displayName": "CRISTIAN BASSOTTO",
      "userId": "15677203551744756266"
     },
     "user_tz": -60
    },
    "id": "k8FpkZPdmeEk",
    "outputId": "f905ba57-93db-4d7b-ac98-53093a99a4ca",
    "papermill": {
     "duration": 0.068762,
     "end_time": "2023-12-18T13:07:55.637218",
     "exception": false,
     "start_time": "2023-12-18T13:07:55.568456",
     "status": "completed"
    },
    "tags": []
   },
   "outputs": [
    {
     "name": "stderr",
     "output_type": "stream",
     "text": [
      "/opt/conda/lib/python3.10/site-packages/transformers/optimization.py:411: FutureWarning: This implementation of AdamW is deprecated and will be removed in a future version. Use the PyTorch implementation torch.optim.AdamW instead, or set `no_deprecation_warning=True` to disable this warning\n",
      "  warnings.warn(\n"
     ]
    }
   ],
   "source": [
    "optimizer = AdamW(model.parameters(), lr=LEARNING_RATE, weight_decay=WEIGHT_DECAY, correct_bias=False)"
   ]
  },
  {
   "cell_type": "code",
   "execution_count": 19,
   "id": "9053a521",
   "metadata": {
    "execution": {
     "iopub.execute_input": "2023-12-18T13:07:55.733262Z",
     "iopub.status.busy": "2023-12-18T13:07:55.732887Z",
     "iopub.status.idle": "2023-12-18T13:07:55.748455Z",
     "shell.execute_reply": "2023-12-18T13:07:55.747344Z"
    },
    "executionInfo": {
     "elapsed": 16,
     "status": "ok",
     "timestamp": 1702304168826,
     "user": {
      "displayName": "CRISTIAN BASSOTTO",
      "userId": "15677203551744756266"
     },
     "user_tz": -60
    },
    "id": "FGU-oD9CI1GP",
    "papermill": {
     "duration": 0.065902,
     "end_time": "2023-12-18T13:07:55.751003",
     "exception": false,
     "start_time": "2023-12-18T13:07:55.685101",
     "status": "completed"
    },
    "tags": []
   },
   "outputs": [],
   "source": [
    "def valid(model, data_loader):\n",
    "    model.eval()\n",
    "    \n",
    "    val_targets = []\n",
    "    val_outputs = []\n",
    "    \n",
    "    eval_loss, eval_accuracy = 0, 0\n",
    "    nb_eval_examples, nb_eval_steps = 0, 0\n",
    "    eval_preds, eval_labels = [], []\n",
    "\n",
    "    with torch.no_grad():\n",
    "        for batch in tqdm(data_loader):\n",
    "\n",
    "            ids = batch['input_ids'].to(device, dtype = torch.long)\n",
    "            mask = batch['attention_mask'].to(device, dtype = torch.long)\n",
    "            labels = batch['labels'].to(device, dtype = torch.long)\n",
    "\n",
    "            outputs = model(input_ids=ids, attention_mask=mask, labels=labels)\n",
    "            loss = outputs[0]\n",
    "            eval_logits = outputs[1]\n",
    "\n",
    "            eval_loss += loss.item()\n",
    "\n",
    "            nb_eval_steps += 1\n",
    "            nb_eval_examples += labels.size(0)\n",
    "\n",
    "            # if idx % 100==0:\n",
    "            #     loss_step = eval_loss/nb_eval_steps\n",
    "            #     print(f\"Validation loss per 100 evaluation steps: {loss_step}\")\n",
    "\n",
    "            # compute evaluation accuracy\n",
    "            flattened_targets = labels.view(-1) # shape (batch_size * seq_len,)\n",
    "            active_logits = eval_logits.view(-1, model.num_labels) # shape (batch_size * seq_len, num_labels)\n",
    "            flattened_predictions = torch.argmax(active_logits, axis=1) # shape (batch_size * seq_len,)\n",
    "\n",
    "            # only compute accuracy at active labels\n",
    "            active_accuracy = labels.view(-1) != -100 # shape (batch_size, seq_len)\n",
    "\n",
    "            labels = torch.masked_select(flattened_targets, active_accuracy)\n",
    "            predictions = torch.masked_select(flattened_predictions, active_accuracy)\n",
    "\n",
    "            eval_labels.extend(labels)\n",
    "            eval_preds.extend(predictions)\n",
    "\n",
    "            tmp_eval_accuracy = accuracy_score(labels.cpu().numpy(), predictions.cpu().numpy())\n",
    "            eval_accuracy += tmp_eval_accuracy\n",
    "\n",
    "    labels = [index2tag[id.item()] for id in eval_labels]\n",
    "    predictions = [index2tag[id.item()] for id in eval_preds]\n",
    "\n",
    "    eval_loss = eval_loss / nb_eval_steps\n",
    "    eval_accuracy = eval_accuracy / nb_eval_steps\n",
    "\n",
    "    return labels, predictions, eval_loss, eval_accuracy"
   ]
  },
  {
   "cell_type": "code",
   "execution_count": 20,
   "id": "16c8fcfb",
   "metadata": {
    "execution": {
     "iopub.execute_input": "2023-12-18T13:07:55.844068Z",
     "iopub.status.busy": "2023-12-18T13:07:55.843624Z",
     "iopub.status.idle": "2023-12-18T13:07:55.856975Z",
     "shell.execute_reply": "2023-12-18T13:07:55.855780Z"
    },
    "executionInfo": {
     "elapsed": 15,
     "status": "ok",
     "timestamp": 1702304168826,
     "user": {
      "displayName": "CRISTIAN BASSOTTO",
      "userId": "15677203551744756266"
     },
     "user_tz": -60
    },
    "id": "Zbzuhg4aI1GQ",
    "papermill": {
     "duration": 0.061748,
     "end_time": "2023-12-18T13:07:55.859214",
     "exception": false,
     "start_time": "2023-12-18T13:07:55.797466",
     "status": "completed"
    },
    "tags": []
   },
   "outputs": [],
   "source": [
    "def train(model, training_loader, optimizer):\n",
    "    tr_loss, tr_accuracy = 0, 0\n",
    "    nb_tr_examples, nb_tr_steps = 0, 0\n",
    "    tr_preds, tr_labels = [], []\n",
    "    # put model in training mode\n",
    "    model.train()\n",
    "    for batch in tqdm(training_loader):\n",
    "\n",
    "        ids = batch['input_ids'].to(device, dtype = torch.long)\n",
    "        mask = batch['attention_mask'].to(device, dtype = torch.long)\n",
    "        labels = batch['labels'].to(device, dtype = torch.long)\n",
    "\n",
    "        outputs = model(input_ids=ids, attention_mask=mask, labels=labels)\n",
    "        loss, tr_logits = outputs[0], outputs[1]\n",
    "        tr_loss += loss.item()\n",
    "\n",
    "        nb_tr_steps += 1\n",
    "        nb_tr_examples += labels.size(0)\n",
    "\n",
    "        # if idx % 100==0:\n",
    "        #     loss_step = tr_loss/nb_tr_steps\n",
    "        #     print(f\"Training loss per 100 training steps: {loss_step:.2f}\")\n",
    "\n",
    "        # compute training accuracy\n",
    "        flattened_targets = labels.view(-1) # shape (batch_size * seq_len,)\n",
    "        active_logits = tr_logits.view(-1, model.num_labels) # shape (batch_size * seq_len, num_labels)\n",
    "        flattened_predictions = torch.argmax(active_logits, axis=1) # shape (batch_size * seq_len,)\n",
    "\n",
    "        # only compute accuracy at active labels\n",
    "        active_accuracy = labels.view(-1) != -100 # shape (batch_size, seq_len)\n",
    "        #active_labels = torch.where(active_accuracy, labels.view(-1), torch.tensor(-100).type_as(labels))\n",
    "\n",
    "        labels = torch.masked_select(flattened_targets, active_accuracy)\n",
    "        predictions = torch.masked_select(flattened_predictions, active_accuracy)\n",
    "\n",
    "        tr_labels.extend(labels)\n",
    "        tr_preds.extend(predictions)\n",
    "\n",
    "        tmp_tr_accuracy = accuracy_score(labels.cpu().numpy(), predictions.cpu().numpy())\n",
    "        tr_accuracy += tmp_tr_accuracy\n",
    "\n",
    "        # gradient clipping\n",
    "        torch.nn.utils.clip_grad_norm_(\n",
    "            parameters=model.parameters(), max_norm=10\n",
    "        )\n",
    "\n",
    "        # backward pass\n",
    "        optimizer.zero_grad()\n",
    "        loss.backward()\n",
    "        optimizer.step()\n",
    "\n",
    "    epoch_loss = tr_loss / nb_tr_steps\n",
    "    tr_accuracy = tr_accuracy / nb_tr_steps\n",
    "\n",
    "    return epoch_loss, tr_accuracy"
   ]
  },
  {
   "cell_type": "code",
   "execution_count": 21,
   "id": "0279110d",
   "metadata": {
    "execution": {
     "iopub.execute_input": "2023-12-18T13:07:55.954687Z",
     "iopub.status.busy": "2023-12-18T13:07:55.953688Z",
     "iopub.status.idle": "2023-12-18T13:07:55.964689Z",
     "shell.execute_reply": "2023-12-18T13:07:55.963472Z"
    },
    "executionInfo": {
     "elapsed": 15,
     "status": "ok",
     "timestamp": 1702304168827,
     "user": {
      "displayName": "CRISTIAN BASSOTTO",
      "userId": "15677203551744756266"
     },
     "user_tz": -60
    },
    "id": "yYxcyQT3meEk",
    "papermill": {
     "duration": 0.061405,
     "end_time": "2023-12-18T13:07:55.966971",
     "exception": false,
     "start_time": "2023-12-18T13:07:55.905566",
     "status": "completed"
    },
    "tags": []
   },
   "outputs": [],
   "source": [
    "def train_model(num_epochs, train_dataloader, valid_dataloader, model, optimizer, best_model_path, patience = 1):\n",
    "    valid_loss_min = np.Inf\n",
    "    \n",
    "    num_not_improved = 0\n",
    "    for epoch in range(1, num_epochs+1):\n",
    "        train_loss = 0.0\n",
    "        valid_loss = 0.0\n",
    "\n",
    "        print(\"#################### Epoch {}: Training Start    ####################\".format(epoch))\n",
    "\n",
    "        train_loss, train_accuracy = train( model, train_dataloader, optimizer)\n",
    "\n",
    "        print(\"#################### Epoch {}: Training End      ####################\".format(epoch))\n",
    "\n",
    "        print()\n",
    "        print(\"#################### Epoch {}: Validation Start ####################\".format(epoch))\n",
    "\n",
    "        valid_labels, valid_predictions, valid_loss, valid_accuracy = valid(model, valid_dataloader)\n",
    "\n",
    "        print(\"#################### Epoch {}: Validation End   ####################\".format(epoch))\n",
    "        print()\n",
    "        print('Epoch: {} \\tTraining Loss: {:.6f} \\tTraining Accuracy: {:.6f}'.format(epoch, train_loss, train_accuracy))\n",
    "        print('Epoch: {} \\tValidation Loss: {:.6f} \\tValidation Accuracy: {:.6f}'.format(epoch, valid_loss, valid_accuracy))\n",
    "\n",
    "        if valid_loss <= valid_loss_min:\n",
    "            print('Validation loss decreased ({:.6f} --> {:.6f}).  Saving model ...'.format(valid_loss_min, valid_loss))\n",
    "\n",
    "            checkpoint = {\n",
    "                        'state_dict': model.state_dict(),\n",
    "                        'mlb' : index2tag\n",
    "                    }\n",
    "\n",
    "            save_ckp(checkpoint, best_model_path)\n",
    "            valid_loss_min = valid_loss\n",
    "            num_not_improved = 0\n",
    "        else:\n",
    "            num_not_improved += 1\n",
    "            if num_not_improved >= patience:\n",
    "                print('Not improvement for more than:', num_not_improved)\n",
    "                break\n",
    "        print()\n",
    "    print(\"#################### Training finished     ####################\")\n",
    "    return model\n"
   ]
  },
  {
   "cell_type": "code",
   "execution_count": 22,
   "id": "06c2f8c0",
   "metadata": {
    "execution": {
     "iopub.execute_input": "2023-12-18T13:07:56.061680Z",
     "iopub.status.busy": "2023-12-18T13:07:56.060327Z",
     "iopub.status.idle": "2023-12-18T13:08:00.288284Z",
     "shell.execute_reply": "2023-12-18T13:08:00.287450Z"
    },
    "executionInfo": {
     "elapsed": 1852307,
     "status": "ok",
     "timestamp": 1702306021120,
     "user": {
      "displayName": "CRISTIAN BASSOTTO",
      "userId": "15677203551744756266"
     },
     "user_tz": -60
    },
    "id": "Rcg6WbuomeEl",
    "outputId": "f31fa180-bc7f-45b7-e2af-a859cffc7442",
    "papermill": {
     "duration": 4.279159,
     "end_time": "2023-12-18T13:08:00.290718",
     "exception": false,
     "start_time": "2023-12-18T13:07:56.011559",
     "status": "completed"
    },
    "tags": []
   },
   "outputs": [],
   "source": [
    "try:\n",
    "  trained_model, index2tag = load_ckp(best_model_path, model)\n",
    "except:\n",
    "  print('Need to be trained first.')\n",
    "  trained_model = train_model(EPOCHS, train_dataloader, valid_dataloader, model, optimizer, best_model_path)\n"
   ]
  },
  {
   "cell_type": "markdown",
   "id": "97f08b6d",
   "metadata": {
    "papermill": {
     "duration": 0.038849,
     "end_time": "2023-12-18T13:08:00.369390",
     "exception": false,
     "start_time": "2023-12-18T13:08:00.330541",
     "status": "completed"
    },
    "tags": []
   },
   "source": [
    "## Evaluation on test set"
   ]
  },
  {
   "cell_type": "code",
   "execution_count": 23,
   "id": "6e0f78f9",
   "metadata": {
    "execution": {
     "iopub.execute_input": "2023-12-18T13:08:00.450268Z",
     "iopub.status.busy": "2023-12-18T13:08:00.449919Z",
     "iopub.status.idle": "2023-12-18T13:08:15.391488Z",
     "shell.execute_reply": "2023-12-18T13:08:15.390625Z"
    },
    "executionInfo": {
     "elapsed": 21637,
     "status": "ok",
     "timestamp": 1702306090467,
     "user": {
      "displayName": "CRISTIAN BASSOTTO",
      "userId": "15677203551744756266"
     },
     "user_tz": -60
    },
    "id": "SwCCxjqVHGOO",
    "papermill": {
     "duration": 14.985206,
     "end_time": "2023-12-18T13:08:15.393899",
     "exception": false,
     "start_time": "2023-12-18T13:08:00.408693",
     "status": "completed"
    },
    "tags": []
   },
   "outputs": [
    {
     "name": "stderr",
     "output_type": "stream",
     "text": [
      "100%|██████████| 41/41 [00:13<00:00,  3.00it/s]\n"
     ]
    }
   ],
   "source": [
    "test_labels, test_predictions, test_loss, test_accuracy  = valid(trained_model, test_dataloader)"
   ]
  },
  {
   "cell_type": "code",
   "execution_count": 24,
   "id": "114df19f",
   "metadata": {
    "execution": {
     "iopub.execute_input": "2023-12-18T13:08:15.483955Z",
     "iopub.status.busy": "2023-12-18T13:08:15.483036Z",
     "iopub.status.idle": "2023-12-18T13:08:17.540223Z",
     "shell.execute_reply": "2023-12-18T13:08:17.539198Z"
    },
    "executionInfo": {
     "elapsed": 2937,
     "status": "ok",
     "timestamp": 1702306142362,
     "user": {
      "displayName": "CRISTIAN BASSOTTO",
      "userId": "15677203551744756266"
     },
     "user_tz": -60
    },
    "id": "yxsuBn7pHMCR",
    "outputId": "68f0e7fc-a05e-472a-8b4c-79da1b83fa0a",
    "papermill": {
     "duration": 2.105401,
     "end_time": "2023-12-18T13:08:17.542736",
     "exception": false,
     "start_time": "2023-12-18T13:08:15.437335",
     "status": "completed"
    },
    "tags": []
   },
   "outputs": [
    {
     "name": "stdout",
     "output_type": "stream",
     "text": [
      "Accuracy: 0.991493705341953\n",
      "Precision: 0.9100077601437038\n",
      "Recall: 0.9663684048133292\n",
      "F1: 0.936880434722072\n",
      "                       precision    recall  f1-score   support\n",
      "\n",
      "           hotel-area       0.85      0.93      0.89       176\n",
      "        hotel-bookday       0.92      1.00      0.96       207\n",
      "     hotel-bookpeople       0.89      0.98      0.93       203\n",
      "       hotel-bookstay       0.97      0.97      0.97       259\n",
      "           hotel-name       0.90      0.97      0.93       137\n",
      "     hotel-pricerange       0.90      0.96      0.93       217\n",
      "          hotel-stars       0.96      0.98      0.97       190\n",
      "           hotel-type       0.74      0.88      0.81       243\n",
      "      restaurant-area       0.95      0.97      0.96       273\n",
      "   restaurant-bookday       0.92      0.99      0.96       160\n",
      "restaurant-bookpeople       0.94      1.00      0.97       177\n",
      "  restaurant-booktime       0.96      0.99      0.97       210\n",
      "      restaurant-food       0.95      0.97      0.96       379\n",
      "      restaurant-name       0.86      0.89      0.88       141\n",
      "restaurant-pricerange       0.90      0.99      0.94       269\n",
      "\n",
      "            micro avg       0.91      0.97      0.94      3241\n",
      "            macro avg       0.91      0.97      0.94      3241\n",
      "         weighted avg       0.91      0.97      0.94      3241\n",
      "\n"
     ]
    }
   ],
   "source": [
    "all_test_labels = sorted(set(test_labels))\n",
    "\n",
    "print('Accuracy:', accuracy_score([test_labels], [test_predictions]))\n",
    "print('Precision:', precision_score([test_labels], [test_predictions], average='weighted'))\n",
    "print('Recall:', recall_score([test_labels], [test_predictions], average='weighted'))\n",
    "print('F1:', f1_score([test_labels], [test_predictions], average='weighted'))\n",
    "\n",
    "report = classification_report([test_labels], [test_predictions])\n",
    "print(report)"
   ]
  },
  {
   "cell_type": "code",
   "execution_count": 25,
   "id": "1bb23b00",
   "metadata": {
    "execution": {
     "iopub.execute_input": "2023-12-18T13:08:17.633599Z",
     "iopub.status.busy": "2023-12-18T13:08:17.633191Z",
     "iopub.status.idle": "2023-12-18T13:08:17.638465Z",
     "shell.execute_reply": "2023-12-18T13:08:17.637511Z"
    },
    "papermill": {
     "duration": 0.051651,
     "end_time": "2023-12-18T13:08:17.640334",
     "exception": false,
     "start_time": "2023-12-18T13:08:17.588683",
     "status": "completed"
    },
    "tags": []
   },
   "outputs": [],
   "source": [
    "def remove_bio_tags(tags):\n",
    "    return sorted(set(tag[2:] if tag.startswith('B-') or tag.startswith('I-') else tag for tag in tags))"
   ]
  },
  {
   "cell_type": "markdown",
   "id": "5d2c3168",
   "metadata": {
    "papermill": {
     "duration": 0.045085,
     "end_time": "2023-12-18T13:08:17.728299",
     "exception": false,
     "start_time": "2023-12-18T13:08:17.683214",
     "status": "completed"
    },
    "tags": []
   },
   "source": [
    "## Confusion matrix"
   ]
  },
  {
   "cell_type": "code",
   "execution_count": 26,
   "id": "f2ed582a",
   "metadata": {
    "execution": {
     "iopub.execute_input": "2023-12-18T13:08:17.817185Z",
     "iopub.status.busy": "2023-12-18T13:08:17.816100Z",
     "iopub.status.idle": "2023-12-18T13:08:21.492613Z",
     "shell.execute_reply": "2023-12-18T13:08:21.491645Z"
    },
    "executionInfo": {
     "elapsed": 17,
     "status": "error",
     "timestamp": 1702308371016,
     "user": {
      "displayName": "CRISTIAN BASSOTTO",
      "userId": "15677203551744756266"
     },
     "user_tz": -60
    },
    "id": "NBhDbpkJHOE1",
    "outputId": "4d52ddd9-5c9d-4b5e-c6dd-3543ef093954",
    "papermill": {
     "duration": 3.724067,
     "end_time": "2023-12-18T13:08:21.495591",
     "exception": false,
     "start_time": "2023-12-18T13:08:17.771524",
     "status": "completed"
    },
    "tags": []
   },
   "outputs": [
    {
     "data": {
      "image/png": "[encoded data removed]",
      "text/plain": [
       "<Figure size 1000x800 with 2 Axes>"
      ]
     },
     "metadata": {},
     "output_type": "display_data"
    },
    {
     "data": {
      "image/png": "[encoded data removed]",
      "text/plain": [
       "<Figure size 1000x800 with 2 Axes>"
      ]
     },
     "metadata": {},
     "output_type": "display_data"
    }
   ],
   "source": [
    "no_bio_tag_test_labels = remove_bio_tags(test_labels)\n",
    "no_bio_tag_test_predictions = remove_bio_tags(test_predictions)\n",
    "no_bio_tag_all_test_labels = remove_bio_tags(all_test_labels)\n",
    "\n",
    "# Compute the confusion matrix\n",
    "confusion = confusion_matrix(no_bio_tag_test_labels, no_bio_tag_test_predictions)\n",
    "\n",
    "# Normalize by row sums (recall)\n",
    "confusion_row_norm = normalize(confusion, norm='l1', axis=1)\n",
    "\n",
    "# Normalize by column sums (precision)\n",
    "confusion_col_norm = normalize(confusion, norm='l1', axis=0)\n",
    "\n",
    "# Plotting the row-wise normalized confusion matrix\n",
    "plt.figure(figsize=(10, 8))\n",
    "sns.heatmap(confusion_row_norm, annot=True, cmap=\"Blues\", fmt=\".3f\", xticklabels=no_bio_tag_all_test_labels, yticklabels=no_bio_tag_all_test_labels)\n",
    "plt.title('Row-wise Normalized Confusion Matrix (Recall)')\n",
    "plt.ylabel('Actual Labels')\n",
    "plt.xlabel('Predicted Labels')\n",
    "plt.tight_layout()\n",
    "plt.savefig('confusion_recall_mlp.png')\n",
    "plt.show()\n",
    "\n",
    "# Plotting the column-wise normalized confusion matrix\n",
    "plt.figure(figsize=(10, 8))\n",
    "sns.heatmap(confusion_col_norm, annot=True, cmap=\"Blues\", fmt=\".3f\", xticklabels=no_bio_tag_all_test_labels, yticklabels=no_bio_tag_all_test_labels)\n",
    "plt.title('Column-wise Normalized Confusion Matrix (Precision)')\n",
    "plt.ylabel('Actual Labels')\n",
    "plt.xlabel('Predicted Labels')\n",
    "plt.tight_layout()\n",
    "plt.savefig('confusion_precision_mlp.png')\n",
    "plt.show()"
   ]
  },
  {
   "cell_type": "markdown",
   "id": "1d340ab3",
   "metadata": {
    "papermill": {
     "duration": 0.046454,
     "end_time": "2023-12-18T13:08:21.587632",
     "exception": false,
     "start_time": "2023-12-18T13:08:21.541178",
     "status": "completed"
    },
    "tags": []
   },
   "source": [
    "## Predict function"
   ]
  },
  {
   "cell_type": "code",
   "execution_count": 27,
   "id": "651a50e2",
   "metadata": {
    "execution": {
     "iopub.execute_input": "2023-12-18T13:08:21.681650Z",
     "iopub.status.busy": "2023-12-18T13:08:21.680963Z",
     "iopub.status.idle": "2023-12-18T13:08:21.686135Z",
     "shell.execute_reply": "2023-12-18T13:08:21.685213Z"
    },
    "papermill": {
     "duration": 0.054247,
     "end_time": "2023-12-18T13:08:21.688200",
     "exception": false,
     "start_time": "2023-12-18T13:08:21.633953",
     "status": "completed"
    },
    "tags": []
   },
   "outputs": [],
   "source": [
    "def parse(sentence):\n",
    "    # Tokenize\n",
    "    sentence = nlp(sentence)\n",
    "    # Remove stop words\n",
    "    sentence = \" \".join([token.lemma_ for token in sentence])\n",
    "    \n",
    "    return sentence"
   ]
  },
  {
   "cell_type": "code",
   "execution_count": 28,
   "id": "5e8cc424",
   "metadata": {
    "execution": {
     "iopub.execute_input": "2023-12-18T13:08:21.784886Z",
     "iopub.status.busy": "2023-12-18T13:08:21.784011Z",
     "iopub.status.idle": "2023-12-18T13:08:21.793912Z",
     "shell.execute_reply": "2023-12-18T13:08:21.792977Z"
    },
    "papermill": {
     "duration": 0.060148,
     "end_time": "2023-12-18T13:08:21.796001",
     "exception": false,
     "start_time": "2023-12-18T13:08:21.735853",
     "status": "completed"
    },
    "tags": []
   },
   "outputs": [],
   "source": [
    "def predict(model, tokenizer, sentence):\n",
    "    model.eval()\n",
    "    device = 'cuda' if cuda.is_available() else 'cpu'\n",
    "    words = parse(sentence).split()\n",
    "    inputs = tokenizer(words,\n",
    "                    is_split_into_words=True,\n",
    "                    return_offsets_mapping=True,\n",
    "                    padding='max_length',\n",
    "                    truncation=True,\n",
    "                    max_length=max_length,\n",
    "                    return_tensors=\"pt\")\n",
    "    # move to gpu\n",
    "    ids = inputs[\"input_ids\"].to(device)\n",
    "    mask = inputs[\"attention_mask\"].to(device)\n",
    "    # forward pass\n",
    "    outputs = model(ids, attention_mask=mask)\n",
    "    logits = outputs[0]\n",
    "\n",
    "    active_logits = logits.view(-1, model.num_labels) # shape (batch_size * seq_len, num_labels)\n",
    "    flattened_predictions = torch.argmax(active_logits, axis=1) # shape (batch_size*seq_len,) - predictions at the token level\n",
    "\n",
    "    tokens = tokenizer.convert_ids_to_tokens(ids.squeeze().tolist())\n",
    "    token_predictions = [index2tag[i] for i in flattened_predictions.cpu().numpy()]\n",
    "    wp_preds = list(zip(tokens, token_predictions)) # list of tuples. Each tuple = (wordpiece, prediction)\n",
    "\n",
    "    prediction = []\n",
    "    for token_pred, mapping in zip(wp_preds, inputs[\"offset_mapping\"].squeeze().tolist()):\n",
    "    #only predictions on first word pieces are important\n",
    "        if mapping[0] == 0 and mapping[1] != 0:\n",
    "            prediction.append(token_pred[1])\n",
    "    return words, prediction"
   ]
  }
 ],
 "metadata": {
  "accelerator": "GPU",
  "colab": {
   "gpuType": "T4",
   "provenance": []
  },
  "kaggle": {
   "accelerator": "gpu",
   "dataSources": [
    {
     "datasetId": 4150097,
     "sourceId": 7180327,
     "sourceType": "datasetVersion"
    },
    {
     "datasetId": 4172201,
     "sourceId": 7229854,
     "sourceType": "datasetVersion"
    }
   ],
   "dockerImageVersionId": 30616,
   "isGpuEnabled": true,
   "isInternetEnabled": true,
   "language": "python",
   "sourceType": "notebook"
  },
  "kernelspec": {
   "display_name": "Python 3",
   "language": "python",
   "name": "python3"
  },
  "language_info": {
   "codemirror_mode": {
    "name": "ipython",
    "version": 3
   },
   "file_extension": ".py",
   "mimetype": "text/x-python",
   "name": "python",
   "nbconvert_exporter": "python",
   "pygments_lexer": "ipython3",
   "version": "3.10.12"
  },
  "papermill": {
   "default_parameters": {},
   "duration": 156.556686,
   "end_time": "2023-12-18T13:08:25.471271",
   "environment_variables": {},
   "exception": null,
   "input_path": "__notebook__.ipynb",
   "output_path": "__notebook__.ipynb",
   "parameters": {},
   "start_time": "2023-12-18T13:05:48.914585",
   "version": "2.4.0"
  },
  "widgets": {
   "application/vnd.jupyter.widget-state+json": {
    "state": {
     "02191cb1eba44a49893b9f7a73953db5": {
      "model_module": "@jupyter-widgets/controls",
      "model_module_version": "1.5.0",
      "model_name": "FloatProgressModel",
      "state": {
       "_dom_classes": [],
       "_model_module": "@jupyter-widgets/controls",
       "_model_module_version": "1.5.0",
       "_model_name": "FloatProgressModel",
       "_view_count": null,
       "_view_module": "@jupyter-widgets/controls",
       "_view_module_version": "1.5.0",
       "_view_name": "ProgressView",
       "bar_style": "success",
       "description": "",
       "description_tooltip": null,
       "layout": "IPY_MODEL_d114120a41854d92aa145e0aed77f190",
       "max": 498818054.0,
       "min": 0.0,
       "orientation": "horizontal",
       "style": "IPY_MODEL_2a8c24058c7d4697b4bc8dc862cc3667",
       "value": 498818054.0
      }
     },
     "02bb40c41d5f4500b3219a42e7dee336": {
      "model_module": "@jupyter-widgets/base",
      "model_module_version": "1.2.0",
      "model_name": "LayoutModel",
      "state": {
       "_model_module": "@jupyter-widgets/base",
       "_model_module_version": "1.2.0",
       "_model_name": "LayoutModel",
       "_view_count": null,
       "_view_module": "@jupyter-widgets/base",
       "_view_module_version": "1.2.0",
       "_view_name": "LayoutView",
       "align_content": null,
       "align_items": null,
       "align_self": null,
       "border": null,
       "bottom": null,
       "display": null,
       "flex": null,
       "flex_flow": null,
       "grid_area": null,
       "grid_auto_columns": null,
       "grid_auto_flow": null,
       "grid_auto_rows": null,
       "grid_column": null,
       "grid_gap": null,
       "grid_row": null,
       "grid_template_areas": null,
       "grid_template_columns": null,
       "grid_template_rows": null,
       "height": null,
       "justify_content": null,
       "justify_items": null,
       "left": null,
       "margin": null,
       "max_height": null,
       "max_width": null,
       "min_height": null,
       "min_width": null,
       "object_fit": null,
       "object_position": null,
       "order": null,
       "overflow": null,
       "overflow_x": null,
       "overflow_y": null,
       "padding": null,
       "right": null,
       "top": null,
       "visibility": null,
       "width": null
      }
     },
     "03058b233016461493232982d8316a3c": {
      "model_module": "@jupyter-widgets/controls",
      "model_module_version": "1.5.0",
      "model_name": "DescriptionStyleModel",
      "state": {
       "_model_module": "@jupyter-widgets/controls",
       "_model_module_version": "1.5.0",
       "_model_name": "DescriptionStyleModel",
       "_view_count": null,
       "_view_module": "@jupyter-widgets/base",
       "_view_module_version": "1.2.0",
       "_view_name": "StyleView",
       "description_width": ""
      }
     },
     "06c3b0638bbd4afc8669ad93a678fdd3": {
      "model_module": "@jupyter-widgets/base",
      "model_module_version": "1.2.0",
      "model_name": "LayoutModel",
      "state": {
       "_model_module": "@jupyter-widgets/base",
       "_model_module_version": "1.2.0",
       "_model_name": "LayoutModel",
       "_view_count": null,
       "_view_module": "@jupyter-widgets/base",
       "_view_module_version": "1.2.0",
       "_view_name": "LayoutView",
       "align_content": null,
       "align_items": null,
       "align_self": null,
       "border": null,
       "bottom": null,
       "display": null,
       "flex": null,
       "flex_flow": null,
       "grid_area": null,
       "grid_auto_columns": null,
       "grid_auto_flow": null,
       "grid_auto_rows": null,
       "grid_column": null,
       "grid_gap": null,
       "grid_row": null,
       "grid_template_areas": null,
       "grid_template_columns": null,
       "grid_template_rows": null,
       "height": null,
       "justify_content": null,
       "justify_items": null,
       "left": null,
       "margin": null,
       "max_height": null,
       "max_width": null,
       "min_height": null,
       "min_width": null,
       "object_fit": null,
       "object_position": null,
       "order": null,
       "overflow": null,
       "overflow_x": null,
       "overflow_y": null,
       "padding": null,
       "right": null,
       "top": null,
       "visibility": null,
       "width": null
      }
     },
     "07ae074d48af4c30a4308b680d5d904c": {
      "model_module": "@jupyter-widgets/base",
      "model_module_version": "1.2.0",
      "model_name": "LayoutModel",
      "state": {
       "_model_module": "@jupyter-widgets/base",
       "_model_module_version": "1.2.0",
       "_model_name": "LayoutModel",
       "_view_count": null,
       "_view_module": "@jupyter-widgets/base",
       "_view_module_version": "1.2.0",
       "_view_name": "LayoutView",
       "align_content": null,
       "align_items": null,
       "align_self": null,
       "border": null,
       "bottom": null,
       "display": null,
       "flex": null,
       "flex_flow": null,
       "grid_area": null,
       "grid_auto_columns": null,
       "grid_auto_flow": null,
       "grid_auto_rows": null,
       "grid_column": null,
       "grid_gap": null,
       "grid_row": null,
       "grid_template_areas": null,
       "grid_template_columns": null,
       "grid_template_rows": null,
       "height": null,
       "justify_content": null,
       "justify_items": null,
       "left": null,
       "margin": null,
       "max_height": null,
       "max_width": null,
       "min_height": null,
       "min_width": null,
       "object_fit": null,
       "object_position": null,
       "order": null,
       "overflow": null,
       "overflow_x": null,
       "overflow_y": null,
       "padding": null,
       "right": null,
       "top": null,
       "visibility": null,
       "width": null
      }
     },
     "0995c93dfcb3424bbe4ec667c10ce519": {
      "model_module": "@jupyter-widgets/controls",
      "model_module_version": "1.5.0",
      "model_name": "HTMLModel",
      "state": {
       "_dom_classes": [],
       "_model_module": "@jupyter-widgets/controls",
       "_model_module_version": "1.5.0",
       "_model_name": "HTMLModel",
       "_view_count": null,
       "_view_module": "@jupyter-widgets/controls",
       "_view_module_version": "1.5.0",
       "_view_name": "HTMLView",
       "description": "",
       "description_tooltip": null,
       "layout": "IPY_MODEL_53ec2a3d1dcf49d4aa3b5d1ad71100a5",
       "placeholder": "​",
       "style": "IPY_MODEL_27ecf8b199754aae9c547f818bd5917c",
       "value": " 499M/499M [00:12&lt;00:00, 42.7MB/s]"
      }
     },
     "105928f6eb6b4f03a7da02facc4c511a": {
      "model_module": "@jupyter-widgets/controls",
      "model_module_version": "1.5.0",
      "model_name": "HTMLModel",
      "state": {
       "_dom_classes": [],
       "_model_module": "@jupyter-widgets/controls",
       "_model_module_version": "1.5.0",
       "_model_name": "HTMLModel",
       "_view_count": null,
       "_view_module": "@jupyter-widgets/controls",
       "_view_module_version": "1.5.0",
       "_view_name": "HTMLView",
       "description": "",
       "description_tooltip": null,
       "layout": "IPY_MODEL_55070f45a07f4e6fbbd00eacd795055f",
       "placeholder": "​",
       "style": "IPY_MODEL_28040ee3355a4a8c8761bed1cee78635",
       "value": "config.json: 100%"
      }
     },
     "135b3b4e3f614035a1cf0e34c1a029ef": {
      "model_module": "@jupyter-widgets/controls",
      "model_module_version": "1.5.0",
      "model_name": "ProgressStyleModel",
      "state": {
       "_model_module": "@jupyter-widgets/controls",
       "_model_module_version": "1.5.0",
       "_model_name": "ProgressStyleModel",
       "_view_count": null,
       "_view_module": "@jupyter-widgets/base",
       "_view_module_version": "1.2.0",
       "_view_name": "StyleView",
       "bar_color": null,
       "description_width": ""
      }
     },
     "1c8c96f3881b45f2bfbc23ec3dd9313e": {
      "model_module": "@jupyter-widgets/base",
      "model_module_version": "1.2.0",
      "model_name": "LayoutModel",
      "state": {
       "_model_module": "@jupyter-widgets/base",
       "_model_module_version": "1.2.0",
       "_model_name": "LayoutModel",
       "_view_count": null,
       "_view_module": "@jupyter-widgets/base",
       "_view_module_version": "1.2.0",
       "_view_name": "LayoutView",
       "align_content": null,
       "align_items": null,
       "align_self": null,
       "border": null,
       "bottom": null,
       "display": null,
       "flex": null,
       "flex_flow": null,
       "grid_area": null,
       "grid_auto_columns": null,
       "grid_auto_flow": null,
       "grid_auto_rows": null,
       "grid_column": null,
       "grid_gap": null,
       "grid_row": null,
       "grid_template_areas": null,
       "grid_template_columns": null,
       "grid_template_rows": null,
       "height": null,
       "justify_content": null,
       "justify_items": null,
       "left": null,
       "margin": null,
       "max_height": null,
       "max_width": null,
       "min_height": null,
       "min_width": null,
       "object_fit": null,
       "object_position": null,
       "order": null,
       "overflow": null,
       "overflow_x": null,
       "overflow_y": null,
       "padding": null,
       "right": null,
       "top": null,
       "visibility": null,
       "width": null
      }
     },
     "2293eec3cc9e4d0d9cb0fee41b7ac596": {
      "model_module": "@jupyter-widgets/controls",
      "model_module_version": "1.5.0",
      "model_name": "HBoxModel",
      "state": {
       "_dom_classes": [],
       "_model_module": "@jupyter-widgets/controls",
       "_model_module_version": "1.5.0",
       "_model_name": "HBoxModel",
       "_view_count": null,
       "_view_module": "@jupyter-widgets/controls",
       "_view_module_version": "1.5.0",
       "_view_name": "HBoxView",
       "box_style": "",
       "children": [
        "IPY_MODEL_cf54f3011c924830b7fe8df508bf1021",
        "IPY_MODEL_70c0895b0c78443aaed728c7ed409504",
        "IPY_MODEL_f133e7fe2bcc438793526737b308dd52"
       ],
       "layout": "IPY_MODEL_fddab8bb5392429d853ca3fa49fcf0b3"
      }
     },
     "27ecf8b199754aae9c547f818bd5917c": {
      "model_module": "@jupyter-widgets/controls",
      "model_module_version": "1.5.0",
      "model_name": "DescriptionStyleModel",
      "state": {
       "_model_module": "@jupyter-widgets/controls",
       "_model_module_version": "1.5.0",
       "_model_name": "DescriptionStyleModel",
       "_view_count": null,
       "_view_module": "@jupyter-widgets/base",
       "_view_module_version": "1.2.0",
       "_view_name": "StyleView",
       "description_width": ""
      }
     },
     "28040ee3355a4a8c8761bed1cee78635": {
      "model_module": "@jupyter-widgets/controls",
      "model_module_version": "1.5.0",
      "model_name": "DescriptionStyleModel",
      "state": {
       "_model_module": "@jupyter-widgets/controls",
       "_model_module_version": "1.5.0",
       "_model_name": "DescriptionStyleModel",
       "_view_count": null,
       "_view_module": "@jupyter-widgets/base",
       "_view_module_version": "1.2.0",
       "_view_name": "StyleView",
       "description_width": ""
      }
     },
     "2a8c24058c7d4697b4bc8dc862cc3667": {
      "model_module": "@jupyter-widgets/controls",
      "model_module_version": "1.5.0",
      "model_name": "ProgressStyleModel",
      "state": {
       "_model_module": "@jupyter-widgets/controls",
       "_model_module_version": "1.5.0",
       "_model_name": "ProgressStyleModel",
       "_view_count": null,
       "_view_module": "@jupyter-widgets/base",
       "_view_module_version": "1.2.0",
       "_view_name": "StyleView",
       "bar_color": null,
       "description_width": ""
      }
     },
     "32a5f332a82b455581ba6482f3ca7d38": {
      "model_module": "@jupyter-widgets/controls",
      "model_module_version": "1.5.0",
      "model_name": "ProgressStyleModel",
      "state": {
       "_model_module": "@jupyter-widgets/controls",
       "_model_module_version": "1.5.0",
       "_model_name": "ProgressStyleModel",
       "_view_count": null,
       "_view_module": "@jupyter-widgets/base",
       "_view_module_version": "1.2.0",
       "_view_name": "StyleView",
       "bar_color": null,
       "description_width": ""
      }
     },
     "35a366d9646e4ea2b07281d0e395db09": {
      "model_module": "@jupyter-widgets/controls",
      "model_module_version": "1.5.0",
      "model_name": "FloatProgressModel",
      "state": {
       "_dom_classes": [],
       "_model_module": "@jupyter-widgets/controls",
       "_model_module_version": "1.5.0",
       "_model_name": "FloatProgressModel",
       "_view_count": null,
       "_view_module": "@jupyter-widgets/controls",
       "_view_module_version": "1.5.0",
       "_view_name": "ProgressView",
       "bar_style": "success",
       "description": "",
       "description_tooltip": null,
       "layout": "IPY_MODEL_6658d09102584f84b106530bb547b955",
       "max": 1355863.0,
       "min": 0.0,
       "orientation": "horizontal",
       "style": "IPY_MODEL_5ed49a88402b43fc9651fbc70d643696",
       "value": 1355863.0
      }
     },
     "45eae2668c53410c80f04d6cec89fec7": {
      "model_module": "@jupyter-widgets/controls",
      "model_module_version": "1.5.0",
      "model_name": "HBoxModel",
      "state": {
       "_dom_classes": [],
       "_model_module": "@jupyter-widgets/controls",
       "_model_module_version": "1.5.0",
       "_model_name": "HBoxModel",
       "_view_count": null,
       "_view_module": "@jupyter-widgets/controls",
       "_view_module_version": "1.5.0",
       "_view_name": "HBoxView",
       "box_style": "",
       "children": [
        "IPY_MODEL_105928f6eb6b4f03a7da02facc4c511a",
        "IPY_MODEL_648102d66cdc43a690edb7521d0a117c",
        "IPY_MODEL_78965ae50fa14041bfa5f479724c4690"
       ],
       "layout": "IPY_MODEL_5561e5f2d2e9488baa9ef8e282fb4c4f"
      }
     },
     "4c88bb160191422d9049062ce00a1617": {
      "model_module": "@jupyter-widgets/controls",
      "model_module_version": "1.5.0",
      "model_name": "DescriptionStyleModel",
      "state": {
       "_model_module": "@jupyter-widgets/controls",
       "_model_module_version": "1.5.0",
       "_model_name": "DescriptionStyleModel",
       "_view_count": null,
       "_view_module": "@jupyter-widgets/base",
       "_view_module_version": "1.2.0",
       "_view_name": "StyleView",
       "description_width": ""
      }
     },
     "4d412b24b750439a8e424444bae1dfd7": {
      "model_module": "@jupyter-widgets/controls",
      "model_module_version": "1.5.0",
      "model_name": "HTMLModel",
      "state": {
       "_dom_classes": [],
       "_model_module": "@jupyter-widgets/controls",
       "_model_module_version": "1.5.0",
       "_model_name": "HTMLModel",
       "_view_count": null,
       "_view_module": "@jupyter-widgets/controls",
       "_view_module_version": "1.5.0",
       "_view_name": "HTMLView",
       "description": "",
       "description_tooltip": null,
       "layout": "IPY_MODEL_e31346ec62da40ea85a121905195b755",
       "placeholder": "​",
       "style": "IPY_MODEL_8677ef2399f14716bf599840d7731704",
       "value": "tokenizer.json: 100%"
      }
     },
     "52e4e92d74d44f1f889d147224111aec": {
      "model_module": "@jupyter-widgets/base",
      "model_module_version": "1.2.0",
      "model_name": "LayoutModel",
      "state": {
       "_model_module": "@jupyter-widgets/base",
       "_model_module_version": "1.2.0",
       "_model_name": "LayoutModel",
       "_view_count": null,
       "_view_module": "@jupyter-widgets/base",
       "_view_module_version": "1.2.0",
       "_view_name": "LayoutView",
       "align_content": null,
       "align_items": null,
       "align_self": null,
       "border": null,
       "bottom": null,
       "display": null,
       "flex": null,
       "flex_flow": null,
       "grid_area": null,
       "grid_auto_columns": null,
       "grid_auto_flow": null,
       "grid_auto_rows": null,
       "grid_column": null,
       "grid_gap": null,
       "grid_row": null,
       "grid_template_areas": null,
       "grid_template_columns": null,
       "grid_template_rows": null,
       "height": null,
       "justify_content": null,
       "justify_items": null,
       "left": null,
       "margin": null,
       "max_height": null,
       "max_width": null,
       "min_height": null,
       "min_width": null,
       "object_fit": null,
       "object_position": null,
       "order": null,
       "overflow": null,
       "overflow_x": null,
       "overflow_y": null,
       "padding": null,
       "right": null,
       "top": null,
       "visibility": null,
       "width": null
      }
     },
     "5334401872fb46b2bbfdd19de4dcc032": {
      "model_module": "@jupyter-widgets/controls",
      "model_module_version": "1.5.0",
      "model_name": "DescriptionStyleModel",
      "state": {
       "_model_module": "@jupyter-widgets/controls",
       "_model_module_version": "1.5.0",
       "_model_name": "DescriptionStyleModel",
       "_view_count": null,
       "_view_module": "@jupyter-widgets/base",
       "_view_module_version": "1.2.0",
       "_view_name": "StyleView",
       "description_width": ""
      }
     },
     "53ec2a3d1dcf49d4aa3b5d1ad71100a5": {
      "model_module": "@jupyter-widgets/base",
      "model_module_version": "1.2.0",
      "model_name": "LayoutModel",
      "state": {
       "_model_module": "@jupyter-widgets/base",
       "_model_module_version": "1.2.0",
       "_model_name": "LayoutModel",
       "_view_count": null,
       "_view_module": "@jupyter-widgets/base",
       "_view_module_version": "1.2.0",
       "_view_name": "LayoutView",
       "align_content": null,
       "align_items": null,
       "align_self": null,
       "border": null,
       "bottom": null,
       "display": null,
       "flex": null,
       "flex_flow": null,
       "grid_area": null,
       "grid_auto_columns": null,
       "grid_auto_flow": null,
       "grid_auto_rows": null,
       "grid_column": null,
       "grid_gap": null,
       "grid_row": null,
       "grid_template_areas": null,
       "grid_template_columns": null,
       "grid_template_rows": null,
       "height": null,
       "justify_content": null,
       "justify_items": null,
       "left": null,
       "margin": null,
       "max_height": null,
       "max_width": null,
       "min_height": null,
       "min_width": null,
       "object_fit": null,
       "object_position": null,
       "order": null,
       "overflow": null,
       "overflow_x": null,
       "overflow_y": null,
       "padding": null,
       "right": null,
       "top": null,
       "visibility": null,
       "width": null
      }
     },
     "54712121939549c78f5e987ab926c10f": {
      "model_module": "@jupyter-widgets/controls",
      "model_module_version": "1.5.0",
      "model_name": "HBoxModel",
      "state": {
       "_dom_classes": [],
       "_model_module": "@jupyter-widgets/controls",
       "_model_module_version": "1.5.0",
       "_model_name": "HBoxModel",
       "_view_count": null,
       "_view_module": "@jupyter-widgets/controls",
       "_view_module_version": "1.5.0",
       "_view_name": "HBoxView",
       "box_style": "",
       "children": [
        "IPY_MODEL_6057208c8e314334b04aa423578fe7c5",
        "IPY_MODEL_02191cb1eba44a49893b9f7a73953db5",
        "IPY_MODEL_0995c93dfcb3424bbe4ec667c10ce519"
       ],
       "layout": "IPY_MODEL_52e4e92d74d44f1f889d147224111aec"
      }
     },
     "55070f45a07f4e6fbbd00eacd795055f": {
      "model_module": "@jupyter-widgets/base",
      "model_module_version": "1.2.0",
      "model_name": "LayoutModel",
      "state": {
       "_model_module": "@jupyter-widgets/base",
       "_model_module_version": "1.2.0",
       "_model_name": "LayoutModel",
       "_view_count": null,
       "_view_module": "@jupyter-widgets/base",
       "_view_module_version": "1.2.0",
       "_view_name": "LayoutView",
       "align_content": null,
       "align_items": null,
       "align_self": null,
       "border": null,
       "bottom": null,
       "display": null,
       "flex": null,
       "flex_flow": null,
       "grid_area": null,
       "grid_auto_columns": null,
       "grid_auto_flow": null,
       "grid_auto_rows": null,
       "grid_column": null,
       "grid_gap": null,
       "grid_row": null,
       "grid_template_areas": null,
       "grid_template_columns": null,
       "grid_template_rows": null,
       "height": null,
       "justify_content": null,
       "justify_items": null,
       "left": null,
       "margin": null,
       "max_height": null,
       "max_width": null,
       "min_height": null,
       "min_width": null,
       "object_fit": null,
       "object_position": null,
       "order": null,
       "overflow": null,
       "overflow_x": null,
       "overflow_y": null,
       "padding": null,
       "right": null,
       "top": null,
       "visibility": null,
       "width": null
      }
     },
     "5561e5f2d2e9488baa9ef8e282fb4c4f": {
      "model_module": "@jupyter-widgets/base",
      "model_module_version": "1.2.0",
      "model_name": "LayoutModel",
      "state": {
       "_model_module": "@jupyter-widgets/base",
       "_model_module_version": "1.2.0",
       "_model_name": "LayoutModel",
       "_view_count": null,
       "_view_module": "@jupyter-widgets/base",
       "_view_module_version": "1.2.0",
       "_view_name": "LayoutView",
       "align_content": null,
       "align_items": null,
       "align_self": null,
       "border": null,
       "bottom": null,
       "display": null,
       "flex": null,
       "flex_flow": null,
       "grid_area": null,
       "grid_auto_columns": null,
       "grid_auto_flow": null,
       "grid_auto_rows": null,
       "grid_column": null,
       "grid_gap": null,
       "grid_row": null,
       "grid_template_areas": null,
       "grid_template_columns": null,
       "grid_template_rows": null,
       "height": null,
       "justify_content": null,
       "justify_items": null,
       "left": null,
       "margin": null,
       "max_height": null,
       "max_width": null,
       "min_height": null,
       "min_width": null,
       "object_fit": null,
       "object_position": null,
       "order": null,
       "overflow": null,
       "overflow_x": null,
       "overflow_y": null,
       "padding": null,
       "right": null,
       "top": null,
       "visibility": null,
       "width": null
      }
     },
     "59b3fab5c9ee41dbbde51226e263fbc0": {
      "model_module": "@jupyter-widgets/base",
      "model_module_version": "1.2.0",
      "model_name": "LayoutModel",
      "state": {
       "_model_module": "@jupyter-widgets/base",
       "_model_module_version": "1.2.0",
       "_model_name": "LayoutModel",
       "_view_count": null,
       "_view_module": "@jupyter-widgets/base",
       "_view_module_version": "1.2.0",
       "_view_name": "LayoutView",
       "align_content": null,
       "align_items": null,
       "align_self": null,
       "border": null,
       "bottom": null,
       "display": null,
       "flex": null,
       "flex_flow": null,
       "grid_area": null,
       "grid_auto_columns": null,
       "grid_auto_flow": null,
       "grid_auto_rows": null,
       "grid_column": null,
       "grid_gap": null,
       "grid_row": null,
       "grid_template_areas": null,
       "grid_template_columns": null,
       "grid_template_rows": null,
       "height": null,
       "justify_content": null,
       "justify_items": null,
       "left": null,
       "margin": null,
       "max_height": null,
       "max_width": null,
       "min_height": null,
       "min_width": null,
       "object_fit": null,
       "object_position": null,
       "order": null,
       "overflow": null,
       "overflow_x": null,
       "overflow_y": null,
       "padding": null,
       "right": null,
       "top": null,
       "visibility": null,
       "width": null
      }
     },
     "5ed49a88402b43fc9651fbc70d643696": {
      "model_module": "@jupyter-widgets/controls",
      "model_module_version": "1.5.0",
      "model_name": "ProgressStyleModel",
      "state": {
       "_model_module": "@jupyter-widgets/controls",
       "_model_module_version": "1.5.0",
       "_model_name": "ProgressStyleModel",
       "_view_count": null,
       "_view_module": "@jupyter-widgets/base",
       "_view_module_version": "1.2.0",
       "_view_name": "StyleView",
       "bar_color": null,
       "description_width": ""
      }
     },
     "6057208c8e314334b04aa423578fe7c5": {
      "model_module": "@jupyter-widgets/controls",
      "model_module_version": "1.5.0",
      "model_name": "HTMLModel",
      "state": {
       "_dom_classes": [],
       "_model_module": "@jupyter-widgets/controls",
       "_model_module_version": "1.5.0",
       "_model_name": "HTMLModel",
       "_view_count": null,
       "_view_module": "@jupyter-widgets/controls",
       "_view_module_version": "1.5.0",
       "_view_name": "HTMLView",
       "description": "",
       "description_tooltip": null,
       "layout": "IPY_MODEL_06c3b0638bbd4afc8669ad93a678fdd3",
       "placeholder": "​",
       "style": "IPY_MODEL_dfd26d7a49934e84b9cab16beb104573",
       "value": "model.safetensors: 100%"
      }
     },
     "648102d66cdc43a690edb7521d0a117c": {
      "model_module": "@jupyter-widgets/controls",
      "model_module_version": "1.5.0",
      "model_name": "FloatProgressModel",
      "state": {
       "_dom_classes": [],
       "_model_module": "@jupyter-widgets/controls",
       "_model_module_version": "1.5.0",
       "_model_name": "FloatProgressModel",
       "_view_count": null,
       "_view_module": "@jupyter-widgets/controls",
       "_view_module_version": "1.5.0",
       "_view_name": "ProgressView",
       "bar_style": "success",
       "description": "",
       "description_tooltip": null,
       "layout": "IPY_MODEL_59b3fab5c9ee41dbbde51226e263fbc0",
       "max": 481.0,
       "min": 0.0,
       "orientation": "horizontal",
       "style": "IPY_MODEL_e5e64029b6a54707b847e5ed7d4d2a69",
       "value": 481.0
      }
     },
     "6658d09102584f84b106530bb547b955": {
      "model_module": "@jupyter-widgets/base",
      "model_module_version": "1.2.0",
      "model_name": "LayoutModel",
      "state": {
       "_model_module": "@jupyter-widgets/base",
       "_model_module_version": "1.2.0",
       "_model_name": "LayoutModel",
       "_view_count": null,
       "_view_module": "@jupyter-widgets/base",
       "_view_module_version": "1.2.0",
       "_view_name": "LayoutView",
       "align_content": null,
       "align_items": null,
       "align_self": null,
       "border": null,
       "bottom": null,
       "display": null,
       "flex": null,
       "flex_flow": null,
       "grid_area": null,
       "grid_auto_columns": null,
       "grid_auto_flow": null,
       "grid_auto_rows": null,
       "grid_column": null,
       "grid_gap": null,
       "grid_row": null,
       "grid_template_areas": null,
       "grid_template_columns": null,
       "grid_template_rows": null,
       "height": null,
       "justify_content": null,
       "justify_items": null,
       "left": null,
       "margin": null,
       "max_height": null,
       "max_width": null,
       "min_height": null,
       "min_width": null,
       "object_fit": null,
       "object_position": null,
       "order": null,
       "overflow": null,
       "overflow_x": null,
       "overflow_y": null,
       "padding": null,
       "right": null,
       "top": null,
       "visibility": null,
       "width": null
      }
     },
     "70c0895b0c78443aaed728c7ed409504": {
      "model_module": "@jupyter-widgets/controls",
      "model_module_version": "1.5.0",
      "model_name": "FloatProgressModel",
      "state": {
       "_dom_classes": [],
       "_model_module": "@jupyter-widgets/controls",
       "_model_module_version": "1.5.0",
       "_model_name": "FloatProgressModel",
       "_view_count": null,
       "_view_module": "@jupyter-widgets/controls",
       "_view_module_version": "1.5.0",
       "_view_name": "ProgressView",
       "bar_style": "success",
       "description": "",
       "description_tooltip": null,
       "layout": "IPY_MODEL_07ae074d48af4c30a4308b680d5d904c",
       "max": 456318.0,
       "min": 0.0,
       "orientation": "horizontal",
       "style": "IPY_MODEL_135b3b4e3f614035a1cf0e34c1a029ef",
       "value": 456318.0
      }
     },
     "70ff4f6e5bb84a10b2e573bef9ed59ae": {
      "model_module": "@jupyter-widgets/base",
      "model_module_version": "1.2.0",
      "model_name": "LayoutModel",
      "state": {
       "_model_module": "@jupyter-widgets/base",
       "_model_module_version": "1.2.0",
       "_model_name": "LayoutModel",
       "_view_count": null,
       "_view_module": "@jupyter-widgets/base",
       "_view_module_version": "1.2.0",
       "_view_name": "LayoutView",
       "align_content": null,
       "align_items": null,
       "align_self": null,
       "border": null,
       "bottom": null,
       "display": null,
       "flex": null,
       "flex_flow": null,
       "grid_area": null,
       "grid_auto_columns": null,
       "grid_auto_flow": null,
       "grid_auto_rows": null,
       "grid_column": null,
       "grid_gap": null,
       "grid_row": null,
       "grid_template_areas": null,
       "grid_template_columns": null,
       "grid_template_rows": null,
       "height": null,
       "justify_content": null,
       "justify_items": null,
       "left": null,
       "margin": null,
       "max_height": null,
       "max_width": null,
       "min_height": null,
       "min_width": null,
       "object_fit": null,
       "object_position": null,
       "order": null,
       "overflow": null,
       "overflow_x": null,
       "overflow_y": null,
       "padding": null,
       "right": null,
       "top": null,
       "visibility": null,
       "width": null
      }
     },
     "7771efe56fc6493e90f0caf1d11be6c7": {
      "model_module": "@jupyter-widgets/controls",
      "model_module_version": "1.5.0",
      "model_name": "HTMLModel",
      "state": {
       "_dom_classes": [],
       "_model_module": "@jupyter-widgets/controls",
       "_model_module_version": "1.5.0",
       "_model_name": "HTMLModel",
       "_view_count": null,
       "_view_module": "@jupyter-widgets/controls",
       "_view_module_version": "1.5.0",
       "_view_name": "HTMLView",
       "description": "",
       "description_tooltip": null,
       "layout": "IPY_MODEL_02bb40c41d5f4500b3219a42e7dee336",
       "placeholder": "​",
       "style": "IPY_MODEL_03058b233016461493232982d8316a3c",
       "value": " 899k/899k [00:00&lt;00:00, 1.15MB/s]"
      }
     },
     "78965ae50fa14041bfa5f479724c4690": {
      "model_module": "@jupyter-widgets/controls",
      "model_module_version": "1.5.0",
      "model_name": "HTMLModel",
      "state": {
       "_dom_classes": [],
       "_model_module": "@jupyter-widgets/controls",
       "_model_module_version": "1.5.0",
       "_model_name": "HTMLModel",
       "_view_count": null,
       "_view_module": "@jupyter-widgets/controls",
       "_view_module_version": "1.5.0",
       "_view_name": "HTMLView",
       "description": "",
       "description_tooltip": null,
       "layout": "IPY_MODEL_1c8c96f3881b45f2bfbc23ec3dd9313e",
       "placeholder": "​",
       "style": "IPY_MODEL_4c88bb160191422d9049062ce00a1617",
       "value": " 481/481 [00:00&lt;00:00, 40.5kB/s]"
      }
     },
     "814342f0a0994483af092c148e343cb9": {
      "model_module": "@jupyter-widgets/base",
      "model_module_version": "1.2.0",
      "model_name": "LayoutModel",
      "state": {
       "_model_module": "@jupyter-widgets/base",
       "_model_module_version": "1.2.0",
       "_model_name": "LayoutModel",
       "_view_count": null,
       "_view_module": "@jupyter-widgets/base",
       "_view_module_version": "1.2.0",
       "_view_name": "LayoutView",
       "align_content": null,
       "align_items": null,
       "align_self": null,
       "border": null,
       "bottom": null,
       "display": null,
       "flex": null,
       "flex_flow": null,
       "grid_area": null,
       "grid_auto_columns": null,
       "grid_auto_flow": null,
       "grid_auto_rows": null,
       "grid_column": null,
       "grid_gap": null,
       "grid_row": null,
       "grid_template_areas": null,
       "grid_template_columns": null,
       "grid_template_rows": null,
       "height": null,
       "justify_content": null,
       "justify_items": null,
       "left": null,
       "margin": null,
       "max_height": null,
       "max_width": null,
       "min_height": null,
       "min_width": null,
       "object_fit": null,
       "object_position": null,
       "order": null,
       "overflow": null,
       "overflow_x": null,
       "overflow_y": null,
       "padding": null,
       "right": null,
       "top": null,
       "visibility": null,
       "width": null
      }
     },
     "8556f60670494d83874294321cb0e584": {
      "model_module": "@jupyter-widgets/base",
      "model_module_version": "1.2.0",
      "model_name": "LayoutModel",
      "state": {
       "_model_module": "@jupyter-widgets/base",
       "_model_module_version": "1.2.0",
       "_model_name": "LayoutModel",
       "_view_count": null,
       "_view_module": "@jupyter-widgets/base",
       "_view_module_version": "1.2.0",
       "_view_name": "LayoutView",
       "align_content": null,
       "align_items": null,
       "align_self": null,
       "border": null,
       "bottom": null,
       "display": null,
       "flex": null,
       "flex_flow": null,
       "grid_area": null,
       "grid_auto_columns": null,
       "grid_auto_flow": null,
       "grid_auto_rows": null,
       "grid_column": null,
       "grid_gap": null,
       "grid_row": null,
       "grid_template_areas": null,
       "grid_template_columns": null,
       "grid_template_rows": null,
       "height": null,
       "justify_content": null,
       "justify_items": null,
       "left": null,
       "margin": null,
       "max_height": null,
       "max_width": null,
       "min_height": null,
       "min_width": null,
       "object_fit": null,
       "object_position": null,
       "order": null,
       "overflow": null,
       "overflow_x": null,
       "overflow_y": null,
       "padding": null,
       "right": null,
       "top": null,
       "visibility": null,
       "width": null
      }
     },
     "8677ef2399f14716bf599840d7731704": {
      "model_module": "@jupyter-widgets/controls",
      "model_module_version": "1.5.0",
      "model_name": "DescriptionStyleModel",
      "state": {
       "_model_module": "@jupyter-widgets/controls",
       "_model_module_version": "1.5.0",
       "_model_name": "DescriptionStyleModel",
       "_view_count": null,
       "_view_module": "@jupyter-widgets/base",
       "_view_module_version": "1.2.0",
       "_view_name": "StyleView",
       "description_width": ""
      }
     },
     "8f33ed596e7941569232dd22f80a548b": {
      "model_module": "@jupyter-widgets/base",
      "model_module_version": "1.2.0",
      "model_name": "LayoutModel",
      "state": {
       "_model_module": "@jupyter-widgets/base",
       "_model_module_version": "1.2.0",
       "_model_name": "LayoutModel",
       "_view_count": null,
       "_view_module": "@jupyter-widgets/base",
       "_view_module_version": "1.2.0",
       "_view_name": "LayoutView",
       "align_content": null,
       "align_items": null,
       "align_self": null,
       "border": null,
       "bottom": null,
       "display": null,
       "flex": null,
       "flex_flow": null,
       "grid_area": null,
       "grid_auto_columns": null,
       "grid_auto_flow": null,
       "grid_auto_rows": null,
       "grid_column": null,
       "grid_gap": null,
       "grid_row": null,
       "grid_template_areas": null,
       "grid_template_columns": null,
       "grid_template_rows": null,
       "height": null,
       "justify_content": null,
       "justify_items": null,
       "left": null,
       "margin": null,
       "max_height": null,
       "max_width": null,
       "min_height": null,
       "min_width": null,
       "object_fit": null,
       "object_position": null,
       "order": null,
       "overflow": null,
       "overflow_x": null,
       "overflow_y": null,
       "padding": null,
       "right": null,
       "top": null,
       "visibility": null,
       "width": null
      }
     },
     "90ae26a42e934a53ae282db3d4a1a1e6": {
      "model_module": "@jupyter-widgets/controls",
      "model_module_version": "1.5.0",
      "model_name": "HBoxModel",
      "state": {
       "_dom_classes": [],
       "_model_module": "@jupyter-widgets/controls",
       "_model_module_version": "1.5.0",
       "_model_name": "HBoxModel",
       "_view_count": null,
       "_view_module": "@jupyter-widgets/controls",
       "_view_module_version": "1.5.0",
       "_view_name": "HBoxView",
       "box_style": "",
       "children": [
        "IPY_MODEL_4d412b24b750439a8e424444bae1dfd7",
        "IPY_MODEL_35a366d9646e4ea2b07281d0e395db09",
        "IPY_MODEL_d972a9e1090b471f86f4a04843ac22a2"
       ],
       "layout": "IPY_MODEL_fff16a91f2bb49f1ba46236b05a2f19d"
      }
     },
     "9c304a2743d145c6bdce61c590fdc754": {
      "model_module": "@jupyter-widgets/base",
      "model_module_version": "1.2.0",
      "model_name": "LayoutModel",
      "state": {
       "_model_module": "@jupyter-widgets/base",
       "_model_module_version": "1.2.0",
       "_model_name": "LayoutModel",
       "_view_count": null,
       "_view_module": "@jupyter-widgets/base",
       "_view_module_version": "1.2.0",
       "_view_name": "LayoutView",
       "align_content": null,
       "align_items": null,
       "align_self": null,
       "border": null,
       "bottom": null,
       "display": null,
       "flex": null,
       "flex_flow": null,
       "grid_area": null,
       "grid_auto_columns": null,
       "grid_auto_flow": null,
       "grid_auto_rows": null,
       "grid_column": null,
       "grid_gap": null,
       "grid_row": null,
       "grid_template_areas": null,
       "grid_template_columns": null,
       "grid_template_rows": null,
       "height": null,
       "justify_content": null,
       "justify_items": null,
       "left": null,
       "margin": null,
       "max_height": null,
       "max_width": null,
       "min_height": null,
       "min_width": null,
       "object_fit": null,
       "object_position": null,
       "order": null,
       "overflow": null,
       "overflow_x": null,
       "overflow_y": null,
       "padding": null,
       "right": null,
       "top": null,
       "visibility": null,
       "width": null
      }
     },
     "a4c51e7524124860b911ed5e3f55a9d6": {
      "model_module": "@jupyter-widgets/base",
      "model_module_version": "1.2.0",
      "model_name": "LayoutModel",
      "state": {
       "_model_module": "@jupyter-widgets/base",
       "_model_module_version": "1.2.0",
       "_model_name": "LayoutModel",
       "_view_count": null,
       "_view_module": "@jupyter-widgets/base",
       "_view_module_version": "1.2.0",
       "_view_name": "LayoutView",
       "align_content": null,
       "align_items": null,
       "align_self": null,
       "border": null,
       "bottom": null,
       "display": null,
       "flex": null,
       "flex_flow": null,
       "grid_area": null,
       "grid_auto_columns": null,
       "grid_auto_flow": null,
       "grid_auto_rows": null,
       "grid_column": null,
       "grid_gap": null,
       "grid_row": null,
       "grid_template_areas": null,
       "grid_template_columns": null,
       "grid_template_rows": null,
       "height": null,
       "justify_content": null,
       "justify_items": null,
       "left": null,
       "margin": null,
       "max_height": null,
       "max_width": null,
       "min_height": null,
       "min_width": null,
       "object_fit": null,
       "object_position": null,
       "order": null,
       "overflow": null,
       "overflow_x": null,
       "overflow_y": null,
       "padding": null,
       "right": null,
       "top": null,
       "visibility": null,
       "width": null
      }
     },
     "a68ca722f82f40ce86b7adfab506d269": {
      "model_module": "@jupyter-widgets/controls",
      "model_module_version": "1.5.0",
      "model_name": "HBoxModel",
      "state": {
       "_dom_classes": [],
       "_model_module": "@jupyter-widgets/controls",
       "_model_module_version": "1.5.0",
       "_model_name": "HBoxModel",
       "_view_count": null,
       "_view_module": "@jupyter-widgets/controls",
       "_view_module_version": "1.5.0",
       "_view_name": "HBoxView",
       "box_style": "",
       "children": [
        "IPY_MODEL_cd744b7d10344980a7117e7aea1ce291",
        "IPY_MODEL_d09307d6457b49839c90ffd66cf5d65b",
        "IPY_MODEL_7771efe56fc6493e90f0caf1d11be6c7"
       ],
       "layout": "IPY_MODEL_8f33ed596e7941569232dd22f80a548b"
      }
     },
     "cd744b7d10344980a7117e7aea1ce291": {
      "model_module": "@jupyter-widgets/controls",
      "model_module_version": "1.5.0",
      "model_name": "HTMLModel",
      "state": {
       "_dom_classes": [],
       "_model_module": "@jupyter-widgets/controls",
       "_model_module_version": "1.5.0",
       "_model_name": "HTMLModel",
       "_view_count": null,
       "_view_module": "@jupyter-widgets/controls",
       "_view_module_version": "1.5.0",
       "_view_name": "HTMLView",
       "description": "",
       "description_tooltip": null,
       "layout": "IPY_MODEL_9c304a2743d145c6bdce61c590fdc754",
       "placeholder": "​",
       "style": "IPY_MODEL_ee12664252b8474882401ddf2e5d3be6",
       "value": "vocab.json: 100%"
      }
     },
     "cf54f3011c924830b7fe8df508bf1021": {
      "model_module": "@jupyter-widgets/controls",
      "model_module_version": "1.5.0",
      "model_name": "HTMLModel",
      "state": {
       "_dom_classes": [],
       "_model_module": "@jupyter-widgets/controls",
       "_model_module_version": "1.5.0",
       "_model_name": "HTMLModel",
       "_view_count": null,
       "_view_module": "@jupyter-widgets/controls",
       "_view_module_version": "1.5.0",
       "_view_name": "HTMLView",
       "description": "",
       "description_tooltip": null,
       "layout": "IPY_MODEL_70ff4f6e5bb84a10b2e573bef9ed59ae",
       "placeholder": "​",
       "style": "IPY_MODEL_d46ef37e643043ec8a5eae9230ee3237",
       "value": "merges.txt: 100%"
      }
     },
     "d09307d6457b49839c90ffd66cf5d65b": {
      "model_module": "@jupyter-widgets/controls",
      "model_module_version": "1.5.0",
      "model_name": "FloatProgressModel",
      "state": {
       "_dom_classes": [],
       "_model_module": "@jupyter-widgets/controls",
       "_model_module_version": "1.5.0",
       "_model_name": "FloatProgressModel",
       "_view_count": null,
       "_view_module": "@jupyter-widgets/controls",
       "_view_module_version": "1.5.0",
       "_view_name": "ProgressView",
       "bar_style": "success",
       "description": "",
       "description_tooltip": null,
       "layout": "IPY_MODEL_8556f60670494d83874294321cb0e584",
       "max": 898823.0,
       "min": 0.0,
       "orientation": "horizontal",
       "style": "IPY_MODEL_32a5f332a82b455581ba6482f3ca7d38",
       "value": 898823.0
      }
     },
     "d114120a41854d92aa145e0aed77f190": {
      "model_module": "@jupyter-widgets/base",
      "model_module_version": "1.2.0",
      "model_name": "LayoutModel",
      "state": {
       "_model_module": "@jupyter-widgets/base",
       "_model_module_version": "1.2.0",
       "_model_name": "LayoutModel",
       "_view_count": null,
       "_view_module": "@jupyter-widgets/base",
       "_view_module_version": "1.2.0",
       "_view_name": "LayoutView",
       "align_content": null,
       "align_items": null,
       "align_self": null,
       "border": null,
       "bottom": null,
       "display": null,
       "flex": null,
       "flex_flow": null,
       "grid_area": null,
       "grid_auto_columns": null,
       "grid_auto_flow": null,
       "grid_auto_rows": null,
       "grid_column": null,
       "grid_gap": null,
       "grid_row": null,
       "grid_template_areas": null,
       "grid_template_columns": null,
       "grid_template_rows": null,
       "height": null,
       "justify_content": null,
       "justify_items": null,
       "left": null,
       "margin": null,
       "max_height": null,
       "max_width": null,
       "min_height": null,
       "min_width": null,
       "object_fit": null,
       "object_position": null,
       "order": null,
       "overflow": null,
       "overflow_x": null,
       "overflow_y": null,
       "padding": null,
       "right": null,
       "top": null,
       "visibility": null,
       "width": null
      }
     },
     "d46ef37e643043ec8a5eae9230ee3237": {
      "model_module": "@jupyter-widgets/controls",
      "model_module_version": "1.5.0",
      "model_name": "DescriptionStyleModel",
      "state": {
       "_model_module": "@jupyter-widgets/controls",
       "_model_module_version": "1.5.0",
       "_model_name": "DescriptionStyleModel",
       "_view_count": null,
       "_view_module": "@jupyter-widgets/base",
       "_view_module_version": "1.2.0",
       "_view_name": "StyleView",
       "description_width": ""
      }
     },
     "d972a9e1090b471f86f4a04843ac22a2": {
      "model_module": "@jupyter-widgets/controls",
      "model_module_version": "1.5.0",
      "model_name": "HTMLModel",
      "state": {
       "_dom_classes": [],
       "_model_module": "@jupyter-widgets/controls",
       "_model_module_version": "1.5.0",
       "_model_name": "HTMLModel",
       "_view_count": null,
       "_view_module": "@jupyter-widgets/controls",
       "_view_module_version": "1.5.0",
       "_view_name": "HTMLView",
       "description": "",
       "description_tooltip": null,
       "layout": "IPY_MODEL_a4c51e7524124860b911ed5e3f55a9d6",
       "placeholder": "​",
       "style": "IPY_MODEL_f42d4be0d76147678a12b96b01482f9d",
       "value": " 1.36M/1.36M [00:00&lt;00:00, 1.39MB/s]"
      }
     },
     "dfd26d7a49934e84b9cab16beb104573": {
      "model_module": "@jupyter-widgets/controls",
      "model_module_version": "1.5.0",
      "model_name": "DescriptionStyleModel",
      "state": {
       "_model_module": "@jupyter-widgets/controls",
       "_model_module_version": "1.5.0",
       "_model_name": "DescriptionStyleModel",
       "_view_count": null,
       "_view_module": "@jupyter-widgets/base",
       "_view_module_version": "1.2.0",
       "_view_name": "StyleView",
       "description_width": ""
      }
     },
     "e31346ec62da40ea85a121905195b755": {
      "model_module": "@jupyter-widgets/base",
      "model_module_version": "1.2.0",
      "model_name": "LayoutModel",
      "state": {
       "_model_module": "@jupyter-widgets/base",
       "_model_module_version": "1.2.0",
       "_model_name": "LayoutModel",
       "_view_count": null,
       "_view_module": "@jupyter-widgets/base",
       "_view_module_version": "1.2.0",
       "_view_name": "LayoutView",
       "align_content": null,
       "align_items": null,
       "align_self": null,
       "border": null,
       "bottom": null,
       "display": null,
       "flex": null,
       "flex_flow": null,
       "grid_area": null,
       "grid_auto_columns": null,
       "grid_auto_flow": null,
       "grid_auto_rows": null,
       "grid_column": null,
       "grid_gap": null,
       "grid_row": null,
       "grid_template_areas": null,
       "grid_template_columns": null,
       "grid_template_rows": null,
       "height": null,
       "justify_content": null,
       "justify_items": null,
       "left": null,
       "margin": null,
       "max_height": null,
       "max_width": null,
       "min_height": null,
       "min_width": null,
       "object_fit": null,
       "object_position": null,
       "order": null,
       "overflow": null,
       "overflow_x": null,
       "overflow_y": null,
       "padding": null,
       "right": null,
       "top": null,
       "visibility": null,
       "width": null
      }
     },
     "e5e64029b6a54707b847e5ed7d4d2a69": {
      "model_module": "@jupyter-widgets/controls",
      "model_module_version": "1.5.0",
      "model_name": "ProgressStyleModel",
      "state": {
       "_model_module": "@jupyter-widgets/controls",
       "_model_module_version": "1.5.0",
       "_model_name": "ProgressStyleModel",
       "_view_count": null,
       "_view_module": "@jupyter-widgets/base",
       "_view_module_version": "1.2.0",
       "_view_name": "StyleView",
       "bar_color": null,
       "description_width": ""
      }
     },
     "ee12664252b8474882401ddf2e5d3be6": {
      "model_module": "@jupyter-widgets/controls",
      "model_module_version": "1.5.0",
      "model_name": "DescriptionStyleModel",
      "state": {
       "_model_module": "@jupyter-widgets/controls",
       "_model_module_version": "1.5.0",
       "_model_name": "DescriptionStyleModel",
       "_view_count": null,
       "_view_module": "@jupyter-widgets/base",
       "_view_module_version": "1.2.0",
       "_view_name": "StyleView",
       "description_width": ""
      }
     },
     "f133e7fe2bcc438793526737b308dd52": {
      "model_module": "@jupyter-widgets/controls",
      "model_module_version": "1.5.0",
      "model_name": "HTMLModel",
      "state": {
       "_dom_classes": [],
       "_model_module": "@jupyter-widgets/controls",
       "_model_module_version": "1.5.0",
       "_model_name": "HTMLModel",
       "_view_count": null,
       "_view_module": "@jupyter-widgets/controls",
       "_view_module_version": "1.5.0",
       "_view_name": "HTMLView",
       "description": "",
       "description_tooltip": null,
       "layout": "IPY_MODEL_814342f0a0994483af092c148e343cb9",
       "placeholder": "​",
       "style": "IPY_MODEL_5334401872fb46b2bbfdd19de4dcc032",
       "value": " 456k/456k [00:00&lt;00:00, 779kB/s]"
      }
     },
     "f42d4be0d76147678a12b96b01482f9d": {
      "model_module": "@jupyter-widgets/controls",
      "model_module_version": "1.5.0",
      "model_name": "DescriptionStyleModel",
      "state": {
       "_model_module": "@jupyter-widgets/controls",
       "_model_module_version": "1.5.0",
       "_model_name": "DescriptionStyleModel",
       "_view_count": null,
       "_view_module": "@jupyter-widgets/base",
       "_view_module_version": "1.2.0",
       "_view_name": "StyleView",
       "description_width": ""
      }
     },
     "fddab8bb5392429d853ca3fa49fcf0b3": {
      "model_module": "@jupyter-widgets/base",
      "model_module_version": "1.2.0",
      "model_name": "LayoutModel",
      "state": {
       "_model_module": "@jupyter-widgets/base",
       "_model_module_version": "1.2.0",
       "_model_name": "LayoutModel",
       "_view_count": null,
       "_view_module": "@jupyter-widgets/base",
       "_view_module_version": "1.2.0",
       "_view_name": "LayoutView",
       "align_content": null,
       "align_items": null,
       "align_self": null,
       "border": null,
       "bottom": null,
       "display": null,
       "flex": null,
       "flex_flow": null,
       "grid_area": null,
       "grid_auto_columns": null,
       "grid_auto_flow": null,
       "grid_auto_rows": null,
       "grid_column": null,
       "grid_gap": null,
       "grid_row": null,
       "grid_template_areas": null,
       "grid_template_columns": null,
       "grid_template_rows": null,
       "height": null,
       "justify_content": null,
       "justify_items": null,
       "left": null,
       "margin": null,
       "max_height": null,
       "max_width": null,
       "min_height": null,
       "min_width": null,
       "object_fit": null,
       "object_position": null,
       "order": null,
       "overflow": null,
       "overflow_x": null,
       "overflow_y": null,
       "padding": null,
       "right": null,
       "top": null,
       "visibility": null,
       "width": null
      }
     },
     "fff16a91f2bb49f1ba46236b05a2f19d": {
      "model_module": "@jupyter-widgets/base",
      "model_module_version": "1.2.0",
      "model_name": "LayoutModel",
      "state": {
       "_model_module": "@jupyter-widgets/base",
       "_model_module_version": "1.2.0",
       "_model_name": "LayoutModel",
       "_view_count": null,
       "_view_module": "@jupyter-widgets/base",
       "_view_module_version": "1.2.0",
       "_view_name": "LayoutView",
       "align_content": null,
       "align_items": null,
       "align_self": null,
       "border": null,
       "bottom": null,
       "display": null,
       "flex": null,
       "flex_flow": null,
       "grid_area": null,
       "grid_auto_columns": null,
       "grid_auto_flow": null,
       "grid_auto_rows": null,
       "grid_column": null,
       "grid_gap": null,
       "grid_row": null,
       "grid_template_areas": null,
       "grid_template_columns": null,
       "grid_template_rows": null,
       "height": null,
       "justify_content": null,
       "justify_items": null,
       "left": null,
       "margin": null,
       "max_height": null,
       "max_width": null,
       "min_height": null,
       "min_width": null,
       "object_fit": null,
       "object_position": null,
       "order": null,
       "overflow": null,
       "overflow_x": null,
       "overflow_y": null,
       "padding": null,
       "right": null,
       "top": null,
       "visibility": null,
       "width": null
      }
     }
    },
    "version_major": 2,
    "version_minor": 0
   }
  }
 },
 "nbformat": 4,
 "nbformat_minor": 5
}

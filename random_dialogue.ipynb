{
 "cells": [
  {
   "cell_type": "code",
   "execution_count": 2,
   "metadata": {},
   "outputs": [],
   "source": [
    "# !pip install seqeval"
   ]
  },
  {
   "cell_type": "code",
   "execution_count": 3,
   "metadata": {},
   "outputs": [],
   "source": [
    "import pandas as pd\n",
    "from transformers import AutoTokenizer, AutoModelForTokenClassification\n",
    "from datasets import load_dataset\n",
    "from torch import nn\n",
    "from tqdm import tqdm\n",
    "import numpy as np\n",
    "import torch\n",
    "from seqeval.metrics import classification_report, accuracy_score\n",
    "import matplotlib.pyplot as plt"
   ]
  },
  {
   "cell_type": "code",
   "execution_count": 4,
   "metadata": {},
   "outputs": [],
   "source": [
    "TRANSFORMER_MODEL_NAME = 'roberta-base'\n",
    "SAVE_MODEL_SUFFIX = 'with_intent'\n",
    "save_model_name = TRANSFORMER_MODEL_NAME.split('/')[-1]\n",
    "epochs = 10\n",
    "batch_size = 16\n",
    "learning_rate = 2e-5\n",
    "class_weight_beta = 0.999 # 0.99999 (yes, 5 nines) should work ok, increase number of nines if you want stronger imbalance compensation\n",
    "patience = 2\n",
    "ignored_tags = ['I-hotel-bookstay', 'I-hotel-stars']\n",
    "use_history = True"
   ]
  },
  {
   "cell_type": "code",
   "execution_count": 5,
   "metadata": {},
   "outputs": [],
   "source": [
    "def process_intent_list(intent_list):\n",
    "    intents = set()\n",
    "    if len(intent_list) == 0:\n",
    "        intents.add('other')\n",
    "    for intent in intent_list:\n",
    "        if intent.startswith('Restaurant'):\n",
    "            intents.add(intent)\n",
    "        elif intent.startswith('Hotel'):\n",
    "            intents.add(intent)\n",
    "        elif intent.startswith('general'):\n",
    "            intents.add(intent)\n",
    "        else:\n",
    "            intents.add('other')\n",
    "    # print(f'Original {intent_list}')\n",
    "    # print(f'Modified {list(intents)}')\n",
    "    return list(intents)\n",
    "\n",
    "def process_service_list(service_list):\n",
    "    services = set()\n",
    "    if len(service_list) == 0:\n",
    "        services.add('other')\n",
    "    for service in service_list:\n",
    "        if service == 'restaurant':\n",
    "            services.add('restaurant')\n",
    "        elif service == 'hotel':\n",
    "            services.add('hotel')\n",
    "        else:\n",
    "            services.add('other')\n",
    "        if len(services) == 3:\n",
    "            break\n",
    "    return list(services)"
   ]
  },
  {
   "cell_type": "code",
   "execution_count": 6,
   "metadata": {},
   "outputs": [],
   "source": [
    "def preprocess_split(dataset, split):\n",
    "    df = dataset[split].to_pandas()\n",
    "    new_df = pd.DataFrame(columns = df.columns)\n",
    "    for i in range(len(df)):\n",
    "        # Taken from notebook, to know which lines to skip\n",
    "        row = df.loc[i]\n",
    "        if not any(set(row.turns['frames'][turn_id]['service']).intersection(['hotel', 'restaurant']) for turn_id,utt in enumerate(row.turns['utterance'])):\n",
    "            continue\n",
    "        \n",
    "        new_df.loc[len(new_df)] = row\n",
    "        # new_df.loc[len(new_df) - 1]['services'] = process_service_list(new_df.loc[len(new_df) - 1]['services'])\n",
    "        # for i, frame_service in [frame['service'] for frame in df.loc[i].turns['frames']]:\n",
    "            # df.loc[i].turns['frames']\n",
    "    return new_df"
   ]
  },
  {
   "cell_type": "code",
   "execution_count": 9,
   "metadata": {},
   "outputs": [
    {
     "name": "stderr",
     "output_type": "stream",
     "text": [
      "No config specified, defaulting to: multi_woz_v22/v2.2_active_only\n",
      "Found cached dataset multi_woz_v22 (/home/adrian/.cache/huggingface/datasets/multi_woz_v22/v2.2_active_only/2.2.0/6719c8b21478299411a0c6fdb7137c3ebab2e6425129af831687fb7851c69eb5)\n"
     ]
    },
    {
     "data": {
      "application/vnd.jupyter.widget-view+json": {
       "model_id": "661a66f9088447bbb8a9e680aa3bfe44",
       "version_major": 2,
       "version_minor": 0
      },
      "text/plain": [
       "  0%|          | 0/3 [00:00<?, ?it/s]"
      ]
     },
     "metadata": {},
     "output_type": "display_data"
    }
   ],
   "source": [
    "dataset = load_dataset('multi_woz_v22')\n",
    "\n",
    "train = preprocess_split(dataset, 'train')\n",
    "val = preprocess_split(dataset, 'validation')\n",
    "test = preprocess_split(dataset, 'test')"
   ]
  },
  {
   "cell_type": "code",
   "execution_count": 18,
   "metadata": {},
   "outputs": [
    {
     "name": "stdout",
     "output_type": "stream",
     "text": [
      "INDEX:  1840\n",
      "USR: Hi! I'd like a hotel with a 4 star rating and free parking, please.\n",
      "BOT: Were you looking for a hotel in a particular area?\n",
      "USR: I'm trying to stay on the east, if possible.\n",
      "BOT: I have 5 of them in the east. Three of them are cheap and two are moderate priced. Did you have a preference?\n",
      "USR: The price doesn't matter. What do you recommend?\n",
      "BOT: I would recommend the allenbell.\n",
      "USR: Does it have free wifi?\n",
      "BOT: Yes, it does have free wifi. Would you like me to book this for you?\n",
      "USR: Not yet. What is their phone number?\n",
      "BOT: Yes their telephone number is 01223210353.\n",
      "USR: Great and what is their post code?\n",
      "BOT: postcode, is cb13js, address is 517a coldham lane, internet and parking is included and price is cheap. Can I help with anything else?\n",
      "USR: Would you also find me a hotel in the same area?\n",
      "BOT: In the east, I have 6 different guesthouses and 1 hotel. Do you have a preference?\n",
      "USR: No, that's OK. The Allenbell is great. What i need is information on boat attraction in the same pay off town.\n",
      "BOT: Do you want me to book that hotel for you?\n",
      "USR: I'd just like the phone number and postcode for now. Thank you.\n",
      "BOT: The phone number and post code are: 01223210353 and cb13js. Camboats is a boating attraction in the east. Would you like more information?\n",
      "USR: Yes I will need a taxi to get me to the attraction by 08:15.\n",
      "BOT: Will you be getting picked up from allenbell?\n",
      "USR: No I want to leave Camboats at 08:15 and go to the hotel.\n",
      "BOT: A red audi will pick you up and the contact number is 07026466566. Is there anything else I can assist you with?\n",
      "USR: Thank you. That is all I need.\n",
      "BOT: Thank you for contacting us and have a nice day.\n"
     ]
    }
   ],
   "source": [
    "pick_ind = np.random.choice(len(train))\n",
    "pick = train.iloc[pick_ind]\n",
    "print(\"INDEX: \", pick_ind)\n",
    "# print(pick)\n",
    "# pick.turns['utterance']\n",
    "dialogue = '\\n'.join([('USR: ' if speaker == 0 else 'BOT: ') + utterance for speaker, utterance in zip(pick.turns['speaker'], pick.turns['utterance'])])\n",
    "print(dialogue)"
   ]
  }
 ],
 "metadata": {
  "kernelspec": {
   "display_name": "Python 3",
   "language": "python",
   "name": "python3"
  },
  "language_info": {
   "codemirror_mode": {
    "name": "ipython",
    "version": 3
   },
   "file_extension": ".py",
   "mimetype": "text/x-python",
   "name": "python",
   "nbconvert_exporter": "python",
   "pygments_lexer": "ipython3",
   "version": "3.10.12"
  }
 },
 "nbformat": 4,
 "nbformat_minor": 2
}

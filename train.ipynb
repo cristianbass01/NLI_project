{
 "cells": [
  {
   "cell_type": "markdown",
   "metadata": {},
   "source": [
    "# Training script"
   ]
  },
  {
   "cell_type": "markdown",
   "metadata": {},
   "source": [
    "### Imports"
   ]
  },
  {
   "cell_type": "code",
   "execution_count": 6,
   "metadata": {},
   "outputs": [],
   "source": [
    "import pandas as pd\n",
    "\n",
    "from transformers import AutoTokenizer, RobertaModel\n",
    "from datasets import load_dataset\n",
    "from torch import nn"
   ]
  },
  {
   "cell_type": "markdown",
   "metadata": {},
   "source": [
    "### Constants"
   ]
  },
  {
   "cell_type": "code",
   "execution_count": 7,
   "metadata": {},
   "outputs": [],
   "source": [
    "TRANSFORMER_MODEL_NAME = 'roberta-base'"
   ]
  },
  {
   "cell_type": "markdown",
   "metadata": {},
   "source": [
    "### Loading the dataset"
   ]
  },
  {
   "cell_type": "code",
   "execution_count": 8,
   "metadata": {},
   "outputs": [
    {
     "name": "stderr",
     "output_type": "stream",
     "text": [
      "No config specified, defaulting to: multi_woz_v22/v2.2_active_only\n",
      "Found cached dataset multi_woz_v22 (/home/adrian/.cache/huggingface/datasets/multi_woz_v22/v2.2_active_only/2.2.0/6719c8b21478299411a0c6fdb7137c3ebab2e6425129af831687fb7851c69eb5)\n"
     ]
    },
    {
     "data": {
      "application/vnd.jupyter.widget-view+json": {
       "model_id": "2a3832cc04de4c598d549aae629f7461",
       "version_major": 2,
       "version_minor": 0
      },
      "text/plain": [
       "  0%|          | 0/3 [00:00<?, ?it/s]"
      ]
     },
     "metadata": {},
     "output_type": "display_data"
    },
    {
     "name": "stdout",
     "output_type": "stream",
     "text": [
      "{'turn_id': array(['0', '1', '2', '3', '4', '5', '6', '7', '8', '9', '10', '11'],\n",
      "      dtype=object), 'speaker': array([0, 1, 0, 1, 0, 1, 0, 1, 0, 1, 0, 1]), 'utterance': array(['i need a place to dine in the center thats expensive',\n",
      "       'I have several options for you; do you prefer African, Asian, or British food?',\n",
      "       'Any sort of food would be fine, as long as it is a bit expensive. Could I get the phone number for your recommendation?',\n",
      "       'There is an Afrian place named Bedouin in the centre. How does that sound?',\n",
      "       'Sounds good, could I get that phone number? Also, could you recommend me an expensive hotel?',\n",
      "       \"Bedouin's phone is 01223367660. As far as hotels go, I recommend the University Arms Hotel in the center of town.\",\n",
      "       'Yes. Can you book it for me?',\n",
      "       'Sure, when would you like that reservation?',\n",
      "       'i want to book it for 2 people and 2 nights starting from saturday.',\n",
      "       'Your booking was successful. Your reference number is FRGZWQL2 . May I help you further?',\n",
      "       'That is all I need to know. Thanks, good bye.',\n",
      "       'Thank you so much for Cambridge TownInfo centre. Have a great day!'],\n",
      "      dtype=object), 'frames': array([{'service': array(['restaurant', 'hotel'], dtype=object), 'state': array([{'active_intent': 'find_restaurant', 'requested_slots': array([], dtype=object), 'slots_values': {'slots_values_name': array(['restaurant-area', 'restaurant-pricerange'], dtype=object), 'slots_values_list': array([array(['centre'], dtype=object),\n",
      "                     array(['expensive'], dtype=object)], dtype=object)}}                                                                                                                                                                                           ,\n",
      "              {'active_intent': 'find_hotel', 'requested_slots': array([], dtype=object), 'slots_values': {'slots_values_name': array([], dtype=object), 'slots_values_list': array([], dtype=object)}}],\n",
      "             dtype=object), 'slots': array([{'slot': array([], dtype=object), 'value': array([], dtype=object), 'start': array([], dtype=int32), 'exclusive_end': array([], dtype=int32), 'copy_from': array([], dtype=object), 'copy_from_value': array([], dtype=object)},\n",
      "              {'slot': array([], dtype=object), 'value': array([], dtype=object), 'start': array([], dtype=int32), 'exclusive_end': array([], dtype=int32), 'copy_from': array([], dtype=object), 'copy_from_value': array([], dtype=object)}],\n",
      "             dtype=object)}                                                                                                                                                                                                                                                                                                            ,\n",
      "       {'service': array([], dtype=object), 'state': array([], dtype=object), 'slots': array([], dtype=object)},\n",
      "       {'service': array(['restaurant', 'hotel'], dtype=object), 'state': array([{'active_intent': 'find_restaurant', 'requested_slots': array(['restaurant-food'], dtype=object), 'slots_values': {'slots_values_name': array(['restaurant-area', 'restaurant-pricerange'], dtype=object), 'slots_values_list': array([array(['centre'], dtype=object),\n",
      "                     array(['expensive'], dtype=object)], dtype=object)}}                                                                                                                                                                                                            ,\n",
      "              {'active_intent': 'find_hotel', 'requested_slots': array([], dtype=object), 'slots_values': {'slots_values_name': array([], dtype=object), 'slots_values_list': array([], dtype=object)}}],\n",
      "             dtype=object), 'slots': array([{'slot': array([], dtype=object), 'value': array([], dtype=object), 'start': array([], dtype=int32), 'exclusive_end': array([], dtype=int32), 'copy_from': array([], dtype=object), 'copy_from_value': array([], dtype=object)},\n",
      "              {'slot': array([], dtype=object), 'value': array([], dtype=object), 'start': array([], dtype=int32), 'exclusive_end': array([], dtype=int32), 'copy_from': array([], dtype=object), 'copy_from_value': array([], dtype=object)}],\n",
      "             dtype=object)}                                                                                                                                                                                                                                                                                                                             ,\n",
      "       {'service': array([], dtype=object), 'state': array([], dtype=object), 'slots': array([], dtype=object)},\n",
      "       {'service': array(['restaurant', 'hotel'], dtype=object), 'state': array([{'active_intent': 'find_restaurant', 'requested_slots': array(['restaurant-phone'], dtype=object), 'slots_values': {'slots_values_name': array(['restaurant-area', 'restaurant-name', 'restaurant-pricerange'],\n",
      "                    dtype=object), 'slots_values_list': array([array(['centre'], dtype=object), array(['bedouin'], dtype=object),\n",
      "                     array(['expensive'], dtype=object)], dtype=object)}}                                                                                                                                                    ,\n",
      "              {'active_intent': 'find_hotel', 'requested_slots': array([], dtype=object), 'slots_values': {'slots_values_name': array(['hotel-pricerange', 'hotel-type'], dtype=object), 'slots_values_list': array([array(['expensive'], dtype=object), array(['hotel'], dtype=object)],\n",
      "                    dtype=object)}}                                                                                                                                                                                                                                                      ],\n",
      "             dtype=object), 'slots': array([{'slot': array([], dtype=object), 'value': array([], dtype=object), 'start': array([], dtype=int32), 'exclusive_end': array([], dtype=int32), 'copy_from': array([], dtype=object), 'copy_from_value': array([], dtype=object)},\n",
      "              {'slot': array([], dtype=object), 'value': array([], dtype=object), 'start': array([], dtype=int32), 'exclusive_end': array([], dtype=int32), 'copy_from': array([], dtype=object), 'copy_from_value': array([], dtype=object)}],\n",
      "             dtype=object)}                                                                                                                                                                                                                                                                     ,\n",
      "       {'service': array([], dtype=object), 'state': array([], dtype=object), 'slots': array([], dtype=object)},\n",
      "       {'service': array(['hotel'], dtype=object), 'state': array([{'active_intent': 'find_hotel', 'requested_slots': array([], dtype=object), 'slots_values': {'slots_values_name': array(['hotel-name', 'hotel-pricerange', 'hotel-type'], dtype=object), 'slots_values_list': array([array(['university arms hotel'], dtype=object),\n",
      "                     array(['expensive'], dtype=object), array(['hotel'], dtype=object)],\n",
      "                    dtype=object)}}                                                                                                                                                                                                                                               ],\n",
      "             dtype=object), 'slots': array([{'slot': array([], dtype=object), 'value': array([], dtype=object), 'start': array([], dtype=int32), 'exclusive_end': array([], dtype=int32), 'copy_from': array([], dtype=object), 'copy_from_value': array([], dtype=object)}],\n",
      "             dtype=object)}                                                                                                                                                                                                                                                                                                            ,\n",
      "       {'service': array([], dtype=object), 'state': array([], dtype=object), 'slots': array([], dtype=object)},\n",
      "       {'service': array(['hotel'], dtype=object), 'state': array([{'active_intent': 'book_hotel', 'requested_slots': array([], dtype=object), 'slots_values': {'slots_values_name': array(['hotel-bookday', 'hotel-bookpeople', 'hotel-bookstay',\n",
      "                     'hotel-name', 'hotel-pricerange', 'hotel-type'], dtype=object), 'slots_values_list': array([array(['saturday'], dtype=object), array(['2'], dtype=object),\n",
      "                     array(['2'], dtype=object),\n",
      "                     array(['university arms hotel'], dtype=object),\n",
      "                     array(['expensive'], dtype=object), array(['hotel'], dtype=object)],\n",
      "                    dtype=object)}}                                                                                                                                                          ],\n",
      "             dtype=object), 'slots': array([{'slot': array([], dtype=object), 'value': array([], dtype=object), 'start': array([], dtype=int32), 'exclusive_end': array([], dtype=int32), 'copy_from': array([], dtype=object), 'copy_from_value': array([], dtype=object)}],\n",
      "             dtype=object)}                                                                                                                                                                                                                                                  ,\n",
      "       {'service': array([], dtype=object), 'state': array([], dtype=object), 'slots': array([], dtype=object)},\n",
      "       {'service': array([], dtype=object), 'state': array([], dtype=object), 'slots': array([], dtype=object)},\n",
      "       {'service': array([], dtype=object), 'state': array([], dtype=object), 'slots': array([], dtype=object)}],\n",
      "      dtype=object), 'dialogue_acts': array([{'dialog_act': {'act_type': array(['Restaurant-Inform'], dtype=object), 'act_slots': array([{'slot_name': array(['area', 'pricerange'], dtype=object), 'slot_value': array(['centre', 'expensive'], dtype=object)}],\n",
      "             dtype=object)}, 'span_info': {'act_type': array(['Restaurant-Inform', 'Restaurant-Inform'], dtype=object), 'act_slot_name': array(['area', 'pricerange'], dtype=object), 'act_slot_value': array(['centre', 'expensive'], dtype=object), 'span_start': array([30, 43], dtype=int32), 'span_end': array([36, 52], dtype=int32)}},\n",
      "       {'dialog_act': {'act_type': array(['Restaurant-Inform', 'Restaurant-Select'], dtype=object), 'act_slots': array([{'slot_name': array(['choice'], dtype=object), 'slot_value': array(['several'], dtype=object)},\n",
      "              {'slot_name': array(['food', 'food', 'food'], dtype=object), 'slot_value': array(['African', 'Asian', 'British'], dtype=object)}],\n",
      "             dtype=object)}, 'span_info': {'act_type': array(['Restaurant-Inform', 'Restaurant-Select', 'Restaurant-Select',\n",
      "              'Restaurant-Select'], dtype=object), 'act_slot_name': array(['choice', 'food', 'food', 'food'], dtype=object), 'act_slot_value': array(['several', 'African', 'Asian', 'British'], dtype=object), 'span_start': array([ 7, 46, 55, 65], dtype=int32), 'span_end': array([14, 53, 60, 72], dtype=int32)}},\n",
      "       {'dialog_act': {'act_type': array(['Restaurant-Request'], dtype=object), 'act_slots': array([{'slot_name': array(['food'], dtype=object), 'slot_value': array(['?'], dtype=object)}],\n",
      "             dtype=object)}, 'span_info': {'act_type': array([], dtype=object), 'act_slot_name': array([], dtype=object), 'act_slot_value': array([], dtype=object), 'span_start': array([], dtype=int32), 'span_end': array([], dtype=int32)}},\n",
      "       {'dialog_act': {'act_type': array(['Restaurant-Inform'], dtype=object), 'act_slots': array([{'slot_name': array(['area', 'food', 'name'], dtype=object), 'slot_value': array(['centre', 'Afrian', 'Bedouin'], dtype=object)}],\n",
      "             dtype=object)}, 'span_info': {'act_type': array(['Restaurant-Inform', 'Restaurant-Inform', 'Restaurant-Inform'],\n",
      "             dtype=object), 'act_slot_name': array(['food', 'name', 'area'], dtype=object), 'act_slot_value': array(['Afrian', 'Bedouin', 'centre'], dtype=object), 'span_start': array([12, 31, 46], dtype=int32), 'span_end': array([18, 38, 52], dtype=int32)}},\n",
      "       {'dialog_act': {'act_type': array(['Hotel-Inform', 'Restaurant-Request'], dtype=object), 'act_slots': array([{'slot_name': array(['pricerange', 'type'], dtype=object), 'slot_value': array(['expensive', 'hotel'], dtype=object)},\n",
      "              {'slot_name': array(['phone'], dtype=object), 'slot_value': array(['?'], dtype=object)}],\n",
      "             dtype=object)}, 'span_info': {'act_type': array(['Hotel-Inform', 'Hotel-Inform'], dtype=object), 'act_slot_name': array(['pricerange', 'type'], dtype=object), 'act_slot_value': array(['expensive', 'hotel'], dtype=object), 'span_start': array([76, 86], dtype=int32), 'span_end': array([85, 91], dtype=int32)}},\n",
      "       {'dialog_act': {'act_type': array(['Hotel-Recommend', 'Restaurant-Inform'], dtype=object), 'act_slots': array([{'slot_name': array(['area', 'name'], dtype=object), 'slot_value': array(['center of town', 'the University Arms Hotel'], dtype=object)},\n",
      "              {'slot_name': array(['name', 'phone'], dtype=object), 'slot_value': array(['Bedouin', '01223367660'], dtype=object)}],\n",
      "             dtype=object)}, 'span_info': {'act_type': array(['Restaurant-Inform', 'Restaurant-Inform', 'Hotel-Recommend',\n",
      "              'Hotel-Recommend'], dtype=object), 'act_slot_name': array(['name', 'phone', 'name', 'area'], dtype=object), 'act_slot_value': array(['Bedouin', '01223367660', 'the University Arms Hotel',\n",
      "              'center of town'], dtype=object), 'span_start': array([ 0, 19, 65, 98], dtype=int32), 'span_end': array([  7,  30,  90, 112], dtype=int32)}}                                                                                                     ,\n",
      "       {'dialog_act': {'act_type': array(['Hotel-Inform'], dtype=object), 'act_slots': array([{'slot_name': array(['none'], dtype=object), 'slot_value': array(['none'], dtype=object)}],\n",
      "             dtype=object)}, 'span_info': {'act_type': array([], dtype=object), 'act_slot_name': array([], dtype=object), 'act_slot_value': array([], dtype=object), 'span_start': array([], dtype=int32), 'span_end': array([], dtype=int32)}},\n",
      "       {'dialog_act': {'act_type': array(['Booking-Request'], dtype=object), 'act_slots': array([{'slot_name': array(['bookday'], dtype=object), 'slot_value': array(['?'], dtype=object)}],\n",
      "             dtype=object)}, 'span_info': {'act_type': array([], dtype=object), 'act_slot_name': array([], dtype=object), 'act_slot_value': array([], dtype=object), 'span_start': array([], dtype=int32), 'span_end': array([], dtype=int32)}},\n",
      "       {'dialog_act': {'act_type': array(['Hotel-Inform'], dtype=object), 'act_slots': array([{'slot_name': array(['bookday', 'bookpeople', 'bookstay'], dtype=object), 'slot_value': array(['saturday', '2', '2'], dtype=object)}],\n",
      "             dtype=object)}, 'span_info': {'act_type': array(['Hotel-Inform', 'Hotel-Inform', 'Hotel-Inform'], dtype=object), 'act_slot_name': array(['bookstay', 'bookpeople', 'bookday'], dtype=object), 'act_slot_value': array(['2', '2', 'saturday'], dtype=object), 'span_start': array([22, 35, 58], dtype=int32), 'span_end': array([23, 36, 66], dtype=int32)}},\n",
      "       {'dialog_act': {'act_type': array(['Booking-Book', 'general-reqmore'], dtype=object), 'act_slots': array([{'slot_name': array(['ref'], dtype=object), 'slot_value': array(['FRGZWQL2'], dtype=object)},\n",
      "              {'slot_name': array(['none'], dtype=object), 'slot_value': array(['none'], dtype=object)}],\n",
      "             dtype=object)}, 'span_info': {'act_type': array(['Booking-Book'], dtype=object), 'act_slot_name': array(['ref'], dtype=object), 'act_slot_value': array(['FRGZWQL2'], dtype=object), 'span_start': array([54], dtype=int32), 'span_end': array([62], dtype=int32)}},\n",
      "       {'dialog_act': {'act_type': array(['general-bye'], dtype=object), 'act_slots': array([{'slot_name': array(['none'], dtype=object), 'slot_value': array(['none'], dtype=object)}],\n",
      "             dtype=object)}, 'span_info': {'act_type': array([], dtype=object), 'act_slot_name': array([], dtype=object), 'act_slot_value': array([], dtype=object), 'span_start': array([], dtype=int32), 'span_end': array([], dtype=int32)}},\n",
      "       {'dialog_act': {'act_type': array(['general-bye', 'general-welcome'], dtype=object), 'act_slots': array([{'slot_name': array(['none'], dtype=object), 'slot_value': array(['none'], dtype=object)},\n",
      "              {'slot_name': array(['none'], dtype=object), 'slot_value': array(['none'], dtype=object)}],\n",
      "             dtype=object)}, 'span_info': {'act_type': array([], dtype=object), 'act_slot_name': array([], dtype=object), 'act_slot_value': array([], dtype=object), 'span_start': array([], dtype=int32), 'span_end': array([], dtype=int32)}}],\n",
      "      dtype=object)}\n"
     ]
    }
   ],
   "source": [
    "dataset = load_dataset('multi_woz_v22')\n",
    "\n",
    "train = pd.DataFrame(columns=dataset['train'].to_pandas().columns)\n",
    "\n",
    "for _, row in dataset['train'].to_pandas().iterrows():\n",
    "    if len(row['services']) != 0 and set(row['services']) <= set(['restaurant', 'hotel']):\n",
    "        train.loc[len(train)] = row\n",
    "        \n",
    "print(train.loc[0].turns)"
   ]
  },
  {
   "cell_type": "markdown",
   "metadata": {},
   "source": [
    "### Loading model"
   ]
  },
  {
   "cell_type": "code",
   "execution_count": 9,
   "metadata": {},
   "outputs": [],
   "source": [
    "class TransformerClassifier(nn.Module):\n",
    "    def __init__(self, base_model_name, num_classes):\n",
    "        super().__init__()\n",
    "        self.transformer = RobertaModel.from_pretrained(base_model_name)\n",
    "        self.pre_classifier = nn.Linear(768, 768)\n",
    "        self.relu = nn.ReLU()\n",
    "        self.dropout = nn.Dropout(0.3)\n",
    "        self.classifier = nn.Linear(768, num_classes)\n",
    "    \n",
    "    def forward(self, input):\n",
    "        cls = self.transformer(**input).last_hidden_state[:, 0, :]\n",
    "        x = self.pre_classifier(cls)\n",
    "        x = self.relu(x)\n",
    "        x = self.dropout(x)\n",
    "        x = self.classifier(x)\n",
    "        return x\n",
    "    "
   ]
  },
  {
   "cell_type": "code",
   "execution_count": 10,
   "metadata": {},
   "outputs": [
    {
     "name": "stderr",
     "output_type": "stream",
     "text": [
      "Some weights of the model checkpoint at roberta-base were not used when initializing RobertaModel: ['lm_head.bias', 'lm_head.dense.weight', 'lm_head.layer_norm.weight', 'lm_head.decoder.weight', 'lm_head.dense.bias', 'lm_head.layer_norm.bias']\n",
      "- This IS expected if you are initializing RobertaModel from the checkpoint of a model trained on another task or with another architecture (e.g. initializing a BertForSequenceClassification model from a BertForPreTraining model).\n",
      "- This IS NOT expected if you are initializing RobertaModel from the checkpoint of a model that you expect to be exactly identical (initializing a BertForSequenceClassification model from a BertForSequenceClassification model).\n"
     ]
    },
    {
     "name": "stdout",
     "output_type": "stream",
     "text": [
      "torch.Size([1, 2])\n"
     ]
    }
   ],
   "source": [
    "tokenizer = AutoTokenizer.from_pretrained(TRANSFORMER_MODEL_NAME)\n",
    "classifier = TransformerClassifier(TRANSFORMER_MODEL_NAME, 2)\n",
    "\n",
    "inputs = tokenizer(\"We love doing NLI!\", return_tensors=\"pt\")\n",
    "output = classifier(inputs)\n",
    "print(output.shape)"
   ]
  }
 ],
 "metadata": {
  "kernelspec": {
   "display_name": "Python 3",
   "language": "python",
   "name": "python3"
  },
  "language_info": {
   "codemirror_mode": {
    "name": "ipython",
    "version": 3
   },
   "file_extension": ".py",
   "mimetype": "text/x-python",
   "name": "python",
   "nbconvert_exporter": "python",
   "pygments_lexer": "ipython3",
   "version": "3.10.12"
  }
 },
 "nbformat": 4,
 "nbformat_minor": 2
}

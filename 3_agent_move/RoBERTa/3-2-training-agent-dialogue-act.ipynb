{
 "cells": [
  {
   "cell_type": "code",
   "execution_count": 1,
   "id": "df630509",
   "metadata": {
    "execution": {
     "iopub.execute_input": "2023-12-18T16:56:39.130873Z",
     "iopub.status.busy": "2023-12-18T16:56:39.129974Z",
     "iopub.status.idle": "2023-12-18T16:56:39.134547Z",
     "shell.execute_reply": "2023-12-18T16:56:39.133802Z"
    },
    "executionInfo": {
     "elapsed": 2948,
     "status": "ok",
     "timestamp": 1702260859756,
     "user": {
      "displayName": "Cristian Bassotto",
      "userId": "01183163487853409209"
     },
     "user_tz": -60
    },
    "id": "5AhFCv5N4qLF",
    "outputId": "3378655d-31ce-4255-d976-3442c6876cf0",
    "papermill": {
     "duration": 0.029326,
     "end_time": "2023-12-18T16:56:39.136522",
     "exception": false,
     "start_time": "2023-12-18T16:56:39.107196",
     "status": "completed"
    },
    "tags": []
   },
   "outputs": [],
   "source": [
    "#Mount Google drive\n",
    "#from google.colab import drive\n",
    "#drive.mount('/content/drive')"
   ]
  },
  {
   "cell_type": "code",
   "execution_count": 2,
   "id": "05a086ca",
   "metadata": {
    "execution": {
     "iopub.execute_input": "2023-12-18T16:56:39.179336Z",
     "iopub.status.busy": "2023-12-18T16:56:39.178773Z",
     "iopub.status.idle": "2023-12-18T16:56:39.182662Z",
     "shell.execute_reply": "2023-12-18T16:56:39.181782Z"
    },
    "executionInfo": {
     "elapsed": 9,
     "status": "ok",
     "timestamp": 1702260859757,
     "user": {
      "displayName": "Cristian Bassotto",
      "userId": "01183163487853409209"
     },
     "user_tz": -60
    },
    "id": "07QFDivu4xL_",
    "outputId": "93fceb19-c6b9-4fe9-f025-4b4c6b8bde32",
    "papermill": {
     "duration": 0.027185,
     "end_time": "2023-12-18T16:56:39.184560",
     "exception": false,
     "start_time": "2023-12-18T16:56:39.157375",
     "status": "completed"
    },
    "tags": []
   },
   "outputs": [],
   "source": [
    "#change current working directory\n",
    "#%cd \"/content/drive/MyDrive/1_dialog_act\""
   ]
  },
  {
   "cell_type": "code",
   "execution_count": 3,
   "id": "75eac167",
   "metadata": {
    "execution": {
     "iopub.execute_input": "2023-12-18T16:56:39.227642Z",
     "iopub.status.busy": "2023-12-18T16:56:39.227294Z",
     "iopub.status.idle": "2023-12-18T16:57:34.817034Z",
     "shell.execute_reply": "2023-12-18T16:57:34.816067Z"
    },
    "executionInfo": {
     "elapsed": 25134,
     "status": "ok",
     "timestamp": 1702260884884,
     "user": {
      "displayName": "Cristian Bassotto",
      "userId": "01183163487853409209"
     },
     "user_tz": -60
    },
    "id": "srMMIeSg44Mr",
    "outputId": "9aeb0ac7-d027-468f-cb93-205128a04a60",
    "papermill": {
     "duration": 55.614506,
     "end_time": "2023-12-18T16:57:34.819343",
     "exception": false,
     "start_time": "2023-12-18T16:56:39.204837",
     "status": "completed"
    },
    "tags": []
   },
   "outputs": [
    {
     "name": "stdout",
     "output_type": "stream",
     "text": [
      "Requirement already satisfied: transformers in /opt/conda/lib/python3.10/site-packages (4.35.2)\r\n",
      "Requirement already satisfied: filelock in /opt/conda/lib/python3.10/site-packages (from transformers) (3.12.2)\r\n",
      "Requirement already satisfied: huggingface-hub<1.0,>=0.16.4 in /opt/conda/lib/python3.10/site-packages (from transformers) (0.19.4)\r\n",
      "Requirement already satisfied: numpy>=1.17 in /opt/conda/lib/python3.10/site-packages (from transformers) (1.24.3)\r\n",
      "Requirement already satisfied: packaging>=20.0 in /opt/conda/lib/python3.10/site-packages (from transformers) (21.3)\r\n",
      "Requirement already satisfied: pyyaml>=5.1 in /opt/conda/lib/python3.10/site-packages (from transformers) (6.0.1)\r\n",
      "Requirement already satisfied: regex!=2019.12.17 in /opt/conda/lib/python3.10/site-packages (from transformers) (2023.8.8)\r\n",
      "Requirement already satisfied: requests in /opt/conda/lib/python3.10/site-packages (from transformers) (2.31.0)\r\n",
      "Requirement already satisfied: tokenizers<0.19,>=0.14 in /opt/conda/lib/python3.10/site-packages (from transformers) (0.15.0)\r\n",
      "Requirement already satisfied: safetensors>=0.3.1 in /opt/conda/lib/python3.10/site-packages (from transformers) (0.4.1)\r\n",
      "Requirement already satisfied: tqdm>=4.27 in /opt/conda/lib/python3.10/site-packages (from transformers) (4.66.1)\r\n",
      "Requirement already satisfied: fsspec>=2023.5.0 in /opt/conda/lib/python3.10/site-packages (from huggingface-hub<1.0,>=0.16.4->transformers) (2023.12.1)\r\n",
      "Requirement already satisfied: typing-extensions>=3.7.4.3 in /opt/conda/lib/python3.10/site-packages (from huggingface-hub<1.0,>=0.16.4->transformers) (4.5.0)\r\n",
      "Requirement already satisfied: pyparsing!=3.0.5,>=2.0.2 in /opt/conda/lib/python3.10/site-packages (from packaging>=20.0->transformers) (3.0.9)\r\n",
      "Requirement already satisfied: charset-normalizer<4,>=2 in /opt/conda/lib/python3.10/site-packages (from requests->transformers) (3.2.0)\r\n",
      "Requirement already satisfied: idna<4,>=2.5 in /opt/conda/lib/python3.10/site-packages (from requests->transformers) (3.4)\r\n",
      "Requirement already satisfied: urllib3<3,>=1.21.1 in /opt/conda/lib/python3.10/site-packages (from requests->transformers) (1.26.15)\r\n",
      "Requirement already satisfied: certifi>=2017.4.17 in /opt/conda/lib/python3.10/site-packages (from requests->transformers) (2023.11.17)\r\n",
      "Requirement already satisfied: accelerate in /opt/conda/lib/python3.10/site-packages (0.25.0)\r\n",
      "Requirement already satisfied: numpy>=1.17 in /opt/conda/lib/python3.10/site-packages (from accelerate) (1.24.3)\r\n",
      "Requirement already satisfied: packaging>=20.0 in /opt/conda/lib/python3.10/site-packages (from accelerate) (21.3)\r\n",
      "Requirement already satisfied: psutil in /opt/conda/lib/python3.10/site-packages (from accelerate) (5.9.3)\r\n",
      "Requirement already satisfied: pyyaml in /opt/conda/lib/python3.10/site-packages (from accelerate) (6.0.1)\r\n",
      "Requirement already satisfied: torch>=1.10.0 in /opt/conda/lib/python3.10/site-packages (from accelerate) (2.0.0)\r\n",
      "Requirement already satisfied: huggingface-hub in /opt/conda/lib/python3.10/site-packages (from accelerate) (0.19.4)\r\n",
      "Requirement already satisfied: safetensors>=0.3.1 in /opt/conda/lib/python3.10/site-packages (from accelerate) (0.4.1)\r\n",
      "Requirement already satisfied: pyparsing!=3.0.5,>=2.0.2 in /opt/conda/lib/python3.10/site-packages (from packaging>=20.0->accelerate) (3.0.9)\r\n",
      "Requirement already satisfied: filelock in /opt/conda/lib/python3.10/site-packages (from torch>=1.10.0->accelerate) (3.12.2)\r\n",
      "Requirement already satisfied: typing-extensions in /opt/conda/lib/python3.10/site-packages (from torch>=1.10.0->accelerate) (4.5.0)\r\n",
      "Requirement already satisfied: sympy in /opt/conda/lib/python3.10/site-packages (from torch>=1.10.0->accelerate) (1.12)\r\n",
      "Requirement already satisfied: networkx in /opt/conda/lib/python3.10/site-packages (from torch>=1.10.0->accelerate) (3.1)\r\n",
      "Requirement already satisfied: jinja2 in /opt/conda/lib/python3.10/site-packages (from torch>=1.10.0->accelerate) (3.1.2)\r\n",
      "Requirement already satisfied: fsspec>=2023.5.0 in /opt/conda/lib/python3.10/site-packages (from huggingface-hub->accelerate) (2023.12.1)\r\n",
      "Requirement already satisfied: requests in /opt/conda/lib/python3.10/site-packages (from huggingface-hub->accelerate) (2.31.0)\r\n",
      "Requirement already satisfied: tqdm>=4.42.1 in /opt/conda/lib/python3.10/site-packages (from huggingface-hub->accelerate) (4.66.1)\r\n",
      "Requirement already satisfied: MarkupSafe>=2.0 in /opt/conda/lib/python3.10/site-packages (from jinja2->torch>=1.10.0->accelerate) (2.1.3)\r\n",
      "Requirement already satisfied: charset-normalizer<4,>=2 in /opt/conda/lib/python3.10/site-packages (from requests->huggingface-hub->accelerate) (3.2.0)\r\n",
      "Requirement already satisfied: idna<4,>=2.5 in /opt/conda/lib/python3.10/site-packages (from requests->huggingface-hub->accelerate) (3.4)\r\n",
      "Requirement already satisfied: urllib3<3,>=1.21.1 in /opt/conda/lib/python3.10/site-packages (from requests->huggingface-hub->accelerate) (1.26.15)\r\n",
      "Requirement already satisfied: certifi>=2017.4.17 in /opt/conda/lib/python3.10/site-packages (from requests->huggingface-hub->accelerate) (2023.11.17)\r\n",
      "Requirement already satisfied: mpmath>=0.19 in /opt/conda/lib/python3.10/site-packages (from sympy->torch>=1.10.0->accelerate) (1.3.0)\r\n",
      "/opt/conda/lib/python3.10/site-packages/scipy/__init__.py:146: UserWarning: A NumPy version >=1.16.5 and <1.23.0 is required for this version of SciPy (detected version 1.24.3\r\n",
      "  warnings.warn(f\"A NumPy version >={np_minversion} and <{np_maxversion}\"\r\n",
      "Collecting en-core-web-lg==3.7.1\r\n",
      "  Downloading https://github.com/explosion/spacy-models/releases/download/en_core_web_lg-3.7.1/en_core_web_lg-3.7.1-py3-none-any.whl (587.7 MB)\r\n",
      "\u001b[2K     \u001b[90m━━━━━━━━━━━━━━━━━━━━━━━━━━━━━━━━━━━━━━━\u001b[0m \u001b[32m587.7/587.7 MB\u001b[0m \u001b[31m2.0 MB/s\u001b[0m eta \u001b[36m0:00:00\u001b[0m\r\n",
      "\u001b[?25hRequirement already satisfied: spacy<3.8.0,>=3.7.2 in /opt/conda/lib/python3.10/site-packages (from en-core-web-lg==3.7.1) (3.7.2)\r\n",
      "Requirement already satisfied: spacy-legacy<3.1.0,>=3.0.11 in /opt/conda/lib/python3.10/site-packages (from spacy<3.8.0,>=3.7.2->en-core-web-lg==3.7.1) (3.0.12)\r\n",
      "Requirement already satisfied: spacy-loggers<2.0.0,>=1.0.0 in /opt/conda/lib/python3.10/site-packages (from spacy<3.8.0,>=3.7.2->en-core-web-lg==3.7.1) (1.0.5)\r\n",
      "Requirement already satisfied: murmurhash<1.1.0,>=0.28.0 in /opt/conda/lib/python3.10/site-packages (from spacy<3.8.0,>=3.7.2->en-core-web-lg==3.7.1) (1.0.10)\r\n",
      "Requirement already satisfied: cymem<2.1.0,>=2.0.2 in /opt/conda/lib/python3.10/site-packages (from spacy<3.8.0,>=3.7.2->en-core-web-lg==3.7.1) (2.0.8)\r\n",
      "Requirement already satisfied: preshed<3.1.0,>=3.0.2 in /opt/conda/lib/python3.10/site-packages (from spacy<3.8.0,>=3.7.2->en-core-web-lg==3.7.1) (3.0.9)\r\n",
      "Requirement already satisfied: thinc<8.3.0,>=8.1.8 in /opt/conda/lib/python3.10/site-packages (from spacy<3.8.0,>=3.7.2->en-core-web-lg==3.7.1) (8.2.1)\r\n",
      "Requirement already satisfied: wasabi<1.2.0,>=0.9.1 in /opt/conda/lib/python3.10/site-packages (from spacy<3.8.0,>=3.7.2->en-core-web-lg==3.7.1) (1.1.2)\r\n",
      "Requirement already satisfied: srsly<3.0.0,>=2.4.3 in /opt/conda/lib/python3.10/site-packages (from spacy<3.8.0,>=3.7.2->en-core-web-lg==3.7.1) (2.4.8)\r\n",
      "Requirement already satisfied: catalogue<2.1.0,>=2.0.6 in /opt/conda/lib/python3.10/site-packages (from spacy<3.8.0,>=3.7.2->en-core-web-lg==3.7.1) (2.0.10)\r\n",
      "Requirement already satisfied: weasel<0.4.0,>=0.1.0 in /opt/conda/lib/python3.10/site-packages (from spacy<3.8.0,>=3.7.2->en-core-web-lg==3.7.1) (0.3.4)\r\n",
      "Requirement already satisfied: typer<0.10.0,>=0.3.0 in /opt/conda/lib/python3.10/site-packages (from spacy<3.8.0,>=3.7.2->en-core-web-lg==3.7.1) (0.9.0)\r\n",
      "Requirement already satisfied: smart-open<7.0.0,>=5.2.1 in /opt/conda/lib/python3.10/site-packages (from spacy<3.8.0,>=3.7.2->en-core-web-lg==3.7.1) (6.3.0)\r\n",
      "Requirement already satisfied: tqdm<5.0.0,>=4.38.0 in /opt/conda/lib/python3.10/site-packages (from spacy<3.8.0,>=3.7.2->en-core-web-lg==3.7.1) (4.66.1)\r\n",
      "Requirement already satisfied: requests<3.0.0,>=2.13.0 in /opt/conda/lib/python3.10/site-packages (from spacy<3.8.0,>=3.7.2->en-core-web-lg==3.7.1) (2.31.0)\r\n",
      "Requirement already satisfied: pydantic!=1.8,!=1.8.1,<3.0.0,>=1.7.4 in /opt/conda/lib/python3.10/site-packages (from spacy<3.8.0,>=3.7.2->en-core-web-lg==3.7.1) (1.10.12)\r\n",
      "Requirement already satisfied: jinja2 in /opt/conda/lib/python3.10/site-packages (from spacy<3.8.0,>=3.7.2->en-core-web-lg==3.7.1) (3.1.2)\r\n",
      "Requirement already satisfied: setuptools in /opt/conda/lib/python3.10/site-packages (from spacy<3.8.0,>=3.7.2->en-core-web-lg==3.7.1) (68.1.2)\r\n",
      "Requirement already satisfied: packaging>=20.0 in /opt/conda/lib/python3.10/site-packages (from spacy<3.8.0,>=3.7.2->en-core-web-lg==3.7.1) (21.3)\r\n",
      "Requirement already satisfied: langcodes<4.0.0,>=3.2.0 in /opt/conda/lib/python3.10/site-packages (from spacy<3.8.0,>=3.7.2->en-core-web-lg==3.7.1) (3.3.0)\r\n",
      "Requirement already satisfied: numpy>=1.19.0 in /opt/conda/lib/python3.10/site-packages (from spacy<3.8.0,>=3.7.2->en-core-web-lg==3.7.1) (1.24.3)\r\n",
      "Requirement already satisfied: pyparsing!=3.0.5,>=2.0.2 in /opt/conda/lib/python3.10/site-packages (from packaging>=20.0->spacy<3.8.0,>=3.7.2->en-core-web-lg==3.7.1) (3.0.9)\r\n",
      "Requirement already satisfied: typing-extensions>=4.2.0 in /opt/conda/lib/python3.10/site-packages (from pydantic!=1.8,!=1.8.1,<3.0.0,>=1.7.4->spacy<3.8.0,>=3.7.2->en-core-web-lg==3.7.1) (4.5.0)\r\n",
      "Requirement already satisfied: charset-normalizer<4,>=2 in /opt/conda/lib/python3.10/site-packages (from requests<3.0.0,>=2.13.0->spacy<3.8.0,>=3.7.2->en-core-web-lg==3.7.1) (3.2.0)\r\n",
      "Requirement already satisfied: idna<4,>=2.5 in /opt/conda/lib/python3.10/site-packages (from requests<3.0.0,>=2.13.0->spacy<3.8.0,>=3.7.2->en-core-web-lg==3.7.1) (3.4)\r\n",
      "Requirement already satisfied: urllib3<3,>=1.21.1 in /opt/conda/lib/python3.10/site-packages (from requests<3.0.0,>=2.13.0->spacy<3.8.0,>=3.7.2->en-core-web-lg==3.7.1) (1.26.15)\r\n",
      "Requirement already satisfied: certifi>=2017.4.17 in /opt/conda/lib/python3.10/site-packages (from requests<3.0.0,>=2.13.0->spacy<3.8.0,>=3.7.2->en-core-web-lg==3.7.1) (2023.11.17)\r\n",
      "Requirement already satisfied: blis<0.8.0,>=0.7.8 in /opt/conda/lib/python3.10/site-packages (from thinc<8.3.0,>=8.1.8->spacy<3.8.0,>=3.7.2->en-core-web-lg==3.7.1) (0.7.10)\r\n",
      "Requirement already satisfied: confection<1.0.0,>=0.0.1 in /opt/conda/lib/python3.10/site-packages (from thinc<8.3.0,>=8.1.8->spacy<3.8.0,>=3.7.2->en-core-web-lg==3.7.1) (0.1.4)\r\n",
      "Requirement already satisfied: click<9.0.0,>=7.1.1 in /opt/conda/lib/python3.10/site-packages (from typer<0.10.0,>=0.3.0->spacy<3.8.0,>=3.7.2->en-core-web-lg==3.7.1) (8.1.7)\r\n",
      "Requirement already satisfied: cloudpathlib<0.17.0,>=0.7.0 in /opt/conda/lib/python3.10/site-packages (from weasel<0.4.0,>=0.1.0->spacy<3.8.0,>=3.7.2->en-core-web-lg==3.7.1) (0.16.0)\r\n",
      "Requirement already satisfied: MarkupSafe>=2.0 in /opt/conda/lib/python3.10/site-packages (from jinja2->spacy<3.8.0,>=3.7.2->en-core-web-lg==3.7.1) (2.1.3)\r\n",
      "\u001b[38;5;2m✔ Download and installation successful\u001b[0m\r\n",
      "You can now load the package via spacy.load('en_core_web_lg')\r\n"
     ]
    }
   ],
   "source": [
    "!pip install transformers\n",
    "!pip install accelerate\n",
    "#!pip install datasets\n",
    "!python3 -m spacy download en_core_web_lg"
   ]
  },
  {
   "cell_type": "code",
   "execution_count": 4,
   "id": "7565b81f",
   "metadata": {
    "execution": {
     "iopub.execute_input": "2023-12-18T16:57:34.890464Z",
     "iopub.status.busy": "2023-12-18T16:57:34.890095Z",
     "iopub.status.idle": "2023-12-18T16:57:57.953844Z",
     "shell.execute_reply": "2023-12-18T16:57:57.953006Z"
    },
    "executionInfo": {
     "elapsed": 9,
     "status": "ok",
     "timestamp": 1702260884884,
     "user": {
      "displayName": "Cristian Bassotto",
      "userId": "01183163487853409209"
     },
     "user_tz": -60
    },
    "id": "VCMzJGrR4kv3",
    "papermill": {
     "duration": 23.101726,
     "end_time": "2023-12-18T16:57:57.956150",
     "exception": false,
     "start_time": "2023-12-18T16:57:34.854424",
     "status": "completed"
    },
    "tags": []
   },
   "outputs": [
    {
     "name": "stderr",
     "output_type": "stream",
     "text": [
      "/opt/conda/lib/python3.10/site-packages/scipy/__init__.py:146: UserWarning: A NumPy version >=1.16.5 and <1.23.0 is required for this version of SciPy (detected version 1.24.3\n",
      "  warnings.warn(f\"A NumPy version >={np_minversion} and <{np_maxversion}\"\n"
     ]
    },
    {
     "name": "stdout",
     "output_type": "stream",
     "text": [
      "[nltk_data] Downloading package punkt to /usr/share/nltk_data...\n",
      "[nltk_data]   Package punkt is already up-to-date!\n"
     ]
    }
   ],
   "source": [
    "import pandas as pd\n",
    "import numpy as np\n",
    "from tqdm import tqdm\n",
    "import torch\n",
    "from transformers import TrainingArguments, Trainer\n",
    "from transformers import BertForSequenceClassification, BertTokenizer, BertConfig\n",
    "from transformers import RobertaForSequenceClassification, RobertaTokenizer, RobertaConfig\n",
    "from transformers import XLNetForSequenceClassification, XLNetTokenizer, XLNetConfig\n",
    "from transformers import XLMForSequenceClassification, XLMTokenizer, XLMConfig\n",
    "from transformers import DistilBertForSequenceClassification, DistilBertTokenizer, DistilBertConfig\n",
    "from transformers import AlbertForSequenceClassification, AlbertTokenizer, AlbertConfig\n",
    "from transformers import AdamW\n",
    "from transformers import EarlyStoppingCallback, IntervalStrategy\n",
    "from torch.utils.data import DataLoader, TensorDataset, RandomSampler, Dataset\n",
    "from sklearn.preprocessing import MultiLabelBinarizer\n",
    "from sklearn.metrics import recall_score, precision_score, f1_score\n",
    "from torch import cuda\n",
    "from sklearn.metrics import accuracy_score, precision_recall_fscore_support, classification_report, confusion_matrix\n",
    "from sklearn.preprocessing import normalize\n",
    "from itertools import product\n",
    "import json\n",
    "import shutil\n",
    "\n",
    "import matplotlib.pyplot as plt\n",
    "import seaborn as sns\n",
    "import os\n",
    "import sys\n",
    "\n",
    "import nltk\n",
    "\n",
    "nltk.download('punkt')\n",
    "\n",
    "import spacy\n",
    "\n",
    "nlp = spacy.load(\"en_core_web_lg\")\n",
    "\n",
    "#sys.path.append(os.path.abspath('../../'))\n",
    "#from util import generate_metrics_latex_table"
   ]
  },
  {
   "cell_type": "markdown",
   "id": "e873f940",
   "metadata": {
    "papermill": {
     "duration": 0.034412,
     "end_time": "2023-12-18T16:57:58.025926",
     "exception": false,
     "start_time": "2023-12-18T16:57:57.991514",
     "status": "completed"
    },
    "tags": []
   },
   "source": [
    "## Parameters"
   ]
  },
  {
   "cell_type": "code",
   "execution_count": 5,
   "id": "e7e96a50",
   "metadata": {
    "execution": {
     "iopub.execute_input": "2023-12-18T16:57:58.142540Z",
     "iopub.status.busy": "2023-12-18T16:57:58.141470Z",
     "iopub.status.idle": "2023-12-18T16:57:58.149619Z",
     "shell.execute_reply": "2023-12-18T16:57:58.148725Z"
    },
    "executionInfo": {
     "elapsed": 8,
     "status": "ok",
     "timestamp": 1702260884884,
     "user": {
      "displayName": "Cristian Bassotto",
      "userId": "01183163487853409209"
     },
     "user_tz": -60
    },
    "id": "XHD6GUfLmeEY",
    "papermill": {
     "duration": 0.045746,
     "end_time": "2023-12-18T16:57:58.151423",
     "exception": false,
     "start_time": "2023-12-18T16:57:58.105677",
     "status": "completed"
    },
    "tags": []
   },
   "outputs": [],
   "source": [
    "SAVE_MODEL_TO_PATH = \"./saved_models/\"\n",
    "#TRAIN_DATA_SAVE_PATH = \"utterances_act_types/train.json\"\n",
    "#TEST_DATA_SAVE_PATH = \"utterances_act_types/test.json\"\n",
    "#VALID_DATA_SAVE_PATH = \"utterances_act_types/valid.json\"\n",
    "TRAIN_DATA_SAVE_PATH = \"/kaggle/input/preprocessed-agent-dialog-act/train.json\"\n",
    "TEST_DATA_SAVE_PATH = \"/kaggle/input/preprocessed-agent-dialog-act/test.json\"\n",
    "VALID_DATA_SAVE_PATH = \"/kaggle/input/preprocessed-agent-dialog-act/valid.json\"\n",
    "\n",
    "#best_model_path = SAVE_MODEL_TO_PATH + './best_model_dialog_act.pt'\n",
    "\n",
    "best_model_path = '/kaggle/input/saved-models/3_2_model_agent_dialog_act.pt'\n",
    "\n",
    "PRETRAINED_MODELS = {\n",
    "    'bert': 'bert-large-uncased',\n",
    "    'roberta': 'roberta-base',\n",
    "    'xlnet': 'xlnet-large-cased',\n",
    "    'xlm': 'xlm-mlm-en-2048',\n",
    "    'distilbert': 'distilbert-base-uncased',\n",
    "    'albert':'albert-base-v2'\n",
    "}\n",
    "\n",
    "MODEL_CLASSES = {\n",
    "    'bert': (BertForSequenceClassification, BertTokenizer, BertConfig),\n",
    "    'roberta': (RobertaForSequenceClassification, RobertaTokenizer, RobertaConfig),\n",
    "    'xlnet': (XLNetForSequenceClassification, XLNetTokenizer, XLNetConfig),\n",
    "    'xlm': (XLMForSequenceClassification, XLMTokenizer, XLMConfig),\n",
    "    'distilbert': (DistilBertForSequenceClassification, DistilBertTokenizer, DistilBertConfig),\n",
    "    'albert':(AlbertForSequenceClassification,AlbertTokenizer, AlbertConfig)\n",
    "}\n",
    "\n",
    "MODEL_TYPE = 'roberta'\n",
    "PRETRAINED_MODEL_NAME = PRETRAINED_MODELS[MODEL_TYPE]\n",
    "\n",
    "model_class, tokenizer_class, config_class = MODEL_CLASSES[MODEL_TYPE]\n",
    "\n",
    "LEARNING_RATE = 1e-5\n",
    "BATCH_SIZE = 32\n",
    "EPOCHS = 50\n",
    "WEIGHT_DECAY = 0.01"
   ]
  },
  {
   "cell_type": "markdown",
   "id": "bcc9a153",
   "metadata": {
    "papermill": {
     "duration": 0.034702,
     "end_time": "2023-12-18T16:57:58.220889",
     "exception": false,
     "start_time": "2023-12-18T16:57:58.186187",
     "status": "completed"
    },
    "tags": []
   },
   "source": [
    "## Loading preprocessed data"
   ]
  },
  {
   "cell_type": "code",
   "execution_count": 6,
   "id": "edb7b9fe",
   "metadata": {
    "execution": {
     "iopub.execute_input": "2023-12-18T16:57:58.291906Z",
     "iopub.status.busy": "2023-12-18T16:57:58.291536Z",
     "iopub.status.idle": "2023-12-18T16:57:58.296940Z",
     "shell.execute_reply": "2023-12-18T16:57:58.296025Z"
    },
    "executionInfo": {
     "elapsed": 8,
     "status": "ok",
     "timestamp": 1702260884885,
     "user": {
      "displayName": "Cristian Bassotto",
      "userId": "01183163487853409209"
     },
     "user_tz": -60
    },
    "id": "Dm-Dm52gmeEa",
    "papermill": {
     "duration": 0.043517,
     "end_time": "2023-12-18T16:57:58.299092",
     "exception": false,
     "start_time": "2023-12-18T16:57:58.255575",
     "status": "completed"
    },
    "tags": []
   },
   "outputs": [],
   "source": [
    "def save_variable_to_json(variable, file_path):\n",
    "    with open(file_path, 'w') as file:\n",
    "        json.dump(variable, file)\n",
    "\n",
    "def load_variable_from_json(file_path):\n",
    "    with open(file_path, 'r') as file:\n",
    "        variable = json.load(file)\n",
    "    return variable"
   ]
  },
  {
   "cell_type": "code",
   "execution_count": 7,
   "id": "5c32ccc6",
   "metadata": {
    "execution": {
     "iopub.execute_input": "2023-12-18T16:57:58.370947Z",
     "iopub.status.busy": "2023-12-18T16:57:58.370112Z",
     "iopub.status.idle": "2023-12-18T16:57:58.695625Z",
     "shell.execute_reply": "2023-12-18T16:57:58.694420Z"
    },
    "executionInfo": {
     "elapsed": 458,
     "status": "ok",
     "timestamp": 1702260885335,
     "user": {
      "displayName": "Cristian Bassotto",
      "userId": "01183163487853409209"
     },
     "user_tz": -60
    },
    "id": "9La38LT64kwA",
    "outputId": "9a32a5db-8163-432f-b24f-1658499bfb47",
    "papermill": {
     "duration": 0.363649,
     "end_time": "2023-12-18T16:57:58.697765",
     "exception": false,
     "start_time": "2023-12-18T16:57:58.334116",
     "status": "completed"
    },
    "tags": []
   },
   "outputs": [
    {
     "name": "stdout",
     "output_type": "stream",
     "text": [
      "Data loaded from file.\n"
     ]
    }
   ],
   "source": [
    "try:\n",
    "    X_train, y_train = load_variable_from_json(TRAIN_DATA_SAVE_PATH)\n",
    "    X_test, y_test = load_variable_from_json(TEST_DATA_SAVE_PATH)\n",
    "    X_valid, y_valid = load_variable_from_json(VALID_DATA_SAVE_PATH)\n",
    "\n",
    "    print('Data loaded from file.')\n",
    "except:\n",
    "    print('No saved data found.')"
   ]
  },
  {
   "cell_type": "code",
   "execution_count": 8,
   "id": "92ff4375",
   "metadata": {
    "execution": {
     "iopub.execute_input": "2023-12-18T16:57:58.769570Z",
     "iopub.status.busy": "2023-12-18T16:57:58.769208Z",
     "iopub.status.idle": "2023-12-18T16:57:58.941374Z",
     "shell.execute_reply": "2023-12-18T16:57:58.940547Z"
    },
    "executionInfo": {
     "elapsed": 352,
     "status": "ok",
     "timestamp": 1702260885683,
     "user": {
      "displayName": "Cristian Bassotto",
      "userId": "01183163487853409209"
     },
     "user_tz": -60
    },
    "id": "ExoqLooUFnlJ",
    "outputId": "720850de-7114-4320-cca0-18ee378e47e0",
    "papermill": {
     "duration": 0.21028,
     "end_time": "2023-12-18T16:57:58.943561",
     "exception": false,
     "start_time": "2023-12-18T16:57:58.733281",
     "status": "completed"
    },
    "tags": []
   },
   "outputs": [
    {
     "name": "stdout",
     "output_type": "stream",
     "text": [
      "Longest utterance length: 178\n",
      "Labels: ['Booking-Book', 'Booking-Inform', 'Booking-NoBook', 'Booking-Request', 'Hotel-Inform', 'Hotel-NoOffer', 'Hotel-Recommend', 'Hotel-Request', 'Hotel-Select', 'Restaurant-Inform', 'Restaurant-NoOffer', 'Restaurant-Recommend', 'Restaurant-Request', 'Restaurant-Select', 'general-bye', 'general-greet', 'general-reqmore', 'general-thank', 'general-welcome']\n"
     ]
    }
   ],
   "source": [
    "longest_train_data = max(X_train + X_test + X_valid, key=lambda x: len(x.split()))\n",
    "print('Longest utterance length:', len(longest_train_data.split()))\n",
    "\n",
    "num_labels = len(set([act for act_list in y_train for act in act_list ]))\n",
    "\n",
    "all_labels = sorted(set([act for act_list in y_train for act in act_list ]))\n",
    "print('Labels:', all_labels)\n"
   ]
  },
  {
   "cell_type": "markdown",
   "id": "b697f3ea",
   "metadata": {
    "papermill": {
     "duration": 0.034725,
     "end_time": "2023-12-18T16:57:59.013808",
     "exception": false,
     "start_time": "2023-12-18T16:57:58.979083",
     "status": "completed"
    },
    "tags": []
   },
   "source": [
    "## Tokenizing and creating dataloader"
   ]
  },
  {
   "cell_type": "code",
   "execution_count": 9,
   "id": "a88f5edc",
   "metadata": {
    "execution": {
     "iopub.execute_input": "2023-12-18T16:57:59.085028Z",
     "iopub.status.busy": "2023-12-18T16:57:59.084684Z",
     "iopub.status.idle": "2023-12-18T16:57:59.094812Z",
     "shell.execute_reply": "2023-12-18T16:57:59.093931Z"
    },
    "executionInfo": {
     "elapsed": 5,
     "status": "ok",
     "timestamp": 1702260885684,
     "user": {
      "displayName": "Cristian Bassotto",
      "userId": "01183163487853409209"
     },
     "user_tz": -60
    },
    "id": "2f0mGhIN4kwC",
    "papermill": {
     "duration": 0.048091,
     "end_time": "2023-12-18T16:57:59.096783",
     "exception": false,
     "start_time": "2023-12-18T16:57:59.048692",
     "status": "completed"
    },
    "tags": []
   },
   "outputs": [
    {
     "data": {
      "text/html": [
       "<style>#sk-container-id-1 {color: black;background-color: white;}#sk-container-id-1 pre{padding: 0;}#sk-container-id-1 div.sk-toggleable {background-color: white;}#sk-container-id-1 label.sk-toggleable__label {cursor: pointer;display: block;width: 100%;margin-bottom: 0;padding: 0.3em;box-sizing: border-box;text-align: center;}#sk-container-id-1 label.sk-toggleable__label-arrow:before {content: \"▸\";float: left;margin-right: 0.25em;color: #696969;}#sk-container-id-1 label.sk-toggleable__label-arrow:hover:before {color: black;}#sk-container-id-1 div.sk-estimator:hover label.sk-toggleable__label-arrow:before {color: black;}#sk-container-id-1 div.sk-toggleable__content {max-height: 0;max-width: 0;overflow: hidden;text-align: left;background-color: #f0f8ff;}#sk-container-id-1 div.sk-toggleable__content pre {margin: 0.2em;color: black;border-radius: 0.25em;background-color: #f0f8ff;}#sk-container-id-1 input.sk-toggleable__control:checked~div.sk-toggleable__content {max-height: 200px;max-width: 100%;overflow: auto;}#sk-container-id-1 input.sk-toggleable__control:checked~label.sk-toggleable__label-arrow:before {content: \"▾\";}#sk-container-id-1 div.sk-estimator input.sk-toggleable__control:checked~label.sk-toggleable__label {background-color: #d4ebff;}#sk-container-id-1 div.sk-label input.sk-toggleable__control:checked~label.sk-toggleable__label {background-color: #d4ebff;}#sk-container-id-1 input.sk-hidden--visually {border: 0;clip: rect(1px 1px 1px 1px);clip: rect(1px, 1px, 1px, 1px);height: 1px;margin: -1px;overflow: hidden;padding: 0;position: absolute;width: 1px;}#sk-container-id-1 div.sk-estimator {font-family: monospace;background-color: #f0f8ff;border: 1px dotted black;border-radius: 0.25em;box-sizing: border-box;margin-bottom: 0.5em;}#sk-container-id-1 div.sk-estimator:hover {background-color: #d4ebff;}#sk-container-id-1 div.sk-parallel-item::after {content: \"\";width: 100%;border-bottom: 1px solid gray;flex-grow: 1;}#sk-container-id-1 div.sk-label:hover label.sk-toggleable__label {background-color: #d4ebff;}#sk-container-id-1 div.sk-serial::before {content: \"\";position: absolute;border-left: 1px solid gray;box-sizing: border-box;top: 0;bottom: 0;left: 50%;z-index: 0;}#sk-container-id-1 div.sk-serial {display: flex;flex-direction: column;align-items: center;background-color: white;padding-right: 0.2em;padding-left: 0.2em;position: relative;}#sk-container-id-1 div.sk-item {position: relative;z-index: 1;}#sk-container-id-1 div.sk-parallel {display: flex;align-items: stretch;justify-content: center;background-color: white;position: relative;}#sk-container-id-1 div.sk-item::before, #sk-container-id-1 div.sk-parallel-item::before {content: \"\";position: absolute;border-left: 1px solid gray;box-sizing: border-box;top: 0;bottom: 0;left: 50%;z-index: -1;}#sk-container-id-1 div.sk-parallel-item {display: flex;flex-direction: column;z-index: 1;position: relative;background-color: white;}#sk-container-id-1 div.sk-parallel-item:first-child::after {align-self: flex-end;width: 50%;}#sk-container-id-1 div.sk-parallel-item:last-child::after {align-self: flex-start;width: 50%;}#sk-container-id-1 div.sk-parallel-item:only-child::after {width: 0;}#sk-container-id-1 div.sk-dashed-wrapped {border: 1px dashed gray;margin: 0 0.4em 0.5em 0.4em;box-sizing: border-box;padding-bottom: 0.4em;background-color: white;}#sk-container-id-1 div.sk-label label {font-family: monospace;font-weight: bold;display: inline-block;line-height: 1.2em;}#sk-container-id-1 div.sk-label-container {text-align: center;}#sk-container-id-1 div.sk-container {/* jupyter's `normalize.less` sets `[hidden] { display: none; }` but bootstrap.min.css set `[hidden] { display: none !important; }` so we also need the `!important` here to be able to override the default hidden behavior on the sphinx rendered scikit-learn.org. See: https://github.com/scikit-learn/scikit-learn/issues/21755 */display: inline-block !important;position: relative;}#sk-container-id-1 div.sk-text-repr-fallback {display: none;}</style><div id=\"sk-container-id-1\" class=\"sk-top-container\"><div class=\"sk-text-repr-fallback\"><pre>MultiLabelBinarizer(classes=[&#x27;Booking-Book&#x27;, &#x27;Booking-Inform&#x27;, &#x27;Booking-NoBook&#x27;,\n",
       "                             &#x27;Booking-Request&#x27;, &#x27;Hotel-Inform&#x27;, &#x27;Hotel-NoOffer&#x27;,\n",
       "                             &#x27;Hotel-Recommend&#x27;, &#x27;Hotel-Request&#x27;, &#x27;Hotel-Select&#x27;,\n",
       "                             &#x27;Restaurant-Inform&#x27;, &#x27;Restaurant-NoOffer&#x27;,\n",
       "                             &#x27;Restaurant-Recommend&#x27;, &#x27;Restaurant-Request&#x27;,\n",
       "                             &#x27;Restaurant-Select&#x27;, &#x27;general-bye&#x27;,\n",
       "                             &#x27;general-greet&#x27;, &#x27;general-reqmore&#x27;,\n",
       "                             &#x27;general-thank&#x27;, &#x27;general-welcome&#x27;])</pre><b>In a Jupyter environment, please rerun this cell to show the HTML representation or trust the notebook. <br />On GitHub, the HTML representation is unable to render, please try loading this page with nbviewer.org.</b></div><div class=\"sk-container\" hidden><div class=\"sk-item\"><div class=\"sk-estimator sk-toggleable\"><input class=\"sk-toggleable__control sk-hidden--visually\" id=\"sk-estimator-id-1\" type=\"checkbox\" checked><label for=\"sk-estimator-id-1\" class=\"sk-toggleable__label sk-toggleable__label-arrow\">MultiLabelBinarizer</label><div class=\"sk-toggleable__content\"><pre>MultiLabelBinarizer(classes=[&#x27;Booking-Book&#x27;, &#x27;Booking-Inform&#x27;, &#x27;Booking-NoBook&#x27;,\n",
       "                             &#x27;Booking-Request&#x27;, &#x27;Hotel-Inform&#x27;, &#x27;Hotel-NoOffer&#x27;,\n",
       "                             &#x27;Hotel-Recommend&#x27;, &#x27;Hotel-Request&#x27;, &#x27;Hotel-Select&#x27;,\n",
       "                             &#x27;Restaurant-Inform&#x27;, &#x27;Restaurant-NoOffer&#x27;,\n",
       "                             &#x27;Restaurant-Recommend&#x27;, &#x27;Restaurant-Request&#x27;,\n",
       "                             &#x27;Restaurant-Select&#x27;, &#x27;general-bye&#x27;,\n",
       "                             &#x27;general-greet&#x27;, &#x27;general-reqmore&#x27;,\n",
       "                             &#x27;general-thank&#x27;, &#x27;general-welcome&#x27;])</pre></div></div></div></div></div>"
      ],
      "text/plain": [
       "MultiLabelBinarizer(classes=['Booking-Book', 'Booking-Inform', 'Booking-NoBook',\n",
       "                             'Booking-Request', 'Hotel-Inform', 'Hotel-NoOffer',\n",
       "                             'Hotel-Recommend', 'Hotel-Request', 'Hotel-Select',\n",
       "                             'Restaurant-Inform', 'Restaurant-NoOffer',\n",
       "                             'Restaurant-Recommend', 'Restaurant-Request',\n",
       "                             'Restaurant-Select', 'general-bye',\n",
       "                             'general-greet', 'general-reqmore',\n",
       "                             'general-thank', 'general-welcome'])"
      ]
     },
     "execution_count": 9,
     "metadata": {},
     "output_type": "execute_result"
    }
   ],
   "source": [
    "# This will help us to transform the labels into a one-hot encoded numeric array\n",
    "mlb = MultiLabelBinarizer(classes=list(all_labels))\n",
    "mlb.fit(y_train)"
   ]
  },
  {
   "cell_type": "code",
   "execution_count": 10,
   "id": "2c0c55c1",
   "metadata": {
    "execution": {
     "iopub.execute_input": "2023-12-18T16:57:59.169443Z",
     "iopub.status.busy": "2023-12-18T16:57:59.168388Z",
     "iopub.status.idle": "2023-12-18T16:58:00.619330Z",
     "shell.execute_reply": "2023-12-18T16:58:00.618515Z"
    },
    "executionInfo": {
     "elapsed": 2367,
     "status": "ok",
     "timestamp": 1702260888048,
     "user": {
      "displayName": "Cristian Bassotto",
      "userId": "01183163487853409209"
     },
     "user_tz": -60
    },
    "id": "DxhfkAze4kwC",
    "papermill": {
     "duration": 1.489576,
     "end_time": "2023-12-18T16:58:00.621688",
     "exception": false,
     "start_time": "2023-12-18T16:57:59.132112",
     "status": "completed"
    },
    "tags": []
   },
   "outputs": [
    {
     "data": {
      "application/vnd.jupyter.widget-view+json": {
       "model_id": "b78f1d33ebda4f5fa5b769d14ff4452e",
       "version_major": 2,
       "version_minor": 0
      },
      "text/plain": [
       "vocab.json:   0%|          | 0.00/899k [00:00<?, ?B/s]"
      ]
     },
     "metadata": {},
     "output_type": "display_data"
    },
    {
     "data": {
      "application/vnd.jupyter.widget-view+json": {
       "model_id": "98ce70c80bd04e039c97833a3f161178",
       "version_major": 2,
       "version_minor": 0
      },
      "text/plain": [
       "merges.txt:   0%|          | 0.00/456k [00:00<?, ?B/s]"
      ]
     },
     "metadata": {},
     "output_type": "display_data"
    },
    {
     "data": {
      "application/vnd.jupyter.widget-view+json": {
       "model_id": "c636dbbe31414b9294bdfe06f9cf30a5",
       "version_major": 2,
       "version_minor": 0
      },
      "text/plain": [
       "tokenizer.json:   0%|          | 0.00/1.36M [00:00<?, ?B/s]"
      ]
     },
     "metadata": {},
     "output_type": "display_data"
    },
    {
     "data": {
      "application/vnd.jupyter.widget-view+json": {
       "model_id": "fe59b8d6d3844d6abad57321fcfcb895",
       "version_major": 2,
       "version_minor": 0
      },
      "text/plain": [
       "config.json:   0%|          | 0.00/481 [00:00<?, ?B/s]"
      ]
     },
     "metadata": {},
     "output_type": "display_data"
    }
   ],
   "source": [
    "# Load the pre-trained BERT model and tokenizer\n",
    "tokenizer = tokenizer_class.from_pretrained(PRETRAINED_MODEL_NAME)"
   ]
  },
  {
   "cell_type": "code",
   "execution_count": 11,
   "id": "be50eb46",
   "metadata": {
    "execution": {
     "iopub.execute_input": "2023-12-18T16:58:00.696527Z",
     "iopub.status.busy": "2023-12-18T16:58:00.695697Z",
     "iopub.status.idle": "2023-12-18T16:58:00.706641Z",
     "shell.execute_reply": "2023-12-18T16:58:00.705539Z"
    },
    "executionInfo": {
     "elapsed": 14,
     "status": "ok",
     "timestamp": 1702260888049,
     "user": {
      "displayName": "Cristian Bassotto",
      "userId": "01183163487853409209"
     },
     "user_tz": -60
    },
    "id": "6COYaAPC4kv9",
    "outputId": "92976648-d165-4d47-bc14-757d3ba3bd39",
    "papermill": {
     "duration": 0.050085,
     "end_time": "2023-12-18T16:58:00.708482",
     "exception": false,
     "start_time": "2023-12-18T16:58:00.658397",
     "status": "completed"
    },
    "tags": []
   },
   "outputs": [
    {
     "name": "stdout",
     "output_type": "stream",
     "text": [
      "Max chosen length: 256\n"
     ]
    }
   ],
   "source": [
    "max_length = min(2 ** (len(tokenizer.tokenize(longest_train_data))-1).bit_length(), 512)\n",
    "print('Max chosen length:', max_length)\n"
   ]
  },
  {
   "cell_type": "code",
   "execution_count": 12,
   "id": "287a1cde",
   "metadata": {
    "execution": {
     "iopub.execute_input": "2023-12-18T16:58:00.782553Z",
     "iopub.status.busy": "2023-12-18T16:58:00.781694Z",
     "iopub.status.idle": "2023-12-18T16:58:00.791487Z",
     "shell.execute_reply": "2023-12-18T16:58:00.790642Z"
    },
    "executionInfo": {
     "elapsed": 11,
     "status": "ok",
     "timestamp": 1702260888049,
     "user": {
      "displayName": "Cristian Bassotto",
      "userId": "01183163487853409209"
     },
     "user_tz": -60
    },
    "id": "MN90sZDk4kwC",
    "papermill": {
     "duration": 0.04864,
     "end_time": "2023-12-18T16:58:00.793368",
     "exception": false,
     "start_time": "2023-12-18T16:58:00.744728",
     "status": "completed"
    },
    "tags": []
   },
   "outputs": [],
   "source": [
    "class CustomDataset(Dataset):\n",
    "    def __init__(self, tokenizer, X, y, max_length):\n",
    "        self.X = X\n",
    "        self.tokenizer = tokenizer\n",
    "        self.max_length = max_length\n",
    "        # Fit the label binarizer and transform the labels into one-hot encoded format\n",
    "        self.labels = mlb.fit_transform(y)\n",
    "\n",
    "    def __len__(self):\n",
    "        return len(self.X)\n",
    "\n",
    "    def __getitem__(self, idx):\n",
    "        # Encode the utterance using the provided tokenizer\n",
    "        encoding = self.tokenizer.encode_plus(\n",
    "            self.X[idx],\n",
    "            add_special_tokens=True,\n",
    "            max_length = self.max_length,\n",
    "            return_token_type_ids=True,\n",
    "            padding='max_length',\n",
    "            return_attention_mask=True,\n",
    "            truncation=False,\n",
    "            return_tensors='pt'\n",
    "        )\n",
    "        # Convert the list of strings into a one-hot encoded format\n",
    "        label = self.labels[idx]  # This should now be a binary vector instead of a list of strings\n",
    "        # Return the encoding and the label\n",
    "        return {\n",
    "            'input_ids': encoding['input_ids'].flatten(),\n",
    "            'attention_mask': encoding['attention_mask'].flatten(),\n",
    "            'labels': torch.tensor(label, dtype=torch.float),\n",
    "            'token_type_ids': encoding['token_type_ids'].flatten()\n",
    "        }"
   ]
  },
  {
   "cell_type": "code",
   "execution_count": 13,
   "id": "53e96447",
   "metadata": {
    "execution": {
     "iopub.execute_input": "2023-12-18T16:58:00.866618Z",
     "iopub.status.busy": "2023-12-18T16:58:00.866277Z",
     "iopub.status.idle": "2023-12-18T16:58:00.872628Z",
     "shell.execute_reply": "2023-12-18T16:58:00.871292Z"
    },
    "executionInfo": {
     "elapsed": 11,
     "status": "ok",
     "timestamp": 1702260888049,
     "user": {
      "displayName": "Cristian Bassotto",
      "userId": "01183163487853409209"
     },
     "user_tz": -60
    },
    "id": "Fk9U0QEK7MNF",
    "outputId": "fa57fa54-edec-414e-f0e4-b0dad9c76e11",
    "papermill": {
     "duration": 0.045144,
     "end_time": "2023-12-18T16:58:00.874584",
     "exception": false,
     "start_time": "2023-12-18T16:58:00.829440",
     "status": "completed"
    },
    "tags": []
   },
   "outputs": [
    {
     "name": "stdout",
     "output_type": "stream",
     "text": [
      "Train samples:  35408\n",
      "Test samples:  4199\n",
      "Valid samples:  4236\n"
     ]
    }
   ],
   "source": [
    "# Smaller dataset to try\n",
    "p = 1\n",
    "n_train_samples = int(len(X_train) * p)\n",
    "n_test_samples = int(len(X_test) * p)\n",
    "n_valid_samples = int(len(X_valid) * p)\n",
    "\n",
    "print(\"Train samples: \", n_train_samples)\n",
    "print(\"Test samples: \", n_test_samples)\n",
    "print(\"Valid samples: \", n_valid_samples)"
   ]
  },
  {
   "cell_type": "code",
   "execution_count": 14,
   "id": "b8f05837",
   "metadata": {
    "execution": {
     "iopub.execute_input": "2023-12-18T16:58:00.950461Z",
     "iopub.status.busy": "2023-12-18T16:58:00.949377Z",
     "iopub.status.idle": "2023-12-18T16:58:01.016076Z",
     "shell.execute_reply": "2023-12-18T16:58:01.015184Z"
    },
    "executionInfo": {
     "elapsed": 10,
     "status": "ok",
     "timestamp": 1702260888050,
     "user": {
      "displayName": "Cristian Bassotto",
      "userId": "01183163487853409209"
     },
     "user_tz": -60
    },
    "id": "LABzcmWE4kwC",
    "papermill": {
     "duration": 0.106745,
     "end_time": "2023-12-18T16:58:01.018090",
     "exception": false,
     "start_time": "2023-12-18T16:58:00.911345",
     "status": "completed"
    },
    "tags": []
   },
   "outputs": [],
   "source": [
    "train_dataset = CustomDataset(tokenizer, X_train[:n_train_samples], y_train[:n_train_samples], max_length)\n",
    "test_dataset = CustomDataset(tokenizer, X_test[:n_test_samples], y_test[:n_test_samples], max_length)\n",
    "valid_dataset = CustomDataset(tokenizer, X_valid[:n_valid_samples], y_valid[:n_valid_samples], max_length)"
   ]
  },
  {
   "cell_type": "code",
   "execution_count": 15,
   "id": "cfd19e52",
   "metadata": {
    "execution": {
     "iopub.execute_input": "2023-12-18T16:58:01.093364Z",
     "iopub.status.busy": "2023-12-18T16:58:01.092649Z",
     "iopub.status.idle": "2023-12-18T16:58:01.097727Z",
     "shell.execute_reply": "2023-12-18T16:58:01.096857Z"
    },
    "executionInfo": {
     "elapsed": 9,
     "status": "ok",
     "timestamp": 1702260888050,
     "user": {
      "displayName": "Cristian Bassotto",
      "userId": "01183163487853409209"
     },
     "user_tz": -60
    },
    "id": "bpoi3YTp7Wew",
    "papermill": {
     "duration": 0.044734,
     "end_time": "2023-12-18T16:58:01.099695",
     "exception": false,
     "start_time": "2023-12-18T16:58:01.054961",
     "status": "completed"
    },
    "tags": []
   },
   "outputs": [],
   "source": [
    "train_dataloader = DataLoader(train_dataset, batch_size=BATCH_SIZE, shuffle=True)\n",
    "valid_dataloader = DataLoader(valid_dataset, batch_size=BATCH_SIZE, shuffle=True)\n",
    "test_dataloader = DataLoader(test_dataset, batch_size=BATCH_SIZE, shuffle=False)"
   ]
  },
  {
   "cell_type": "code",
   "execution_count": 16,
   "id": "5767b74d",
   "metadata": {
    "execution": {
     "iopub.execute_input": "2023-12-18T16:58:01.173984Z",
     "iopub.status.busy": "2023-12-18T16:58:01.173238Z",
     "iopub.status.idle": "2023-12-18T16:58:01.178441Z",
     "shell.execute_reply": "2023-12-18T16:58:01.177449Z"
    },
    "executionInfo": {
     "elapsed": 9,
     "status": "ok",
     "timestamp": 1702260888050,
     "user": {
      "displayName": "Cristian Bassotto",
      "userId": "01183163487853409209"
     },
     "user_tz": -60
    },
    "id": "RgB5SL6JmeEi",
    "outputId": "b1d33474-aab9-4772-8bbd-75ba683994ab",
    "papermill": {
     "duration": 0.044064,
     "end_time": "2023-12-18T16:58:01.180218",
     "exception": false,
     "start_time": "2023-12-18T16:58:01.136154",
     "status": "completed"
    },
    "tags": []
   },
   "outputs": [
    {
     "name": "stdout",
     "output_type": "stream",
     "text": [
      "cuda\n"
     ]
    }
   ],
   "source": [
    "device = 'cuda' if cuda.is_available() else 'cpu'\n",
    "print(device)"
   ]
  },
  {
   "cell_type": "markdown",
   "id": "d5b465f9",
   "metadata": {
    "papermill": {
     "duration": 0.036065,
     "end_time": "2023-12-18T16:58:01.252859",
     "exception": false,
     "start_time": "2023-12-18T16:58:01.216794",
     "status": "completed"
    },
    "tags": []
   },
   "source": [
    "## Training"
   ]
  },
  {
   "cell_type": "code",
   "execution_count": 17,
   "id": "a7b2f2ae",
   "metadata": {
    "execution": {
     "iopub.execute_input": "2023-12-18T16:58:01.328283Z",
     "iopub.status.busy": "2023-12-18T16:58:01.327907Z",
     "iopub.status.idle": "2023-12-18T16:58:01.333448Z",
     "shell.execute_reply": "2023-12-18T16:58:01.332572Z"
    },
    "executionInfo": {
     "elapsed": 7,
     "status": "ok",
     "timestamp": 1702260888050,
     "user": {
      "displayName": "Cristian Bassotto",
      "userId": "01183163487853409209"
     },
     "user_tz": -60
    },
    "id": "nqy56vk6meEj",
    "papermill": {
     "duration": 0.045997,
     "end_time": "2023-12-18T16:58:01.335338",
     "exception": false,
     "start_time": "2023-12-18T16:58:01.289341",
     "status": "completed"
    },
    "tags": []
   },
   "outputs": [],
   "source": [
    "def load_ckp(checkpoint_fpath, model, mlb):\n",
    "    checkpoint = torch.load(checkpoint_fpath, map_location=device)\n",
    "    model.load_state_dict(checkpoint['state_dict'])\n",
    "    mlb.set_params(**checkpoint['mlb'])\n",
    "    return model, mlb\n",
    "\n",
    "def save_ckp(state, best_model_path):\n",
    "    torch.save(state, best_model_path)\n"
   ]
  },
  {
   "cell_type": "code",
   "execution_count": 18,
   "id": "c5613c05",
   "metadata": {
    "execution": {
     "iopub.execute_input": "2023-12-18T16:58:01.410652Z",
     "iopub.status.busy": "2023-12-18T16:58:01.410270Z",
     "iopub.status.idle": "2023-12-18T16:58:09.862006Z",
     "shell.execute_reply": "2023-12-18T16:58:09.861218Z"
    },
    "executionInfo": {
     "elapsed": 7284,
     "status": "ok",
     "timestamp": 1702260895328,
     "user": {
      "displayName": "Cristian Bassotto",
      "userId": "01183163487853409209"
     },
     "user_tz": -60
    },
    "id": "2CZvhR2LmeEj",
    "outputId": "3209ed7e-6a9e-4b41-93b4-b74181fffcb7",
    "papermill": {
     "duration": 8.492009,
     "end_time": "2023-12-18T16:58:09.864230",
     "exception": false,
     "start_time": "2023-12-18T16:58:01.372221",
     "status": "completed"
    },
    "tags": []
   },
   "outputs": [
    {
     "data": {
      "application/vnd.jupyter.widget-view+json": {
       "model_id": "67ee987919794982b810b3146394cecf",
       "version_major": 2,
       "version_minor": 0
      },
      "text/plain": [
       "model.safetensors:   0%|          | 0.00/499M [00:00<?, ?B/s]"
      ]
     },
     "metadata": {},
     "output_type": "display_data"
    },
    {
     "name": "stderr",
     "output_type": "stream",
     "text": [
      "Some weights of RobertaForSequenceClassification were not initialized from the model checkpoint at roberta-base and are newly initialized: ['classifier.dense.bias', 'classifier.dense.weight', 'classifier.out_proj.weight', 'classifier.out_proj.bias']\n",
      "You should probably TRAIN this model on a down-stream task to be able to use it for predictions and inference.\n"
     ]
    }
   ],
   "source": [
    "class BERTClass(torch.nn.Module):\n",
    "    def __init__(self, pretrained_model_name, num_labels):\n",
    "        super(BERTClass, self).__init__()\n",
    "        self.num_labels = num_labels\n",
    "        self.l1 = model_class.from_pretrained(pretrained_model_name, num_labels=self.num_labels)\n",
    "        self.pre_classifier = torch.nn.Linear(self.num_labels, 768)\n",
    "        self.dropout = torch.nn.Dropout(0.3)\n",
    "        self.classifier = torch.nn.Linear(768, self.num_labels)\n",
    "\n",
    "    def forward(self, input_ids, attention_mask, token_type_ids):\n",
    "        output_1 = self.l1(input_ids=input_ids, attention_mask=attention_mask, token_type_ids=token_type_ids)\n",
    "        hidden_state = output_1[0]\n",
    "        pooler = hidden_state\n",
    "        pooler = self.pre_classifier(pooler)\n",
    "        pooler = torch.nn.ReLU()(pooler)\n",
    "        pooler = self.dropout(pooler)\n",
    "        output = self.classifier(pooler)\n",
    "        output = output.view(-1, self.num_labels)  # Reshape the output\n",
    "        return output\n",
    "\n",
    "model = BERTClass(PRETRAINED_MODEL_NAME, num_labels)\n",
    "model = model.to(device)"
   ]
  },
  {
   "cell_type": "code",
   "execution_count": 19,
   "id": "4af6d270",
   "metadata": {
    "execution": {
     "iopub.execute_input": "2023-12-18T16:58:09.942076Z",
     "iopub.status.busy": "2023-12-18T16:58:09.941723Z",
     "iopub.status.idle": "2023-12-18T16:58:09.951711Z",
     "shell.execute_reply": "2023-12-18T16:58:09.950835Z"
    },
    "executionInfo": {
     "elapsed": 12,
     "status": "ok",
     "timestamp": 1702260895328,
     "user": {
      "displayName": "Cristian Bassotto",
      "userId": "01183163487853409209"
     },
     "user_tz": -60
    },
    "id": "k8FpkZPdmeEk",
    "outputId": "f486842a-7ddf-41e8-9709-e0b0fb3f51df",
    "papermill": {
     "duration": 0.050728,
     "end_time": "2023-12-18T16:58:09.953732",
     "exception": false,
     "start_time": "2023-12-18T16:58:09.903004",
     "status": "completed"
    },
    "tags": []
   },
   "outputs": [
    {
     "name": "stderr",
     "output_type": "stream",
     "text": [
      "/opt/conda/lib/python3.10/site-packages/transformers/optimization.py:411: FutureWarning: This implementation of AdamW is deprecated and will be removed in a future version. Use the PyTorch implementation torch.optim.AdamW instead, or set `no_deprecation_warning=True` to disable this warning\n",
      "  warnings.warn(\n"
     ]
    }
   ],
   "source": [
    "def loss_fn(outputs, targets):\n",
    "    return torch.nn.BCEWithLogitsLoss()(outputs, targets)\n",
    "\n",
    "optimizer = AdamW(model.parameters(), lr=LEARNING_RATE, weight_decay=WEIGHT_DECAY, correct_bias=False)"
   ]
  },
  {
   "cell_type": "code",
   "execution_count": 20,
   "id": "05240039",
   "metadata": {
    "execution": {
     "iopub.execute_input": "2023-12-18T16:58:10.030685Z",
     "iopub.status.busy": "2023-12-18T16:58:10.030297Z",
     "iopub.status.idle": "2023-12-18T16:58:10.038622Z",
     "shell.execute_reply": "2023-12-18T16:58:10.037711Z"
    },
    "papermill": {
     "duration": 0.04933,
     "end_time": "2023-12-18T16:58:10.040647",
     "exception": false,
     "start_time": "2023-12-18T16:58:09.991317",
     "status": "completed"
    },
    "tags": []
   },
   "outputs": [],
   "source": [
    "def valid(model, valid_dataloader):\n",
    "    val_targets = []\n",
    "    val_outputs = []\n",
    "    \n",
    "    model.eval()\n",
    "    val_loss = 0\n",
    "    with torch.no_grad():\n",
    "        for batch in tqdm(valid_dataloader):\n",
    "            input_ids = batch['input_ids'].to(device, dtype=torch.long)\n",
    "            attention_mask = batch['attention_mask'].to(device, dtype=torch.long)\n",
    "            token_type_ids = batch['token_type_ids'].to(device, dtype=torch.long)\n",
    "            labels = batch['labels'].to(device, dtype=torch.float)\n",
    "\n",
    "            outputs = model(input_ids, attention_mask, token_type_ids)\n",
    "\n",
    "            loss = loss_fn(outputs, labels)\n",
    "            val_loss += loss.item()\n",
    "\n",
    "            val_targets.extend(labels.cpu().detach().numpy().tolist())\n",
    "            val_outputs.extend(torch.sigmoid(outputs).cpu().detach().numpy().tolist())\n",
    "            \n",
    "\n",
    "    val_loss /= len(valid_dataloader)\n",
    "    \n",
    "    return val_loss, val_targets, val_outputs"
   ]
  },
  {
   "cell_type": "code",
   "execution_count": 21,
   "id": "fd8b4b9d",
   "metadata": {
    "execution": {
     "iopub.execute_input": "2023-12-18T16:58:10.117013Z",
     "iopub.status.busy": "2023-12-18T16:58:10.116369Z",
     "iopub.status.idle": "2023-12-18T16:58:10.123279Z",
     "shell.execute_reply": "2023-12-18T16:58:10.122471Z"
    },
    "papermill": {
     "duration": 0.046952,
     "end_time": "2023-12-18T16:58:10.125169",
     "exception": false,
     "start_time": "2023-12-18T16:58:10.078217",
     "status": "completed"
    },
    "tags": []
   },
   "outputs": [],
   "source": [
    "def train(model, train_dataloader):\n",
    "    model.train()\n",
    "    train_loss = 0\n",
    "    for batch in tqdm(train_dataloader):\n",
    "        input_ids = batch['input_ids'].to(device, dtype=torch.long)\n",
    "        attention_mask = batch['attention_mask'].to(device, dtype=torch.long)\n",
    "        token_type_ids = batch['token_type_ids'].to(device, dtype=torch.long)\n",
    "        labels = batch['labels'].to(device, dtype=torch.float)\n",
    "\n",
    "        model.zero_grad()\n",
    "        outputs = model(input_ids, attention_mask, token_type_ids)\n",
    "\n",
    "        loss = loss_fn(outputs, labels)\n",
    "        train_loss += loss.item()\n",
    "\n",
    "        loss.backward()\n",
    "        optimizer.step()\n",
    "\n",
    "    train_loss /= len(train_dataloader)\n",
    "    \n",
    "    return train_loss"
   ]
  },
  {
   "cell_type": "code",
   "execution_count": 22,
   "id": "6feb3f29",
   "metadata": {
    "execution": {
     "iopub.execute_input": "2023-12-18T16:58:10.204244Z",
     "iopub.status.busy": "2023-12-18T16:58:10.203340Z",
     "iopub.status.idle": "2023-12-18T16:58:10.214339Z",
     "shell.execute_reply": "2023-12-18T16:58:10.213206Z"
    },
    "executionInfo": {
     "elapsed": 9,
     "status": "ok",
     "timestamp": 1702260895329,
     "user": {
      "displayName": "Cristian Bassotto",
      "userId": "01183163487853409209"
     },
     "user_tz": -60
    },
    "id": "yYxcyQT3meEk",
    "papermill": {
     "duration": 0.054065,
     "end_time": "2023-12-18T16:58:10.216937",
     "exception": false,
     "start_time": "2023-12-18T16:58:10.162872",
     "status": "completed"
    },
    "tags": []
   },
   "outputs": [],
   "source": [
    "def train_model(num_epochs, train_dataloader, valid_dataloader, model, optimizer, best_model_path, patience=2):\n",
    "    valid_loss_min = np.Inf\n",
    "\n",
    "    num_not_improved = 0\n",
    "    for epoch in range(1, num_epochs):\n",
    "        print()\n",
    "        print(\"#################### Epoch {}: Training Start    ####################\".format(epoch))\n",
    "\n",
    "        train_loss = train(model, train_dataloader)\n",
    "        print('#################### Epoch {}: Training End      ####################'.format(epoch))\n",
    "\n",
    "        print()\n",
    "        print(\"#################### Epoch {}: Validation Start ####################\".format(epoch))\n",
    "\n",
    "        valid_loss, val_targets, val_outputs = valid(model, valid_dataloader)\n",
    "\n",
    "        print('Epoch: {} \\tTraining Loss: {:.6f} \\tValidation Loss: {:.6f}'.format(epoch, train_loss, valid_loss))\n",
    "\n",
    "        if valid_loss <= valid_loss_min:\n",
    "            print('Validation loss decreased ({:.6f} --> {:.6f}).  Saving model ...'.format(valid_loss_min, valid_loss))\n",
    "\n",
    "            checkpoint = {\n",
    "                        'state_dict': model.state_dict(),\n",
    "                        'mlb' : mlb.get_params()\n",
    "                    }\n",
    "\n",
    "            save_ckp(checkpoint, best_model_path)\n",
    "            valid_loss_min = valid_loss\n",
    "            num_not_improved = 0\n",
    "        else:\n",
    "            num_not_improved += 1\n",
    "            if num_not_improved >= patience:\n",
    "                print('Not improvement for more than:', num_not_improved)\n",
    "                break\n",
    "        print(\"#################### Epoch {}: Validation End   ####################\".format(epoch))\n",
    "        print()\n",
    "\n",
    "    print(\"#################### Training finished     ####################\")\n",
    "    return model\n"
   ]
  },
  {
   "cell_type": "code",
   "execution_count": 23,
   "id": "cc00614f",
   "metadata": {
    "execution": {
     "iopub.execute_input": "2023-12-18T16:58:10.307445Z",
     "iopub.status.busy": "2023-12-18T16:58:10.307086Z",
     "iopub.status.idle": "2023-12-18T16:58:15.081484Z",
     "shell.execute_reply": "2023-12-18T16:58:15.080500Z"
    },
    "executionInfo": {
     "elapsed": 4865,
     "status": "ok",
     "timestamp": 1702260937162,
     "user": {
      "displayName": "Cristian Bassotto",
      "userId": "01183163487853409209"
     },
     "user_tz": -60
    },
    "id": "Rcg6WbuomeEl",
    "papermill": {
     "duration": 4.821929,
     "end_time": "2023-12-18T16:58:15.083891",
     "exception": false,
     "start_time": "2023-12-18T16:58:10.261962",
     "status": "completed"
    },
    "tags": []
   },
   "outputs": [],
   "source": [
    "try:\n",
    "  trained_model, mlb = load_ckp(best_model_path, model, mlb)\n",
    "except:\n",
    "  print('No saved model found. Need to be train from scratch.')\n",
    "  trained_model = train_model(EPOCHS, train_dataloader, valid_dataloader, model, optimizer,  best_model_path)\n"
   ]
  },
  {
   "cell_type": "markdown",
   "id": "4bb6a6ee",
   "metadata": {
    "papermill": {
     "duration": 0.03845,
     "end_time": "2023-12-18T16:58:15.168516",
     "exception": false,
     "start_time": "2023-12-18T16:58:15.130066",
     "status": "completed"
    },
    "tags": []
   },
   "source": [
    "## Evaluation"
   ]
  },
  {
   "cell_type": "code",
   "execution_count": 24,
   "id": "320c0e8c",
   "metadata": {
    "execution": {
     "iopub.execute_input": "2023-12-18T16:58:15.307442Z",
     "iopub.status.busy": "2023-12-18T16:58:15.306549Z",
     "iopub.status.idle": "2023-12-18T16:58:54.865217Z",
     "shell.execute_reply": "2023-12-18T16:58:54.863968Z"
    },
    "executionInfo": {
     "elapsed": 104385,
     "status": "ok",
     "timestamp": 1702261047724,
     "user": {
      "displayName": "Cristian Bassotto",
      "userId": "01183163487853409209"
     },
     "user_tz": -60
    },
    "id": "SwCCxjqVHGOO",
    "outputId": "ef2e5975-50fe-4812-eceb-ac38c7c8f068",
    "papermill": {
     "duration": 39.657678,
     "end_time": "2023-12-18T16:58:54.867258",
     "exception": false,
     "start_time": "2023-12-18T16:58:15.209580",
     "status": "completed"
    },
    "tags": []
   },
   "outputs": [
    {
     "name": "stderr",
     "output_type": "stream",
     "text": [
      "100%|██████████| 132/132 [00:39<00:00,  3.34it/s]\n"
     ]
    }
   ],
   "source": [
    "test_loss, test_labels , test_predictions_probs = valid(trained_model, test_dataloader)\n"
   ]
  },
  {
   "cell_type": "code",
   "execution_count": 25,
   "id": "79d6ebc4",
   "metadata": {
    "execution": {
     "iopub.execute_input": "2023-12-18T16:58:54.964875Z",
     "iopub.status.busy": "2023-12-18T16:58:54.964474Z",
     "iopub.status.idle": "2023-12-18T16:58:54.978684Z",
     "shell.execute_reply": "2023-12-18T16:58:54.977798Z"
    },
    "papermill": {
     "duration": 0.065138,
     "end_time": "2023-12-18T16:58:54.980576",
     "exception": false,
     "start_time": "2023-12-18T16:58:54.915438",
     "status": "completed"
    },
    "tags": []
   },
   "outputs": [],
   "source": [
    "threshold = 0.5\n",
    "test_predictions = [[prob > threshold for prob in prob_list] for prob_list in test_predictions_probs ]"
   ]
  },
  {
   "cell_type": "code",
   "execution_count": 26,
   "id": "4bd55ff6",
   "metadata": {
    "execution": {
     "iopub.execute_input": "2023-12-18T16:58:55.079140Z",
     "iopub.status.busy": "2023-12-18T16:58:55.078775Z",
     "iopub.status.idle": "2023-12-18T16:58:55.412451Z",
     "shell.execute_reply": "2023-12-18T16:58:55.411464Z"
    },
    "executionInfo": {
     "elapsed": 871,
     "status": "ok",
     "timestamp": 1702261050046,
     "user": {
      "displayName": "Cristian Bassotto",
      "userId": "01183163487853409209"
     },
     "user_tz": -60
    },
    "id": "yxsuBn7pHMCR",
    "outputId": "7d59735e-754c-47b7-fa8b-f079f69b2f47",
    "papermill": {
     "duration": 0.386747,
     "end_time": "2023-12-18T16:58:55.415034",
     "exception": false,
     "start_time": "2023-12-18T16:58:55.028287",
     "status": "completed"
    },
    "tags": []
   },
   "outputs": [
    {
     "name": "stdout",
     "output_type": "stream",
     "text": [
      "Accuracy: 0.41057394617766135\n",
      "Precision: 0.675181366760455\n",
      "Recall: 0.6403389317597216\n",
      "F1: 0.6445395124663267\n",
      "                      precision    recall  f1-score   support\n",
      "\n",
      "        Booking-Book       0.75      0.89      0.82       531\n",
      "      Booking-Inform       0.53      0.21      0.30       552\n",
      "      Booking-NoBook       0.00      0.00      0.00       130\n",
      "     Booking-Request       0.82      0.44      0.57       319\n",
      "        Hotel-Inform       0.88      0.92      0.90       817\n",
      "       Hotel-NoOffer       0.51      0.39      0.44        67\n",
      "     Hotel-Recommend       0.51      0.68      0.58       140\n",
      "       Hotel-Request       0.78      0.70      0.74       281\n",
      "        Hotel-Select       0.00      0.00      0.00        80\n",
      "   Restaurant-Inform       0.90      0.88      0.89       729\n",
      "  Restaurant-NoOffer       0.86      0.86      0.86       111\n",
      "Restaurant-Recommend       0.52      0.59      0.55       143\n",
      "  Restaurant-Request       0.88      0.74      0.80       295\n",
      "   Restaurant-Select       0.59      0.38      0.46        85\n",
      "         general-bye       0.80      0.97      0.88       898\n",
      "       general-greet       0.00      0.00      0.00       158\n",
      "     general-reqmore       0.48      0.44      0.46       777\n",
      "       general-thank       0.00      0.00      0.00         0\n",
      "     general-welcome       0.49      0.29      0.37       496\n",
      "\n",
      "           micro avg       0.73      0.64      0.68      6609\n",
      "           macro avg       0.54      0.49      0.51      6609\n",
      "        weighted avg       0.68      0.64      0.64      6609\n",
      "         samples avg       0.75      0.68      0.68      6609\n",
      "\n"
     ]
    },
    {
     "name": "stderr",
     "output_type": "stream",
     "text": [
      "/opt/conda/lib/python3.10/site-packages/sklearn/metrics/_classification.py:1344: UndefinedMetricWarning: Precision is ill-defined and being set to 0.0 in labels with no predicted samples. Use `zero_division` parameter to control this behavior.\n",
      "  _warn_prf(average, modifier, msg_start, len(result))\n",
      "/opt/conda/lib/python3.10/site-packages/sklearn/metrics/_classification.py:1344: UndefinedMetricWarning: Recall is ill-defined and being set to 0.0 in labels with no true samples. Use `zero_division` parameter to control this behavior.\n",
      "  _warn_prf(average, modifier, msg_start, len(result))\n",
      "/opt/conda/lib/python3.10/site-packages/sklearn/metrics/_classification.py:1609: UndefinedMetricWarning: F-score is ill-defined and being set to 0.0 in labels with no true nor predicted samples. Use `zero_division` parameter to control this behavior.\n",
      "  _warn_prf(average, \"true nor predicted\", \"F-score is\", len(true_sum))\n",
      "/opt/conda/lib/python3.10/site-packages/sklearn/metrics/_classification.py:1344: UndefinedMetricWarning: Precision and F-score are ill-defined and being set to 0.0 in labels with no predicted samples. Use `zero_division` parameter to control this behavior.\n",
      "  _warn_prf(average, modifier, msg_start, len(result))\n",
      "/opt/conda/lib/python3.10/site-packages/sklearn/metrics/_classification.py:1344: UndefinedMetricWarning: Recall and F-score are ill-defined and being set to 0.0 in labels with no true samples. Use `zero_division` parameter to control this behavior.\n",
      "  _warn_prf(average, modifier, msg_start, len(result))\n",
      "/opt/conda/lib/python3.10/site-packages/sklearn/metrics/_classification.py:1344: UndefinedMetricWarning: Precision and F-score are ill-defined and being set to 0.0 in samples with no predicted labels. Use `zero_division` parameter to control this behavior.\n",
      "  _warn_prf(average, modifier, msg_start, len(result))\n"
     ]
    }
   ],
   "source": [
    "print('Accuracy:', accuracy_score(test_labels, test_predictions))\n",
    "print('Precision:', precision_score(test_labels, test_predictions, average='weighted'))\n",
    "print('Recall:', recall_score(test_labels, test_predictions, average='weighted'))\n",
    "print('F1:', f1_score(test_labels, test_predictions, average='weighted'))\n",
    "\n",
    "report = classification_report(test_labels, test_predictions, target_names=mlb.classes_)\n",
    "print(report)"
   ]
  },
  {
   "cell_type": "code",
   "execution_count": 27,
   "id": "a36ec6f9",
   "metadata": {
    "execution": {
     "iopub.execute_input": "2023-12-18T16:58:55.513327Z",
     "iopub.status.busy": "2023-12-18T16:58:55.512970Z",
     "iopub.status.idle": "2023-12-18T16:58:55.526399Z",
     "shell.execute_reply": "2023-12-18T16:58:55.525562Z"
    },
    "executionInfo": {
     "elapsed": 2651,
     "status": "ok",
     "timestamp": 1702261058885,
     "user": {
      "displayName": "Cristian Bassotto",
      "userId": "01183163487853409209"
     },
     "user_tz": -60
    },
    "id": "NBhDbpkJHOE1",
    "outputId": "5d9e41eb-8ab2-4710-977c-c1f9fb318d9a",
    "papermill": {
     "duration": 0.064579,
     "end_time": "2023-12-18T16:58:55.528244",
     "exception": false,
     "start_time": "2023-12-18T16:58:55.463665",
     "status": "completed"
    },
    "tags": []
   },
   "outputs": [],
   "source": [
    "from sklearn.metrics import accuracy_score, precision_recall_fscore_support, classification_report, coverage_error, label_ranking_average_precision_score, label_ranking_loss\n",
    "import numpy as np\n",
    "import pandas as pd\n",
    "\n",
    "def generate_metrics_latex_table(model_name, task_number, true_labels, binary_predictions, prediction_probs, target_names):\n",
    "    report = classification_report(true_labels, binary_predictions, target_names=target_names, digits=3, output_dict=True)\n",
    "    df = pd.DataFrame(report).transpose()\n",
    "    df['support'] = df['support'].astype(int)\n",
    "    df = df.rename({'precision': r'\\textbf{Precision}', 'recall': r'\\textbf{Recall}', 'f1-score': r'\\textbf{F1-Score}', 'support': r'\\textbf{Support}'}, axis=1)\n",
    "\n",
    "    # Generating additional metrics\n",
    "    accuracy = accuracy_score(true_labels, binary_predictions)\n",
    "    precision, recall, f_score, _ = precision_recall_fscore_support(true_labels, binary_predictions, average='micro')\n",
    "\n",
    "    # Calculating multilabel-specific metrics\n",
    "    coverage_err = coverage_error(true_labels, prediction_probs)\n",
    "    lrap = label_ranking_average_precision_score(true_labels, prediction_probs)\n",
    "    ranking_loss = label_ranking_loss(true_labels, prediction_probs)\n",
    "\n",
    "    # Calculate best/worst/expected values where applicable\n",
    "    # Best possible coverage error is the average number of true labels per instance\n",
    "    best_coverage = true_labels.sum(axis=1).mean()\n",
    "    # The worst case is the total number of labels\n",
    "    worst_coverage = true_labels.shape[1]\n",
    "\n",
    "    # For LRAP, the best value is 1 and the worst is 0. Expected is the baseline or random performance.\n",
    "    best_lrap = 1.0\n",
    "    worst_lrap = 0.0  # This is theoretical; in practice, it's unlikely to get 0\n",
    "\n",
    "    # For ranking loss, the best value is 0. \n",
    "    best_rl = 0.0\n",
    "    # The worst case needs to account for the number of possible incorrect pairings. For each instance, it's the number of true labels times the number of false labels\n",
    "    worst_rl = np.mean([(sum(row) * (len(row) - sum(row))) for row in true_labels])\n",
    "\n",
    "\n",
    "    # Converting to LaTeX table\n",
    "    latex_table = df.to_latex(float_format=\"%.3f\", column_format='|l|c|c|c|c|')\n",
    "    # Removing some stuff from df.to_latex() output\n",
    "    latex_table = latex_table.replace('\\\\toprule\\n ', r'\\hline' + '\\n' + r'\\textbf{Class}') \\\n",
    "                             .replace('\\\\midrule\\n', '') \\\n",
    "                             .replace('\\\\bottomrule', r'\\multicolumn{5}{c}{}\\\\') \\\n",
    "                             .replace('\\\\end{tabular}\\n', '') \\\n",
    "                             .replace(r'\\\\', r'\\\\ \\hline') \\\n",
    "                             .replace('\\nmicro avg','\\\\hline\\nmicro avg')\n",
    "    \n",
    "    # Adding overall metrics\n",
    "    overall_metrics = f\"\"\"\n",
    "{latex_table}\n",
    "\\\\textbf{{Accuracy}}                    & \\\\multicolumn{{4}}{{c|}}{{{accuracy:.3f}}}                                 \\\\\\\\ \\\\hline\n",
    "\\\\textbf{{Overall Precision}}           & \\\\multicolumn{{4}}{{c|}}{{{precision:.3f}}}                                \\\\\\\\ \\\\hline\n",
    "\\\\textbf{{Overall Recall}}              & \\\\multicolumn{{4}}{{c|}}{{{recall:.3f}}}                                   \\\\\\\\ \\\\hline\n",
    "\\\\textbf{{Overall F1-Score}}            & \\\\multicolumn{{4}}{{c|}}{{{f_score:.3f}}}                                  \\\\\\\\ \\\\hline\n",
    "\\\\textbf{{Label Ranking Avg Precision}} & \\\\multicolumn{{4}}{{c|}}{{{lrap:.3f}}}                                    \\\\\\\\ \\\\hline\n",
    "\\\\textbf{{Coverage Error}}              & \\\\multicolumn{{4}}{{c|}}{{{coverage_err:.3f} (worst: {worst_coverage:.3f}, best: {best_coverage:.3f})}}                             \\\\\\\\ \\\\hline\n",
    "\\\\textbf{{Ranking Loss}}                & \\\\multicolumn{{4}}{{c|}}{{{ranking_loss:.3f} (worst: {worst_rl:.3f}, best: {best_rl:.3f})}}                             \\\\\\\\ \\\\hline\n",
    "\\\\end{{tabular}}\n",
    "\"\"\"\n",
    "\n",
    "    # Final LaTeX output with caption and label\n",
    "    final_latex_output = f\"\"\"\n",
    "\\\\begin{{table}}[h]\n",
    "\\\\centering\n",
    "{overall_metrics}\n",
    "\\\\caption{{Metrics Overview of {model_name} Model for Task {task_number}}}\n",
    "\\\\label{{table:{model_name}_metrics_task_{task_number}}}\n",
    "\\\\end{{table}}\n",
    "    \"\"\"\n",
    "\n",
    "    # Print or write to a file\n",
    "    with open('metrics.tex', 'w') as f:\n",
    "        f.write(final_latex_output)\n"
   ]
  },
  {
   "cell_type": "code",
   "execution_count": 28,
   "id": "f7680642",
   "metadata": {
    "execution": {
     "iopub.execute_input": "2023-12-18T16:58:55.626286Z",
     "iopub.status.busy": "2023-12-18T16:58:55.625356Z",
     "iopub.status.idle": "2023-12-18T16:58:56.560466Z",
     "shell.execute_reply": "2023-12-18T16:58:56.559541Z"
    },
    "papermill": {
     "duration": 0.986451,
     "end_time": "2023-12-18T16:58:56.562920",
     "exception": false,
     "start_time": "2023-12-18T16:58:55.576469",
     "status": "completed"
    },
    "tags": []
   },
   "outputs": [
    {
     "name": "stderr",
     "output_type": "stream",
     "text": [
      "/opt/conda/lib/python3.10/site-packages/sklearn/metrics/_classification.py:1344: UndefinedMetricWarning: Precision and F-score are ill-defined and being set to 0.0 in labels with no predicted samples. Use `zero_division` parameter to control this behavior.\n",
      "  _warn_prf(average, modifier, msg_start, len(result))\n",
      "/opt/conda/lib/python3.10/site-packages/sklearn/metrics/_classification.py:1344: UndefinedMetricWarning: Recall and F-score are ill-defined and being set to 0.0 in labels with no true samples. Use `zero_division` parameter to control this behavior.\n",
      "  _warn_prf(average, modifier, msg_start, len(result))\n",
      "/opt/conda/lib/python3.10/site-packages/sklearn/metrics/_classification.py:1344: UndefinedMetricWarning: Precision and F-score are ill-defined and being set to 0.0 in samples with no predicted labels. Use `zero_division` parameter to control this behavior.\n",
      "  _warn_prf(average, modifier, msg_start, len(result))\n"
     ]
    }
   ],
   "source": [
    "generate_metrics_latex_table(model_name= 'roberta', task_number = '01', true_labels = np.array(test_labels), binary_predictions = test_predictions, prediction_probs = test_predictions_probs, target_names=mlb.classes_)"
   ]
  },
  {
   "cell_type": "markdown",
   "id": "04a99e5b",
   "metadata": {
    "papermill": {
     "duration": 0.047741,
     "end_time": "2023-12-18T16:58:56.659609",
     "exception": false,
     "start_time": "2023-12-18T16:58:56.611868",
     "status": "completed"
    },
    "tags": []
   },
   "source": [
    "## Prediction quick test"
   ]
  },
  {
   "cell_type": "code",
   "execution_count": 29,
   "id": "8353f543",
   "metadata": {
    "execution": {
     "iopub.execute_input": "2023-12-18T16:58:56.757404Z",
     "iopub.status.busy": "2023-12-18T16:58:56.757029Z",
     "iopub.status.idle": "2023-12-18T16:58:56.762103Z",
     "shell.execute_reply": "2023-12-18T16:58:56.761150Z"
    },
    "papermill": {
     "duration": 0.056253,
     "end_time": "2023-12-18T16:58:56.763977",
     "exception": false,
     "start_time": "2023-12-18T16:58:56.707724",
     "status": "completed"
    },
    "tags": []
   },
   "outputs": [],
   "source": [
    "def parse(sentence):\n",
    "    # Tokenize\n",
    "    sentence = nlp(sentence)\n",
    "    # Remove stop words\n",
    "    sentence = \" \".join([token.lemma_ for token in sentence])\n",
    "    \n",
    "    return sentence"
   ]
  },
  {
   "cell_type": "code",
   "execution_count": 30,
   "id": "aa9a0b8a",
   "metadata": {
    "execution": {
     "iopub.execute_input": "2023-12-18T16:58:56.861226Z",
     "iopub.status.busy": "2023-12-18T16:58:56.860418Z",
     "iopub.status.idle": "2023-12-18T16:58:56.868670Z",
     "shell.execute_reply": "2023-12-18T16:58:56.867785Z"
    },
    "papermill": {
     "duration": 0.059017,
     "end_time": "2023-12-18T16:58:56.870667",
     "exception": false,
     "start_time": "2023-12-18T16:58:56.811650",
     "status": "completed"
    },
    "tags": []
   },
   "outputs": [],
   "source": [
    "def predict(model, tokenizer, sentence):\n",
    "    model.eval()\n",
    "    device = 'cuda' if cuda.is_available() else 'cpu'\n",
    "    sentence = parse(sentence)\n",
    "    inputs = tokenizer.encode_plus(\n",
    "            sentence,\n",
    "            add_special_tokens=True,\n",
    "            max_length = max_length,\n",
    "            return_token_type_ids=True,\n",
    "            padding='max_length',\n",
    "            return_attention_mask=True,\n",
    "            truncation=False,\n",
    "            return_tensors='pt'\n",
    "        )\n",
    "    \n",
    "\n",
    "    input_ids = inputs['input_ids'].to(device, dtype=torch.long)\n",
    "    attention_mask = inputs['attention_mask'].to(device, dtype=torch.long)\n",
    "    token_type_ids = inputs['token_type_ids'].to(device, dtype=torch.long)\n",
    "\n",
    "    outputs = model(input_ids, attention_mask, token_type_ids)\n",
    "\n",
    "    outputs = torch.sigmoid(outputs).cpu().detach().numpy()\n",
    "    threshold = 0.5\n",
    "    outputs = test_predictions = [[prob > threshold for prob in prob_list] for prob_list in outputs ]\n",
    "    \n",
    "    outputs = mlb.inverse_transform(np.array(outputs))\n",
    "    return sentence, outputs"
   ]
  }
 ],
 "metadata": {
  "accelerator": "GPU",
  "colab": {
   "gpuType": "T4",
   "provenance": []
  },
  "kaggle": {
   "accelerator": "gpu",
   "dataSources": [
    {
     "datasetId": 4175639,
     "sourceId": 7225997,
     "sourceType": "datasetVersion"
    },
    {
     "datasetId": 4172201,
     "sourceId": 7229854,
     "sourceType": "datasetVersion"
    }
   ],
   "dockerImageVersionId": 30616,
   "isGpuEnabled": true,
   "isInternetEnabled": true,
   "language": "python",
   "sourceType": "notebook"
  },
  "kernelspec": {
   "display_name": "Python 3",
   "language": "python",
   "name": "python3"
  },
  "language_info": {
   "codemirror_mode": {
    "name": "ipython",
    "version": 3
   },
   "file_extension": ".py",
   "mimetype": "text/x-python",
   "name": "python",
   "nbconvert_exporter": "python",
   "pygments_lexer": "ipython3",
   "version": "3.10.12"
  },
  "papermill": {
   "default_parameters": {},
   "duration": 144.640549,
   "end_time": "2023-12-18T16:59:00.325449",
   "environment_variables": {},
   "exception": null,
   "input_path": "__notebook__.ipynb",
   "output_path": "__notebook__.ipynb",
   "parameters": {},
   "start_time": "2023-12-18T16:56:35.684900",
   "version": "2.4.0"
  },
  "widgets": {
   "application/vnd.jupyter.widget-state+json": {
    "state": {
     "036dbcba6c81425a908227e73c954c74": {
      "model_module": "@jupyter-widgets/base",
      "model_module_version": "1.2.0",
      "model_name": "LayoutModel",
      "state": {
       "_model_module": "@jupyter-widgets/base",
       "_model_module_version": "1.2.0",
       "_model_name": "LayoutModel",
       "_view_count": null,
       "_view_module": "@jupyter-widgets/base",
       "_view_module_version": "1.2.0",
       "_view_name": "LayoutView",
       "align_content": null,
       "align_items": null,
       "align_self": null,
       "border": null,
       "bottom": null,
       "display": null,
       "flex": null,
       "flex_flow": null,
       "grid_area": null,
       "grid_auto_columns": null,
       "grid_auto_flow": null,
       "grid_auto_rows": null,
       "grid_column": null,
       "grid_gap": null,
       "grid_row": null,
       "grid_template_areas": null,
       "grid_template_columns": null,
       "grid_template_rows": null,
       "height": null,
       "justify_content": null,
       "justify_items": null,
       "left": null,
       "margin": null,
       "max_height": null,
       "max_width": null,
       "min_height": null,
       "min_width": null,
       "object_fit": null,
       "object_position": null,
       "order": null,
       "overflow": null,
       "overflow_x": null,
       "overflow_y": null,
       "padding": null,
       "right": null,
       "top": null,
       "visibility": null,
       "width": null
      }
     },
     "0671ab7d0c7d4fe4bfd51a6b662df7eb": {
      "model_module": "@jupyter-widgets/base",
      "model_module_version": "1.2.0",
      "model_name": "LayoutModel",
      "state": {
       "_model_module": "@jupyter-widgets/base",
       "_model_module_version": "1.2.0",
       "_model_name": "LayoutModel",
       "_view_count": null,
       "_view_module": "@jupyter-widgets/base",
       "_view_module_version": "1.2.0",
       "_view_name": "LayoutView",
       "align_content": null,
       "align_items": null,
       "align_self": null,
       "border": null,
       "bottom": null,
       "display": null,
       "flex": null,
       "flex_flow": null,
       "grid_area": null,
       "grid_auto_columns": null,
       "grid_auto_flow": null,
       "grid_auto_rows": null,
       "grid_column": null,
       "grid_gap": null,
       "grid_row": null,
       "grid_template_areas": null,
       "grid_template_columns": null,
       "grid_template_rows": null,
       "height": null,
       "justify_content": null,
       "justify_items": null,
       "left": null,
       "margin": null,
       "max_height": null,
       "max_width": null,
       "min_height": null,
       "min_width": null,
       "object_fit": null,
       "object_position": null,
       "order": null,
       "overflow": null,
       "overflow_x": null,
       "overflow_y": null,
       "padding": null,
       "right": null,
       "top": null,
       "visibility": null,
       "width": null
      }
     },
     "0ac2a530fdec490b96a9d5eaac969c31": {
      "model_module": "@jupyter-widgets/controls",
      "model_module_version": "1.5.0",
      "model_name": "HTMLModel",
      "state": {
       "_dom_classes": [],
       "_model_module": "@jupyter-widgets/controls",
       "_model_module_version": "1.5.0",
       "_model_name": "HTMLModel",
       "_view_count": null,
       "_view_module": "@jupyter-widgets/controls",
       "_view_module_version": "1.5.0",
       "_view_name": "HTMLView",
       "description": "",
       "description_tooltip": null,
       "layout": "IPY_MODEL_6449b17d6b564e3c92474196e48f1e9e",
       "placeholder": "​",
       "style": "IPY_MODEL_afcd86e2946149efa853ef01eddb6d2f",
       "value": " 1.36M/1.36M [00:00&lt;00:00, 19.8MB/s]"
      }
     },
     "0afef94571a5403395cabecc32d49de0": {
      "model_module": "@jupyter-widgets/controls",
      "model_module_version": "1.5.0",
      "model_name": "DescriptionStyleModel",
      "state": {
       "_model_module": "@jupyter-widgets/controls",
       "_model_module_version": "1.5.0",
       "_model_name": "DescriptionStyleModel",
       "_view_count": null,
       "_view_module": "@jupyter-widgets/base",
       "_view_module_version": "1.2.0",
       "_view_name": "StyleView",
       "description_width": ""
      }
     },
     "125eabbf48c44d5b990b12f25aeea991": {
      "model_module": "@jupyter-widgets/base",
      "model_module_version": "1.2.0",
      "model_name": "LayoutModel",
      "state": {
       "_model_module": "@jupyter-widgets/base",
       "_model_module_version": "1.2.0",
       "_model_name": "LayoutModel",
       "_view_count": null,
       "_view_module": "@jupyter-widgets/base",
       "_view_module_version": "1.2.0",
       "_view_name": "LayoutView",
       "align_content": null,
       "align_items": null,
       "align_self": null,
       "border": null,
       "bottom": null,
       "display": null,
       "flex": null,
       "flex_flow": null,
       "grid_area": null,
       "grid_auto_columns": null,
       "grid_auto_flow": null,
       "grid_auto_rows": null,
       "grid_column": null,
       "grid_gap": null,
       "grid_row": null,
       "grid_template_areas": null,
       "grid_template_columns": null,
       "grid_template_rows": null,
       "height": null,
       "justify_content": null,
       "justify_items": null,
       "left": null,
       "margin": null,
       "max_height": null,
       "max_width": null,
       "min_height": null,
       "min_width": null,
       "object_fit": null,
       "object_position": null,
       "order": null,
       "overflow": null,
       "overflow_x": null,
       "overflow_y": null,
       "padding": null,
       "right": null,
       "top": null,
       "visibility": null,
       "width": null
      }
     },
     "1399d9d15f064bc29ebb6fe7f42dd6e9": {
      "model_module": "@jupyter-widgets/controls",
      "model_module_version": "1.5.0",
      "model_name": "DescriptionStyleModel",
      "state": {
       "_model_module": "@jupyter-widgets/controls",
       "_model_module_version": "1.5.0",
       "_model_name": "DescriptionStyleModel",
       "_view_count": null,
       "_view_module": "@jupyter-widgets/base",
       "_view_module_version": "1.2.0",
       "_view_name": "StyleView",
       "description_width": ""
      }
     },
     "1f0659ad55484727aaba8b5a80e39cd6": {
      "model_module": "@jupyter-widgets/base",
      "model_module_version": "1.2.0",
      "model_name": "LayoutModel",
      "state": {
       "_model_module": "@jupyter-widgets/base",
       "_model_module_version": "1.2.0",
       "_model_name": "LayoutModel",
       "_view_count": null,
       "_view_module": "@jupyter-widgets/base",
       "_view_module_version": "1.2.0",
       "_view_name": "LayoutView",
       "align_content": null,
       "align_items": null,
       "align_self": null,
       "border": null,
       "bottom": null,
       "display": null,
       "flex": null,
       "flex_flow": null,
       "grid_area": null,
       "grid_auto_columns": null,
       "grid_auto_flow": null,
       "grid_auto_rows": null,
       "grid_column": null,
       "grid_gap": null,
       "grid_row": null,
       "grid_template_areas": null,
       "grid_template_columns": null,
       "grid_template_rows": null,
       "height": null,
       "justify_content": null,
       "justify_items": null,
       "left": null,
       "margin": null,
       "max_height": null,
       "max_width": null,
       "min_height": null,
       "min_width": null,
       "object_fit": null,
       "object_position": null,
       "order": null,
       "overflow": null,
       "overflow_x": null,
       "overflow_y": null,
       "padding": null,
       "right": null,
       "top": null,
       "visibility": null,
       "width": null
      }
     },
     "2452865fb54b4fc6b3c1156bef6e1f5f": {
      "model_module": "@jupyter-widgets/controls",
      "model_module_version": "1.5.0",
      "model_name": "ProgressStyleModel",
      "state": {
       "_model_module": "@jupyter-widgets/controls",
       "_model_module_version": "1.5.0",
       "_model_name": "ProgressStyleModel",
       "_view_count": null,
       "_view_module": "@jupyter-widgets/base",
       "_view_module_version": "1.2.0",
       "_view_name": "StyleView",
       "bar_color": null,
       "description_width": ""
      }
     },
     "259e67fd7504458db1cd0c684d134dfc": {
      "model_module": "@jupyter-widgets/controls",
      "model_module_version": "1.5.0",
      "model_name": "DescriptionStyleModel",
      "state": {
       "_model_module": "@jupyter-widgets/controls",
       "_model_module_version": "1.5.0",
       "_model_name": "DescriptionStyleModel",
       "_view_count": null,
       "_view_module": "@jupyter-widgets/base",
       "_view_module_version": "1.2.0",
       "_view_name": "StyleView",
       "description_width": ""
      }
     },
     "341c8ca68894403da33b17029faff354": {
      "model_module": "@jupyter-widgets/controls",
      "model_module_version": "1.5.0",
      "model_name": "HTMLModel",
      "state": {
       "_dom_classes": [],
       "_model_module": "@jupyter-widgets/controls",
       "_model_module_version": "1.5.0",
       "_model_name": "HTMLModel",
       "_view_count": null,
       "_view_module": "@jupyter-widgets/controls",
       "_view_module_version": "1.5.0",
       "_view_name": "HTMLView",
       "description": "",
       "description_tooltip": null,
       "layout": "IPY_MODEL_0671ab7d0c7d4fe4bfd51a6b662df7eb",
       "placeholder": "​",
       "style": "IPY_MODEL_259e67fd7504458db1cd0c684d134dfc",
       "value": "vocab.json: 100%"
      }
     },
     "34a97924d8954709bca9b43616d83205": {
      "model_module": "@jupyter-widgets/controls",
      "model_module_version": "1.5.0",
      "model_name": "DescriptionStyleModel",
      "state": {
       "_model_module": "@jupyter-widgets/controls",
       "_model_module_version": "1.5.0",
       "_model_name": "DescriptionStyleModel",
       "_view_count": null,
       "_view_module": "@jupyter-widgets/base",
       "_view_module_version": "1.2.0",
       "_view_name": "StyleView",
       "description_width": ""
      }
     },
     "575ce0c6a9854a11b9d47b7ef71ae82f": {
      "model_module": "@jupyter-widgets/controls",
      "model_module_version": "1.5.0",
      "model_name": "DescriptionStyleModel",
      "state": {
       "_model_module": "@jupyter-widgets/controls",
       "_model_module_version": "1.5.0",
       "_model_name": "DescriptionStyleModel",
       "_view_count": null,
       "_view_module": "@jupyter-widgets/base",
       "_view_module_version": "1.2.0",
       "_view_name": "StyleView",
       "description_width": ""
      }
     },
     "57a8af36e35b4ddeaf760b6106353115": {
      "model_module": "@jupyter-widgets/controls",
      "model_module_version": "1.5.0",
      "model_name": "DescriptionStyleModel",
      "state": {
       "_model_module": "@jupyter-widgets/controls",
       "_model_module_version": "1.5.0",
       "_model_name": "DescriptionStyleModel",
       "_view_count": null,
       "_view_module": "@jupyter-widgets/base",
       "_view_module_version": "1.2.0",
       "_view_name": "StyleView",
       "description_width": ""
      }
     },
     "59be51d783b9415b93bd231a09abe073": {
      "model_module": "@jupyter-widgets/controls",
      "model_module_version": "1.5.0",
      "model_name": "ProgressStyleModel",
      "state": {
       "_model_module": "@jupyter-widgets/controls",
       "_model_module_version": "1.5.0",
       "_model_name": "ProgressStyleModel",
       "_view_count": null,
       "_view_module": "@jupyter-widgets/base",
       "_view_module_version": "1.2.0",
       "_view_name": "StyleView",
       "bar_color": null,
       "description_width": ""
      }
     },
     "6145b1b76c4c4a0892aa3a75b2bb229a": {
      "model_module": "@jupyter-widgets/base",
      "model_module_version": "1.2.0",
      "model_name": "LayoutModel",
      "state": {
       "_model_module": "@jupyter-widgets/base",
       "_model_module_version": "1.2.0",
       "_model_name": "LayoutModel",
       "_view_count": null,
       "_view_module": "@jupyter-widgets/base",
       "_view_module_version": "1.2.0",
       "_view_name": "LayoutView",
       "align_content": null,
       "align_items": null,
       "align_self": null,
       "border": null,
       "bottom": null,
       "display": null,
       "flex": null,
       "flex_flow": null,
       "grid_area": null,
       "grid_auto_columns": null,
       "grid_auto_flow": null,
       "grid_auto_rows": null,
       "grid_column": null,
       "grid_gap": null,
       "grid_row": null,
       "grid_template_areas": null,
       "grid_template_columns": null,
       "grid_template_rows": null,
       "height": null,
       "justify_content": null,
       "justify_items": null,
       "left": null,
       "margin": null,
       "max_height": null,
       "max_width": null,
       "min_height": null,
       "min_width": null,
       "object_fit": null,
       "object_position": null,
       "order": null,
       "overflow": null,
       "overflow_x": null,
       "overflow_y": null,
       "padding": null,
       "right": null,
       "top": null,
       "visibility": null,
       "width": null
      }
     },
     "6449b17d6b564e3c92474196e48f1e9e": {
      "model_module": "@jupyter-widgets/base",
      "model_module_version": "1.2.0",
      "model_name": "LayoutModel",
      "state": {
       "_model_module": "@jupyter-widgets/base",
       "_model_module_version": "1.2.0",
       "_model_name": "LayoutModel",
       "_view_count": null,
       "_view_module": "@jupyter-widgets/base",
       "_view_module_version": "1.2.0",
       "_view_name": "LayoutView",
       "align_content": null,
       "align_items": null,
       "align_self": null,
       "border": null,
       "bottom": null,
       "display": null,
       "flex": null,
       "flex_flow": null,
       "grid_area": null,
       "grid_auto_columns": null,
       "grid_auto_flow": null,
       "grid_auto_rows": null,
       "grid_column": null,
       "grid_gap": null,
       "grid_row": null,
       "grid_template_areas": null,
       "grid_template_columns": null,
       "grid_template_rows": null,
       "height": null,
       "justify_content": null,
       "justify_items": null,
       "left": null,
       "margin": null,
       "max_height": null,
       "max_width": null,
       "min_height": null,
       "min_width": null,
       "object_fit": null,
       "object_position": null,
       "order": null,
       "overflow": null,
       "overflow_x": null,
       "overflow_y": null,
       "padding": null,
       "right": null,
       "top": null,
       "visibility": null,
       "width": null
      }
     },
     "67ee987919794982b810b3146394cecf": {
      "model_module": "@jupyter-widgets/controls",
      "model_module_version": "1.5.0",
      "model_name": "HBoxModel",
      "state": {
       "_dom_classes": [],
       "_model_module": "@jupyter-widgets/controls",
       "_model_module_version": "1.5.0",
       "_model_name": "HBoxModel",
       "_view_count": null,
       "_view_module": "@jupyter-widgets/controls",
       "_view_module_version": "1.5.0",
       "_view_name": "HBoxView",
       "box_style": "",
       "children": [
        "IPY_MODEL_ce7dab9f6dff4578afaf53aa9ac8e40d",
        "IPY_MODEL_935def580d524f08877be448309409a5",
        "IPY_MODEL_b37d4c8cfa144d068214b0559862a1ba"
       ],
       "layout": "IPY_MODEL_75d6ae1867f54da19b9ee5a5de7d0759"
      }
     },
     "75d6ae1867f54da19b9ee5a5de7d0759": {
      "model_module": "@jupyter-widgets/base",
      "model_module_version": "1.2.0",
      "model_name": "LayoutModel",
      "state": {
       "_model_module": "@jupyter-widgets/base",
       "_model_module_version": "1.2.0",
       "_model_name": "LayoutModel",
       "_view_count": null,
       "_view_module": "@jupyter-widgets/base",
       "_view_module_version": "1.2.0",
       "_view_name": "LayoutView",
       "align_content": null,
       "align_items": null,
       "align_self": null,
       "border": null,
       "bottom": null,
       "display": null,
       "flex": null,
       "flex_flow": null,
       "grid_area": null,
       "grid_auto_columns": null,
       "grid_auto_flow": null,
       "grid_auto_rows": null,
       "grid_column": null,
       "grid_gap": null,
       "grid_row": null,
       "grid_template_areas": null,
       "grid_template_columns": null,
       "grid_template_rows": null,
       "height": null,
       "justify_content": null,
       "justify_items": null,
       "left": null,
       "margin": null,
       "max_height": null,
       "max_width": null,
       "min_height": null,
       "min_width": null,
       "object_fit": null,
       "object_position": null,
       "order": null,
       "overflow": null,
       "overflow_x": null,
       "overflow_y": null,
       "padding": null,
       "right": null,
       "top": null,
       "visibility": null,
       "width": null
      }
     },
     "80557453aefe4d1facc2bc2b37e862c1": {
      "model_module": "@jupyter-widgets/base",
      "model_module_version": "1.2.0",
      "model_name": "LayoutModel",
      "state": {
       "_model_module": "@jupyter-widgets/base",
       "_model_module_version": "1.2.0",
       "_model_name": "LayoutModel",
       "_view_count": null,
       "_view_module": "@jupyter-widgets/base",
       "_view_module_version": "1.2.0",
       "_view_name": "LayoutView",
       "align_content": null,
       "align_items": null,
       "align_self": null,
       "border": null,
       "bottom": null,
       "display": null,
       "flex": null,
       "flex_flow": null,
       "grid_area": null,
       "grid_auto_columns": null,
       "grid_auto_flow": null,
       "grid_auto_rows": null,
       "grid_column": null,
       "grid_gap": null,
       "grid_row": null,
       "grid_template_areas": null,
       "grid_template_columns": null,
       "grid_template_rows": null,
       "height": null,
       "justify_content": null,
       "justify_items": null,
       "left": null,
       "margin": null,
       "max_height": null,
       "max_width": null,
       "min_height": null,
       "min_width": null,
       "object_fit": null,
       "object_position": null,
       "order": null,
       "overflow": null,
       "overflow_x": null,
       "overflow_y": null,
       "padding": null,
       "right": null,
       "top": null,
       "visibility": null,
       "width": null
      }
     },
     "81b50cf724c74bf7bd49231a944bcfc6": {
      "model_module": "@jupyter-widgets/base",
      "model_module_version": "1.2.0",
      "model_name": "LayoutModel",
      "state": {
       "_model_module": "@jupyter-widgets/base",
       "_model_module_version": "1.2.0",
       "_model_name": "LayoutModel",
       "_view_count": null,
       "_view_module": "@jupyter-widgets/base",
       "_view_module_version": "1.2.0",
       "_view_name": "LayoutView",
       "align_content": null,
       "align_items": null,
       "align_self": null,
       "border": null,
       "bottom": null,
       "display": null,
       "flex": null,
       "flex_flow": null,
       "grid_area": null,
       "grid_auto_columns": null,
       "grid_auto_flow": null,
       "grid_auto_rows": null,
       "grid_column": null,
       "grid_gap": null,
       "grid_row": null,
       "grid_template_areas": null,
       "grid_template_columns": null,
       "grid_template_rows": null,
       "height": null,
       "justify_content": null,
       "justify_items": null,
       "left": null,
       "margin": null,
       "max_height": null,
       "max_width": null,
       "min_height": null,
       "min_width": null,
       "object_fit": null,
       "object_position": null,
       "order": null,
       "overflow": null,
       "overflow_x": null,
       "overflow_y": null,
       "padding": null,
       "right": null,
       "top": null,
       "visibility": null,
       "width": null
      }
     },
     "883f95f8117c45cc9fcd36100c700ac8": {
      "model_module": "@jupyter-widgets/base",
      "model_module_version": "1.2.0",
      "model_name": "LayoutModel",
      "state": {
       "_model_module": "@jupyter-widgets/base",
       "_model_module_version": "1.2.0",
       "_model_name": "LayoutModel",
       "_view_count": null,
       "_view_module": "@jupyter-widgets/base",
       "_view_module_version": "1.2.0",
       "_view_name": "LayoutView",
       "align_content": null,
       "align_items": null,
       "align_self": null,
       "border": null,
       "bottom": null,
       "display": null,
       "flex": null,
       "flex_flow": null,
       "grid_area": null,
       "grid_auto_columns": null,
       "grid_auto_flow": null,
       "grid_auto_rows": null,
       "grid_column": null,
       "grid_gap": null,
       "grid_row": null,
       "grid_template_areas": null,
       "grid_template_columns": null,
       "grid_template_rows": null,
       "height": null,
       "justify_content": null,
       "justify_items": null,
       "left": null,
       "margin": null,
       "max_height": null,
       "max_width": null,
       "min_height": null,
       "min_width": null,
       "object_fit": null,
       "object_position": null,
       "order": null,
       "overflow": null,
       "overflow_x": null,
       "overflow_y": null,
       "padding": null,
       "right": null,
       "top": null,
       "visibility": null,
       "width": null
      }
     },
     "935def580d524f08877be448309409a5": {
      "model_module": "@jupyter-widgets/controls",
      "model_module_version": "1.5.0",
      "model_name": "FloatProgressModel",
      "state": {
       "_dom_classes": [],
       "_model_module": "@jupyter-widgets/controls",
       "_model_module_version": "1.5.0",
       "_model_name": "FloatProgressModel",
       "_view_count": null,
       "_view_module": "@jupyter-widgets/controls",
       "_view_module_version": "1.5.0",
       "_view_name": "ProgressView",
       "bar_style": "success",
       "description": "",
       "description_tooltip": null,
       "layout": "IPY_MODEL_e4c8928970704b129458ff67a0120b51",
       "max": 498818054.0,
       "min": 0.0,
       "orientation": "horizontal",
       "style": "IPY_MODEL_bffa36629dba4df8bd39ee2742b9e8f8",
       "value": 498818054.0
      }
     },
     "978696b547e14fe3905ab5eaf7bade4a": {
      "model_module": "@jupyter-widgets/base",
      "model_module_version": "1.2.0",
      "model_name": "LayoutModel",
      "state": {
       "_model_module": "@jupyter-widgets/base",
       "_model_module_version": "1.2.0",
       "_model_name": "LayoutModel",
       "_view_count": null,
       "_view_module": "@jupyter-widgets/base",
       "_view_module_version": "1.2.0",
       "_view_name": "LayoutView",
       "align_content": null,
       "align_items": null,
       "align_self": null,
       "border": null,
       "bottom": null,
       "display": null,
       "flex": null,
       "flex_flow": null,
       "grid_area": null,
       "grid_auto_columns": null,
       "grid_auto_flow": null,
       "grid_auto_rows": null,
       "grid_column": null,
       "grid_gap": null,
       "grid_row": null,
       "grid_template_areas": null,
       "grid_template_columns": null,
       "grid_template_rows": null,
       "height": null,
       "justify_content": null,
       "justify_items": null,
       "left": null,
       "margin": null,
       "max_height": null,
       "max_width": null,
       "min_height": null,
       "min_width": null,
       "object_fit": null,
       "object_position": null,
       "order": null,
       "overflow": null,
       "overflow_x": null,
       "overflow_y": null,
       "padding": null,
       "right": null,
       "top": null,
       "visibility": null,
       "width": null
      }
     },
     "980b34c014ad47268b7464522718a55e": {
      "model_module": "@jupyter-widgets/controls",
      "model_module_version": "1.5.0",
      "model_name": "DescriptionStyleModel",
      "state": {
       "_model_module": "@jupyter-widgets/controls",
       "_model_module_version": "1.5.0",
       "_model_name": "DescriptionStyleModel",
       "_view_count": null,
       "_view_module": "@jupyter-widgets/base",
       "_view_module_version": "1.2.0",
       "_view_name": "StyleView",
       "description_width": ""
      }
     },
     "9852ff06fd60420981990e06c3a81322": {
      "model_module": "@jupyter-widgets/controls",
      "model_module_version": "1.5.0",
      "model_name": "FloatProgressModel",
      "state": {
       "_dom_classes": [],
       "_model_module": "@jupyter-widgets/controls",
       "_model_module_version": "1.5.0",
       "_model_name": "FloatProgressModel",
       "_view_count": null,
       "_view_module": "@jupyter-widgets/controls",
       "_view_module_version": "1.5.0",
       "_view_name": "ProgressView",
       "bar_style": "success",
       "description": "",
       "description_tooltip": null,
       "layout": "IPY_MODEL_883f95f8117c45cc9fcd36100c700ac8",
       "max": 898823.0,
       "min": 0.0,
       "orientation": "horizontal",
       "style": "IPY_MODEL_edc21b17fc5244a09379ba68b6a57688",
       "value": 898823.0
      }
     },
     "98ce70c80bd04e039c97833a3f161178": {
      "model_module": "@jupyter-widgets/controls",
      "model_module_version": "1.5.0",
      "model_name": "HBoxModel",
      "state": {
       "_dom_classes": [],
       "_model_module": "@jupyter-widgets/controls",
       "_model_module_version": "1.5.0",
       "_model_name": "HBoxModel",
       "_view_count": null,
       "_view_module": "@jupyter-widgets/controls",
       "_view_module_version": "1.5.0",
       "_view_name": "HBoxView",
       "box_style": "",
       "children": [
        "IPY_MODEL_c74712c1d18b40aab8990b4ac556b4ca",
        "IPY_MODEL_cf0833e7c6f84cc7a91481262cd77453",
        "IPY_MODEL_e54116631b474584b19dc2bb03dd278f"
       ],
       "layout": "IPY_MODEL_bafb7f69b1e14dc290ae8b99410dfea3"
      }
     },
     "99ee91a1a4d14a40a0dbf55595304201": {
      "model_module": "@jupyter-widgets/controls",
      "model_module_version": "1.5.0",
      "model_name": "DescriptionStyleModel",
      "state": {
       "_model_module": "@jupyter-widgets/controls",
       "_model_module_version": "1.5.0",
       "_model_name": "DescriptionStyleModel",
       "_view_count": null,
       "_view_module": "@jupyter-widgets/base",
       "_view_module_version": "1.2.0",
       "_view_name": "StyleView",
       "description_width": ""
      }
     },
     "a86b0eed23324bcf88f51d3061c44308": {
      "model_module": "@jupyter-widgets/base",
      "model_module_version": "1.2.0",
      "model_name": "LayoutModel",
      "state": {
       "_model_module": "@jupyter-widgets/base",
       "_model_module_version": "1.2.0",
       "_model_name": "LayoutModel",
       "_view_count": null,
       "_view_module": "@jupyter-widgets/base",
       "_view_module_version": "1.2.0",
       "_view_name": "LayoutView",
       "align_content": null,
       "align_items": null,
       "align_self": null,
       "border": null,
       "bottom": null,
       "display": null,
       "flex": null,
       "flex_flow": null,
       "grid_area": null,
       "grid_auto_columns": null,
       "grid_auto_flow": null,
       "grid_auto_rows": null,
       "grid_column": null,
       "grid_gap": null,
       "grid_row": null,
       "grid_template_areas": null,
       "grid_template_columns": null,
       "grid_template_rows": null,
       "height": null,
       "justify_content": null,
       "justify_items": null,
       "left": null,
       "margin": null,
       "max_height": null,
       "max_width": null,
       "min_height": null,
       "min_width": null,
       "object_fit": null,
       "object_position": null,
       "order": null,
       "overflow": null,
       "overflow_x": null,
       "overflow_y": null,
       "padding": null,
       "right": null,
       "top": null,
       "visibility": null,
       "width": null
      }
     },
     "ab51643406fa4da4aca43f82a0b9af2e": {
      "model_module": "@jupyter-widgets/base",
      "model_module_version": "1.2.0",
      "model_name": "LayoutModel",
      "state": {
       "_model_module": "@jupyter-widgets/base",
       "_model_module_version": "1.2.0",
       "_model_name": "LayoutModel",
       "_view_count": null,
       "_view_module": "@jupyter-widgets/base",
       "_view_module_version": "1.2.0",
       "_view_name": "LayoutView",
       "align_content": null,
       "align_items": null,
       "align_self": null,
       "border": null,
       "bottom": null,
       "display": null,
       "flex": null,
       "flex_flow": null,
       "grid_area": null,
       "grid_auto_columns": null,
       "grid_auto_flow": null,
       "grid_auto_rows": null,
       "grid_column": null,
       "grid_gap": null,
       "grid_row": null,
       "grid_template_areas": null,
       "grid_template_columns": null,
       "grid_template_rows": null,
       "height": null,
       "justify_content": null,
       "justify_items": null,
       "left": null,
       "margin": null,
       "max_height": null,
       "max_width": null,
       "min_height": null,
       "min_width": null,
       "object_fit": null,
       "object_position": null,
       "order": null,
       "overflow": null,
       "overflow_x": null,
       "overflow_y": null,
       "padding": null,
       "right": null,
       "top": null,
       "visibility": null,
       "width": null
      }
     },
     "afcd86e2946149efa853ef01eddb6d2f": {
      "model_module": "@jupyter-widgets/controls",
      "model_module_version": "1.5.0",
      "model_name": "DescriptionStyleModel",
      "state": {
       "_model_module": "@jupyter-widgets/controls",
       "_model_module_version": "1.5.0",
       "_model_name": "DescriptionStyleModel",
       "_view_count": null,
       "_view_module": "@jupyter-widgets/base",
       "_view_module_version": "1.2.0",
       "_view_name": "StyleView",
       "description_width": ""
      }
     },
     "b007b8ee0c2248999e1719a803355b37": {
      "model_module": "@jupyter-widgets/controls",
      "model_module_version": "1.5.0",
      "model_name": "FloatProgressModel",
      "state": {
       "_dom_classes": [],
       "_model_module": "@jupyter-widgets/controls",
       "_model_module_version": "1.5.0",
       "_model_name": "FloatProgressModel",
       "_view_count": null,
       "_view_module": "@jupyter-widgets/controls",
       "_view_module_version": "1.5.0",
       "_view_name": "ProgressView",
       "bar_style": "success",
       "description": "",
       "description_tooltip": null,
       "layout": "IPY_MODEL_cc875add666844ffaeab509483590d09",
       "max": 481.0,
       "min": 0.0,
       "orientation": "horizontal",
       "style": "IPY_MODEL_2452865fb54b4fc6b3c1156bef6e1f5f",
       "value": 481.0
      }
     },
     "b37d4c8cfa144d068214b0559862a1ba": {
      "model_module": "@jupyter-widgets/controls",
      "model_module_version": "1.5.0",
      "model_name": "HTMLModel",
      "state": {
       "_dom_classes": [],
       "_model_module": "@jupyter-widgets/controls",
       "_model_module_version": "1.5.0",
       "_model_name": "HTMLModel",
       "_view_count": null,
       "_view_module": "@jupyter-widgets/controls",
       "_view_module_version": "1.5.0",
       "_view_name": "HTMLView",
       "description": "",
       "description_tooltip": null,
       "layout": "IPY_MODEL_ab51643406fa4da4aca43f82a0b9af2e",
       "placeholder": "​",
       "style": "IPY_MODEL_99ee91a1a4d14a40a0dbf55595304201",
       "value": " 499M/499M [00:01&lt;00:00, 358MB/s]"
      }
     },
     "b78f1d33ebda4f5fa5b769d14ff4452e": {
      "model_module": "@jupyter-widgets/controls",
      "model_module_version": "1.5.0",
      "model_name": "HBoxModel",
      "state": {
       "_dom_classes": [],
       "_model_module": "@jupyter-widgets/controls",
       "_model_module_version": "1.5.0",
       "_model_name": "HBoxModel",
       "_view_count": null,
       "_view_module": "@jupyter-widgets/controls",
       "_view_module_version": "1.5.0",
       "_view_name": "HBoxView",
       "box_style": "",
       "children": [
        "IPY_MODEL_341c8ca68894403da33b17029faff354",
        "IPY_MODEL_9852ff06fd60420981990e06c3a81322",
        "IPY_MODEL_cfe31a2b9f78424297d48a54e78553fd"
       ],
       "layout": "IPY_MODEL_e68382397a454c3b9aed9fe9fb732b61"
      }
     },
     "bafb7f69b1e14dc290ae8b99410dfea3": {
      "model_module": "@jupyter-widgets/base",
      "model_module_version": "1.2.0",
      "model_name": "LayoutModel",
      "state": {
       "_model_module": "@jupyter-widgets/base",
       "_model_module_version": "1.2.0",
       "_model_name": "LayoutModel",
       "_view_count": null,
       "_view_module": "@jupyter-widgets/base",
       "_view_module_version": "1.2.0",
       "_view_name": "LayoutView",
       "align_content": null,
       "align_items": null,
       "align_self": null,
       "border": null,
       "bottom": null,
       "display": null,
       "flex": null,
       "flex_flow": null,
       "grid_area": null,
       "grid_auto_columns": null,
       "grid_auto_flow": null,
       "grid_auto_rows": null,
       "grid_column": null,
       "grid_gap": null,
       "grid_row": null,
       "grid_template_areas": null,
       "grid_template_columns": null,
       "grid_template_rows": null,
       "height": null,
       "justify_content": null,
       "justify_items": null,
       "left": null,
       "margin": null,
       "max_height": null,
       "max_width": null,
       "min_height": null,
       "min_width": null,
       "object_fit": null,
       "object_position": null,
       "order": null,
       "overflow": null,
       "overflow_x": null,
       "overflow_y": null,
       "padding": null,
       "right": null,
       "top": null,
       "visibility": null,
       "width": null
      }
     },
     "bffa36629dba4df8bd39ee2742b9e8f8": {
      "model_module": "@jupyter-widgets/controls",
      "model_module_version": "1.5.0",
      "model_name": "ProgressStyleModel",
      "state": {
       "_model_module": "@jupyter-widgets/controls",
       "_model_module_version": "1.5.0",
       "_model_name": "ProgressStyleModel",
       "_view_count": null,
       "_view_module": "@jupyter-widgets/base",
       "_view_module_version": "1.2.0",
       "_view_name": "StyleView",
       "bar_color": null,
       "description_width": ""
      }
     },
     "c636dbbe31414b9294bdfe06f9cf30a5": {
      "model_module": "@jupyter-widgets/controls",
      "model_module_version": "1.5.0",
      "model_name": "HBoxModel",
      "state": {
       "_dom_classes": [],
       "_model_module": "@jupyter-widgets/controls",
       "_model_module_version": "1.5.0",
       "_model_name": "HBoxModel",
       "_view_count": null,
       "_view_module": "@jupyter-widgets/controls",
       "_view_module_version": "1.5.0",
       "_view_name": "HBoxView",
       "box_style": "",
       "children": [
        "IPY_MODEL_ca956511e8f14c86bffe8653cdbc0f1e",
        "IPY_MODEL_dc07faff7f894590b035b567a2312ca6",
        "IPY_MODEL_0ac2a530fdec490b96a9d5eaac969c31"
       ],
       "layout": "IPY_MODEL_c888058b81f049748a803b6aa9c6320f"
      }
     },
     "c74712c1d18b40aab8990b4ac556b4ca": {
      "model_module": "@jupyter-widgets/controls",
      "model_module_version": "1.5.0",
      "model_name": "HTMLModel",
      "state": {
       "_dom_classes": [],
       "_model_module": "@jupyter-widgets/controls",
       "_model_module_version": "1.5.0",
       "_model_name": "HTMLModel",
       "_view_count": null,
       "_view_module": "@jupyter-widgets/controls",
       "_view_module_version": "1.5.0",
       "_view_name": "HTMLView",
       "description": "",
       "description_tooltip": null,
       "layout": "IPY_MODEL_1f0659ad55484727aaba8b5a80e39cd6",
       "placeholder": "​",
       "style": "IPY_MODEL_ed8628265346404b87ff24e8c6ecc666",
       "value": "merges.txt: 100%"
      }
     },
     "c888058b81f049748a803b6aa9c6320f": {
      "model_module": "@jupyter-widgets/base",
      "model_module_version": "1.2.0",
      "model_name": "LayoutModel",
      "state": {
       "_model_module": "@jupyter-widgets/base",
       "_model_module_version": "1.2.0",
       "_model_name": "LayoutModel",
       "_view_count": null,
       "_view_module": "@jupyter-widgets/base",
       "_view_module_version": "1.2.0",
       "_view_name": "LayoutView",
       "align_content": null,
       "align_items": null,
       "align_self": null,
       "border": null,
       "bottom": null,
       "display": null,
       "flex": null,
       "flex_flow": null,
       "grid_area": null,
       "grid_auto_columns": null,
       "grid_auto_flow": null,
       "grid_auto_rows": null,
       "grid_column": null,
       "grid_gap": null,
       "grid_row": null,
       "grid_template_areas": null,
       "grid_template_columns": null,
       "grid_template_rows": null,
       "height": null,
       "justify_content": null,
       "justify_items": null,
       "left": null,
       "margin": null,
       "max_height": null,
       "max_width": null,
       "min_height": null,
       "min_width": null,
       "object_fit": null,
       "object_position": null,
       "order": null,
       "overflow": null,
       "overflow_x": null,
       "overflow_y": null,
       "padding": null,
       "right": null,
       "top": null,
       "visibility": null,
       "width": null
      }
     },
     "ca956511e8f14c86bffe8653cdbc0f1e": {
      "model_module": "@jupyter-widgets/controls",
      "model_module_version": "1.5.0",
      "model_name": "HTMLModel",
      "state": {
       "_dom_classes": [],
       "_model_module": "@jupyter-widgets/controls",
       "_model_module_version": "1.5.0",
       "_model_name": "HTMLModel",
       "_view_count": null,
       "_view_module": "@jupyter-widgets/controls",
       "_view_module_version": "1.5.0",
       "_view_name": "HTMLView",
       "description": "",
       "description_tooltip": null,
       "layout": "IPY_MODEL_036dbcba6c81425a908227e73c954c74",
       "placeholder": "​",
       "style": "IPY_MODEL_1399d9d15f064bc29ebb6fe7f42dd6e9",
       "value": "tokenizer.json: 100%"
      }
     },
     "cc875add666844ffaeab509483590d09": {
      "model_module": "@jupyter-widgets/base",
      "model_module_version": "1.2.0",
      "model_name": "LayoutModel",
      "state": {
       "_model_module": "@jupyter-widgets/base",
       "_model_module_version": "1.2.0",
       "_model_name": "LayoutModel",
       "_view_count": null,
       "_view_module": "@jupyter-widgets/base",
       "_view_module_version": "1.2.0",
       "_view_name": "LayoutView",
       "align_content": null,
       "align_items": null,
       "align_self": null,
       "border": null,
       "bottom": null,
       "display": null,
       "flex": null,
       "flex_flow": null,
       "grid_area": null,
       "grid_auto_columns": null,
       "grid_auto_flow": null,
       "grid_auto_rows": null,
       "grid_column": null,
       "grid_gap": null,
       "grid_row": null,
       "grid_template_areas": null,
       "grid_template_columns": null,
       "grid_template_rows": null,
       "height": null,
       "justify_content": null,
       "justify_items": null,
       "left": null,
       "margin": null,
       "max_height": null,
       "max_width": null,
       "min_height": null,
       "min_width": null,
       "object_fit": null,
       "object_position": null,
       "order": null,
       "overflow": null,
       "overflow_x": null,
       "overflow_y": null,
       "padding": null,
       "right": null,
       "top": null,
       "visibility": null,
       "width": null
      }
     },
     "ce7dab9f6dff4578afaf53aa9ac8e40d": {
      "model_module": "@jupyter-widgets/controls",
      "model_module_version": "1.5.0",
      "model_name": "HTMLModel",
      "state": {
       "_dom_classes": [],
       "_model_module": "@jupyter-widgets/controls",
       "_model_module_version": "1.5.0",
       "_model_name": "HTMLModel",
       "_view_count": null,
       "_view_module": "@jupyter-widgets/controls",
       "_view_module_version": "1.5.0",
       "_view_name": "HTMLView",
       "description": "",
       "description_tooltip": null,
       "layout": "IPY_MODEL_80557453aefe4d1facc2bc2b37e862c1",
       "placeholder": "​",
       "style": "IPY_MODEL_34a97924d8954709bca9b43616d83205",
       "value": "model.safetensors: 100%"
      }
     },
     "cf0833e7c6f84cc7a91481262cd77453": {
      "model_module": "@jupyter-widgets/controls",
      "model_module_version": "1.5.0",
      "model_name": "FloatProgressModel",
      "state": {
       "_dom_classes": [],
       "_model_module": "@jupyter-widgets/controls",
       "_model_module_version": "1.5.0",
       "_model_name": "FloatProgressModel",
       "_view_count": null,
       "_view_module": "@jupyter-widgets/controls",
       "_view_module_version": "1.5.0",
       "_view_name": "ProgressView",
       "bar_style": "success",
       "description": "",
       "description_tooltip": null,
       "layout": "IPY_MODEL_978696b547e14fe3905ab5eaf7bade4a",
       "max": 456318.0,
       "min": 0.0,
       "orientation": "horizontal",
       "style": "IPY_MODEL_d418553e3d6949acbe940003e10f9d89",
       "value": 456318.0
      }
     },
     "cfe31a2b9f78424297d48a54e78553fd": {
      "model_module": "@jupyter-widgets/controls",
      "model_module_version": "1.5.0",
      "model_name": "HTMLModel",
      "state": {
       "_dom_classes": [],
       "_model_module": "@jupyter-widgets/controls",
       "_model_module_version": "1.5.0",
       "_model_name": "HTMLModel",
       "_view_count": null,
       "_view_module": "@jupyter-widgets/controls",
       "_view_module_version": "1.5.0",
       "_view_name": "HTMLView",
       "description": "",
       "description_tooltip": null,
       "layout": "IPY_MODEL_d1110cbe77f1400e8a6297953cbd151d",
       "placeholder": "​",
       "style": "IPY_MODEL_57a8af36e35b4ddeaf760b6106353115",
       "value": " 899k/899k [00:00&lt;00:00, 7.34MB/s]"
      }
     },
     "d078b5b6b5d444ab8ce13ea2aeb5e19d": {
      "model_module": "@jupyter-widgets/base",
      "model_module_version": "1.2.0",
      "model_name": "LayoutModel",
      "state": {
       "_model_module": "@jupyter-widgets/base",
       "_model_module_version": "1.2.0",
       "_model_name": "LayoutModel",
       "_view_count": null,
       "_view_module": "@jupyter-widgets/base",
       "_view_module_version": "1.2.0",
       "_view_name": "LayoutView",
       "align_content": null,
       "align_items": null,
       "align_self": null,
       "border": null,
       "bottom": null,
       "display": null,
       "flex": null,
       "flex_flow": null,
       "grid_area": null,
       "grid_auto_columns": null,
       "grid_auto_flow": null,
       "grid_auto_rows": null,
       "grid_column": null,
       "grid_gap": null,
       "grid_row": null,
       "grid_template_areas": null,
       "grid_template_columns": null,
       "grid_template_rows": null,
       "height": null,
       "justify_content": null,
       "justify_items": null,
       "left": null,
       "margin": null,
       "max_height": null,
       "max_width": null,
       "min_height": null,
       "min_width": null,
       "object_fit": null,
       "object_position": null,
       "order": null,
       "overflow": null,
       "overflow_x": null,
       "overflow_y": null,
       "padding": null,
       "right": null,
       "top": null,
       "visibility": null,
       "width": null
      }
     },
     "d1110cbe77f1400e8a6297953cbd151d": {
      "model_module": "@jupyter-widgets/base",
      "model_module_version": "1.2.0",
      "model_name": "LayoutModel",
      "state": {
       "_model_module": "@jupyter-widgets/base",
       "_model_module_version": "1.2.0",
       "_model_name": "LayoutModel",
       "_view_count": null,
       "_view_module": "@jupyter-widgets/base",
       "_view_module_version": "1.2.0",
       "_view_name": "LayoutView",
       "align_content": null,
       "align_items": null,
       "align_self": null,
       "border": null,
       "bottom": null,
       "display": null,
       "flex": null,
       "flex_flow": null,
       "grid_area": null,
       "grid_auto_columns": null,
       "grid_auto_flow": null,
       "grid_auto_rows": null,
       "grid_column": null,
       "grid_gap": null,
       "grid_row": null,
       "grid_template_areas": null,
       "grid_template_columns": null,
       "grid_template_rows": null,
       "height": null,
       "justify_content": null,
       "justify_items": null,
       "left": null,
       "margin": null,
       "max_height": null,
       "max_width": null,
       "min_height": null,
       "min_width": null,
       "object_fit": null,
       "object_position": null,
       "order": null,
       "overflow": null,
       "overflow_x": null,
       "overflow_y": null,
       "padding": null,
       "right": null,
       "top": null,
       "visibility": null,
       "width": null
      }
     },
     "d418553e3d6949acbe940003e10f9d89": {
      "model_module": "@jupyter-widgets/controls",
      "model_module_version": "1.5.0",
      "model_name": "ProgressStyleModel",
      "state": {
       "_model_module": "@jupyter-widgets/controls",
       "_model_module_version": "1.5.0",
       "_model_name": "ProgressStyleModel",
       "_view_count": null,
       "_view_module": "@jupyter-widgets/base",
       "_view_module_version": "1.2.0",
       "_view_name": "StyleView",
       "bar_color": null,
       "description_width": ""
      }
     },
     "dc07faff7f894590b035b567a2312ca6": {
      "model_module": "@jupyter-widgets/controls",
      "model_module_version": "1.5.0",
      "model_name": "FloatProgressModel",
      "state": {
       "_dom_classes": [],
       "_model_module": "@jupyter-widgets/controls",
       "_model_module_version": "1.5.0",
       "_model_name": "FloatProgressModel",
       "_view_count": null,
       "_view_module": "@jupyter-widgets/controls",
       "_view_module_version": "1.5.0",
       "_view_name": "ProgressView",
       "bar_style": "success",
       "description": "",
       "description_tooltip": null,
       "layout": "IPY_MODEL_d078b5b6b5d444ab8ce13ea2aeb5e19d",
       "max": 1355863.0,
       "min": 0.0,
       "orientation": "horizontal",
       "style": "IPY_MODEL_59be51d783b9415b93bd231a09abe073",
       "value": 1355863.0
      }
     },
     "e4c8928970704b129458ff67a0120b51": {
      "model_module": "@jupyter-widgets/base",
      "model_module_version": "1.2.0",
      "model_name": "LayoutModel",
      "state": {
       "_model_module": "@jupyter-widgets/base",
       "_model_module_version": "1.2.0",
       "_model_name": "LayoutModel",
       "_view_count": null,
       "_view_module": "@jupyter-widgets/base",
       "_view_module_version": "1.2.0",
       "_view_name": "LayoutView",
       "align_content": null,
       "align_items": null,
       "align_self": null,
       "border": null,
       "bottom": null,
       "display": null,
       "flex": null,
       "flex_flow": null,
       "grid_area": null,
       "grid_auto_columns": null,
       "grid_auto_flow": null,
       "grid_auto_rows": null,
       "grid_column": null,
       "grid_gap": null,
       "grid_row": null,
       "grid_template_areas": null,
       "grid_template_columns": null,
       "grid_template_rows": null,
       "height": null,
       "justify_content": null,
       "justify_items": null,
       "left": null,
       "margin": null,
       "max_height": null,
       "max_width": null,
       "min_height": null,
       "min_width": null,
       "object_fit": null,
       "object_position": null,
       "order": null,
       "overflow": null,
       "overflow_x": null,
       "overflow_y": null,
       "padding": null,
       "right": null,
       "top": null,
       "visibility": null,
       "width": null
      }
     },
     "e54116631b474584b19dc2bb03dd278f": {
      "model_module": "@jupyter-widgets/controls",
      "model_module_version": "1.5.0",
      "model_name": "HTMLModel",
      "state": {
       "_dom_classes": [],
       "_model_module": "@jupyter-widgets/controls",
       "_model_module_version": "1.5.0",
       "_model_name": "HTMLModel",
       "_view_count": null,
       "_view_module": "@jupyter-widgets/controls",
       "_view_module_version": "1.5.0",
       "_view_name": "HTMLView",
       "description": "",
       "description_tooltip": null,
       "layout": "IPY_MODEL_a86b0eed23324bcf88f51d3061c44308",
       "placeholder": "​",
       "style": "IPY_MODEL_980b34c014ad47268b7464522718a55e",
       "value": " 456k/456k [00:00&lt;00:00, 3.67MB/s]"
      }
     },
     "e68382397a454c3b9aed9fe9fb732b61": {
      "model_module": "@jupyter-widgets/base",
      "model_module_version": "1.2.0",
      "model_name": "LayoutModel",
      "state": {
       "_model_module": "@jupyter-widgets/base",
       "_model_module_version": "1.2.0",
       "_model_name": "LayoutModel",
       "_view_count": null,
       "_view_module": "@jupyter-widgets/base",
       "_view_module_version": "1.2.0",
       "_view_name": "LayoutView",
       "align_content": null,
       "align_items": null,
       "align_self": null,
       "border": null,
       "bottom": null,
       "display": null,
       "flex": null,
       "flex_flow": null,
       "grid_area": null,
       "grid_auto_columns": null,
       "grid_auto_flow": null,
       "grid_auto_rows": null,
       "grid_column": null,
       "grid_gap": null,
       "grid_row": null,
       "grid_template_areas": null,
       "grid_template_columns": null,
       "grid_template_rows": null,
       "height": null,
       "justify_content": null,
       "justify_items": null,
       "left": null,
       "margin": null,
       "max_height": null,
       "max_width": null,
       "min_height": null,
       "min_width": null,
       "object_fit": null,
       "object_position": null,
       "order": null,
       "overflow": null,
       "overflow_x": null,
       "overflow_y": null,
       "padding": null,
       "right": null,
       "top": null,
       "visibility": null,
       "width": null
      }
     },
     "e8d5b4c621904adbad2e4218c8f04a4c": {
      "model_module": "@jupyter-widgets/controls",
      "model_module_version": "1.5.0",
      "model_name": "HTMLModel",
      "state": {
       "_dom_classes": [],
       "_model_module": "@jupyter-widgets/controls",
       "_model_module_version": "1.5.0",
       "_model_name": "HTMLModel",
       "_view_count": null,
       "_view_module": "@jupyter-widgets/controls",
       "_view_module_version": "1.5.0",
       "_view_name": "HTMLView",
       "description": "",
       "description_tooltip": null,
       "layout": "IPY_MODEL_6145b1b76c4c4a0892aa3a75b2bb229a",
       "placeholder": "​",
       "style": "IPY_MODEL_0afef94571a5403395cabecc32d49de0",
       "value": " 481/481 [00:00&lt;00:00, 42.4kB/s]"
      }
     },
     "ea34fe92489346ce821fc852486f0d9f": {
      "model_module": "@jupyter-widgets/controls",
      "model_module_version": "1.5.0",
      "model_name": "HTMLModel",
      "state": {
       "_dom_classes": [],
       "_model_module": "@jupyter-widgets/controls",
       "_model_module_version": "1.5.0",
       "_model_name": "HTMLModel",
       "_view_count": null,
       "_view_module": "@jupyter-widgets/controls",
       "_view_module_version": "1.5.0",
       "_view_name": "HTMLView",
       "description": "",
       "description_tooltip": null,
       "layout": "IPY_MODEL_81b50cf724c74bf7bd49231a944bcfc6",
       "placeholder": "​",
       "style": "IPY_MODEL_575ce0c6a9854a11b9d47b7ef71ae82f",
       "value": "config.json: 100%"
      }
     },
     "ed8628265346404b87ff24e8c6ecc666": {
      "model_module": "@jupyter-widgets/controls",
      "model_module_version": "1.5.0",
      "model_name": "DescriptionStyleModel",
      "state": {
       "_model_module": "@jupyter-widgets/controls",
       "_model_module_version": "1.5.0",
       "_model_name": "DescriptionStyleModel",
       "_view_count": null,
       "_view_module": "@jupyter-widgets/base",
       "_view_module_version": "1.2.0",
       "_view_name": "StyleView",
       "description_width": ""
      }
     },
     "edc21b17fc5244a09379ba68b6a57688": {
      "model_module": "@jupyter-widgets/controls",
      "model_module_version": "1.5.0",
      "model_name": "ProgressStyleModel",
      "state": {
       "_model_module": "@jupyter-widgets/controls",
       "_model_module_version": "1.5.0",
       "_model_name": "ProgressStyleModel",
       "_view_count": null,
       "_view_module": "@jupyter-widgets/base",
       "_view_module_version": "1.2.0",
       "_view_name": "StyleView",
       "bar_color": null,
       "description_width": ""
      }
     },
     "fe59b8d6d3844d6abad57321fcfcb895": {
      "model_module": "@jupyter-widgets/controls",
      "model_module_version": "1.5.0",
      "model_name": "HBoxModel",
      "state": {
       "_dom_classes": [],
       "_model_module": "@jupyter-widgets/controls",
       "_model_module_version": "1.5.0",
       "_model_name": "HBoxModel",
       "_view_count": null,
       "_view_module": "@jupyter-widgets/controls",
       "_view_module_version": "1.5.0",
       "_view_name": "HBoxView",
       "box_style": "",
       "children": [
        "IPY_MODEL_ea34fe92489346ce821fc852486f0d9f",
        "IPY_MODEL_b007b8ee0c2248999e1719a803355b37",
        "IPY_MODEL_e8d5b4c621904adbad2e4218c8f04a4c"
       ],
       "layout": "IPY_MODEL_125eabbf48c44d5b990b12f25aeea991"
      }
     }
    },
    "version_major": 2,
    "version_minor": 0
   }
  }
 },
 "nbformat": 4,
 "nbformat_minor": 5
}

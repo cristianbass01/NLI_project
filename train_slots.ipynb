{
 "cells": [
  {
   "cell_type": "code",
   "execution_count": 2,
   "metadata": {},
   "outputs": [],
   "source": [
    "import pandas as pd\n",
    "from transformers import AutoTokenizer, RobertaForTokenClassification\n",
    "# from roberta import RobertaForTokenClassification\n",
    "from datasets import load_dataset\n",
    "from torch import nn\n",
    "from tqdm import tqdm\n",
    "import numpy as np\n",
    "import torch\n",
    "from seqeval.metrics import classification_report\n",
    "import matplotlib.pyplot as plt"
   ]
  },
  {
   "cell_type": "markdown",
   "metadata": {},
   "source": [
    "Tag occurences (use this as reference when setting class_weight_beta parameter and ignored_tags list):\n",
    "\n",
    "[('B-area', 4310), ('B-bookday', 3208), ('B-bookpeople', 3180), ('B-bookstay', 2306), ('B-booktime', 1561), ('B-food', 3804), ('B-name', 1787), ('B-pricerange', 4300), ('B-stars', 1841), ('B-type', 2150), ('I-area', 812), ('I-bookday', 1039), ('I-bookpeople', 226), ('I-bookstay', 2), ('I-booktime', 3120), ('I-food', 2994), ('I-name', 4212), ('I-pricerange', 564), ('I-stars', 1), ('I-type', 1049), ('O', 299338)]\n",
    "\n",
    "P.S. yes, the dataset really is that bad"
   ]
  },
  {
   "cell_type": "code",
   "execution_count": 3,
   "metadata": {},
   "outputs": [],
   "source": [
    "TRANSFORMER_MODEL_NAME = 'roberta-base'\n",
    "epochs = 5\n",
    "batch_size = 16\n",
    "learning_rate = 2e-5\n",
    "class_weight_beta = 0.99999 # 0.99999 (yes, 5 nines) should work ok, increase number of nines if you want stronger imbalance compensation\n",
    "patience = 0\n",
    "ignored_tags = ['I-bookstay', 'I-stars']"
   ]
  },
  {
   "cell_type": "code",
   "execution_count": 4,
   "metadata": {},
   "outputs": [
    {
     "name": "stdout",
     "output_type": "stream",
     "text": [
      "<s>We love doing NLI!</s><pad><pad><pad><pad><pad><pad><pad><pad><pad><pad><pad><pad><pad><pad><pad><pad><pad><pad><pad><pad><pad><pad><pad><pad><pad><pad><pad><pad><pad><pad><pad><pad><pad><pad><pad><pad><pad><pad><pad><pad><pad><pad><pad><pad><pad><pad><pad><pad><pad><pad><pad><pad><pad><pad><pad><pad><pad><pad><pad><pad><pad><pad><pad><pad><pad><pad><pad><pad><pad><pad><pad><pad><pad><pad><pad><pad><pad><pad><pad><pad><pad><pad><pad><pad><pad><pad><pad><pad><pad><pad><pad><pad><pad><pad><pad><pad><pad><pad><pad><pad><pad><pad><pad><pad><pad><pad><pad><pad><pad><pad><pad><pad><pad><pad><pad><pad><pad><pad><pad><pad><pad><pad><pad><pad><pad><pad><pad><pad><pad><pad><pad><pad><pad><pad><pad><pad><pad><pad><pad><pad><pad><pad><pad><pad><pad><pad><pad><pad><pad><pad><pad><pad><pad><pad><pad><pad><pad><pad><pad><pad><pad><pad><pad><pad><pad><pad><pad><pad><pad><pad><pad><pad><pad><pad><pad><pad><pad><pad><pad><pad><pad><pad><pad><pad><pad><pad><pad><pad><pad><pad><pad><pad><pad><pad><pad><pad><pad><pad><pad><pad><pad><pad><pad><pad><pad><pad><pad><pad><pad><pad><pad><pad><pad><pad><pad><pad><pad><pad><pad><pad><pad><pad><pad><pad><pad><pad><pad><pad><pad><pad><pad><pad><pad><pad><pad><pad><pad><pad><pad><pad><pad><pad><pad><pad><pad><pad><pad><pad><pad><pad><pad><pad><pad><pad><pad><pad><pad><pad><pad><pad><pad><pad><pad><pad><pad><pad><pad><pad><pad><pad><pad><pad><pad><pad><pad><pad><pad><pad><pad><pad><pad><pad><pad><pad><pad><pad><pad><pad><pad><pad><pad><pad><pad><pad><pad><pad><pad><pad><pad><pad><pad><pad><pad><pad><pad><pad><pad><pad><pad><pad><pad><pad><pad><pad><pad><pad><pad><pad><pad><pad><pad><pad><pad><pad><pad><pad><pad><pad><pad><pad><pad><pad><pad><pad><pad><pad><pad><pad><pad><pad><pad><pad><pad><pad><pad><pad><pad><pad><pad><pad><pad><pad><pad><pad><pad><pad><pad><pad><pad><pad><pad><pad><pad><pad><pad><pad><pad><pad><pad><pad><pad><pad><pad><pad><pad><pad><pad><pad><pad><pad><pad><pad><pad><pad><pad><pad><pad><pad><pad><pad><pad><pad><pad><pad><pad><pad><pad><pad><pad><pad><pad><pad><pad><pad><pad><pad><pad><pad><pad><pad><pad><pad><pad><pad><pad><pad><pad><pad><pad><pad><pad><pad><pad><pad><pad><pad><pad><pad><pad><pad><pad><pad><pad><pad><pad><pad><pad><pad><pad><pad><pad><pad><pad><pad><pad><pad><pad><pad><pad><pad><pad><pad><pad><pad><pad><pad><pad><pad><pad><pad><pad><pad><pad><pad><pad><pad><pad><pad><pad><pad><pad><pad><pad><pad><pad><pad><pad><pad><pad><pad><pad><pad><pad><pad><pad><pad><pad><pad><pad><pad><pad><pad><pad><pad><pad><pad><pad><pad><pad><pad><pad><pad><pad><pad>\n",
      "None\n"
     ]
    },
    {
     "data": {
      "text/plain": [
       "2"
      ]
     },
     "execution_count": 4,
     "metadata": {},
     "output_type": "execute_result"
    }
   ],
   "source": [
    "# Random tests to show how the tokenizer/tokenized function work\n",
    "tokenizer = AutoTokenizer.from_pretrained(TRANSFORMER_MODEL_NAME)\n",
    "inputs = tokenizer(\"We love doing NLI!\", padding = 'max_length', return_tensors=\"pt\")\n",
    "print(tokenizer.decode(inputs.input_ids[0]))\n",
    "print(inputs.token_to_word(0))\n",
    "span = inputs.token_to_chars(1)\n",
    "span[1]\n",
    "# print(inputs.char_to_token(6))\n",
    "# inputs"
   ]
  },
  {
   "cell_type": "code",
   "execution_count": null,
   "metadata": {},
   "outputs": [],
   "source": [
    "def process_intent_list(intent_list):\n",
    "    intents = set()\n",
    "    if len(intent_list) == 0:\n",
    "        intents.add('other')\n",
    "    for intent in intent_list:\n",
    "        if intent.startswith('Restaurant'):\n",
    "            intents.add(intent)\n",
    "        elif intent.startswith('Hotel'):\n",
    "            intents.add(intent)\n",
    "        elif intent.startswith('general'):\n",
    "            intents.add(intent)\n",
    "        else:\n",
    "            intents.add('other')\n",
    "    # print(f'Original {intent_list}')\n",
    "    # print(f'Modified {list(intents)}')\n",
    "    return list(intents)\n",
    "\n",
    "def process_service_list(service_list):\n",
    "    services = set()\n",
    "    if len(service_list) == 0:\n",
    "        services.add('other')\n",
    "    for service in service_list:\n",
    "        if service == 'restaurant':\n",
    "            services.add('restaurant')\n",
    "        elif service == 'hotel':\n",
    "            services.add('hotel')\n",
    "        else:\n",
    "            services.add('other')\n",
    "        if len(services) == 3:\n",
    "            break\n",
    "    return list(services)"
   ]
  },
  {
   "cell_type": "code",
   "execution_count": 5,
   "metadata": {},
   "outputs": [],
   "source": [
    "def preprocess_split(dataset, split):\n",
    "    df = dataset[split].to_pandas()\n",
    "    new_df = pd.DataFrame(columns = df.columns)\n",
    "    for i in range(len(df)):\n",
    "        # Taken from notebook, to know which lines to skip\n",
    "        row = df.loc[i]\n",
    "        if not any(set(row.turns['frames'][turn_id]['service']).intersection(['hotel', 'restaurant']) for turn_id,utt in enumerate(row.turns['utterance'])):\n",
    "            continue\n",
    "        \n",
    "        new_df.loc[len(new_df)] = row\n",
    "        # new_df.loc[len(new_df) - 1]['services'] = process_service_list(new_df.loc[len(new_df) - 1]['services'])\n",
    "        # for i, frame_service in [frame['service'] for frame in df.loc[i].turns['frames']]:\n",
    "            # df.loc[i].turns['frames']\n",
    "    return new_df\n",
    "\n",
    "def extract_token_bio_tags(dataset):\n",
    "    tokens_list = []\n",
    "    bio_tags_list = []\n",
    "    useful_pos_list = []\n",
    "    \n",
    "    for i in tqdm(range(len(dataset))):\n",
    "        turns = dataset.loc[i].turns\n",
    "        for utterance, speaker, dialogue_act, frames in zip(turns['utterance'], turns['speaker'], turns['dialogue_acts'], turns['frames']):\n",
    "            if speaker != 0:\n",
    "                continue\n",
    "            # Skip using dialogue act intents\n",
    "            # if 'other' in process_intent_list(dialogue_act['dialog_act']['act_type']):\n",
    "            #     continue\n",
    "            # Skip using frame services\n",
    "            if 'other' in process_service_list(frames['service']):\n",
    "                continue\n",
    "            \n",
    "            span_info = dialogue_act['span_info']\n",
    "            act_slot_names = span_info['act_slot_name']\n",
    "            act_slot_values = span_info['act_slot_value']\n",
    "            span_starts = span_info['span_start']\n",
    "            span_ends = span_info['span_end']\n",
    "            slots = {slot_name : {'start': start, 'end': end} for slot_name, start, end in zip(act_slot_names, span_starts, span_ends)}\n",
    "            \n",
    "            tokenized = tokenizer(utterance, padding = 'max_length')\n",
    "            token_tags = [None] * len(tokenized.input_ids)\n",
    "            \n",
    "            for j in range(len(token_tags)):\n",
    "                if tokenized.token_to_word(j) is not None:\n",
    "                    token_tags[j] = 'O'\n",
    "            \n",
    "            for slot_name in slots:\n",
    "                slot_start, slot_end = slots[slot_name]['start'], slots[slot_name]['end']\n",
    "                covered_tokens = list(dict.fromkeys(tokenized.char_to_token(k) for k in range(slot_start, slot_end) if utterance[k] != ' '))\n",
    "                for j, covered_token in enumerate(covered_tokens):\n",
    "                    bio_type = 'B-' if j == 0 else 'I-'\n",
    "                    if bio_type + slot_name not in ignored_tags:\n",
    "                        token_tags[covered_token] = bio_type + slot_name\n",
    "            \n",
    "            # print([*zip(tokenizer.convert_ids_to_tokens(tokenized.input_ids), token_tags)])\n",
    "\n",
    "            tokens_list.append(tokenized)\n",
    "            bio_tags_list.append(np.array(token_tags))\n",
    "            useful_pos_list.append((tokenized.char_to_token(0), tokenized.char_to_token(len(utterance) - 1) + 1))\n",
    "            \n",
    "    return tokens_list, bio_tags_list, useful_pos_list"
   ]
  },
  {
   "cell_type": "code",
   "execution_count": 6,
   "metadata": {},
   "outputs": [
    {
     "name": "stderr",
     "output_type": "stream",
     "text": [
      "No config specified, defaulting to: multi_woz_v22/v2.2_active_only\n",
      "Found cached dataset multi_woz_v22 (/home/adrian/.cache/huggingface/datasets/multi_woz_v22/v2.2_active_only/2.2.0/6719c8b21478299411a0c6fdb7137c3ebab2e6425129af831687fb7851c69eb5)\n"
     ]
    },
    {
     "data": {
      "application/vnd.jupyter.widget-view+json": {
       "model_id": "b798b991dd5a45e98f84ecc7e832d826",
       "version_major": 2,
       "version_minor": 0
      },
      "text/plain": [
       "  0%|          | 0/3 [00:00<?, ?it/s]"
      ]
     },
     "metadata": {},
     "output_type": "display_data"
    },
    {
     "name": "stderr",
     "output_type": "stream",
     "text": [
      "100%|██████████| 6321/6321 [00:10<00:00, 601.27it/s]\n"
     ]
    },
    {
     "name": "stdout",
     "output_type": "stream",
     "text": [
      "['B-area', 'B-bookday', 'B-bookpeople', 'B-bookstay', 'B-booktime', 'B-food', 'B-name', 'B-pricerange', 'B-stars', 'B-type', 'I-area', 'I-bookday', 'I-bookpeople', 'I-booktime', 'I-food', 'I-name', 'I-pricerange', 'I-type', 'O']\n"
     ]
    },
    {
     "name": "stderr",
     "output_type": "stream",
     "text": [
      "100%|██████████| 762/762 [00:01<00:00, 654.03it/s]\n",
      "100%|██████████| 745/745 [00:01<00:00, 498.00it/s]\n"
     ]
    }
   ],
   "source": [
    "dataset = load_dataset('multi_woz_v22')\n",
    "\n",
    "train = preprocess_split(dataset, 'train')\n",
    "val = preprocess_split(dataset, 'validation')\n",
    "test = preprocess_split(dataset, 'test')\n",
    "\n",
    "train_tokens, train_bio_tags, train_useful_pos = extract_token_bio_tags(train)\n",
    "possible_bio_tags = sorted(set(filter(lambda tag : tag is not None, np.concatenate(train_bio_tags))))\n",
    "print(possible_bio_tags)\n",
    "tag_to_encoding = {tag : encoding for encoding, tag in enumerate(possible_bio_tags)}\n",
    "# - 100 is default ignore index for the pytorch cross entropy function\n",
    "tag_to_encoding[None] = -100\n",
    "encoding_to_tag = {encoding : tag for encoding, tag in enumerate(possible_bio_tags)}\n",
    "train_encoded_tags = [[tag_to_encoding[tag] for tag in tags] for tags in train_bio_tags]\n",
    "\n",
    "val_tokens, val_bio_tags, val_useful_pos = extract_token_bio_tags(val)\n",
    "val_encoded_tags = [[tag_to_encoding[tag] for tag in tags] for tags in val_bio_tags]\n",
    "\n",
    "test_tokens, test_bio_tags, test_useful_pos = extract_token_bio_tags(test)\n",
    "test_encoded_tags = [np.array([tag_to_encoding[tag] for tag in tags]) for tags in test_bio_tags]"
   ]
  },
  {
   "cell_type": "markdown",
   "metadata": {},
   "source": [
    "Where the idea of the next cell comes from:\n",
    "\n",
    "https://towardsdatascience.com/handling-class-imbalanced-data-using-a-loss-specifically-made-for-it-6e58fd65ffab"
   ]
  },
  {
   "cell_type": "code",
   "execution_count": 7,
   "metadata": {},
   "outputs": [
    {
     "name": "stdout",
     "output_type": "stream",
     "text": [
      "Class counts:\n",
      "[('B-area', 4782), ('B-bookday', 4147), ('B-bookpeople', 4015), ('B-bookstay', 2543), ('B-booktime', 2315), ('B-food', 3996), ('B-name', 1951), ('B-pricerange', 4510), ('B-stars', 1913), ('B-type', 2292), ('I-area', 846), ('I-bookday', 1313), ('I-bookpeople', 271), ('I-booktime', 4627), ('I-food', 3150), ('I-name', 4583), ('I-pricerange', 580), ('I-type', 1094), ('O', 394239)]\n",
      "Class weights:\n",
      "[('B-area', 0.32313101236669406), ('B-bookday', 0.37143732724088685), ('B-bookpeople', 0.3833975604302924), ('B-bookstay', 0.6009102048509588), ('B-booktime', 0.6593436840212628), ('B-food', 0.3851841716906676), ('B-name', 0.7809405362848887), ('B-pricerange', 0.3421571352737867), ('B-stars', 0.7963023823685962), ('B-type', 0.6658838471985261), ('I-area', 1.7910634710966598), ('I-bookday', 1.156721669748154), ('I-bookpeople', 5.5752533590767115), ('I-booktime', 0.3336988981205646), ('I-food', 0.48658332632435114), ('I-name', 0.3368290984640228), ('I-pricerange', 2.60901404982754), ('I-type', 1.386761176630415), ('O', 0.01538708898502361)]\n"
     ]
    }
   ],
   "source": [
    "samples_per_class = [0] * len(possible_bio_tags)\n",
    "for tags, useful_pos_batch in zip(train_bio_tags, train_useful_pos):\n",
    "    for tag in tags:\n",
    "        if tag is not None:\n",
    "            samples_per_class[tag_to_encoding[tag]] += 1\n",
    "\n",
    "print(\"Class counts:\")\n",
    "print([*zip(possible_bio_tags, samples_per_class)])\n",
    "\n",
    "samples_per_class = np.array(samples_per_class)\n",
    "\n",
    "effective_num = 1.0 - np.power(class_weight_beta, samples_per_class)\n",
    "class_weights = (1.0 - class_weight_beta) / effective_num\n",
    "class_weights = class_weights / np.sum(class_weights) * len(possible_bio_tags)\n",
    "print(\"Class weights:\")\n",
    "print([*zip(possible_bio_tags, class_weights)])\n",
    "class_weights = torch.Tensor(class_weights).cuda()"
   ]
  },
  {
   "cell_type": "code",
   "execution_count": 8,
   "metadata": {},
   "outputs": [],
   "source": [
    "def batchify_tokens_tags(tokens_list, encoded_tags_list, useful_pos_list, batch_size):\n",
    "    ids_batch = []\n",
    "    mask_batch = []\n",
    "    useful_pos_batch = []\n",
    "    labels_batch = []\n",
    "    \n",
    "    if encoded_tags_list is None:\n",
    "        encoded_tags_list = range(len(tokens_list))\n",
    "    \n",
    "    if useful_pos_list is None:\n",
    "        useful_pos_list = range(len(tokens_list))\n",
    "    \n",
    "    for tokens, encoded_tags, useful_pos in zip(tokens_list, encoded_tags_list, useful_pos_list):\n",
    "        ids_batch.append(tokens.input_ids)\n",
    "        mask_batch.append(tokens.attention_mask)\n",
    "        useful_pos_batch.append(useful_pos)\n",
    "        labels_batch.append(encoded_tags)\n",
    "        \n",
    "        if len(ids_batch) == batch_size:\n",
    "            yield torch.Tensor(ids_batch).long().cuda(), torch.Tensor(mask_batch).cuda(), useful_pos_batch, torch.Tensor(labels_batch).long().cuda()\n",
    "            ids_batch.clear()\n",
    "            mask_batch.clear()\n",
    "            useful_pos_batch.clear()\n",
    "            labels_batch.clear()\n",
    "    \n",
    "    yield torch.Tensor(ids_batch).long().cuda(), torch.Tensor(mask_batch).cuda(), useful_pos_batch, torch.Tensor(labels_batch).long().cuda()\n",
    "    return None\n",
    "\n",
    "def outputs_keep_useful_part(logits_batch, labels_batch, useful_pos_batch):\n",
    "    logits_useful = torch.zeros(logits_batch.shape).cuda()\n",
    "    labels_useful = torch.zeros(labels_batch.shape).cuda().long()\n",
    "    for i, useful_pos in enumerate(useful_pos_batch):\n",
    "        logits_useful[i, useful_pos[0] - 1 : useful_pos[1] + 1, :] = logits_batch[i, useful_pos[0] - 1 : useful_pos[1] + 1, :]\n",
    "        labels_useful[i, useful_pos[0] - 1 : useful_pos[1] + 1] = labels_batch[i, useful_pos[0] - 1 : useful_pos[1] + 1]\n",
    "    return logits_useful, labels_useful"
   ]
  },
  {
   "cell_type": "code",
   "execution_count": 9,
   "metadata": {},
   "outputs": [],
   "source": [
    "def compute_loss(transformer, tokens, encoded_tags, useful_pos_list, batch_size):\n",
    "    transformer.eval()\n",
    "    losses = []\n",
    "    with torch.no_grad():\n",
    "        for ids_batch, mask_batch, useful_pos_batch, labels_batch in batchify_tokens_tags(tokens, encoded_tags, useful_pos_list, batch_size):\n",
    "            out = transformer.forward(input_ids = ids_batch, attention_mask = mask_batch)\n",
    "            \n",
    "            # logits_useful, labels_useful = outputs_keep_useful_part(out.logits, labels_batch, useful_pos_batch)\n",
    "            logits_useful = out.logits\n",
    "            labels_useful = labels_batch\n",
    "            \n",
    "            loss = nn.functional.cross_entropy(input = torch.transpose(logits_useful, 1, 2), target = labels_useful, weight = class_weights)\n",
    "            losses.append(loss.item())\n",
    "    transformer.train()\n",
    "    return np.mean(losses)\n",
    "\n",
    "def predict(transformer, tokens, batch_size):\n",
    "    transformer.eval()\n",
    "    predictions = []\n",
    "    with torch.no_grad():\n",
    "        for ids_batch, mask_batch, _, _ in batchify_tokens_tags(tokens, None, None, batch_size):\n",
    "            out = transformer.forward(input_ids = ids_batch, attention_mask = mask_batch, labels = None)\n",
    "            res = torch.argmax(out.logits, dim = 2).cpu().detach().numpy()\n",
    "            predictions.append(res)\n",
    "    return np.concatenate(predictions)\n",
    "\n",
    "def useful_flattened_tokens(tokens_list, useful_pos_list):\n",
    "    return np.concatenate([tokens[useful_pos[0] : useful_pos[1]] for tokens, useful_pos in zip(tokens_list, useful_pos_list)])"
   ]
  },
  {
   "cell_type": "code",
   "execution_count": 10,
   "metadata": {},
   "outputs": [
    {
     "name": "stderr",
     "output_type": "stream",
     "text": [
      "Some weights of the model checkpoint at roberta-base were not used when initializing RobertaForTokenClassification: ['lm_head.dense.bias', 'lm_head.dense.weight', 'lm_head.decoder.weight', 'lm_head.bias', 'lm_head.layer_norm.bias', 'lm_head.layer_norm.weight']\n",
      "- This IS expected if you are initializing RobertaForTokenClassification from the checkpoint of a model trained on another task or with another architecture (e.g. initializing a BertForSequenceClassification model from a BertForPreTraining model).\n",
      "- This IS NOT expected if you are initializing RobertaForTokenClassification from the checkpoint of a model that you expect to be exactly identical (initializing a BertForSequenceClassification model from a BertForSequenceClassification model).\n",
      "Some weights of RobertaForTokenClassification were not initialized from the model checkpoint at roberta-base and are newly initialized: ['classifier.weight', 'classifier.bias']\n",
      "You should probably TRAIN this model on a down-stream task to be able to use it for predictions and inference.\n"
     ]
    }
   ],
   "source": [
    "transformer = RobertaForTokenClassification.from_pretrained(TRANSFORMER_MODEL_NAME, num_labels = len(possible_bio_tags)).cuda()\n",
    "transformer.train()\n",
    "# TODO: maybe use the parameters that the pre-trained model was trained with??\n",
    "optim = torch.optim.Adam(transformer.parameters(), lr = learning_rate)"
   ]
  },
  {
   "cell_type": "code",
   "execution_count": 11,
   "metadata": {},
   "outputs": [
    {
     "name": "stdout",
     "output_type": "stream",
     "text": [
      "Training for 19 classes\n"
     ]
    }
   ],
   "source": [
    "print(f\"Training for {len(possible_bio_tags)} classes\")\n",
    "\n",
    "train_losses = []\n",
    "val_losses = []\n",
    "\n",
    "for epoch in range(epochs):\n",
    "    epoch_train_loss = []\n",
    "    \n",
    "    for ids_batch, mask_batch, useful_pos_batch, labels_batch in batchify_tokens_tags(train_tokens, train_encoded_tags, train_useful_pos, batch_size):\n",
    "        optim.zero_grad()\n",
    "        out = transformer.forward(input_ids = ids_batch, attention_mask = mask_batch)\n",
    "        \n",
    "        # logits_final, labels_final = outputs_keep_useful_part(out.logits, labels_batch, useful_pos_batch)\n",
    "        logits_final = out.logits\n",
    "        labels_final = labels_batch\n",
    "        \n",
    "        loss = nn.functional.cross_entropy(input = torch.transpose(logits_final, 1, 2), target = labels_final, weight = class_weights)\n",
    "        loss.backward()\n",
    "        optim.step()\n",
    "        epoch_train_loss.append(loss.item())\n",
    "    \n",
    "    epoch_train_loss = np.mean(epoch_train_loss)\n",
    "    train_losses.append(epoch_train_loss)\n",
    "    epoch_val_loss = compute_loss(transformer, val_tokens, val_encoded_tags, val_useful_pos, batch_size)\n",
    "    \n",
    "    print(f\"Epoch {epoch + 1}: Train loss = {epoch_train_loss}, Val loss = {epoch_val_loss}\")\n",
    "    \n",
    "    if len(val_losses) != 0 and val_losses[-1] <= epoch_val_loss:\n",
    "        waited += 1\n",
    "        if waited > patience:\n",
    "                val_losses.append(epoch_val_loss)\n",
    "                break\n",
    "    else:\n",
    "        waited = 0\n",
    "    \n",
    "    val_losses.append(epoch_val_loss)\n",
    "\n",
    "transformer.save_pretrained('saved_models/SF_' + TRANSFORMER_MODEL_NAME)\n",
    "\n",
    "plt.plot(train_losses, label = 'Train loss')\n",
    "plt.plot(val_losses, label = 'Val loss')\n",
    "plt.legend()\n",
    "plt.show()"
   ]
  },
  {
   "cell_type": "code",
   "execution_count": 14,
   "metadata": {},
   "outputs": [
    {
     "name": "stdout",
     "output_type": "stream",
     "text": [
      "              precision    recall  f1-score   support\n",
      "\n",
      "        area      0.000     0.000     0.000       512\n",
      "     bookday      0.020     0.299     0.038       522\n",
      "  bookpeople      0.000     0.000     0.000       511\n",
      "    bookstay      0.000     0.000     0.000       300\n",
      "    booktime      0.000     0.000     0.000       324\n",
      "        food      0.000     0.000     0.000       405\n",
      "        name      0.000     0.000     0.000       305\n",
      "  pricerange      0.000     0.000     0.000       521\n",
      "       stars      0.000     0.000     0.000       199\n",
      "        type      0.003     0.523     0.006       264\n",
      "\n",
      "   micro avg      0.005     0.076     0.010      3863\n",
      "   macro avg      0.002     0.082     0.004      3863\n",
      "weighted avg      0.003     0.076     0.006      3863\n",
      "\n"
     ]
    }
   ],
   "source": [
    "with torch.no_grad():\n",
    "    predicted_encoded_tags = predict(transformer, test_tokens, batch_size)\n",
    "predicted_encoded_tags_flattened = [encoding_to_tag[encoding] for encoding in useful_flattened_tokens(predicted_encoded_tags, test_useful_pos)]\n",
    "test_encoded_tags_flattened = [encoding_to_tag[encoding] for encoding in useful_flattened_tokens(test_encoded_tags, test_useful_pos)]\n",
    "\n",
    "report = classification_report([test_encoded_tags_flattened], [predicted_encoded_tags_flattened], digits = 3, zero_division = 0)\n",
    "print(report)"
   ]
  }
 ],
 "metadata": {
  "kernelspec": {
   "display_name": "Python 3",
   "language": "python",
   "name": "python3"
  },
  "language_info": {
   "codemirror_mode": {
    "name": "ipython",
    "version": 3
   },
   "file_extension": ".py",
   "mimetype": "text/x-python",
   "name": "python",
   "nbconvert_exporter": "python",
   "pygments_lexer": "ipython3",
   "version": "3.10.12"
  }
 },
 "nbformat": 4,
 "nbformat_minor": 2
}
